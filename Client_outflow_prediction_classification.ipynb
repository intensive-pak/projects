{
  "cells": [
    {
      "cell_type": "markdown",
      "metadata": {
        "id": "JmVNeV0hKZW3"
      },
      "source": [
        "**Описание данных**\n",
        "\n",
        "Данные состоят из файлов, полученных из разных источников:\n",
        "\n",
        "- contract.csv — информация о договоре;\n",
        "- personal.csv — персональные данные клиента;\n",
        "- internet.csv — информация об интернет-услугах;\n",
        "- phone.csv — информация об услугах телефонии.\n",
        "\n",
        "Во всех файлах столбец customerID содержит код клиента. Информация о договорах актуальна на 1 февраля 2020.\n",
        "\n",
        "Целевой признак: факт ухода клиента"
      ]
    },
    {
      "cell_type": "markdown",
      "metadata": {
        "id": "vJ1MNfr2KZW4"
      },
      "source": [
        "<h1>План<span class=\"tocSkip\"></span></h1>\n",
        "<div class=\"toc\"><ul class=\"toc-item\"><li><span><a href=\"#Анализ-и-подготовка-данных\" data-toc-modified-id=\"Анализ-и-подготовка-данных-1\"><span class=\"toc-item-num\">1&nbsp;&nbsp;</span>Анализ и подготовка данных</a></span></li><li><span><a href=\"#Обучение-моделей\" data-toc-modified-id=\"Обучение-моделей-2\"><span class=\"toc-item-num\">2&nbsp;&nbsp;</span>Обучение моделей</a></span><li><span><a href=\"#Тестирование-модели\" data-toc-modified-id=\"Тестирование-модели-3\"><span class=\"toc-item-num\">3&nbsp;&nbsp;</span>Тестирование модели</a></span></li><li><span><a href=\"#Вывод\" data-toc-modified-id=\"Вывод-4\"><span class=\"toc-item-num\">4&nbsp;&nbsp;</span>Вывод</a></span></li>"
      ]
    },
    {
      "cell_type": "markdown",
      "metadata": {
        "id": "8y7dJH4hKZW4"
      },
      "source": [
        "## Анализ и подготовка данных"
      ]
    },
    {
      "cell_type": "code",
      "execution_count": null,
      "metadata": {
        "id": "waHXw2jgKZW4",
        "outputId": "aee5e484-c683-4dad-e924-b26ab5e82d3c",
        "collapsed": true
      },
      "outputs": [
        {
          "name": "stdout",
          "output_type": "stream",
          "text": [
            "Collecting phik\n",
            "  Downloading phik-0.12.3-cp39-cp39-manylinux_2_17_x86_64.manylinux2014_x86_64.whl (679 kB)\n",
            "\u001b[K     |████████████████████████████████| 679 kB 1.2 MB/s eta 0:00:01\n",
            "\u001b[?25hRequirement already satisfied: scipy>=1.5.2 in /opt/conda/lib/python3.9/site-packages (from phik) (1.9.1)\n",
            "Requirement already satisfied: pandas>=0.25.1 in /opt/conda/lib/python3.9/site-packages (from phik) (1.2.4)\n",
            "Requirement already satisfied: joblib>=0.14.1 in /opt/conda/lib/python3.9/site-packages (from phik) (1.1.0)\n",
            "Requirement already satisfied: matplotlib>=2.2.3 in /opt/conda/lib/python3.9/site-packages (from phik) (3.3.4)\n",
            "Requirement already satisfied: numpy>=1.18.0 in /opt/conda/lib/python3.9/site-packages (from phik) (1.21.1)\n",
            "Requirement already satisfied: cycler>=0.10 in /opt/conda/lib/python3.9/site-packages (from matplotlib>=2.2.3->phik) (0.11.0)\n",
            "Requirement already satisfied: pyparsing!=2.0.4,!=2.1.2,!=2.1.6,>=2.0.3 in /opt/conda/lib/python3.9/site-packages (from matplotlib>=2.2.3->phik) (2.4.7)\n",
            "Requirement already satisfied: python-dateutil>=2.1 in /opt/conda/lib/python3.9/site-packages (from matplotlib>=2.2.3->phik) (2.8.1)\n",
            "Requirement already satisfied: pillow>=6.2.0 in /opt/conda/lib/python3.9/site-packages (from matplotlib>=2.2.3->phik) (8.4.0)\n",
            "Requirement already satisfied: kiwisolver>=1.0.1 in /opt/conda/lib/python3.9/site-packages (from matplotlib>=2.2.3->phik) (1.4.4)\n",
            "Requirement already satisfied: pytz>=2017.3 in /opt/conda/lib/python3.9/site-packages (from pandas>=0.25.1->phik) (2021.1)\n",
            "Requirement already satisfied: six>=1.5 in /opt/conda/lib/python3.9/site-packages (from python-dateutil>=2.1->matplotlib>=2.2.3->phik) (1.16.0)\n",
            "Installing collected packages: phik\n",
            "Successfully installed phik-0.12.3\n",
            "Collecting scikit-learn==1.1.3\n",
            "  Downloading scikit_learn-1.1.3-cp39-cp39-manylinux_2_17_x86_64.manylinux2014_x86_64.whl (30.8 MB)\n",
            "\u001b[K     |████████████████████████████████| 30.8 MB 47 kB/s  eta 0:00:01\n",
            "\u001b[?25hRequirement already satisfied: scipy>=1.3.2 in /opt/conda/lib/python3.9/site-packages (from scikit-learn==1.1.3) (1.9.1)\n",
            "Requirement already satisfied: threadpoolctl>=2.0.0 in /opt/conda/lib/python3.9/site-packages (from scikit-learn==1.1.3) (3.1.0)\n",
            "Requirement already satisfied: numpy>=1.17.3 in /opt/conda/lib/python3.9/site-packages (from scikit-learn==1.1.3) (1.21.1)\n",
            "Requirement already satisfied: joblib>=1.0.0 in /opt/conda/lib/python3.9/site-packages (from scikit-learn==1.1.3) (1.1.0)\n",
            "Installing collected packages: scikit-learn\n",
            "  Attempting uninstall: scikit-learn\n",
            "    Found existing installation: scikit-learn 0.24.1\n",
            "    Uninstalling scikit-learn-0.24.1:\n",
            "      Successfully uninstalled scikit-learn-0.24.1\n",
            "Successfully installed scikit-learn-1.1.3\n"
          ]
        }
      ],
      "source": [
        "!pip install phik\n",
        "!pip install scikit-learn==1.1.3"
      ]
    },
    {
      "cell_type": "code",
      "execution_count": null,
      "metadata": {
        "id": "A5NrbTqYKZW5"
      },
      "outputs": [],
      "source": [
        "import pandas as pd\n",
        "import matplotlib.pyplot as plt\n",
        "import seaborn as sns\n",
        "import numpy as np\n",
        "import sklearn\n",
        "\n",
        "from catboost import CatBoostClassifier, Pool, cv\n",
        "import lightgbm as lgb\n",
        "\n",
        "from sklearn.linear_model import Ridge\n",
        "from sklearn.ensemble import RandomForestClassifier\n",
        "from sklearn.compose import make_column_transformer\n",
        "from sklearn.pipeline import make_pipeline\n",
        "from sklearn.model_selection import (\n",
        "    GridSearchCV,\n",
        "    RandomizedSearchCV,\n",
        "    train_test_split\n",
        ")\n",
        "from sklearn.preprocessing import (\n",
        "    OneHotEncoder,\n",
        "    StandardScaler\n",
        ")\n",
        "\n",
        "from sklearn.metrics import (\n",
        "    roc_auc_score,\n",
        "    roc_curve,\n",
        "    auc,\n",
        "    confusion_matrix,\n",
        "    accuracy_score\n",
        ")"
      ]
    },
    {
      "cell_type": "code",
      "execution_count": null,
      "metadata": {
        "id": "EhCdz6_LKZW5"
      },
      "outputs": [],
      "source": [
        "import phik\n",
        "from phik import resources, report"
      ]
    },
    {
      "cell_type": "code",
      "execution_count": null,
      "metadata": {
        "id": "wLW9ReX9KZW5",
        "outputId": "6179e550-0466-49b3-ab4d-b6251691e055",
        "collapsed": true
      },
      "outputs": [
        {
          "name": "stdout",
          "output_type": "stream",
          "text": [
            "Collecting pandas-profiling\n",
            "  Downloading pandas_profiling-3.6.6-py2.py3-none-any.whl (324 kB)\n",
            "\u001b[K     |████████████████████████████████| 324 kB 1.2 MB/s eta 0:00:01\n",
            "\u001b[?25hCollecting ydata-profiling\n",
            "  Downloading ydata_profiling-4.3.1-py2.py3-none-any.whl (352 kB)\n",
            "\u001b[K     |████████████████████████████████| 352 kB 25.8 MB/s eta 0:00:01\n",
            "\u001b[?25hRequirement already satisfied: PyYAML<6.1,>=5.0.0 in /opt/conda/lib/python3.9/site-packages (from ydata-profiling->pandas-profiling) (6.0)\n",
            "Requirement already satisfied: pydantic<2,>=1.8.1 in /opt/conda/lib/python3.9/site-packages (from ydata-profiling->pandas-profiling) (1.8.2)\n",
            "Requirement already satisfied: scipy<1.11,>=1.4.1 in /opt/conda/lib/python3.9/site-packages (from ydata-profiling->pandas-profiling) (1.9.1)\n",
            "Collecting wordcloud>=1.9.1\n",
            "  Downloading wordcloud-1.9.2-cp39-cp39-manylinux_2_17_x86_64.manylinux2014_x86_64.whl (460 kB)\n",
            "\u001b[K     |████████████████████████████████| 460 kB 69.9 MB/s eta 0:00:01\n",
            "\u001b[?25hCollecting typeguard<3,>=2.13.2\n",
            "  Downloading typeguard-2.13.3-py3-none-any.whl (17 kB)\n",
            "Requirement already satisfied: pandas!=1.4.0,<2.1,>1.1 in /opt/conda/lib/python3.9/site-packages (from ydata-profiling->pandas-profiling) (1.2.4)\n",
            "Collecting htmlmin==0.1.12\n",
            "  Downloading htmlmin-0.1.12.tar.gz (19 kB)\n",
            "Requirement already satisfied: numpy<1.24,>=1.16.0 in /opt/conda/lib/python3.9/site-packages (from ydata-profiling->pandas-profiling) (1.21.1)\n",
            "Collecting multimethod<2,>=1.4\n",
            "  Downloading multimethod-1.9.1-py3-none-any.whl (10 kB)\n",
            "Requirement already satisfied: matplotlib<4,>=3.2 in /opt/conda/lib/python3.9/site-packages (from ydata-profiling->pandas-profiling) (3.3.4)\n",
            "Collecting visions[type_image_path]==0.7.5\n",
            "  Downloading visions-0.7.5-py3-none-any.whl (102 kB)\n",
            "\u001b[K     |████████████████████████████████| 102 kB 79.3 MB/s eta 0:00:01\n",
            "\u001b[?25hRequirement already satisfied: tqdm<5,>=4.48.2 in /opt/conda/lib/python3.9/site-packages (from ydata-profiling->pandas-profiling) (4.61.2)\n",
            "Requirement already satisfied: statsmodels<1,>=0.13.2 in /opt/conda/lib/python3.9/site-packages (from ydata-profiling->pandas-profiling) (0.13.2)\n",
            "Collecting dacite>=1.8\n",
            "  Downloading dacite-1.8.1-py3-none-any.whl (14 kB)\n",
            "Requirement already satisfied: jinja2<3.2,>=2.11.1 in /opt/conda/lib/python3.9/site-packages (from ydata-profiling->pandas-profiling) (3.0.1)\n",
            "Requirement already satisfied: seaborn<0.13,>=0.10.1 in /opt/conda/lib/python3.9/site-packages (from ydata-profiling->pandas-profiling) (0.11.1)\n",
            "Requirement already satisfied: requests<3,>=2.24.0 in /opt/conda/lib/python3.9/site-packages (from ydata-profiling->pandas-profiling) (2.25.1)\n",
            "Collecting imagehash==4.3.1\n",
            "  Downloading ImageHash-4.3.1-py2.py3-none-any.whl (296 kB)\n",
            "\u001b[K     |████████████████████████████████| 296 kB 57.0 MB/s eta 0:00:01\n",
            "\u001b[?25hRequirement already satisfied: phik<0.13,>=0.11.1 in /opt/conda/lib/python3.9/site-packages (from ydata-profiling->pandas-profiling) (0.12.3)\n",
            "Collecting PyWavelets\n",
            "  Downloading PyWavelets-1.4.1-cp39-cp39-manylinux_2_17_x86_64.manylinux2014_x86_64.whl (6.9 MB)\n",
            "\u001b[K     |████████████████████████████████| 6.9 MB 67.8 MB/s eta 0:00:01\n",
            "\u001b[?25hRequirement already satisfied: pillow in /opt/conda/lib/python3.9/site-packages (from imagehash==4.3.1->ydata-profiling->pandas-profiling) (8.4.0)\n",
            "Collecting networkx>=2.4\n",
            "  Downloading networkx-3.1-py3-none-any.whl (2.1 MB)\n",
            "\u001b[K     |████████████████████████████████| 2.1 MB 77.0 MB/s eta 0:00:01\n",
            "\u001b[?25hRequirement already satisfied: attrs>=19.3.0 in /opt/conda/lib/python3.9/site-packages (from visions[type_image_path]==0.7.5->ydata-profiling->pandas-profiling) (21.2.0)\n",
            "Collecting tangled-up-in-unicode>=0.0.4\n",
            "  Downloading tangled_up_in_unicode-0.2.0-py3-none-any.whl (4.7 MB)\n",
            "\u001b[K     |████████████████████████████████| 4.7 MB 63.7 MB/s eta 0:00:01\n",
            "\u001b[?25hRequirement already satisfied: MarkupSafe>=2.0 in /opt/conda/lib/python3.9/site-packages (from jinja2<3.2,>=2.11.1->ydata-profiling->pandas-profiling) (2.1.1)\n",
            "Requirement already satisfied: kiwisolver>=1.0.1 in /opt/conda/lib/python3.9/site-packages (from matplotlib<4,>=3.2->ydata-profiling->pandas-profiling) (1.4.4)\n",
            "Requirement already satisfied: pyparsing!=2.0.4,!=2.1.2,!=2.1.6,>=2.0.3 in /opt/conda/lib/python3.9/site-packages (from matplotlib<4,>=3.2->ydata-profiling->pandas-profiling) (2.4.7)\n",
            "Requirement already satisfied: cycler>=0.10 in /opt/conda/lib/python3.9/site-packages (from matplotlib<4,>=3.2->ydata-profiling->pandas-profiling) (0.11.0)\n",
            "Requirement already satisfied: python-dateutil>=2.1 in /opt/conda/lib/python3.9/site-packages (from matplotlib<4,>=3.2->ydata-profiling->pandas-profiling) (2.8.1)\n",
            "Requirement already satisfied: pytz>=2017.3 in /opt/conda/lib/python3.9/site-packages (from pandas!=1.4.0,<2.1,>1.1->ydata-profiling->pandas-profiling) (2021.1)\n",
            "Requirement already satisfied: joblib>=0.14.1 in /opt/conda/lib/python3.9/site-packages (from phik<0.13,>=0.11.1->ydata-profiling->pandas-profiling) (1.1.0)\n",
            "Requirement already satisfied: typing-extensions>=3.7.4.3 in /opt/conda/lib/python3.9/site-packages (from pydantic<2,>=1.8.1->ydata-profiling->pandas-profiling) (4.3.0)\n",
            "Requirement already satisfied: six>=1.5 in /opt/conda/lib/python3.9/site-packages (from python-dateutil>=2.1->matplotlib<4,>=3.2->ydata-profiling->pandas-profiling) (1.16.0)\n",
            "Requirement already satisfied: certifi>=2017.4.17 in /opt/conda/lib/python3.9/site-packages (from requests<3,>=2.24.0->ydata-profiling->pandas-profiling) (2022.6.15)\n",
            "Requirement already satisfied: idna<3,>=2.5 in /opt/conda/lib/python3.9/site-packages (from requests<3,>=2.24.0->ydata-profiling->pandas-profiling) (2.10)\n",
            "Requirement already satisfied: chardet<5,>=3.0.2 in /opt/conda/lib/python3.9/site-packages (from requests<3,>=2.24.0->ydata-profiling->pandas-profiling) (4.0.0)\n",
            "Requirement already satisfied: urllib3<1.27,>=1.21.1 in /opt/conda/lib/python3.9/site-packages (from requests<3,>=2.24.0->ydata-profiling->pandas-profiling) (1.26.6)\n",
            "Requirement already satisfied: patsy>=0.5.2 in /opt/conda/lib/python3.9/site-packages (from statsmodels<1,>=0.13.2->ydata-profiling->pandas-profiling) (0.5.2)\n",
            "Requirement already satisfied: packaging>=21.3 in /opt/conda/lib/python3.9/site-packages (from statsmodels<1,>=0.13.2->ydata-profiling->pandas-profiling) (21.3)\n",
            "Building wheels for collected packages: htmlmin\n",
            "  Building wheel for htmlmin (setup.py) ... \u001b[?25ldone\n",
            "\u001b[?25h  Created wheel for htmlmin: filename=htmlmin-0.1.12-py3-none-any.whl size=27085 sha256=51bc74a11aa753ef8baa0ac6dea311c68245efe3dd12c56c85130daa3ca9531a\n",
            "  Stored in directory: /home/jovyan/.cache/pip/wheels/1d/05/04/c6d7d3b66539d9e659ac6dfe81e2d0fd4c1a8316cc5a403300\n",
            "Successfully built htmlmin\n",
            "Installing collected packages: tangled-up-in-unicode, PyWavelets, networkx, multimethod, visions, imagehash, wordcloud, typeguard, htmlmin, dacite, ydata-profiling, pandas-profiling\n",
            "Successfully installed PyWavelets-1.4.1 dacite-1.8.1 htmlmin-0.1.12 imagehash-4.3.1 multimethod-1.9.1 networkx-3.1 pandas-profiling-3.6.6 tangled-up-in-unicode-0.2.0 typeguard-2.13.3 visions-0.7.5 wordcloud-1.9.2 ydata-profiling-4.3.1\n",
            "Note: you may need to restart the kernel to use updated packages.\n"
          ]
        }
      ],
      "source": [
        "pip install pandas-profiling"
      ]
    },
    {
      "cell_type": "code",
      "execution_count": null,
      "metadata": {
        "id": "tpQy9yU6KZW6"
      },
      "outputs": [],
      "source": [
        "# константа\n",
        "RANDOM_STATE = 30723\n",
        "# количество фолдов для кросс-валидации\n",
        "CV = 6"
      ]
    },
    {
      "cell_type": "code",
      "execution_count": null,
      "metadata": {
        "id": "tLCb2wn3KZW6"
      },
      "outputs": [],
      "source": [
        "person = pd.read_csv('/datasets/personal_new.csv')\n",
        "contract = pd.read_csv('/datasets/contract_new.csv')\n",
        "internet = pd.read_csv('/datasets/internet_new.csv')\n",
        "phone = pd.read_csv('/datasets/phone_new.csv')"
      ]
    },
    {
      "cell_type": "markdown",
      "metadata": {
        "id": "UQsk4CxmKZW6"
      },
      "source": [
        "### Анализ исходных данных"
      ]
    },
    {
      "cell_type": "code",
      "execution_count": null,
      "metadata": {
        "id": "atVxbQUoKZW6"
      },
      "outputs": [],
      "source": [
        "# функция для обзора данных\n",
        "def intro (df):\n",
        "    df.info()\n",
        "    display(df.shape)\n",
        "    display(df.head())\n",
        "    print('Явных дубликатов:', df.duplicated().sum())\n",
        "    display(df.describe(include='all'))\n",
        "    print('Пропуски:'+'\\n', df.isna().sum())"
      ]
    },
    {
      "cell_type": "code",
      "execution_count": null,
      "metadata": {
        "id": "yT-ud-bzKZW6",
        "outputId": "26d22411-f4c0-45e5-ff9e-94c6c4d3177f"
      },
      "outputs": [
        {
          "name": "stdout",
          "output_type": "stream",
          "text": [
            "<class 'pandas.core.frame.DataFrame'>\n",
            "RangeIndex: 7043 entries, 0 to 7042\n",
            "Data columns (total 5 columns):\n",
            " #   Column         Non-Null Count  Dtype \n",
            "---  ------         --------------  ----- \n",
            " 0   customerID     7043 non-null   object\n",
            " 1   gender         7043 non-null   object\n",
            " 2   SeniorCitizen  7043 non-null   int64 \n",
            " 3   Partner        7043 non-null   object\n",
            " 4   Dependents     7043 non-null   object\n",
            "dtypes: int64(1), object(4)\n",
            "memory usage: 275.2+ KB\n"
          ]
        },
        {
          "data": {
            "text/plain": [
              "(7043, 5)"
            ]
          },
          "metadata": {},
          "output_type": "display_data"
        },
        {
          "data": {
            "text/html": [
              "<div>\n",
              "<style scoped>\n",
              "    .dataframe tbody tr th:only-of-type {\n",
              "        vertical-align: middle;\n",
              "    }\n",
              "\n",
              "    .dataframe tbody tr th {\n",
              "        vertical-align: top;\n",
              "    }\n",
              "\n",
              "    .dataframe thead th {\n",
              "        text-align: right;\n",
              "    }\n",
              "</style>\n",
              "<table border=\"1\" class=\"dataframe\">\n",
              "  <thead>\n",
              "    <tr style=\"text-align: right;\">\n",
              "      <th></th>\n",
              "      <th>customerID</th>\n",
              "      <th>gender</th>\n",
              "      <th>SeniorCitizen</th>\n",
              "      <th>Partner</th>\n",
              "      <th>Dependents</th>\n",
              "    </tr>\n",
              "  </thead>\n",
              "  <tbody>\n",
              "    <tr>\n",
              "      <th>0</th>\n",
              "      <td>7590-VHVEG</td>\n",
              "      <td>Female</td>\n",
              "      <td>0</td>\n",
              "      <td>Yes</td>\n",
              "      <td>No</td>\n",
              "    </tr>\n",
              "    <tr>\n",
              "      <th>1</th>\n",
              "      <td>5575-GNVDE</td>\n",
              "      <td>Male</td>\n",
              "      <td>0</td>\n",
              "      <td>No</td>\n",
              "      <td>No</td>\n",
              "    </tr>\n",
              "    <tr>\n",
              "      <th>2</th>\n",
              "      <td>3668-QPYBK</td>\n",
              "      <td>Male</td>\n",
              "      <td>0</td>\n",
              "      <td>No</td>\n",
              "      <td>No</td>\n",
              "    </tr>\n",
              "    <tr>\n",
              "      <th>3</th>\n",
              "      <td>7795-CFOCW</td>\n",
              "      <td>Male</td>\n",
              "      <td>0</td>\n",
              "      <td>No</td>\n",
              "      <td>No</td>\n",
              "    </tr>\n",
              "    <tr>\n",
              "      <th>4</th>\n",
              "      <td>9237-HQITU</td>\n",
              "      <td>Female</td>\n",
              "      <td>0</td>\n",
              "      <td>No</td>\n",
              "      <td>No</td>\n",
              "    </tr>\n",
              "  </tbody>\n",
              "</table>\n",
              "</div>"
            ],
            "text/plain": [
              "   customerID  gender  SeniorCitizen Partner Dependents\n",
              "0  7590-VHVEG  Female              0     Yes         No\n",
              "1  5575-GNVDE    Male              0      No         No\n",
              "2  3668-QPYBK    Male              0      No         No\n",
              "3  7795-CFOCW    Male              0      No         No\n",
              "4  9237-HQITU  Female              0      No         No"
            ]
          },
          "metadata": {},
          "output_type": "display_data"
        },
        {
          "name": "stdout",
          "output_type": "stream",
          "text": [
            "Явных дубликатов: 0\n"
          ]
        },
        {
          "data": {
            "text/html": [
              "<div>\n",
              "<style scoped>\n",
              "    .dataframe tbody tr th:only-of-type {\n",
              "        vertical-align: middle;\n",
              "    }\n",
              "\n",
              "    .dataframe tbody tr th {\n",
              "        vertical-align: top;\n",
              "    }\n",
              "\n",
              "    .dataframe thead th {\n",
              "        text-align: right;\n",
              "    }\n",
              "</style>\n",
              "<table border=\"1\" class=\"dataframe\">\n",
              "  <thead>\n",
              "    <tr style=\"text-align: right;\">\n",
              "      <th></th>\n",
              "      <th>customerID</th>\n",
              "      <th>gender</th>\n",
              "      <th>SeniorCitizen</th>\n",
              "      <th>Partner</th>\n",
              "      <th>Dependents</th>\n",
              "    </tr>\n",
              "  </thead>\n",
              "  <tbody>\n",
              "    <tr>\n",
              "      <th>count</th>\n",
              "      <td>7043</td>\n",
              "      <td>7043</td>\n",
              "      <td>7043.000000</td>\n",
              "      <td>7043</td>\n",
              "      <td>7043</td>\n",
              "    </tr>\n",
              "    <tr>\n",
              "      <th>unique</th>\n",
              "      <td>7043</td>\n",
              "      <td>2</td>\n",
              "      <td>NaN</td>\n",
              "      <td>2</td>\n",
              "      <td>2</td>\n",
              "    </tr>\n",
              "    <tr>\n",
              "      <th>top</th>\n",
              "      <td>8118-LSUEL</td>\n",
              "      <td>Male</td>\n",
              "      <td>NaN</td>\n",
              "      <td>No</td>\n",
              "      <td>No</td>\n",
              "    </tr>\n",
              "    <tr>\n",
              "      <th>freq</th>\n",
              "      <td>1</td>\n",
              "      <td>3555</td>\n",
              "      <td>NaN</td>\n",
              "      <td>3641</td>\n",
              "      <td>4933</td>\n",
              "    </tr>\n",
              "    <tr>\n",
              "      <th>mean</th>\n",
              "      <td>NaN</td>\n",
              "      <td>NaN</td>\n",
              "      <td>0.162147</td>\n",
              "      <td>NaN</td>\n",
              "      <td>NaN</td>\n",
              "    </tr>\n",
              "    <tr>\n",
              "      <th>std</th>\n",
              "      <td>NaN</td>\n",
              "      <td>NaN</td>\n",
              "      <td>0.368612</td>\n",
              "      <td>NaN</td>\n",
              "      <td>NaN</td>\n",
              "    </tr>\n",
              "    <tr>\n",
              "      <th>min</th>\n",
              "      <td>NaN</td>\n",
              "      <td>NaN</td>\n",
              "      <td>0.000000</td>\n",
              "      <td>NaN</td>\n",
              "      <td>NaN</td>\n",
              "    </tr>\n",
              "    <tr>\n",
              "      <th>25%</th>\n",
              "      <td>NaN</td>\n",
              "      <td>NaN</td>\n",
              "      <td>0.000000</td>\n",
              "      <td>NaN</td>\n",
              "      <td>NaN</td>\n",
              "    </tr>\n",
              "    <tr>\n",
              "      <th>50%</th>\n",
              "      <td>NaN</td>\n",
              "      <td>NaN</td>\n",
              "      <td>0.000000</td>\n",
              "      <td>NaN</td>\n",
              "      <td>NaN</td>\n",
              "    </tr>\n",
              "    <tr>\n",
              "      <th>75%</th>\n",
              "      <td>NaN</td>\n",
              "      <td>NaN</td>\n",
              "      <td>0.000000</td>\n",
              "      <td>NaN</td>\n",
              "      <td>NaN</td>\n",
              "    </tr>\n",
              "    <tr>\n",
              "      <th>max</th>\n",
              "      <td>NaN</td>\n",
              "      <td>NaN</td>\n",
              "      <td>1.000000</td>\n",
              "      <td>NaN</td>\n",
              "      <td>NaN</td>\n",
              "    </tr>\n",
              "  </tbody>\n",
              "</table>\n",
              "</div>"
            ],
            "text/plain": [
              "        customerID gender  SeniorCitizen Partner Dependents\n",
              "count         7043   7043    7043.000000    7043       7043\n",
              "unique        7043      2            NaN       2          2\n",
              "top     8118-LSUEL   Male            NaN      No         No\n",
              "freq             1   3555            NaN    3641       4933\n",
              "mean           NaN    NaN       0.162147     NaN        NaN\n",
              "std            NaN    NaN       0.368612     NaN        NaN\n",
              "min            NaN    NaN       0.000000     NaN        NaN\n",
              "25%            NaN    NaN       0.000000     NaN        NaN\n",
              "50%            NaN    NaN       0.000000     NaN        NaN\n",
              "75%            NaN    NaN       0.000000     NaN        NaN\n",
              "max            NaN    NaN       1.000000     NaN        NaN"
            ]
          },
          "metadata": {},
          "output_type": "display_data"
        },
        {
          "name": "stdout",
          "output_type": "stream",
          "text": [
            "Пропуски:\n",
            " customerID       0\n",
            "gender           0\n",
            "SeniorCitizen    0\n",
            "Partner          0\n",
            "Dependents       0\n",
            "dtype: int64\n"
          ]
        }
      ],
      "source": [
        "# обзор датасета с данными о клиентах\n",
        "intro(person)"
      ]
    },
    {
      "cell_type": "code",
      "execution_count": null,
      "metadata": {
        "id": "KO2v6R4rKZW7",
        "outputId": "61fa837f-cb0c-499b-8538-d07e75dbd480"
      },
      "outputs": [
        {
          "data": {
            "text/plain": [
              "0"
            ]
          },
          "execution_count": 11,
          "metadata": {},
          "output_type": "execute_result"
        }
      ],
      "source": [
        "# проверка на неявные дубликаты по полю customerID без учета регистра\n",
        "person['customerID'].str.lower().duplicated().sum()"
      ]
    },
    {
      "cell_type": "markdown",
      "metadata": {
        "id": "Z-o9EhJ-KZW7"
      },
      "source": [
        "В датасете `person` 7043 записи. Пропущенных значений нет. Дубликатов по номеру клиента (`customerID`) без учета регистра нет. Признаки `Dependents`, `Partner`, `gender` - бинарные. Признак `SeniorCitizen`, судя по смыслу признака и диапазону принимаемых значений (от 0 до 1), тоже бинарный."
      ]
    },
    {
      "cell_type": "code",
      "execution_count": null,
      "metadata": {
        "id": "4rEBozGYKZW7",
        "outputId": "44ce0e91-93a2-4955-aea5-f68047d823cb"
      },
      "outputs": [
        {
          "name": "stdout",
          "output_type": "stream",
          "text": [
            "<class 'pandas.core.frame.DataFrame'>\n",
            "RangeIndex: 7043 entries, 0 to 7042\n",
            "Data columns (total 8 columns):\n",
            " #   Column            Non-Null Count  Dtype  \n",
            "---  ------            --------------  -----  \n",
            " 0   customerID        7043 non-null   object \n",
            " 1   BeginDate         7043 non-null   object \n",
            " 2   EndDate           7043 non-null   object \n",
            " 3   Type              7043 non-null   object \n",
            " 4   PaperlessBilling  7043 non-null   object \n",
            " 5   PaymentMethod     7043 non-null   object \n",
            " 6   MonthlyCharges    7043 non-null   float64\n",
            " 7   TotalCharges      7043 non-null   object \n",
            "dtypes: float64(1), object(7)\n",
            "memory usage: 440.3+ KB\n"
          ]
        },
        {
          "data": {
            "text/plain": [
              "(7043, 8)"
            ]
          },
          "metadata": {},
          "output_type": "display_data"
        },
        {
          "data": {
            "text/html": [
              "<div>\n",
              "<style scoped>\n",
              "    .dataframe tbody tr th:only-of-type {\n",
              "        vertical-align: middle;\n",
              "    }\n",
              "\n",
              "    .dataframe tbody tr th {\n",
              "        vertical-align: top;\n",
              "    }\n",
              "\n",
              "    .dataframe thead th {\n",
              "        text-align: right;\n",
              "    }\n",
              "</style>\n",
              "<table border=\"1\" class=\"dataframe\">\n",
              "  <thead>\n",
              "    <tr style=\"text-align: right;\">\n",
              "      <th></th>\n",
              "      <th>customerID</th>\n",
              "      <th>BeginDate</th>\n",
              "      <th>EndDate</th>\n",
              "      <th>Type</th>\n",
              "      <th>PaperlessBilling</th>\n",
              "      <th>PaymentMethod</th>\n",
              "      <th>MonthlyCharges</th>\n",
              "      <th>TotalCharges</th>\n",
              "    </tr>\n",
              "  </thead>\n",
              "  <tbody>\n",
              "    <tr>\n",
              "      <th>0</th>\n",
              "      <td>7590-VHVEG</td>\n",
              "      <td>2020-01-01</td>\n",
              "      <td>No</td>\n",
              "      <td>Month-to-month</td>\n",
              "      <td>Yes</td>\n",
              "      <td>Electronic check</td>\n",
              "      <td>29.85</td>\n",
              "      <td>31.04</td>\n",
              "    </tr>\n",
              "    <tr>\n",
              "      <th>1</th>\n",
              "      <td>5575-GNVDE</td>\n",
              "      <td>2017-04-01</td>\n",
              "      <td>No</td>\n",
              "      <td>One year</td>\n",
              "      <td>No</td>\n",
              "      <td>Mailed check</td>\n",
              "      <td>56.95</td>\n",
              "      <td>2071.84</td>\n",
              "    </tr>\n",
              "    <tr>\n",
              "      <th>2</th>\n",
              "      <td>3668-QPYBK</td>\n",
              "      <td>2019-10-01</td>\n",
              "      <td>No</td>\n",
              "      <td>Month-to-month</td>\n",
              "      <td>Yes</td>\n",
              "      <td>Mailed check</td>\n",
              "      <td>53.85</td>\n",
              "      <td>226.17</td>\n",
              "    </tr>\n",
              "    <tr>\n",
              "      <th>3</th>\n",
              "      <td>7795-CFOCW</td>\n",
              "      <td>2016-05-01</td>\n",
              "      <td>No</td>\n",
              "      <td>One year</td>\n",
              "      <td>No</td>\n",
              "      <td>Bank transfer (automatic)</td>\n",
              "      <td>42.30</td>\n",
              "      <td>1960.6</td>\n",
              "    </tr>\n",
              "    <tr>\n",
              "      <th>4</th>\n",
              "      <td>9237-HQITU</td>\n",
              "      <td>2019-09-01</td>\n",
              "      <td>No</td>\n",
              "      <td>Month-to-month</td>\n",
              "      <td>Yes</td>\n",
              "      <td>Electronic check</td>\n",
              "      <td>70.70</td>\n",
              "      <td>353.5</td>\n",
              "    </tr>\n",
              "  </tbody>\n",
              "</table>\n",
              "</div>"
            ],
            "text/plain": [
              "   customerID   BeginDate EndDate            Type PaperlessBilling  \\\n",
              "0  7590-VHVEG  2020-01-01      No  Month-to-month              Yes   \n",
              "1  5575-GNVDE  2017-04-01      No        One year               No   \n",
              "2  3668-QPYBK  2019-10-01      No  Month-to-month              Yes   \n",
              "3  7795-CFOCW  2016-05-01      No        One year               No   \n",
              "4  9237-HQITU  2019-09-01      No  Month-to-month              Yes   \n",
              "\n",
              "               PaymentMethod  MonthlyCharges TotalCharges  \n",
              "0           Electronic check           29.85        31.04  \n",
              "1               Mailed check           56.95      2071.84  \n",
              "2               Mailed check           53.85       226.17  \n",
              "3  Bank transfer (automatic)           42.30       1960.6  \n",
              "4           Electronic check           70.70        353.5  "
            ]
          },
          "metadata": {},
          "output_type": "display_data"
        },
        {
          "name": "stdout",
          "output_type": "stream",
          "text": [
            "Явных дубликатов: 0\n"
          ]
        },
        {
          "data": {
            "text/html": [
              "<div>\n",
              "<style scoped>\n",
              "    .dataframe tbody tr th:only-of-type {\n",
              "        vertical-align: middle;\n",
              "    }\n",
              "\n",
              "    .dataframe tbody tr th {\n",
              "        vertical-align: top;\n",
              "    }\n",
              "\n",
              "    .dataframe thead th {\n",
              "        text-align: right;\n",
              "    }\n",
              "</style>\n",
              "<table border=\"1\" class=\"dataframe\">\n",
              "  <thead>\n",
              "    <tr style=\"text-align: right;\">\n",
              "      <th></th>\n",
              "      <th>customerID</th>\n",
              "      <th>BeginDate</th>\n",
              "      <th>EndDate</th>\n",
              "      <th>Type</th>\n",
              "      <th>PaperlessBilling</th>\n",
              "      <th>PaymentMethod</th>\n",
              "      <th>MonthlyCharges</th>\n",
              "      <th>TotalCharges</th>\n",
              "    </tr>\n",
              "  </thead>\n",
              "  <tbody>\n",
              "    <tr>\n",
              "      <th>count</th>\n",
              "      <td>7043</td>\n",
              "      <td>7043</td>\n",
              "      <td>7043</td>\n",
              "      <td>7043</td>\n",
              "      <td>7043</td>\n",
              "      <td>7043</td>\n",
              "      <td>7043.000000</td>\n",
              "      <td>7043</td>\n",
              "    </tr>\n",
              "    <tr>\n",
              "      <th>unique</th>\n",
              "      <td>7043</td>\n",
              "      <td>77</td>\n",
              "      <td>67</td>\n",
              "      <td>3</td>\n",
              "      <td>2</td>\n",
              "      <td>4</td>\n",
              "      <td>NaN</td>\n",
              "      <td>6658</td>\n",
              "    </tr>\n",
              "    <tr>\n",
              "      <th>top</th>\n",
              "      <td>8118-LSUEL</td>\n",
              "      <td>2014-02-01</td>\n",
              "      <td>No</td>\n",
              "      <td>Month-to-month</td>\n",
              "      <td>Yes</td>\n",
              "      <td>Electronic check</td>\n",
              "      <td>NaN</td>\n",
              "      <td></td>\n",
              "    </tr>\n",
              "    <tr>\n",
              "      <th>freq</th>\n",
              "      <td>1</td>\n",
              "      <td>366</td>\n",
              "      <td>5942</td>\n",
              "      <td>3875</td>\n",
              "      <td>4171</td>\n",
              "      <td>2365</td>\n",
              "      <td>NaN</td>\n",
              "      <td>11</td>\n",
              "    </tr>\n",
              "    <tr>\n",
              "      <th>mean</th>\n",
              "      <td>NaN</td>\n",
              "      <td>NaN</td>\n",
              "      <td>NaN</td>\n",
              "      <td>NaN</td>\n",
              "      <td>NaN</td>\n",
              "      <td>NaN</td>\n",
              "      <td>64.761692</td>\n",
              "      <td>NaN</td>\n",
              "    </tr>\n",
              "    <tr>\n",
              "      <th>std</th>\n",
              "      <td>NaN</td>\n",
              "      <td>NaN</td>\n",
              "      <td>NaN</td>\n",
              "      <td>NaN</td>\n",
              "      <td>NaN</td>\n",
              "      <td>NaN</td>\n",
              "      <td>30.090047</td>\n",
              "      <td>NaN</td>\n",
              "    </tr>\n",
              "    <tr>\n",
              "      <th>min</th>\n",
              "      <td>NaN</td>\n",
              "      <td>NaN</td>\n",
              "      <td>NaN</td>\n",
              "      <td>NaN</td>\n",
              "      <td>NaN</td>\n",
              "      <td>NaN</td>\n",
              "      <td>18.250000</td>\n",
              "      <td>NaN</td>\n",
              "    </tr>\n",
              "    <tr>\n",
              "      <th>25%</th>\n",
              "      <td>NaN</td>\n",
              "      <td>NaN</td>\n",
              "      <td>NaN</td>\n",
              "      <td>NaN</td>\n",
              "      <td>NaN</td>\n",
              "      <td>NaN</td>\n",
              "      <td>35.500000</td>\n",
              "      <td>NaN</td>\n",
              "    </tr>\n",
              "    <tr>\n",
              "      <th>50%</th>\n",
              "      <td>NaN</td>\n",
              "      <td>NaN</td>\n",
              "      <td>NaN</td>\n",
              "      <td>NaN</td>\n",
              "      <td>NaN</td>\n",
              "      <td>NaN</td>\n",
              "      <td>70.350000</td>\n",
              "      <td>NaN</td>\n",
              "    </tr>\n",
              "    <tr>\n",
              "      <th>75%</th>\n",
              "      <td>NaN</td>\n",
              "      <td>NaN</td>\n",
              "      <td>NaN</td>\n",
              "      <td>NaN</td>\n",
              "      <td>NaN</td>\n",
              "      <td>NaN</td>\n",
              "      <td>89.850000</td>\n",
              "      <td>NaN</td>\n",
              "    </tr>\n",
              "    <tr>\n",
              "      <th>max</th>\n",
              "      <td>NaN</td>\n",
              "      <td>NaN</td>\n",
              "      <td>NaN</td>\n",
              "      <td>NaN</td>\n",
              "      <td>NaN</td>\n",
              "      <td>NaN</td>\n",
              "      <td>118.750000</td>\n",
              "      <td>NaN</td>\n",
              "    </tr>\n",
              "  </tbody>\n",
              "</table>\n",
              "</div>"
            ],
            "text/plain": [
              "        customerID   BeginDate EndDate            Type PaperlessBilling  \\\n",
              "count         7043        7043    7043            7043             7043   \n",
              "unique        7043          77      67               3                2   \n",
              "top     8118-LSUEL  2014-02-01      No  Month-to-month              Yes   \n",
              "freq             1         366    5942            3875             4171   \n",
              "mean           NaN         NaN     NaN             NaN              NaN   \n",
              "std            NaN         NaN     NaN             NaN              NaN   \n",
              "min            NaN         NaN     NaN             NaN              NaN   \n",
              "25%            NaN         NaN     NaN             NaN              NaN   \n",
              "50%            NaN         NaN     NaN             NaN              NaN   \n",
              "75%            NaN         NaN     NaN             NaN              NaN   \n",
              "max            NaN         NaN     NaN             NaN              NaN   \n",
              "\n",
              "           PaymentMethod  MonthlyCharges TotalCharges  \n",
              "count               7043     7043.000000         7043  \n",
              "unique                 4             NaN         6658  \n",
              "top     Electronic check             NaN               \n",
              "freq                2365             NaN           11  \n",
              "mean                 NaN       64.761692          NaN  \n",
              "std                  NaN       30.090047          NaN  \n",
              "min                  NaN       18.250000          NaN  \n",
              "25%                  NaN       35.500000          NaN  \n",
              "50%                  NaN       70.350000          NaN  \n",
              "75%                  NaN       89.850000          NaN  \n",
              "max                  NaN      118.750000          NaN  "
            ]
          },
          "metadata": {},
          "output_type": "display_data"
        },
        {
          "name": "stdout",
          "output_type": "stream",
          "text": [
            "Пропуски:\n",
            " customerID          0\n",
            "BeginDate           0\n",
            "EndDate             0\n",
            "Type                0\n",
            "PaperlessBilling    0\n",
            "PaymentMethod       0\n",
            "MonthlyCharges      0\n",
            "TotalCharges        0\n",
            "dtype: int64\n"
          ]
        }
      ],
      "source": [
        "# обзор датасета с данными о договорах\n",
        "intro(contract)"
      ]
    },
    {
      "cell_type": "code",
      "execution_count": null,
      "metadata": {
        "id": "ME2680BbKZW7",
        "outputId": "47528d26-6d21-4c72-df43-3cef5199f66a"
      },
      "outputs": [
        {
          "data": {
            "text/plain": [
              "0"
            ]
          },
          "execution_count": 13,
          "metadata": {},
          "output_type": "execute_result"
        }
      ],
      "source": [
        "# проверка на неявные дубликаты по полю customerID без учета регистра\n",
        "contract['customerID'].str.lower().duplicated().sum()"
      ]
    },
    {
      "cell_type": "code",
      "execution_count": null,
      "metadata": {
        "id": "KtASv9MbKZW7",
        "outputId": "cb796908-7271-4e65-d8f5-5368e97d488a"
      },
      "outputs": [
        {
          "data": {
            "text/plain": [
              "'2020-02-01'"
            ]
          },
          "execution_count": 14,
          "metadata": {},
          "output_type": "execute_result"
        }
      ],
      "source": [
        "# проверка на адекватность данных в столбце `BeginDate`, где дата не может быть позднее даты выгрузки датасета (1 фев 2020)\n",
        "contract.BeginDate.max()"
      ]
    },
    {
      "cell_type": "markdown",
      "metadata": {
        "id": "53aUREAoKZW7"
      },
      "source": [
        "В столбце `TotalCharges` имеется пустое значение. К тому же оно является самым часто встречающимся из всех уникальных значений этого столбца. Проверим это значение."
      ]
    },
    {
      "cell_type": "code",
      "execution_count": null,
      "metadata": {
        "id": "fFsLdDp1KZW7",
        "outputId": "e77e07b7-aee3-4189-af11-d48176d46149"
      },
      "outputs": [
        {
          "data": {
            "text/html": [
              "<div>\n",
              "<style scoped>\n",
              "    .dataframe tbody tr th:only-of-type {\n",
              "        vertical-align: middle;\n",
              "    }\n",
              "\n",
              "    .dataframe tbody tr th {\n",
              "        vertical-align: top;\n",
              "    }\n",
              "\n",
              "    .dataframe thead th {\n",
              "        text-align: right;\n",
              "    }\n",
              "</style>\n",
              "<table border=\"1\" class=\"dataframe\">\n",
              "  <thead>\n",
              "    <tr style=\"text-align: right;\">\n",
              "      <th></th>\n",
              "      <th>TotalCharges</th>\n",
              "    </tr>\n",
              "  </thead>\n",
              "  <tbody>\n",
              "    <tr>\n",
              "      <th></th>\n",
              "      <td>11</td>\n",
              "    </tr>\n",
              "    <tr>\n",
              "      <th>20.45</th>\n",
              "      <td>6</td>\n",
              "    </tr>\n",
              "    <tr>\n",
              "      <th>101.0</th>\n",
              "      <td>5</td>\n",
              "    </tr>\n",
              "  </tbody>\n",
              "</table>\n",
              "</div>"
            ],
            "text/plain": [
              "       TotalCharges\n",
              "                 11\n",
              "20.45             6\n",
              "101.0             5"
            ]
          },
          "execution_count": 15,
          "metadata": {},
          "output_type": "execute_result"
        }
      ],
      "source": [
        "contract['TotalCharges'].value_counts().to_frame().head(3)"
      ]
    },
    {
      "cell_type": "markdown",
      "metadata": {
        "id": "P5uHXxW1KZW8"
      },
      "source": [
        "Строк, которые имеют пустое значение в столбце `TotalCharges`, 11. Выведем эти строки."
      ]
    },
    {
      "cell_type": "code",
      "execution_count": null,
      "metadata": {
        "id": "kRl_u1NJKZW8",
        "outputId": "12a5b947-5721-4b16-d3d2-aab7bcc5e122"
      },
      "outputs": [
        {
          "data": {
            "text/html": [
              "<div>\n",
              "<style scoped>\n",
              "    .dataframe tbody tr th:only-of-type {\n",
              "        vertical-align: middle;\n",
              "    }\n",
              "\n",
              "    .dataframe tbody tr th {\n",
              "        vertical-align: top;\n",
              "    }\n",
              "\n",
              "    .dataframe thead th {\n",
              "        text-align: right;\n",
              "    }\n",
              "</style>\n",
              "<table border=\"1\" class=\"dataframe\">\n",
              "  <thead>\n",
              "    <tr style=\"text-align: right;\">\n",
              "      <th></th>\n",
              "      <th>customerID</th>\n",
              "      <th>BeginDate</th>\n",
              "      <th>EndDate</th>\n",
              "      <th>Type</th>\n",
              "      <th>PaperlessBilling</th>\n",
              "      <th>PaymentMethod</th>\n",
              "      <th>MonthlyCharges</th>\n",
              "      <th>TotalCharges</th>\n",
              "    </tr>\n",
              "  </thead>\n",
              "  <tbody>\n",
              "    <tr>\n",
              "      <th>488</th>\n",
              "      <td>4472-LVYGI</td>\n",
              "      <td>2020-02-01</td>\n",
              "      <td>No</td>\n",
              "      <td>Two year</td>\n",
              "      <td>Yes</td>\n",
              "      <td>Bank transfer (automatic)</td>\n",
              "      <td>52.55</td>\n",
              "      <td></td>\n",
              "    </tr>\n",
              "    <tr>\n",
              "      <th>753</th>\n",
              "      <td>3115-CZMZD</td>\n",
              "      <td>2020-02-01</td>\n",
              "      <td>No</td>\n",
              "      <td>Two year</td>\n",
              "      <td>No</td>\n",
              "      <td>Mailed check</td>\n",
              "      <td>20.25</td>\n",
              "      <td></td>\n",
              "    </tr>\n",
              "    <tr>\n",
              "      <th>936</th>\n",
              "      <td>5709-LVOEQ</td>\n",
              "      <td>2020-02-01</td>\n",
              "      <td>No</td>\n",
              "      <td>Two year</td>\n",
              "      <td>No</td>\n",
              "      <td>Mailed check</td>\n",
              "      <td>80.85</td>\n",
              "      <td></td>\n",
              "    </tr>\n",
              "    <tr>\n",
              "      <th>1082</th>\n",
              "      <td>4367-NUYAO</td>\n",
              "      <td>2020-02-01</td>\n",
              "      <td>No</td>\n",
              "      <td>Two year</td>\n",
              "      <td>No</td>\n",
              "      <td>Mailed check</td>\n",
              "      <td>25.75</td>\n",
              "      <td></td>\n",
              "    </tr>\n",
              "    <tr>\n",
              "      <th>1340</th>\n",
              "      <td>1371-DWPAZ</td>\n",
              "      <td>2020-02-01</td>\n",
              "      <td>No</td>\n",
              "      <td>Two year</td>\n",
              "      <td>No</td>\n",
              "      <td>Credit card (automatic)</td>\n",
              "      <td>56.05</td>\n",
              "      <td></td>\n",
              "    </tr>\n",
              "    <tr>\n",
              "      <th>3331</th>\n",
              "      <td>7644-OMVMY</td>\n",
              "      <td>2020-02-01</td>\n",
              "      <td>No</td>\n",
              "      <td>Two year</td>\n",
              "      <td>No</td>\n",
              "      <td>Mailed check</td>\n",
              "      <td>19.85</td>\n",
              "      <td></td>\n",
              "    </tr>\n",
              "    <tr>\n",
              "      <th>3826</th>\n",
              "      <td>3213-VVOLG</td>\n",
              "      <td>2020-02-01</td>\n",
              "      <td>No</td>\n",
              "      <td>Two year</td>\n",
              "      <td>No</td>\n",
              "      <td>Mailed check</td>\n",
              "      <td>25.35</td>\n",
              "      <td></td>\n",
              "    </tr>\n",
              "    <tr>\n",
              "      <th>4380</th>\n",
              "      <td>2520-SGTTA</td>\n",
              "      <td>2020-02-01</td>\n",
              "      <td>No</td>\n",
              "      <td>Two year</td>\n",
              "      <td>No</td>\n",
              "      <td>Mailed check</td>\n",
              "      <td>20.00</td>\n",
              "      <td></td>\n",
              "    </tr>\n",
              "    <tr>\n",
              "      <th>5218</th>\n",
              "      <td>2923-ARZLG</td>\n",
              "      <td>2020-02-01</td>\n",
              "      <td>No</td>\n",
              "      <td>One year</td>\n",
              "      <td>Yes</td>\n",
              "      <td>Mailed check</td>\n",
              "      <td>19.70</td>\n",
              "      <td></td>\n",
              "    </tr>\n",
              "    <tr>\n",
              "      <th>6670</th>\n",
              "      <td>4075-WKNIU</td>\n",
              "      <td>2020-02-01</td>\n",
              "      <td>No</td>\n",
              "      <td>Two year</td>\n",
              "      <td>No</td>\n",
              "      <td>Mailed check</td>\n",
              "      <td>73.35</td>\n",
              "      <td></td>\n",
              "    </tr>\n",
              "    <tr>\n",
              "      <th>6754</th>\n",
              "      <td>2775-SEFEE</td>\n",
              "      <td>2020-02-01</td>\n",
              "      <td>No</td>\n",
              "      <td>Two year</td>\n",
              "      <td>Yes</td>\n",
              "      <td>Bank transfer (automatic)</td>\n",
              "      <td>61.90</td>\n",
              "      <td></td>\n",
              "    </tr>\n",
              "  </tbody>\n",
              "</table>\n",
              "</div>"
            ],
            "text/plain": [
              "      customerID   BeginDate EndDate      Type PaperlessBilling  \\\n",
              "488   4472-LVYGI  2020-02-01      No  Two year              Yes   \n",
              "753   3115-CZMZD  2020-02-01      No  Two year               No   \n",
              "936   5709-LVOEQ  2020-02-01      No  Two year               No   \n",
              "1082  4367-NUYAO  2020-02-01      No  Two year               No   \n",
              "1340  1371-DWPAZ  2020-02-01      No  Two year               No   \n",
              "3331  7644-OMVMY  2020-02-01      No  Two year               No   \n",
              "3826  3213-VVOLG  2020-02-01      No  Two year               No   \n",
              "4380  2520-SGTTA  2020-02-01      No  Two year               No   \n",
              "5218  2923-ARZLG  2020-02-01      No  One year              Yes   \n",
              "6670  4075-WKNIU  2020-02-01      No  Two year               No   \n",
              "6754  2775-SEFEE  2020-02-01      No  Two year              Yes   \n",
              "\n",
              "                  PaymentMethod  MonthlyCharges TotalCharges  \n",
              "488   Bank transfer (automatic)           52.55               \n",
              "753                Mailed check           20.25               \n",
              "936                Mailed check           80.85               \n",
              "1082               Mailed check           25.75               \n",
              "1340    Credit card (automatic)           56.05               \n",
              "3331               Mailed check           19.85               \n",
              "3826               Mailed check           25.35               \n",
              "4380               Mailed check           20.00               \n",
              "5218               Mailed check           19.70               \n",
              "6670               Mailed check           73.35               \n",
              "6754  Bank transfer (automatic)           61.90               "
            ]
          },
          "execution_count": 16,
          "metadata": {},
          "output_type": "execute_result"
        }
      ],
      "source": [
        "contract.query('TotalCharges ==  \" \"')"
      ]
    },
    {
      "cell_type": "markdown",
      "metadata": {
        "id": "vmGcu0lfKZW8"
      },
      "source": [
        "Заметим, что это строки о клиентах, которые заключили договор 1 фев 2020 - дата выгрузки датасета.\\\n",
        "Проверим, все ли клиенты, заключившие договор 1 фев 2020, имеют пустое значение в столбце `TotalCharges`."
      ]
    },
    {
      "cell_type": "code",
      "execution_count": null,
      "metadata": {
        "id": "J5_FOVWUKZW8",
        "outputId": "747d132b-d6dc-4473-8980-8425af3afe40"
      },
      "outputs": [
        {
          "data": {
            "text/html": [
              "<div>\n",
              "<style scoped>\n",
              "    .dataframe tbody tr th:only-of-type {\n",
              "        vertical-align: middle;\n",
              "    }\n",
              "\n",
              "    .dataframe tbody tr th {\n",
              "        vertical-align: top;\n",
              "    }\n",
              "\n",
              "    .dataframe thead th {\n",
              "        text-align: right;\n",
              "    }\n",
              "</style>\n",
              "<table border=\"1\" class=\"dataframe\">\n",
              "  <thead>\n",
              "    <tr style=\"text-align: right;\">\n",
              "      <th></th>\n",
              "      <th>customerID</th>\n",
              "      <th>BeginDate</th>\n",
              "      <th>EndDate</th>\n",
              "      <th>Type</th>\n",
              "      <th>PaperlessBilling</th>\n",
              "      <th>PaymentMethod</th>\n",
              "      <th>MonthlyCharges</th>\n",
              "      <th>TotalCharges</th>\n",
              "    </tr>\n",
              "  </thead>\n",
              "  <tbody>\n",
              "    <tr>\n",
              "      <th>488</th>\n",
              "      <td>4472-LVYGI</td>\n",
              "      <td>2020-02-01</td>\n",
              "      <td>No</td>\n",
              "      <td>Two year</td>\n",
              "      <td>Yes</td>\n",
              "      <td>Bank transfer (automatic)</td>\n",
              "      <td>52.55</td>\n",
              "      <td></td>\n",
              "    </tr>\n",
              "    <tr>\n",
              "      <th>753</th>\n",
              "      <td>3115-CZMZD</td>\n",
              "      <td>2020-02-01</td>\n",
              "      <td>No</td>\n",
              "      <td>Two year</td>\n",
              "      <td>No</td>\n",
              "      <td>Mailed check</td>\n",
              "      <td>20.25</td>\n",
              "      <td></td>\n",
              "    </tr>\n",
              "    <tr>\n",
              "      <th>936</th>\n",
              "      <td>5709-LVOEQ</td>\n",
              "      <td>2020-02-01</td>\n",
              "      <td>No</td>\n",
              "      <td>Two year</td>\n",
              "      <td>No</td>\n",
              "      <td>Mailed check</td>\n",
              "      <td>80.85</td>\n",
              "      <td></td>\n",
              "    </tr>\n",
              "    <tr>\n",
              "      <th>1082</th>\n",
              "      <td>4367-NUYAO</td>\n",
              "      <td>2020-02-01</td>\n",
              "      <td>No</td>\n",
              "      <td>Two year</td>\n",
              "      <td>No</td>\n",
              "      <td>Mailed check</td>\n",
              "      <td>25.75</td>\n",
              "      <td></td>\n",
              "    </tr>\n",
              "    <tr>\n",
              "      <th>1340</th>\n",
              "      <td>1371-DWPAZ</td>\n",
              "      <td>2020-02-01</td>\n",
              "      <td>No</td>\n",
              "      <td>Two year</td>\n",
              "      <td>No</td>\n",
              "      <td>Credit card (automatic)</td>\n",
              "      <td>56.05</td>\n",
              "      <td></td>\n",
              "    </tr>\n",
              "    <tr>\n",
              "      <th>3331</th>\n",
              "      <td>7644-OMVMY</td>\n",
              "      <td>2020-02-01</td>\n",
              "      <td>No</td>\n",
              "      <td>Two year</td>\n",
              "      <td>No</td>\n",
              "      <td>Mailed check</td>\n",
              "      <td>19.85</td>\n",
              "      <td></td>\n",
              "    </tr>\n",
              "    <tr>\n",
              "      <th>3826</th>\n",
              "      <td>3213-VVOLG</td>\n",
              "      <td>2020-02-01</td>\n",
              "      <td>No</td>\n",
              "      <td>Two year</td>\n",
              "      <td>No</td>\n",
              "      <td>Mailed check</td>\n",
              "      <td>25.35</td>\n",
              "      <td></td>\n",
              "    </tr>\n",
              "    <tr>\n",
              "      <th>4380</th>\n",
              "      <td>2520-SGTTA</td>\n",
              "      <td>2020-02-01</td>\n",
              "      <td>No</td>\n",
              "      <td>Two year</td>\n",
              "      <td>No</td>\n",
              "      <td>Mailed check</td>\n",
              "      <td>20.00</td>\n",
              "      <td></td>\n",
              "    </tr>\n",
              "    <tr>\n",
              "      <th>5218</th>\n",
              "      <td>2923-ARZLG</td>\n",
              "      <td>2020-02-01</td>\n",
              "      <td>No</td>\n",
              "      <td>One year</td>\n",
              "      <td>Yes</td>\n",
              "      <td>Mailed check</td>\n",
              "      <td>19.70</td>\n",
              "      <td></td>\n",
              "    </tr>\n",
              "    <tr>\n",
              "      <th>6670</th>\n",
              "      <td>4075-WKNIU</td>\n",
              "      <td>2020-02-01</td>\n",
              "      <td>No</td>\n",
              "      <td>Two year</td>\n",
              "      <td>No</td>\n",
              "      <td>Mailed check</td>\n",
              "      <td>73.35</td>\n",
              "      <td></td>\n",
              "    </tr>\n",
              "    <tr>\n",
              "      <th>6754</th>\n",
              "      <td>2775-SEFEE</td>\n",
              "      <td>2020-02-01</td>\n",
              "      <td>No</td>\n",
              "      <td>Two year</td>\n",
              "      <td>Yes</td>\n",
              "      <td>Bank transfer (automatic)</td>\n",
              "      <td>61.90</td>\n",
              "      <td></td>\n",
              "    </tr>\n",
              "  </tbody>\n",
              "</table>\n",
              "</div>"
            ],
            "text/plain": [
              "      customerID   BeginDate EndDate      Type PaperlessBilling  \\\n",
              "488   4472-LVYGI  2020-02-01      No  Two year              Yes   \n",
              "753   3115-CZMZD  2020-02-01      No  Two year               No   \n",
              "936   5709-LVOEQ  2020-02-01      No  Two year               No   \n",
              "1082  4367-NUYAO  2020-02-01      No  Two year               No   \n",
              "1340  1371-DWPAZ  2020-02-01      No  Two year               No   \n",
              "3331  7644-OMVMY  2020-02-01      No  Two year               No   \n",
              "3826  3213-VVOLG  2020-02-01      No  Two year               No   \n",
              "4380  2520-SGTTA  2020-02-01      No  Two year               No   \n",
              "5218  2923-ARZLG  2020-02-01      No  One year              Yes   \n",
              "6670  4075-WKNIU  2020-02-01      No  Two year               No   \n",
              "6754  2775-SEFEE  2020-02-01      No  Two year              Yes   \n",
              "\n",
              "                  PaymentMethod  MonthlyCharges TotalCharges  \n",
              "488   Bank transfer (automatic)           52.55               \n",
              "753                Mailed check           20.25               \n",
              "936                Mailed check           80.85               \n",
              "1082               Mailed check           25.75               \n",
              "1340    Credit card (automatic)           56.05               \n",
              "3331               Mailed check           19.85               \n",
              "3826               Mailed check           25.35               \n",
              "4380               Mailed check           20.00               \n",
              "5218               Mailed check           19.70               \n",
              "6670               Mailed check           73.35               \n",
              "6754  Bank transfer (automatic)           61.90               "
            ]
          },
          "execution_count": 17,
          "metadata": {},
          "output_type": "execute_result"
        }
      ],
      "source": [
        "contract.query('BeginDate ==  \"2020-02-01\"')"
      ]
    },
    {
      "cell_type": "code",
      "execution_count": null,
      "metadata": {
        "id": "x1yD6AkUKZW8",
        "outputId": "220ba263-0fcb-432f-b770-f9cff6501205"
      },
      "outputs": [
        {
          "data": {
            "text/plain": [
              "11"
            ]
          },
          "execution_count": 18,
          "metadata": {},
          "output_type": "execute_result"
        }
      ],
      "source": [
        "len(contract.query('BeginDate ==  \"2020-02-01\"'))"
      ]
    },
    {
      "cell_type": "markdown",
      "metadata": {
        "id": "EHyc2fQ7KZW8"
      },
      "source": [
        "Можно сделать вывод, что все клиенты, заключившие договор 1 фев 2020, имеют пустое значение в столбце `TotalCharges`. Для обучения модели эти данные неинформативны, поскольку не дают вклад в понимание о лояльности клиента. Их удалим после объединения этого датасета с данными из других датасетов."
      ]
    },
    {
      "cell_type": "markdown",
      "metadata": {
        "id": "EcZt61KtKZXF"
      },
      "source": [
        "В датасете `contract` 7043 записи. Явных дубликатов, пропусков нет. Тип данных \"строковый\", кроме столбца `MonthlyCharges`, где данные вещественного типа. Дубликатов по номеру клиента (`customerID`) без учета регистра нет. Признак `PaperlessBilling` - бинарный. Признак `Type` имеет 3 категории, `PaymentMethod` - 4."
      ]
    },
    {
      "cell_type": "code",
      "execution_count": null,
      "metadata": {
        "id": "lrvarEWIKZXF",
        "outputId": "3ebfb16e-6f19-481b-cca1-08188b6029b7"
      },
      "outputs": [
        {
          "name": "stdout",
          "output_type": "stream",
          "text": [
            "<class 'pandas.core.frame.DataFrame'>\n",
            "RangeIndex: 5517 entries, 0 to 5516\n",
            "Data columns (total 8 columns):\n",
            " #   Column            Non-Null Count  Dtype \n",
            "---  ------            --------------  ----- \n",
            " 0   customerID        5517 non-null   object\n",
            " 1   InternetService   5517 non-null   object\n",
            " 2   OnlineSecurity    5517 non-null   object\n",
            " 3   OnlineBackup      5517 non-null   object\n",
            " 4   DeviceProtection  5517 non-null   object\n",
            " 5   TechSupport       5517 non-null   object\n",
            " 6   StreamingTV       5517 non-null   object\n",
            " 7   StreamingMovies   5517 non-null   object\n",
            "dtypes: object(8)\n",
            "memory usage: 344.9+ KB\n"
          ]
        },
        {
          "data": {
            "text/plain": [
              "(5517, 8)"
            ]
          },
          "metadata": {},
          "output_type": "display_data"
        },
        {
          "data": {
            "text/html": [
              "<div>\n",
              "<style scoped>\n",
              "    .dataframe tbody tr th:only-of-type {\n",
              "        vertical-align: middle;\n",
              "    }\n",
              "\n",
              "    .dataframe tbody tr th {\n",
              "        vertical-align: top;\n",
              "    }\n",
              "\n",
              "    .dataframe thead th {\n",
              "        text-align: right;\n",
              "    }\n",
              "</style>\n",
              "<table border=\"1\" class=\"dataframe\">\n",
              "  <thead>\n",
              "    <tr style=\"text-align: right;\">\n",
              "      <th></th>\n",
              "      <th>customerID</th>\n",
              "      <th>InternetService</th>\n",
              "      <th>OnlineSecurity</th>\n",
              "      <th>OnlineBackup</th>\n",
              "      <th>DeviceProtection</th>\n",
              "      <th>TechSupport</th>\n",
              "      <th>StreamingTV</th>\n",
              "      <th>StreamingMovies</th>\n",
              "    </tr>\n",
              "  </thead>\n",
              "  <tbody>\n",
              "    <tr>\n",
              "      <th>0</th>\n",
              "      <td>7590-VHVEG</td>\n",
              "      <td>DSL</td>\n",
              "      <td>No</td>\n",
              "      <td>Yes</td>\n",
              "      <td>No</td>\n",
              "      <td>No</td>\n",
              "      <td>No</td>\n",
              "      <td>No</td>\n",
              "    </tr>\n",
              "    <tr>\n",
              "      <th>1</th>\n",
              "      <td>5575-GNVDE</td>\n",
              "      <td>DSL</td>\n",
              "      <td>Yes</td>\n",
              "      <td>No</td>\n",
              "      <td>Yes</td>\n",
              "      <td>No</td>\n",
              "      <td>No</td>\n",
              "      <td>No</td>\n",
              "    </tr>\n",
              "    <tr>\n",
              "      <th>2</th>\n",
              "      <td>3668-QPYBK</td>\n",
              "      <td>DSL</td>\n",
              "      <td>Yes</td>\n",
              "      <td>Yes</td>\n",
              "      <td>No</td>\n",
              "      <td>No</td>\n",
              "      <td>No</td>\n",
              "      <td>No</td>\n",
              "    </tr>\n",
              "    <tr>\n",
              "      <th>3</th>\n",
              "      <td>7795-CFOCW</td>\n",
              "      <td>DSL</td>\n",
              "      <td>Yes</td>\n",
              "      <td>No</td>\n",
              "      <td>Yes</td>\n",
              "      <td>Yes</td>\n",
              "      <td>No</td>\n",
              "      <td>No</td>\n",
              "    </tr>\n",
              "    <tr>\n",
              "      <th>4</th>\n",
              "      <td>9237-HQITU</td>\n",
              "      <td>Fiber optic</td>\n",
              "      <td>No</td>\n",
              "      <td>No</td>\n",
              "      <td>No</td>\n",
              "      <td>No</td>\n",
              "      <td>No</td>\n",
              "      <td>No</td>\n",
              "    </tr>\n",
              "  </tbody>\n",
              "</table>\n",
              "</div>"
            ],
            "text/plain": [
              "   customerID InternetService OnlineSecurity OnlineBackup DeviceProtection  \\\n",
              "0  7590-VHVEG             DSL             No          Yes               No   \n",
              "1  5575-GNVDE             DSL            Yes           No              Yes   \n",
              "2  3668-QPYBK             DSL            Yes          Yes               No   \n",
              "3  7795-CFOCW             DSL            Yes           No              Yes   \n",
              "4  9237-HQITU     Fiber optic             No           No               No   \n",
              "\n",
              "  TechSupport StreamingTV StreamingMovies  \n",
              "0          No          No              No  \n",
              "1          No          No              No  \n",
              "2          No          No              No  \n",
              "3         Yes          No              No  \n",
              "4          No          No              No  "
            ]
          },
          "metadata": {},
          "output_type": "display_data"
        },
        {
          "name": "stdout",
          "output_type": "stream",
          "text": [
            "Явных дубликатов: 0\n"
          ]
        },
        {
          "data": {
            "text/html": [
              "<div>\n",
              "<style scoped>\n",
              "    .dataframe tbody tr th:only-of-type {\n",
              "        vertical-align: middle;\n",
              "    }\n",
              "\n",
              "    .dataframe tbody tr th {\n",
              "        vertical-align: top;\n",
              "    }\n",
              "\n",
              "    .dataframe thead th {\n",
              "        text-align: right;\n",
              "    }\n",
              "</style>\n",
              "<table border=\"1\" class=\"dataframe\">\n",
              "  <thead>\n",
              "    <tr style=\"text-align: right;\">\n",
              "      <th></th>\n",
              "      <th>customerID</th>\n",
              "      <th>InternetService</th>\n",
              "      <th>OnlineSecurity</th>\n",
              "      <th>OnlineBackup</th>\n",
              "      <th>DeviceProtection</th>\n",
              "      <th>TechSupport</th>\n",
              "      <th>StreamingTV</th>\n",
              "      <th>StreamingMovies</th>\n",
              "    </tr>\n",
              "  </thead>\n",
              "  <tbody>\n",
              "    <tr>\n",
              "      <th>count</th>\n",
              "      <td>5517</td>\n",
              "      <td>5517</td>\n",
              "      <td>5517</td>\n",
              "      <td>5517</td>\n",
              "      <td>5517</td>\n",
              "      <td>5517</td>\n",
              "      <td>5517</td>\n",
              "      <td>5517</td>\n",
              "    </tr>\n",
              "    <tr>\n",
              "      <th>unique</th>\n",
              "      <td>5517</td>\n",
              "      <td>2</td>\n",
              "      <td>2</td>\n",
              "      <td>2</td>\n",
              "      <td>2</td>\n",
              "      <td>2</td>\n",
              "      <td>2</td>\n",
              "      <td>2</td>\n",
              "    </tr>\n",
              "    <tr>\n",
              "      <th>top</th>\n",
              "      <td>0824-VWDPO</td>\n",
              "      <td>Fiber optic</td>\n",
              "      <td>No</td>\n",
              "      <td>No</td>\n",
              "      <td>No</td>\n",
              "      <td>No</td>\n",
              "      <td>No</td>\n",
              "      <td>No</td>\n",
              "    </tr>\n",
              "    <tr>\n",
              "      <th>freq</th>\n",
              "      <td>1</td>\n",
              "      <td>3096</td>\n",
              "      <td>3498</td>\n",
              "      <td>3088</td>\n",
              "      <td>3095</td>\n",
              "      <td>3473</td>\n",
              "      <td>2810</td>\n",
              "      <td>2785</td>\n",
              "    </tr>\n",
              "  </tbody>\n",
              "</table>\n",
              "</div>"
            ],
            "text/plain": [
              "        customerID InternetService OnlineSecurity OnlineBackup  \\\n",
              "count         5517            5517           5517         5517   \n",
              "unique        5517               2              2            2   \n",
              "top     0824-VWDPO     Fiber optic             No           No   \n",
              "freq             1            3096           3498         3088   \n",
              "\n",
              "       DeviceProtection TechSupport StreamingTV StreamingMovies  \n",
              "count              5517        5517        5517            5517  \n",
              "unique                2           2           2               2  \n",
              "top                  No          No          No              No  \n",
              "freq               3095        3473        2810            2785  "
            ]
          },
          "metadata": {},
          "output_type": "display_data"
        },
        {
          "name": "stdout",
          "output_type": "stream",
          "text": [
            "Пропуски:\n",
            " customerID          0\n",
            "InternetService     0\n",
            "OnlineSecurity      0\n",
            "OnlineBackup        0\n",
            "DeviceProtection    0\n",
            "TechSupport         0\n",
            "StreamingTV         0\n",
            "StreamingMovies     0\n",
            "dtype: int64\n"
          ]
        }
      ],
      "source": [
        "# обзор датасета с данными о подключенных интернет-услугах\n",
        "intro(internet)"
      ]
    },
    {
      "cell_type": "code",
      "execution_count": null,
      "metadata": {
        "id": "LribmgH8KZXF",
        "outputId": "8e02bf0f-c791-420a-918b-ba99dded4a8f"
      },
      "outputs": [
        {
          "data": {
            "text/plain": [
              "0"
            ]
          },
          "execution_count": 20,
          "metadata": {},
          "output_type": "execute_result"
        }
      ],
      "source": [
        "internet['customerID'].str.lower().duplicated().sum()"
      ]
    },
    {
      "cell_type": "markdown",
      "metadata": {
        "id": "dsZPl8-6KZXF"
      },
      "source": [
        "В датасете `internet` 5517 записей, что меньше, чем в предыдущих датасетах. Явных дубликатов, пропусков нет. Тип данных \"строковый\" Дубликатов по номеру клиента (customerID) без учета регистра нет. Признаки бинарные."
      ]
    },
    {
      "cell_type": "code",
      "execution_count": null,
      "metadata": {
        "id": "Rjvsv4epKZXF",
        "outputId": "05165d0a-bc03-43c5-a780-878ba745581d"
      },
      "outputs": [
        {
          "name": "stdout",
          "output_type": "stream",
          "text": [
            "<class 'pandas.core.frame.DataFrame'>\n",
            "RangeIndex: 6361 entries, 0 to 6360\n",
            "Data columns (total 2 columns):\n",
            " #   Column         Non-Null Count  Dtype \n",
            "---  ------         --------------  ----- \n",
            " 0   customerID     6361 non-null   object\n",
            " 1   MultipleLines  6361 non-null   object\n",
            "dtypes: object(2)\n",
            "memory usage: 99.5+ KB\n"
          ]
        },
        {
          "data": {
            "text/plain": [
              "(6361, 2)"
            ]
          },
          "metadata": {},
          "output_type": "display_data"
        },
        {
          "data": {
            "text/html": [
              "<div>\n",
              "<style scoped>\n",
              "    .dataframe tbody tr th:only-of-type {\n",
              "        vertical-align: middle;\n",
              "    }\n",
              "\n",
              "    .dataframe tbody tr th {\n",
              "        vertical-align: top;\n",
              "    }\n",
              "\n",
              "    .dataframe thead th {\n",
              "        text-align: right;\n",
              "    }\n",
              "</style>\n",
              "<table border=\"1\" class=\"dataframe\">\n",
              "  <thead>\n",
              "    <tr style=\"text-align: right;\">\n",
              "      <th></th>\n",
              "      <th>customerID</th>\n",
              "      <th>MultipleLines</th>\n",
              "    </tr>\n",
              "  </thead>\n",
              "  <tbody>\n",
              "    <tr>\n",
              "      <th>0</th>\n",
              "      <td>5575-GNVDE</td>\n",
              "      <td>No</td>\n",
              "    </tr>\n",
              "    <tr>\n",
              "      <th>1</th>\n",
              "      <td>3668-QPYBK</td>\n",
              "      <td>No</td>\n",
              "    </tr>\n",
              "    <tr>\n",
              "      <th>2</th>\n",
              "      <td>9237-HQITU</td>\n",
              "      <td>No</td>\n",
              "    </tr>\n",
              "    <tr>\n",
              "      <th>3</th>\n",
              "      <td>9305-CDSKC</td>\n",
              "      <td>Yes</td>\n",
              "    </tr>\n",
              "    <tr>\n",
              "      <th>4</th>\n",
              "      <td>1452-KIOVK</td>\n",
              "      <td>Yes</td>\n",
              "    </tr>\n",
              "  </tbody>\n",
              "</table>\n",
              "</div>"
            ],
            "text/plain": [
              "   customerID MultipleLines\n",
              "0  5575-GNVDE            No\n",
              "1  3668-QPYBK            No\n",
              "2  9237-HQITU            No\n",
              "3  9305-CDSKC           Yes\n",
              "4  1452-KIOVK           Yes"
            ]
          },
          "metadata": {},
          "output_type": "display_data"
        },
        {
          "name": "stdout",
          "output_type": "stream",
          "text": [
            "Явных дубликатов: 0\n"
          ]
        },
        {
          "data": {
            "text/html": [
              "<div>\n",
              "<style scoped>\n",
              "    .dataframe tbody tr th:only-of-type {\n",
              "        vertical-align: middle;\n",
              "    }\n",
              "\n",
              "    .dataframe tbody tr th {\n",
              "        vertical-align: top;\n",
              "    }\n",
              "\n",
              "    .dataframe thead th {\n",
              "        text-align: right;\n",
              "    }\n",
              "</style>\n",
              "<table border=\"1\" class=\"dataframe\">\n",
              "  <thead>\n",
              "    <tr style=\"text-align: right;\">\n",
              "      <th></th>\n",
              "      <th>customerID</th>\n",
              "      <th>MultipleLines</th>\n",
              "    </tr>\n",
              "  </thead>\n",
              "  <tbody>\n",
              "    <tr>\n",
              "      <th>count</th>\n",
              "      <td>6361</td>\n",
              "      <td>6361</td>\n",
              "    </tr>\n",
              "    <tr>\n",
              "      <th>unique</th>\n",
              "      <td>6361</td>\n",
              "      <td>2</td>\n",
              "    </tr>\n",
              "    <tr>\n",
              "      <th>top</th>\n",
              "      <td>8118-LSUEL</td>\n",
              "      <td>No</td>\n",
              "    </tr>\n",
              "    <tr>\n",
              "      <th>freq</th>\n",
              "      <td>1</td>\n",
              "      <td>3390</td>\n",
              "    </tr>\n",
              "  </tbody>\n",
              "</table>\n",
              "</div>"
            ],
            "text/plain": [
              "        customerID MultipleLines\n",
              "count         6361          6361\n",
              "unique        6361             2\n",
              "top     8118-LSUEL            No\n",
              "freq             1          3390"
            ]
          },
          "metadata": {},
          "output_type": "display_data"
        },
        {
          "name": "stdout",
          "output_type": "stream",
          "text": [
            "Пропуски:\n",
            " customerID       0\n",
            "MultipleLines    0\n",
            "dtype: int64\n"
          ]
        }
      ],
      "source": [
        "# обзор датасета с данными о подключенных услугах телефонии\n",
        "intro(phone)"
      ]
    },
    {
      "cell_type": "code",
      "execution_count": null,
      "metadata": {
        "id": "Tnf9tRciKZXF",
        "outputId": "bc65be9d-693b-47ce-b855-3b35670fb5c9"
      },
      "outputs": [
        {
          "data": {
            "text/plain": [
              "0"
            ]
          },
          "execution_count": 22,
          "metadata": {},
          "output_type": "execute_result"
        }
      ],
      "source": [
        "phone['customerID'].str.lower().duplicated().sum()"
      ]
    },
    {
      "cell_type": "markdown",
      "metadata": {
        "id": "4DKa5XtwKZXG"
      },
      "source": [
        "В датасете `phone` 6361 запись, что меньше, чем в двух первых датасетах. Явных дубликатов, пропусков нет. Тип данных \"строковый\". Дубликатов по номеру клиента (customerID) без учета регистра нет. Признак бинарный."
      ]
    },
    {
      "cell_type": "markdown",
      "metadata": {
        "id": "1J1XdHCWKZXG"
      },
      "source": [
        "### Предобработка данных"
      ]
    },
    {
      "cell_type": "code",
      "execution_count": null,
      "metadata": {
        "id": "RoBrL2GPKZXG"
      },
      "outputs": [],
      "source": [
        "df = contract.copy()"
      ]
    },
    {
      "cell_type": "code",
      "execution_count": null,
      "metadata": {
        "id": "kZQOqL41KZXG"
      },
      "outputs": [],
      "source": [
        "# объединение всех четырех таблиц в одну\n",
        "df = contract.merge(person, on='customerID', how='left')"
      ]
    },
    {
      "cell_type": "code",
      "execution_count": null,
      "metadata": {
        "id": "CO-ca9pvKZXG"
      },
      "outputs": [],
      "source": [
        "df = df.merge(phone, on='customerID', how='left')"
      ]
    },
    {
      "cell_type": "code",
      "execution_count": null,
      "metadata": {
        "id": "0husF8rFKZXG"
      },
      "outputs": [],
      "source": [
        "df = df.merge(internet, on='customerID', how='left')"
      ]
    },
    {
      "cell_type": "code",
      "execution_count": null,
      "metadata": {
        "id": "uVyw7x26KZXG",
        "outputId": "dc08295b-0353-400e-9dd0-5f8362acd556"
      },
      "outputs": [
        {
          "data": {
            "text/html": [
              "<div>\n",
              "<style scoped>\n",
              "    .dataframe tbody tr th:only-of-type {\n",
              "        vertical-align: middle;\n",
              "    }\n",
              "\n",
              "    .dataframe tbody tr th {\n",
              "        vertical-align: top;\n",
              "    }\n",
              "\n",
              "    .dataframe thead th {\n",
              "        text-align: right;\n",
              "    }\n",
              "</style>\n",
              "<table border=\"1\" class=\"dataframe\">\n",
              "  <thead>\n",
              "    <tr style=\"text-align: right;\">\n",
              "      <th></th>\n",
              "      <th>customerID</th>\n",
              "      <th>BeginDate</th>\n",
              "      <th>EndDate</th>\n",
              "      <th>Type</th>\n",
              "      <th>PaperlessBilling</th>\n",
              "      <th>PaymentMethod</th>\n",
              "      <th>MonthlyCharges</th>\n",
              "      <th>TotalCharges</th>\n",
              "      <th>gender</th>\n",
              "      <th>SeniorCitizen</th>\n",
              "      <th>Partner</th>\n",
              "      <th>Dependents</th>\n",
              "      <th>MultipleLines</th>\n",
              "      <th>InternetService</th>\n",
              "      <th>OnlineSecurity</th>\n",
              "      <th>OnlineBackup</th>\n",
              "      <th>DeviceProtection</th>\n",
              "      <th>TechSupport</th>\n",
              "      <th>StreamingTV</th>\n",
              "      <th>StreamingMovies</th>\n",
              "    </tr>\n",
              "  </thead>\n",
              "  <tbody>\n",
              "    <tr>\n",
              "      <th>0</th>\n",
              "      <td>7590-VHVEG</td>\n",
              "      <td>2020-01-01</td>\n",
              "      <td>No</td>\n",
              "      <td>Month-to-month</td>\n",
              "      <td>Yes</td>\n",
              "      <td>Electronic check</td>\n",
              "      <td>29.85</td>\n",
              "      <td>31.04</td>\n",
              "      <td>Female</td>\n",
              "      <td>0</td>\n",
              "      <td>Yes</td>\n",
              "      <td>No</td>\n",
              "      <td>NaN</td>\n",
              "      <td>DSL</td>\n",
              "      <td>No</td>\n",
              "      <td>Yes</td>\n",
              "      <td>No</td>\n",
              "      <td>No</td>\n",
              "      <td>No</td>\n",
              "      <td>No</td>\n",
              "    </tr>\n",
              "    <tr>\n",
              "      <th>1</th>\n",
              "      <td>5575-GNVDE</td>\n",
              "      <td>2017-04-01</td>\n",
              "      <td>No</td>\n",
              "      <td>One year</td>\n",
              "      <td>No</td>\n",
              "      <td>Mailed check</td>\n",
              "      <td>56.95</td>\n",
              "      <td>2071.84</td>\n",
              "      <td>Male</td>\n",
              "      <td>0</td>\n",
              "      <td>No</td>\n",
              "      <td>No</td>\n",
              "      <td>No</td>\n",
              "      <td>DSL</td>\n",
              "      <td>Yes</td>\n",
              "      <td>No</td>\n",
              "      <td>Yes</td>\n",
              "      <td>No</td>\n",
              "      <td>No</td>\n",
              "      <td>No</td>\n",
              "    </tr>\n",
              "    <tr>\n",
              "      <th>2</th>\n",
              "      <td>3668-QPYBK</td>\n",
              "      <td>2019-10-01</td>\n",
              "      <td>No</td>\n",
              "      <td>Month-to-month</td>\n",
              "      <td>Yes</td>\n",
              "      <td>Mailed check</td>\n",
              "      <td>53.85</td>\n",
              "      <td>226.17</td>\n",
              "      <td>Male</td>\n",
              "      <td>0</td>\n",
              "      <td>No</td>\n",
              "      <td>No</td>\n",
              "      <td>No</td>\n",
              "      <td>DSL</td>\n",
              "      <td>Yes</td>\n",
              "      <td>Yes</td>\n",
              "      <td>No</td>\n",
              "      <td>No</td>\n",
              "      <td>No</td>\n",
              "      <td>No</td>\n",
              "    </tr>\n",
              "  </tbody>\n",
              "</table>\n",
              "</div>"
            ],
            "text/plain": [
              "   customerID   BeginDate EndDate            Type PaperlessBilling  \\\n",
              "0  7590-VHVEG  2020-01-01      No  Month-to-month              Yes   \n",
              "1  5575-GNVDE  2017-04-01      No        One year               No   \n",
              "2  3668-QPYBK  2019-10-01      No  Month-to-month              Yes   \n",
              "\n",
              "      PaymentMethod  MonthlyCharges TotalCharges  gender  SeniorCitizen  \\\n",
              "0  Electronic check           29.85        31.04  Female              0   \n",
              "1      Mailed check           56.95      2071.84    Male              0   \n",
              "2      Mailed check           53.85       226.17    Male              0   \n",
              "\n",
              "  Partner Dependents MultipleLines InternetService OnlineSecurity  \\\n",
              "0     Yes         No           NaN             DSL             No   \n",
              "1      No         No            No             DSL            Yes   \n",
              "2      No         No            No             DSL            Yes   \n",
              "\n",
              "  OnlineBackup DeviceProtection TechSupport StreamingTV StreamingMovies  \n",
              "0          Yes               No          No          No              No  \n",
              "1           No              Yes          No          No              No  \n",
              "2          Yes               No          No          No              No  "
            ]
          },
          "execution_count": 27,
          "metadata": {},
          "output_type": "execute_result"
        }
      ],
      "source": [
        "df.head(3)"
      ]
    },
    {
      "cell_type": "code",
      "execution_count": null,
      "metadata": {
        "id": "5TqTP7l2KZXH",
        "outputId": "6b6c1da5-20bd-424e-d5f6-b265f17fab9f"
      },
      "outputs": [
        {
          "name": "stdout",
          "output_type": "stream",
          "text": [
            "<class 'pandas.core.frame.DataFrame'>\n",
            "Int64Index: 7043 entries, 0 to 7042\n",
            "Data columns (total 20 columns):\n",
            " #   Column            Non-Null Count  Dtype  \n",
            "---  ------            --------------  -----  \n",
            " 0   customerID        7043 non-null   object \n",
            " 1   BeginDate         7043 non-null   object \n",
            " 2   EndDate           7043 non-null   object \n",
            " 3   Type              7043 non-null   object \n",
            " 4   PaperlessBilling  7043 non-null   object \n",
            " 5   PaymentMethod     7043 non-null   object \n",
            " 6   MonthlyCharges    7043 non-null   float64\n",
            " 7   TotalCharges      7043 non-null   object \n",
            " 8   gender            7043 non-null   object \n",
            " 9   SeniorCitizen     7043 non-null   int64  \n",
            " 10  Partner           7043 non-null   object \n",
            " 11  Dependents        7043 non-null   object \n",
            " 12  MultipleLines     6361 non-null   object \n",
            " 13  InternetService   5517 non-null   object \n",
            " 14  OnlineSecurity    5517 non-null   object \n",
            " 15  OnlineBackup      5517 non-null   object \n",
            " 16  DeviceProtection  5517 non-null   object \n",
            " 17  TechSupport       5517 non-null   object \n",
            " 18  StreamingTV       5517 non-null   object \n",
            " 19  StreamingMovies   5517 non-null   object \n",
            "dtypes: float64(1), int64(1), object(18)\n",
            "memory usage: 1.1+ MB\n"
          ]
        }
      ],
      "source": [
        "df.info()"
      ]
    },
    {
      "cell_type": "code",
      "execution_count": null,
      "metadata": {
        "id": "sko7_titKZXH"
      },
      "outputs": [],
      "source": [
        "# удаление клиентов, которые заключили договор в дату выгрузки датасетов\n",
        "df = df.query('BeginDate != \"2020-02-01\"')"
      ]
    },
    {
      "cell_type": "code",
      "execution_count": null,
      "metadata": {
        "id": "L7y3OQMYKZXH",
        "outputId": "abc0c684-08fb-4b8f-c2f5-8bfe28cc7fbc"
      },
      "outputs": [
        {
          "data": {
            "text/plain": [
              "7032"
            ]
          },
          "execution_count": 30,
          "metadata": {},
          "output_type": "execute_result"
        }
      ],
      "source": [
        "len(df)"
      ]
    },
    {
      "cell_type": "markdown",
      "metadata": {
        "id": "EO1mDrAdKZXH"
      },
      "source": [
        "11 клиентов удалено. Проверка на  адекватность значения в поле `EndDate`- неадекватной будет дата расторжения договора в дату выгрузки датасета или более позднюю дату."
      ]
    },
    {
      "cell_type": "code",
      "execution_count": null,
      "metadata": {
        "id": "JqPxD95QKZXI",
        "outputId": "5d551d7e-027e-4958-b413-deefe4391bb5"
      },
      "outputs": [
        {
          "data": {
            "text/html": [
              "<div>\n",
              "<style scoped>\n",
              "    .dataframe tbody tr th:only-of-type {\n",
              "        vertical-align: middle;\n",
              "    }\n",
              "\n",
              "    .dataframe tbody tr th {\n",
              "        vertical-align: top;\n",
              "    }\n",
              "\n",
              "    .dataframe thead th {\n",
              "        text-align: right;\n",
              "    }\n",
              "</style>\n",
              "<table border=\"1\" class=\"dataframe\">\n",
              "  <thead>\n",
              "    <tr style=\"text-align: right;\">\n",
              "      <th></th>\n",
              "      <th>EndDate</th>\n",
              "    </tr>\n",
              "  </thead>\n",
              "  <tbody>\n",
              "    <tr>\n",
              "      <th>No</th>\n",
              "      <td>5931</td>\n",
              "    </tr>\n",
              "    <tr>\n",
              "      <th>2020-01-01</th>\n",
              "      <td>39</td>\n",
              "    </tr>\n",
              "    <tr>\n",
              "      <th>2019-12-01</th>\n",
              "      <td>38</td>\n",
              "    </tr>\n",
              "  </tbody>\n",
              "</table>\n",
              "</div>"
            ],
            "text/plain": [
              "            EndDate\n",
              "No             5931\n",
              "2020-01-01       39\n",
              "2019-12-01       38"
            ]
          },
          "execution_count": 31,
          "metadata": {},
          "output_type": "execute_result"
        }
      ],
      "source": [
        "df['EndDate'].value_counts().to_frame().head(3)"
      ]
    },
    {
      "cell_type": "markdown",
      "metadata": {
        "id": "Jluv9W_rKZXI"
      },
      "source": [
        "Создаем столбец с целевым признаком - `Target`"
      ]
    },
    {
      "cell_type": "code",
      "execution_count": null,
      "metadata": {
        "id": "pmdMUncCKZXI"
      },
      "outputs": [],
      "source": [
        "df['Target'] = (df['EndDate'] != 'No').astype(int)"
      ]
    },
    {
      "cell_type": "code",
      "execution_count": null,
      "metadata": {
        "id": "Rund10NtKZXI",
        "outputId": "10be4f99-5408-4be2-eedc-6d392876969c"
      },
      "outputs": [
        {
          "data": {
            "text/html": [
              "<div>\n",
              "<style scoped>\n",
              "    .dataframe tbody tr th:only-of-type {\n",
              "        vertical-align: middle;\n",
              "    }\n",
              "\n",
              "    .dataframe tbody tr th {\n",
              "        vertical-align: top;\n",
              "    }\n",
              "\n",
              "    .dataframe thead th {\n",
              "        text-align: right;\n",
              "    }\n",
              "</style>\n",
              "<table border=\"1\" class=\"dataframe\">\n",
              "  <thead>\n",
              "    <tr style=\"text-align: right;\">\n",
              "      <th></th>\n",
              "      <th>customerID</th>\n",
              "      <th>BeginDate</th>\n",
              "      <th>EndDate</th>\n",
              "      <th>Type</th>\n",
              "      <th>PaperlessBilling</th>\n",
              "      <th>PaymentMethod</th>\n",
              "      <th>MonthlyCharges</th>\n",
              "      <th>TotalCharges</th>\n",
              "      <th>gender</th>\n",
              "      <th>SeniorCitizen</th>\n",
              "      <th>...</th>\n",
              "      <th>Dependents</th>\n",
              "      <th>MultipleLines</th>\n",
              "      <th>InternetService</th>\n",
              "      <th>OnlineSecurity</th>\n",
              "      <th>OnlineBackup</th>\n",
              "      <th>DeviceProtection</th>\n",
              "      <th>TechSupport</th>\n",
              "      <th>StreamingTV</th>\n",
              "      <th>StreamingMovies</th>\n",
              "      <th>Target</th>\n",
              "    </tr>\n",
              "  </thead>\n",
              "  <tbody>\n",
              "    <tr>\n",
              "      <th>0</th>\n",
              "      <td>7590-VHVEG</td>\n",
              "      <td>2020-01-01</td>\n",
              "      <td>No</td>\n",
              "      <td>Month-to-month</td>\n",
              "      <td>Yes</td>\n",
              "      <td>Electronic check</td>\n",
              "      <td>29.85</td>\n",
              "      <td>31.04</td>\n",
              "      <td>Female</td>\n",
              "      <td>0</td>\n",
              "      <td>...</td>\n",
              "      <td>No</td>\n",
              "      <td>NaN</td>\n",
              "      <td>DSL</td>\n",
              "      <td>No</td>\n",
              "      <td>Yes</td>\n",
              "      <td>No</td>\n",
              "      <td>No</td>\n",
              "      <td>No</td>\n",
              "      <td>No</td>\n",
              "      <td>0</td>\n",
              "    </tr>\n",
              "    <tr>\n",
              "      <th>1</th>\n",
              "      <td>5575-GNVDE</td>\n",
              "      <td>2017-04-01</td>\n",
              "      <td>No</td>\n",
              "      <td>One year</td>\n",
              "      <td>No</td>\n",
              "      <td>Mailed check</td>\n",
              "      <td>56.95</td>\n",
              "      <td>2071.84</td>\n",
              "      <td>Male</td>\n",
              "      <td>0</td>\n",
              "      <td>...</td>\n",
              "      <td>No</td>\n",
              "      <td>No</td>\n",
              "      <td>DSL</td>\n",
              "      <td>Yes</td>\n",
              "      <td>No</td>\n",
              "      <td>Yes</td>\n",
              "      <td>No</td>\n",
              "      <td>No</td>\n",
              "      <td>No</td>\n",
              "      <td>0</td>\n",
              "    </tr>\n",
              "    <tr>\n",
              "      <th>2</th>\n",
              "      <td>3668-QPYBK</td>\n",
              "      <td>2019-10-01</td>\n",
              "      <td>No</td>\n",
              "      <td>Month-to-month</td>\n",
              "      <td>Yes</td>\n",
              "      <td>Mailed check</td>\n",
              "      <td>53.85</td>\n",
              "      <td>226.17</td>\n",
              "      <td>Male</td>\n",
              "      <td>0</td>\n",
              "      <td>...</td>\n",
              "      <td>No</td>\n",
              "      <td>No</td>\n",
              "      <td>DSL</td>\n",
              "      <td>Yes</td>\n",
              "      <td>Yes</td>\n",
              "      <td>No</td>\n",
              "      <td>No</td>\n",
              "      <td>No</td>\n",
              "      <td>No</td>\n",
              "      <td>0</td>\n",
              "    </tr>\n",
              "    <tr>\n",
              "      <th>3</th>\n",
              "      <td>7795-CFOCW</td>\n",
              "      <td>2016-05-01</td>\n",
              "      <td>No</td>\n",
              "      <td>One year</td>\n",
              "      <td>No</td>\n",
              "      <td>Bank transfer (automatic)</td>\n",
              "      <td>42.30</td>\n",
              "      <td>1960.6</td>\n",
              "      <td>Male</td>\n",
              "      <td>0</td>\n",
              "      <td>...</td>\n",
              "      <td>No</td>\n",
              "      <td>NaN</td>\n",
              "      <td>DSL</td>\n",
              "      <td>Yes</td>\n",
              "      <td>No</td>\n",
              "      <td>Yes</td>\n",
              "      <td>Yes</td>\n",
              "      <td>No</td>\n",
              "      <td>No</td>\n",
              "      <td>0</td>\n",
              "    </tr>\n",
              "    <tr>\n",
              "      <th>4</th>\n",
              "      <td>9237-HQITU</td>\n",
              "      <td>2019-09-01</td>\n",
              "      <td>No</td>\n",
              "      <td>Month-to-month</td>\n",
              "      <td>Yes</td>\n",
              "      <td>Electronic check</td>\n",
              "      <td>70.70</td>\n",
              "      <td>353.5</td>\n",
              "      <td>Female</td>\n",
              "      <td>0</td>\n",
              "      <td>...</td>\n",
              "      <td>No</td>\n",
              "      <td>No</td>\n",
              "      <td>Fiber optic</td>\n",
              "      <td>No</td>\n",
              "      <td>No</td>\n",
              "      <td>No</td>\n",
              "      <td>No</td>\n",
              "      <td>No</td>\n",
              "      <td>No</td>\n",
              "      <td>0</td>\n",
              "    </tr>\n",
              "    <tr>\n",
              "      <th>5</th>\n",
              "      <td>9305-CDSKC</td>\n",
              "      <td>2019-03-01</td>\n",
              "      <td>No</td>\n",
              "      <td>Month-to-month</td>\n",
              "      <td>Yes</td>\n",
              "      <td>Electronic check</td>\n",
              "      <td>99.65</td>\n",
              "      <td>1150.96</td>\n",
              "      <td>Female</td>\n",
              "      <td>0</td>\n",
              "      <td>...</td>\n",
              "      <td>No</td>\n",
              "      <td>Yes</td>\n",
              "      <td>Fiber optic</td>\n",
              "      <td>No</td>\n",
              "      <td>No</td>\n",
              "      <td>Yes</td>\n",
              "      <td>No</td>\n",
              "      <td>Yes</td>\n",
              "      <td>Yes</td>\n",
              "      <td>0</td>\n",
              "    </tr>\n",
              "    <tr>\n",
              "      <th>6</th>\n",
              "      <td>1452-KIOVK</td>\n",
              "      <td>2018-04-01</td>\n",
              "      <td>No</td>\n",
              "      <td>Month-to-month</td>\n",
              "      <td>Yes</td>\n",
              "      <td>Credit card (automatic)</td>\n",
              "      <td>89.10</td>\n",
              "      <td>2058.21</td>\n",
              "      <td>Male</td>\n",
              "      <td>0</td>\n",
              "      <td>...</td>\n",
              "      <td>Yes</td>\n",
              "      <td>Yes</td>\n",
              "      <td>Fiber optic</td>\n",
              "      <td>No</td>\n",
              "      <td>Yes</td>\n",
              "      <td>No</td>\n",
              "      <td>No</td>\n",
              "      <td>Yes</td>\n",
              "      <td>No</td>\n",
              "      <td>0</td>\n",
              "    </tr>\n",
              "    <tr>\n",
              "      <th>7</th>\n",
              "      <td>6713-OKOMC</td>\n",
              "      <td>2019-04-01</td>\n",
              "      <td>No</td>\n",
              "      <td>Month-to-month</td>\n",
              "      <td>No</td>\n",
              "      <td>Mailed check</td>\n",
              "      <td>29.75</td>\n",
              "      <td>300.48</td>\n",
              "      <td>Female</td>\n",
              "      <td>0</td>\n",
              "      <td>...</td>\n",
              "      <td>No</td>\n",
              "      <td>NaN</td>\n",
              "      <td>DSL</td>\n",
              "      <td>Yes</td>\n",
              "      <td>No</td>\n",
              "      <td>No</td>\n",
              "      <td>No</td>\n",
              "      <td>No</td>\n",
              "      <td>No</td>\n",
              "      <td>0</td>\n",
              "    </tr>\n",
              "    <tr>\n",
              "      <th>8</th>\n",
              "      <td>7892-POOKP</td>\n",
              "      <td>2017-07-01</td>\n",
              "      <td>No</td>\n",
              "      <td>Month-to-month</td>\n",
              "      <td>Yes</td>\n",
              "      <td>Electronic check</td>\n",
              "      <td>104.80</td>\n",
              "      <td>3573.68</td>\n",
              "      <td>Female</td>\n",
              "      <td>0</td>\n",
              "      <td>...</td>\n",
              "      <td>No</td>\n",
              "      <td>Yes</td>\n",
              "      <td>Fiber optic</td>\n",
              "      <td>No</td>\n",
              "      <td>No</td>\n",
              "      <td>Yes</td>\n",
              "      <td>Yes</td>\n",
              "      <td>Yes</td>\n",
              "      <td>Yes</td>\n",
              "      <td>0</td>\n",
              "    </tr>\n",
              "    <tr>\n",
              "      <th>9</th>\n",
              "      <td>6388-TABGU</td>\n",
              "      <td>2014-12-01</td>\n",
              "      <td>2017-05-01</td>\n",
              "      <td>One year</td>\n",
              "      <td>No</td>\n",
              "      <td>Bank transfer (automatic)</td>\n",
              "      <td>56.15</td>\n",
              "      <td>1628.35</td>\n",
              "      <td>Male</td>\n",
              "      <td>0</td>\n",
              "      <td>...</td>\n",
              "      <td>Yes</td>\n",
              "      <td>No</td>\n",
              "      <td>DSL</td>\n",
              "      <td>Yes</td>\n",
              "      <td>Yes</td>\n",
              "      <td>No</td>\n",
              "      <td>No</td>\n",
              "      <td>No</td>\n",
              "      <td>No</td>\n",
              "      <td>1</td>\n",
              "    </tr>\n",
              "  </tbody>\n",
              "</table>\n",
              "<p>10 rows × 21 columns</p>\n",
              "</div>"
            ],
            "text/plain": [
              "   customerID   BeginDate     EndDate            Type PaperlessBilling  \\\n",
              "0  7590-VHVEG  2020-01-01          No  Month-to-month              Yes   \n",
              "1  5575-GNVDE  2017-04-01          No        One year               No   \n",
              "2  3668-QPYBK  2019-10-01          No  Month-to-month              Yes   \n",
              "3  7795-CFOCW  2016-05-01          No        One year               No   \n",
              "4  9237-HQITU  2019-09-01          No  Month-to-month              Yes   \n",
              "5  9305-CDSKC  2019-03-01          No  Month-to-month              Yes   \n",
              "6  1452-KIOVK  2018-04-01          No  Month-to-month              Yes   \n",
              "7  6713-OKOMC  2019-04-01          No  Month-to-month               No   \n",
              "8  7892-POOKP  2017-07-01          No  Month-to-month              Yes   \n",
              "9  6388-TABGU  2014-12-01  2017-05-01        One year               No   \n",
              "\n",
              "               PaymentMethod  MonthlyCharges TotalCharges  gender  \\\n",
              "0           Electronic check           29.85        31.04  Female   \n",
              "1               Mailed check           56.95      2071.84    Male   \n",
              "2               Mailed check           53.85       226.17    Male   \n",
              "3  Bank transfer (automatic)           42.30       1960.6    Male   \n",
              "4           Electronic check           70.70        353.5  Female   \n",
              "5           Electronic check           99.65      1150.96  Female   \n",
              "6    Credit card (automatic)           89.10      2058.21    Male   \n",
              "7               Mailed check           29.75       300.48  Female   \n",
              "8           Electronic check          104.80      3573.68  Female   \n",
              "9  Bank transfer (automatic)           56.15      1628.35    Male   \n",
              "\n",
              "   SeniorCitizen  ... Dependents MultipleLines InternetService OnlineSecurity  \\\n",
              "0              0  ...         No           NaN             DSL             No   \n",
              "1              0  ...         No            No             DSL            Yes   \n",
              "2              0  ...         No            No             DSL            Yes   \n",
              "3              0  ...         No           NaN             DSL            Yes   \n",
              "4              0  ...         No            No     Fiber optic             No   \n",
              "5              0  ...         No           Yes     Fiber optic             No   \n",
              "6              0  ...        Yes           Yes     Fiber optic             No   \n",
              "7              0  ...         No           NaN             DSL            Yes   \n",
              "8              0  ...         No           Yes     Fiber optic             No   \n",
              "9              0  ...        Yes            No             DSL            Yes   \n",
              "\n",
              "  OnlineBackup DeviceProtection TechSupport StreamingTV StreamingMovies Target  \n",
              "0          Yes               No          No          No              No      0  \n",
              "1           No              Yes          No          No              No      0  \n",
              "2          Yes               No          No          No              No      0  \n",
              "3           No              Yes         Yes          No              No      0  \n",
              "4           No               No          No          No              No      0  \n",
              "5           No              Yes          No         Yes             Yes      0  \n",
              "6          Yes               No          No         Yes              No      0  \n",
              "7           No               No          No          No              No      0  \n",
              "8           No              Yes         Yes         Yes             Yes      0  \n",
              "9          Yes               No          No          No              No      1  \n",
              "\n",
              "[10 rows x 21 columns]"
            ]
          },
          "execution_count": 33,
          "metadata": {},
          "output_type": "execute_result"
        }
      ],
      "source": [
        "df.head(10)"
      ]
    },
    {
      "cell_type": "markdown",
      "metadata": {
        "id": "80hjOGlRKZXI"
      },
      "source": [
        "Создание нового признака - Продолжительность использования клиентом услуг `Duration`. Продолжительность посчитаем, вычислив длительность действия договора (в днях). Для клиентов, активных на момент выгрузки данных, отсчет произведем от даты выгрузки (1 фев 2020)"
      ]
    },
    {
      "cell_type": "code",
      "execution_count": null,
      "metadata": {
        "id": "0IBcrkY1KZXI"
      },
      "outputs": [],
      "source": [
        "df.EndDate = df.EndDate.replace(to_replace='No', value='2020-02-01')"
      ]
    },
    {
      "cell_type": "code",
      "execution_count": null,
      "metadata": {
        "id": "pKln4FJEKZXJ",
        "outputId": "69c3e815-353c-46d8-920d-d3dfb4108777"
      },
      "outputs": [
        {
          "data": {
            "text/html": [
              "<div>\n",
              "<style scoped>\n",
              "    .dataframe tbody tr th:only-of-type {\n",
              "        vertical-align: middle;\n",
              "    }\n",
              "\n",
              "    .dataframe tbody tr th {\n",
              "        vertical-align: top;\n",
              "    }\n",
              "\n",
              "    .dataframe thead th {\n",
              "        text-align: right;\n",
              "    }\n",
              "</style>\n",
              "<table border=\"1\" class=\"dataframe\">\n",
              "  <thead>\n",
              "    <tr style=\"text-align: right;\">\n",
              "      <th></th>\n",
              "      <th>customerID</th>\n",
              "      <th>BeginDate</th>\n",
              "      <th>EndDate</th>\n",
              "      <th>Type</th>\n",
              "      <th>PaperlessBilling</th>\n",
              "      <th>PaymentMethod</th>\n",
              "      <th>MonthlyCharges</th>\n",
              "      <th>TotalCharges</th>\n",
              "      <th>gender</th>\n",
              "      <th>SeniorCitizen</th>\n",
              "      <th>...</th>\n",
              "      <th>Dependents</th>\n",
              "      <th>MultipleLines</th>\n",
              "      <th>InternetService</th>\n",
              "      <th>OnlineSecurity</th>\n",
              "      <th>OnlineBackup</th>\n",
              "      <th>DeviceProtection</th>\n",
              "      <th>TechSupport</th>\n",
              "      <th>StreamingTV</th>\n",
              "      <th>StreamingMovies</th>\n",
              "      <th>Target</th>\n",
              "    </tr>\n",
              "  </thead>\n",
              "  <tbody>\n",
              "    <tr>\n",
              "      <th>0</th>\n",
              "      <td>7590-VHVEG</td>\n",
              "      <td>2020-01-01</td>\n",
              "      <td>2020-02-01</td>\n",
              "      <td>Month-to-month</td>\n",
              "      <td>Yes</td>\n",
              "      <td>Electronic check</td>\n",
              "      <td>29.85</td>\n",
              "      <td>31.04</td>\n",
              "      <td>Female</td>\n",
              "      <td>0</td>\n",
              "      <td>...</td>\n",
              "      <td>No</td>\n",
              "      <td>NaN</td>\n",
              "      <td>DSL</td>\n",
              "      <td>No</td>\n",
              "      <td>Yes</td>\n",
              "      <td>No</td>\n",
              "      <td>No</td>\n",
              "      <td>No</td>\n",
              "      <td>No</td>\n",
              "      <td>0</td>\n",
              "    </tr>\n",
              "    <tr>\n",
              "      <th>1</th>\n",
              "      <td>5575-GNVDE</td>\n",
              "      <td>2017-04-01</td>\n",
              "      <td>2020-02-01</td>\n",
              "      <td>One year</td>\n",
              "      <td>No</td>\n",
              "      <td>Mailed check</td>\n",
              "      <td>56.95</td>\n",
              "      <td>2071.84</td>\n",
              "      <td>Male</td>\n",
              "      <td>0</td>\n",
              "      <td>...</td>\n",
              "      <td>No</td>\n",
              "      <td>No</td>\n",
              "      <td>DSL</td>\n",
              "      <td>Yes</td>\n",
              "      <td>No</td>\n",
              "      <td>Yes</td>\n",
              "      <td>No</td>\n",
              "      <td>No</td>\n",
              "      <td>No</td>\n",
              "      <td>0</td>\n",
              "    </tr>\n",
              "    <tr>\n",
              "      <th>2</th>\n",
              "      <td>3668-QPYBK</td>\n",
              "      <td>2019-10-01</td>\n",
              "      <td>2020-02-01</td>\n",
              "      <td>Month-to-month</td>\n",
              "      <td>Yes</td>\n",
              "      <td>Mailed check</td>\n",
              "      <td>53.85</td>\n",
              "      <td>226.17</td>\n",
              "      <td>Male</td>\n",
              "      <td>0</td>\n",
              "      <td>...</td>\n",
              "      <td>No</td>\n",
              "      <td>No</td>\n",
              "      <td>DSL</td>\n",
              "      <td>Yes</td>\n",
              "      <td>Yes</td>\n",
              "      <td>No</td>\n",
              "      <td>No</td>\n",
              "      <td>No</td>\n",
              "      <td>No</td>\n",
              "      <td>0</td>\n",
              "    </tr>\n",
              "    <tr>\n",
              "      <th>3</th>\n",
              "      <td>7795-CFOCW</td>\n",
              "      <td>2016-05-01</td>\n",
              "      <td>2020-02-01</td>\n",
              "      <td>One year</td>\n",
              "      <td>No</td>\n",
              "      <td>Bank transfer (automatic)</td>\n",
              "      <td>42.30</td>\n",
              "      <td>1960.6</td>\n",
              "      <td>Male</td>\n",
              "      <td>0</td>\n",
              "      <td>...</td>\n",
              "      <td>No</td>\n",
              "      <td>NaN</td>\n",
              "      <td>DSL</td>\n",
              "      <td>Yes</td>\n",
              "      <td>No</td>\n",
              "      <td>Yes</td>\n",
              "      <td>Yes</td>\n",
              "      <td>No</td>\n",
              "      <td>No</td>\n",
              "      <td>0</td>\n",
              "    </tr>\n",
              "    <tr>\n",
              "      <th>4</th>\n",
              "      <td>9237-HQITU</td>\n",
              "      <td>2019-09-01</td>\n",
              "      <td>2020-02-01</td>\n",
              "      <td>Month-to-month</td>\n",
              "      <td>Yes</td>\n",
              "      <td>Electronic check</td>\n",
              "      <td>70.70</td>\n",
              "      <td>353.5</td>\n",
              "      <td>Female</td>\n",
              "      <td>0</td>\n",
              "      <td>...</td>\n",
              "      <td>No</td>\n",
              "      <td>No</td>\n",
              "      <td>Fiber optic</td>\n",
              "      <td>No</td>\n",
              "      <td>No</td>\n",
              "      <td>No</td>\n",
              "      <td>No</td>\n",
              "      <td>No</td>\n",
              "      <td>No</td>\n",
              "      <td>0</td>\n",
              "    </tr>\n",
              "    <tr>\n",
              "      <th>5</th>\n",
              "      <td>9305-CDSKC</td>\n",
              "      <td>2019-03-01</td>\n",
              "      <td>2020-02-01</td>\n",
              "      <td>Month-to-month</td>\n",
              "      <td>Yes</td>\n",
              "      <td>Electronic check</td>\n",
              "      <td>99.65</td>\n",
              "      <td>1150.96</td>\n",
              "      <td>Female</td>\n",
              "      <td>0</td>\n",
              "      <td>...</td>\n",
              "      <td>No</td>\n",
              "      <td>Yes</td>\n",
              "      <td>Fiber optic</td>\n",
              "      <td>No</td>\n",
              "      <td>No</td>\n",
              "      <td>Yes</td>\n",
              "      <td>No</td>\n",
              "      <td>Yes</td>\n",
              "      <td>Yes</td>\n",
              "      <td>0</td>\n",
              "    </tr>\n",
              "    <tr>\n",
              "      <th>6</th>\n",
              "      <td>1452-KIOVK</td>\n",
              "      <td>2018-04-01</td>\n",
              "      <td>2020-02-01</td>\n",
              "      <td>Month-to-month</td>\n",
              "      <td>Yes</td>\n",
              "      <td>Credit card (automatic)</td>\n",
              "      <td>89.10</td>\n",
              "      <td>2058.21</td>\n",
              "      <td>Male</td>\n",
              "      <td>0</td>\n",
              "      <td>...</td>\n",
              "      <td>Yes</td>\n",
              "      <td>Yes</td>\n",
              "      <td>Fiber optic</td>\n",
              "      <td>No</td>\n",
              "      <td>Yes</td>\n",
              "      <td>No</td>\n",
              "      <td>No</td>\n",
              "      <td>Yes</td>\n",
              "      <td>No</td>\n",
              "      <td>0</td>\n",
              "    </tr>\n",
              "    <tr>\n",
              "      <th>7</th>\n",
              "      <td>6713-OKOMC</td>\n",
              "      <td>2019-04-01</td>\n",
              "      <td>2020-02-01</td>\n",
              "      <td>Month-to-month</td>\n",
              "      <td>No</td>\n",
              "      <td>Mailed check</td>\n",
              "      <td>29.75</td>\n",
              "      <td>300.48</td>\n",
              "      <td>Female</td>\n",
              "      <td>0</td>\n",
              "      <td>...</td>\n",
              "      <td>No</td>\n",
              "      <td>NaN</td>\n",
              "      <td>DSL</td>\n",
              "      <td>Yes</td>\n",
              "      <td>No</td>\n",
              "      <td>No</td>\n",
              "      <td>No</td>\n",
              "      <td>No</td>\n",
              "      <td>No</td>\n",
              "      <td>0</td>\n",
              "    </tr>\n",
              "    <tr>\n",
              "      <th>8</th>\n",
              "      <td>7892-POOKP</td>\n",
              "      <td>2017-07-01</td>\n",
              "      <td>2020-02-01</td>\n",
              "      <td>Month-to-month</td>\n",
              "      <td>Yes</td>\n",
              "      <td>Electronic check</td>\n",
              "      <td>104.80</td>\n",
              "      <td>3573.68</td>\n",
              "      <td>Female</td>\n",
              "      <td>0</td>\n",
              "      <td>...</td>\n",
              "      <td>No</td>\n",
              "      <td>Yes</td>\n",
              "      <td>Fiber optic</td>\n",
              "      <td>No</td>\n",
              "      <td>No</td>\n",
              "      <td>Yes</td>\n",
              "      <td>Yes</td>\n",
              "      <td>Yes</td>\n",
              "      <td>Yes</td>\n",
              "      <td>0</td>\n",
              "    </tr>\n",
              "    <tr>\n",
              "      <th>9</th>\n",
              "      <td>6388-TABGU</td>\n",
              "      <td>2014-12-01</td>\n",
              "      <td>2017-05-01</td>\n",
              "      <td>One year</td>\n",
              "      <td>No</td>\n",
              "      <td>Bank transfer (automatic)</td>\n",
              "      <td>56.15</td>\n",
              "      <td>1628.35</td>\n",
              "      <td>Male</td>\n",
              "      <td>0</td>\n",
              "      <td>...</td>\n",
              "      <td>Yes</td>\n",
              "      <td>No</td>\n",
              "      <td>DSL</td>\n",
              "      <td>Yes</td>\n",
              "      <td>Yes</td>\n",
              "      <td>No</td>\n",
              "      <td>No</td>\n",
              "      <td>No</td>\n",
              "      <td>No</td>\n",
              "      <td>1</td>\n",
              "    </tr>\n",
              "  </tbody>\n",
              "</table>\n",
              "<p>10 rows × 21 columns</p>\n",
              "</div>"
            ],
            "text/plain": [
              "   customerID   BeginDate     EndDate            Type PaperlessBilling  \\\n",
              "0  7590-VHVEG  2020-01-01  2020-02-01  Month-to-month              Yes   \n",
              "1  5575-GNVDE  2017-04-01  2020-02-01        One year               No   \n",
              "2  3668-QPYBK  2019-10-01  2020-02-01  Month-to-month              Yes   \n",
              "3  7795-CFOCW  2016-05-01  2020-02-01        One year               No   \n",
              "4  9237-HQITU  2019-09-01  2020-02-01  Month-to-month              Yes   \n",
              "5  9305-CDSKC  2019-03-01  2020-02-01  Month-to-month              Yes   \n",
              "6  1452-KIOVK  2018-04-01  2020-02-01  Month-to-month              Yes   \n",
              "7  6713-OKOMC  2019-04-01  2020-02-01  Month-to-month               No   \n",
              "8  7892-POOKP  2017-07-01  2020-02-01  Month-to-month              Yes   \n",
              "9  6388-TABGU  2014-12-01  2017-05-01        One year               No   \n",
              "\n",
              "               PaymentMethod  MonthlyCharges TotalCharges  gender  \\\n",
              "0           Electronic check           29.85        31.04  Female   \n",
              "1               Mailed check           56.95      2071.84    Male   \n",
              "2               Mailed check           53.85       226.17    Male   \n",
              "3  Bank transfer (automatic)           42.30       1960.6    Male   \n",
              "4           Electronic check           70.70        353.5  Female   \n",
              "5           Electronic check           99.65      1150.96  Female   \n",
              "6    Credit card (automatic)           89.10      2058.21    Male   \n",
              "7               Mailed check           29.75       300.48  Female   \n",
              "8           Electronic check          104.80      3573.68  Female   \n",
              "9  Bank transfer (automatic)           56.15      1628.35    Male   \n",
              "\n",
              "   SeniorCitizen  ... Dependents MultipleLines InternetService OnlineSecurity  \\\n",
              "0              0  ...         No           NaN             DSL             No   \n",
              "1              0  ...         No            No             DSL            Yes   \n",
              "2              0  ...         No            No             DSL            Yes   \n",
              "3              0  ...         No           NaN             DSL            Yes   \n",
              "4              0  ...         No            No     Fiber optic             No   \n",
              "5              0  ...         No           Yes     Fiber optic             No   \n",
              "6              0  ...        Yes           Yes     Fiber optic             No   \n",
              "7              0  ...         No           NaN             DSL            Yes   \n",
              "8              0  ...         No           Yes     Fiber optic             No   \n",
              "9              0  ...        Yes            No             DSL            Yes   \n",
              "\n",
              "  OnlineBackup DeviceProtection TechSupport StreamingTV StreamingMovies Target  \n",
              "0          Yes               No          No          No              No      0  \n",
              "1           No              Yes          No          No              No      0  \n",
              "2          Yes               No          No          No              No      0  \n",
              "3           No              Yes         Yes          No              No      0  \n",
              "4           No               No          No          No              No      0  \n",
              "5           No              Yes          No         Yes             Yes      0  \n",
              "6          Yes               No          No         Yes              No      0  \n",
              "7           No               No          No          No              No      0  \n",
              "8           No              Yes         Yes         Yes             Yes      0  \n",
              "9          Yes               No          No          No              No      1  \n",
              "\n",
              "[10 rows x 21 columns]"
            ]
          },
          "execution_count": 35,
          "metadata": {},
          "output_type": "execute_result"
        }
      ],
      "source": [
        "df.head(10)"
      ]
    },
    {
      "cell_type": "code",
      "execution_count": null,
      "metadata": {
        "id": "AVk0hx1ZKZXJ"
      },
      "outputs": [],
      "source": [
        "df['Duration'] = (pd.to_datetime(df['EndDate']) - pd.to_datetime(df['BeginDate'])).dt.days"
      ]
    },
    {
      "cell_type": "code",
      "execution_count": null,
      "metadata": {
        "id": "pnbM7WzRKZXJ",
        "outputId": "85b6bcc3-f70e-46dd-f812-f476ff1914c4"
      },
      "outputs": [
        {
          "data": {
            "text/html": [
              "<div>\n",
              "<style scoped>\n",
              "    .dataframe tbody tr th:only-of-type {\n",
              "        vertical-align: middle;\n",
              "    }\n",
              "\n",
              "    .dataframe tbody tr th {\n",
              "        vertical-align: top;\n",
              "    }\n",
              "\n",
              "    .dataframe thead th {\n",
              "        text-align: right;\n",
              "    }\n",
              "</style>\n",
              "<table border=\"1\" class=\"dataframe\">\n",
              "  <thead>\n",
              "    <tr style=\"text-align: right;\">\n",
              "      <th></th>\n",
              "      <th>BeginDate</th>\n",
              "      <th>EndDate</th>\n",
              "      <th>Duration</th>\n",
              "      <th>Target</th>\n",
              "    </tr>\n",
              "  </thead>\n",
              "  <tbody>\n",
              "    <tr>\n",
              "      <th>0</th>\n",
              "      <td>2020-01-01</td>\n",
              "      <td>2020-02-01</td>\n",
              "      <td>31</td>\n",
              "      <td>0</td>\n",
              "    </tr>\n",
              "    <tr>\n",
              "      <th>1</th>\n",
              "      <td>2017-04-01</td>\n",
              "      <td>2020-02-01</td>\n",
              "      <td>1036</td>\n",
              "      <td>0</td>\n",
              "    </tr>\n",
              "    <tr>\n",
              "      <th>2</th>\n",
              "      <td>2019-10-01</td>\n",
              "      <td>2020-02-01</td>\n",
              "      <td>123</td>\n",
              "      <td>0</td>\n",
              "    </tr>\n",
              "    <tr>\n",
              "      <th>3</th>\n",
              "      <td>2016-05-01</td>\n",
              "      <td>2020-02-01</td>\n",
              "      <td>1371</td>\n",
              "      <td>0</td>\n",
              "    </tr>\n",
              "    <tr>\n",
              "      <th>4</th>\n",
              "      <td>2019-09-01</td>\n",
              "      <td>2020-02-01</td>\n",
              "      <td>153</td>\n",
              "      <td>0</td>\n",
              "    </tr>\n",
              "    <tr>\n",
              "      <th>5</th>\n",
              "      <td>2019-03-01</td>\n",
              "      <td>2020-02-01</td>\n",
              "      <td>337</td>\n",
              "      <td>0</td>\n",
              "    </tr>\n",
              "    <tr>\n",
              "      <th>6</th>\n",
              "      <td>2018-04-01</td>\n",
              "      <td>2020-02-01</td>\n",
              "      <td>671</td>\n",
              "      <td>0</td>\n",
              "    </tr>\n",
              "    <tr>\n",
              "      <th>7</th>\n",
              "      <td>2019-04-01</td>\n",
              "      <td>2020-02-01</td>\n",
              "      <td>306</td>\n",
              "      <td>0</td>\n",
              "    </tr>\n",
              "    <tr>\n",
              "      <th>8</th>\n",
              "      <td>2017-07-01</td>\n",
              "      <td>2020-02-01</td>\n",
              "      <td>945</td>\n",
              "      <td>0</td>\n",
              "    </tr>\n",
              "    <tr>\n",
              "      <th>9</th>\n",
              "      <td>2014-12-01</td>\n",
              "      <td>2017-05-01</td>\n",
              "      <td>882</td>\n",
              "      <td>1</td>\n",
              "    </tr>\n",
              "  </tbody>\n",
              "</table>\n",
              "</div>"
            ],
            "text/plain": [
              "    BeginDate     EndDate  Duration  Target\n",
              "0  2020-01-01  2020-02-01        31       0\n",
              "1  2017-04-01  2020-02-01      1036       0\n",
              "2  2019-10-01  2020-02-01       123       0\n",
              "3  2016-05-01  2020-02-01      1371       0\n",
              "4  2019-09-01  2020-02-01       153       0\n",
              "5  2019-03-01  2020-02-01       337       0\n",
              "6  2018-04-01  2020-02-01       671       0\n",
              "7  2019-04-01  2020-02-01       306       0\n",
              "8  2017-07-01  2020-02-01       945       0\n",
              "9  2014-12-01  2017-05-01       882       1"
            ]
          },
          "execution_count": 37,
          "metadata": {},
          "output_type": "execute_result"
        }
      ],
      "source": [
        "# проверка правильности заполнения столбца `Duration`\n",
        "df[['BeginDate', 'EndDate','Duration', 'Target']].head(10)"
      ]
    },
    {
      "cell_type": "markdown",
      "metadata": {
        "id": "3kf6VazfKZXJ"
      },
      "source": [
        "Исследование баланса классов целевого признака"
      ]
    },
    {
      "cell_type": "code",
      "execution_count": null,
      "metadata": {
        "id": "_fxcpI9tKZXJ",
        "outputId": "80941a7a-32c6-40d1-e436-0d29216ee72f"
      },
      "outputs": [
        {
          "data": {
            "image/png": "[encoded data removed]",
            "text/plain": [
              "<Figure size 216x216 with 1 Axes>"
            ]
          },
          "metadata": {
            "needs_background": "light"
          },
          "output_type": "display_data"
        }
      ],
      "source": [
        "df['Target'].hist(figsize=(3,3))\n",
        "plt.title('Баланс классов'+'\\n');"
      ]
    },
    {
      "cell_type": "markdown",
      "metadata": {
        "id": "uxpOyf9YKZXK"
      },
      "source": [
        "Клиентов, ушедших от провайдера, значительно меньше, чем активных клиентов."
      ]
    },
    {
      "cell_type": "markdown",
      "metadata": {
        "id": "HLol6dpvKZXK"
      },
      "source": [
        "Для обучения модели номер клиента, дата заключения договора и дата его расторжения не несут смысловую нагрузку. Их удаляем"
      ]
    },
    {
      "cell_type": "code",
      "execution_count": null,
      "metadata": {
        "id": "i2gxf-mVKZXK"
      },
      "outputs": [],
      "source": [
        "df = df.drop(['customerID', 'BeginDate', 'EndDate'], axis=1)"
      ]
    },
    {
      "cell_type": "code",
      "execution_count": null,
      "metadata": {
        "id": "4giKts3oKZXK"
      },
      "outputs": [],
      "source": [
        "# приведение названия столбцов к единообразию, а именно `gender` -> `Gender`\n",
        "df.rename({'gender': 'Gender'}, axis=1, inplace=True)"
      ]
    },
    {
      "cell_type": "code",
      "execution_count": null,
      "metadata": {
        "id": "9Y76LJv6KZXK",
        "outputId": "94ad7319-9d36-4a48-808b-ca6857c92cc3"
      },
      "outputs": [
        {
          "data": {
            "text/html": [
              "<div>\n",
              "<style scoped>\n",
              "    .dataframe tbody tr th:only-of-type {\n",
              "        vertical-align: middle;\n",
              "    }\n",
              "\n",
              "    .dataframe tbody tr th {\n",
              "        vertical-align: top;\n",
              "    }\n",
              "\n",
              "    .dataframe thead th {\n",
              "        text-align: right;\n",
              "    }\n",
              "</style>\n",
              "<table border=\"1\" class=\"dataframe\">\n",
              "  <thead>\n",
              "    <tr style=\"text-align: right;\">\n",
              "      <th></th>\n",
              "      <th>Type</th>\n",
              "      <th>PaperlessBilling</th>\n",
              "      <th>PaymentMethod</th>\n",
              "      <th>MonthlyCharges</th>\n",
              "      <th>TotalCharges</th>\n",
              "      <th>Gender</th>\n",
              "      <th>SeniorCitizen</th>\n",
              "      <th>Partner</th>\n",
              "      <th>Dependents</th>\n",
              "      <th>MultipleLines</th>\n",
              "      <th>InternetService</th>\n",
              "      <th>OnlineSecurity</th>\n",
              "      <th>OnlineBackup</th>\n",
              "      <th>DeviceProtection</th>\n",
              "      <th>TechSupport</th>\n",
              "      <th>StreamingTV</th>\n",
              "      <th>StreamingMovies</th>\n",
              "      <th>Target</th>\n",
              "      <th>Duration</th>\n",
              "    </tr>\n",
              "  </thead>\n",
              "  <tbody>\n",
              "    <tr>\n",
              "      <th>0</th>\n",
              "      <td>Month-to-month</td>\n",
              "      <td>Yes</td>\n",
              "      <td>Electronic check</td>\n",
              "      <td>29.85</td>\n",
              "      <td>31.04</td>\n",
              "      <td>Female</td>\n",
              "      <td>0</td>\n",
              "      <td>Yes</td>\n",
              "      <td>No</td>\n",
              "      <td>NaN</td>\n",
              "      <td>DSL</td>\n",
              "      <td>No</td>\n",
              "      <td>Yes</td>\n",
              "      <td>No</td>\n",
              "      <td>No</td>\n",
              "      <td>No</td>\n",
              "      <td>No</td>\n",
              "      <td>0</td>\n",
              "      <td>31</td>\n",
              "    </tr>\n",
              "    <tr>\n",
              "      <th>1</th>\n",
              "      <td>One year</td>\n",
              "      <td>No</td>\n",
              "      <td>Mailed check</td>\n",
              "      <td>56.95</td>\n",
              "      <td>2071.84</td>\n",
              "      <td>Male</td>\n",
              "      <td>0</td>\n",
              "      <td>No</td>\n",
              "      <td>No</td>\n",
              "      <td>No</td>\n",
              "      <td>DSL</td>\n",
              "      <td>Yes</td>\n",
              "      <td>No</td>\n",
              "      <td>Yes</td>\n",
              "      <td>No</td>\n",
              "      <td>No</td>\n",
              "      <td>No</td>\n",
              "      <td>0</td>\n",
              "      <td>1036</td>\n",
              "    </tr>\n",
              "  </tbody>\n",
              "</table>\n",
              "</div>"
            ],
            "text/plain": [
              "             Type PaperlessBilling     PaymentMethod  MonthlyCharges  \\\n",
              "0  Month-to-month              Yes  Electronic check           29.85   \n",
              "1        One year               No      Mailed check           56.95   \n",
              "\n",
              "  TotalCharges  Gender  SeniorCitizen Partner Dependents MultipleLines  \\\n",
              "0        31.04  Female              0     Yes         No           NaN   \n",
              "1      2071.84    Male              0      No         No            No   \n",
              "\n",
              "  InternetService OnlineSecurity OnlineBackup DeviceProtection TechSupport  \\\n",
              "0             DSL             No          Yes               No          No   \n",
              "1             DSL            Yes           No              Yes          No   \n",
              "\n",
              "  StreamingTV StreamingMovies  Target  Duration  \n",
              "0          No              No       0        31  \n",
              "1          No              No       0      1036  "
            ]
          },
          "execution_count": 41,
          "metadata": {},
          "output_type": "execute_result"
        }
      ],
      "source": [
        "df.head(2)"
      ]
    },
    {
      "cell_type": "code",
      "execution_count": null,
      "metadata": {
        "id": "KqLUY-XhKZXK",
        "outputId": "54a82812-b808-485e-e1e4-b3be95744e2b"
      },
      "outputs": [
        {
          "data": {
            "text/plain": [
              "4"
            ]
          },
          "execution_count": 42,
          "metadata": {},
          "output_type": "execute_result"
        }
      ],
      "source": [
        "# проверка на дубликаты после удаления столбцов\n",
        "df.duplicated().sum()"
      ]
    },
    {
      "cell_type": "code",
      "execution_count": null,
      "metadata": {
        "id": "3tJy3x1ZKZXL"
      },
      "outputs": [],
      "source": [
        "# удаление дубликатов, т к для обучения модели дубликаты не нужны\n",
        "df = df.drop_duplicates()"
      ]
    },
    {
      "cell_type": "markdown",
      "metadata": {
        "id": "Z04-EwqAKZXL"
      },
      "source": [
        "Преобразование типов данных"
      ]
    },
    {
      "cell_type": "code",
      "execution_count": null,
      "metadata": {
        "id": "tSAWbGGcKZXL",
        "outputId": "f026d947-2eb1-47e3-be7d-2bf2a7d8a8c4"
      },
      "outputs": [
        {
          "name": "stdout",
          "output_type": "stream",
          "text": [
            "<class 'pandas.core.frame.DataFrame'>\n",
            "Int64Index: 7028 entries, 0 to 7042\n",
            "Data columns (total 19 columns):\n",
            " #   Column            Non-Null Count  Dtype  \n",
            "---  ------            --------------  -----  \n",
            " 0   Type              7028 non-null   object \n",
            " 1   PaperlessBilling  7028 non-null   object \n",
            " 2   PaymentMethod     7028 non-null   object \n",
            " 3   MonthlyCharges    7028 non-null   float64\n",
            " 4   TotalCharges      7028 non-null   object \n",
            " 5   Gender            7028 non-null   object \n",
            " 6   SeniorCitizen     7028 non-null   int64  \n",
            " 7   Partner           7028 non-null   object \n",
            " 8   Dependents        7028 non-null   object \n",
            " 9   MultipleLines     6348 non-null   object \n",
            " 10  InternetService   5511 non-null   object \n",
            " 11  OnlineSecurity    5511 non-null   object \n",
            " 12  OnlineBackup      5511 non-null   object \n",
            " 13  DeviceProtection  5511 non-null   object \n",
            " 14  TechSupport       5511 non-null   object \n",
            " 15  StreamingTV       5511 non-null   object \n",
            " 16  StreamingMovies   5511 non-null   object \n",
            " 17  Target            7028 non-null   int64  \n",
            " 18  Duration          7028 non-null   int64  \n",
            "dtypes: float64(1), int64(3), object(15)\n",
            "memory usage: 1.1+ MB\n"
          ]
        }
      ],
      "source": [
        "df.info()"
      ]
    },
    {
      "cell_type": "code",
      "execution_count": null,
      "metadata": {
        "id": "XJUCh_eCKZXL"
      },
      "outputs": [],
      "source": [
        "df['TotalCharges'] = df['TotalCharges'].astype(float)"
      ]
    },
    {
      "cell_type": "code",
      "execution_count": null,
      "metadata": {
        "id": "R6M5CRYeKZXL",
        "outputId": "70596991-dd4a-42a4-e6f3-96b4f2a701d6"
      },
      "outputs": [
        {
          "data": {
            "text/html": [
              "<div>\n",
              "<style scoped>\n",
              "    .dataframe tbody tr th:only-of-type {\n",
              "        vertical-align: middle;\n",
              "    }\n",
              "\n",
              "    .dataframe tbody tr th {\n",
              "        vertical-align: top;\n",
              "    }\n",
              "\n",
              "    .dataframe thead th {\n",
              "        text-align: right;\n",
              "    }\n",
              "</style>\n",
              "<table border=\"1\" class=\"dataframe\">\n",
              "  <thead>\n",
              "    <tr style=\"text-align: right;\">\n",
              "      <th></th>\n",
              "      <th>Type</th>\n",
              "      <th>PaperlessBilling</th>\n",
              "      <th>PaymentMethod</th>\n",
              "      <th>MonthlyCharges</th>\n",
              "      <th>TotalCharges</th>\n",
              "      <th>Gender</th>\n",
              "      <th>SeniorCitizen</th>\n",
              "      <th>Partner</th>\n",
              "      <th>Dependents</th>\n",
              "      <th>MultipleLines</th>\n",
              "      <th>InternetService</th>\n",
              "      <th>OnlineSecurity</th>\n",
              "      <th>OnlineBackup</th>\n",
              "      <th>DeviceProtection</th>\n",
              "      <th>TechSupport</th>\n",
              "      <th>StreamingTV</th>\n",
              "      <th>StreamingMovies</th>\n",
              "      <th>Target</th>\n",
              "      <th>Duration</th>\n",
              "    </tr>\n",
              "  </thead>\n",
              "  <tbody>\n",
              "    <tr>\n",
              "      <th>0</th>\n",
              "      <td>Month-to-month</td>\n",
              "      <td>Yes</td>\n",
              "      <td>Electronic check</td>\n",
              "      <td>29.85</td>\n",
              "      <td>31.04</td>\n",
              "      <td>Female</td>\n",
              "      <td>0</td>\n",
              "      <td>Yes</td>\n",
              "      <td>No</td>\n",
              "      <td>NaN</td>\n",
              "      <td>DSL</td>\n",
              "      <td>No</td>\n",
              "      <td>Yes</td>\n",
              "      <td>No</td>\n",
              "      <td>No</td>\n",
              "      <td>No</td>\n",
              "      <td>No</td>\n",
              "      <td>0</td>\n",
              "      <td>31</td>\n",
              "    </tr>\n",
              "    <tr>\n",
              "      <th>1</th>\n",
              "      <td>One year</td>\n",
              "      <td>No</td>\n",
              "      <td>Mailed check</td>\n",
              "      <td>56.95</td>\n",
              "      <td>2071.84</td>\n",
              "      <td>Male</td>\n",
              "      <td>0</td>\n",
              "      <td>No</td>\n",
              "      <td>No</td>\n",
              "      <td>No</td>\n",
              "      <td>DSL</td>\n",
              "      <td>Yes</td>\n",
              "      <td>No</td>\n",
              "      <td>Yes</td>\n",
              "      <td>No</td>\n",
              "      <td>No</td>\n",
              "      <td>No</td>\n",
              "      <td>0</td>\n",
              "      <td>1036</td>\n",
              "    </tr>\n",
              "    <tr>\n",
              "      <th>2</th>\n",
              "      <td>Month-to-month</td>\n",
              "      <td>Yes</td>\n",
              "      <td>Mailed check</td>\n",
              "      <td>53.85</td>\n",
              "      <td>226.17</td>\n",
              "      <td>Male</td>\n",
              "      <td>0</td>\n",
              "      <td>No</td>\n",
              "      <td>No</td>\n",
              "      <td>No</td>\n",
              "      <td>DSL</td>\n",
              "      <td>Yes</td>\n",
              "      <td>Yes</td>\n",
              "      <td>No</td>\n",
              "      <td>No</td>\n",
              "      <td>No</td>\n",
              "      <td>No</td>\n",
              "      <td>0</td>\n",
              "      <td>123</td>\n",
              "    </tr>\n",
              "  </tbody>\n",
              "</table>\n",
              "</div>"
            ],
            "text/plain": [
              "             Type PaperlessBilling     PaymentMethod  MonthlyCharges  \\\n",
              "0  Month-to-month              Yes  Electronic check           29.85   \n",
              "1        One year               No      Mailed check           56.95   \n",
              "2  Month-to-month              Yes      Mailed check           53.85   \n",
              "\n",
              "   TotalCharges  Gender  SeniorCitizen Partner Dependents MultipleLines  \\\n",
              "0         31.04  Female              0     Yes         No           NaN   \n",
              "1       2071.84    Male              0      No         No            No   \n",
              "2        226.17    Male              0      No         No            No   \n",
              "\n",
              "  InternetService OnlineSecurity OnlineBackup DeviceProtection TechSupport  \\\n",
              "0             DSL             No          Yes               No          No   \n",
              "1             DSL            Yes           No              Yes          No   \n",
              "2             DSL            Yes          Yes               No          No   \n",
              "\n",
              "  StreamingTV StreamingMovies  Target  Duration  \n",
              "0          No              No       0        31  \n",
              "1          No              No       0      1036  \n",
              "2          No              No       0       123  "
            ]
          },
          "execution_count": 47,
          "metadata": {},
          "output_type": "execute_result"
        }
      ],
      "source": [
        "df.head(3)"
      ]
    },
    {
      "cell_type": "code",
      "execution_count": null,
      "metadata": {
        "id": "UEmEkE0EKZXO",
        "outputId": "4de0fbf1-c8e7-46c6-e933-8b75d2d2f444"
      },
      "outputs": [
        {
          "data": {
            "text/plain": [
              "Type                   0\n",
              "PaperlessBilling       0\n",
              "PaymentMethod          0\n",
              "MonthlyCharges         0\n",
              "TotalCharges           0\n",
              "Gender                 0\n",
              "SeniorCitizen          0\n",
              "Partner                0\n",
              "Dependents             0\n",
              "MultipleLines        680\n",
              "InternetService     1517\n",
              "OnlineSecurity      1517\n",
              "OnlineBackup        1517\n",
              "DeviceProtection    1517\n",
              "TechSupport         1517\n",
              "StreamingTV         1517\n",
              "StreamingMovies     1517\n",
              "Target                 0\n",
              "Duration               0\n",
              "dtype: int64"
            ]
          },
          "execution_count": 48,
          "metadata": {},
          "output_type": "execute_result"
        }
      ],
      "source": [
        "# проверка на пропущенные значения, которые возникли в таблице после объединения с другими таблицами\n",
        "df.isna().sum()"
      ]
    },
    {
      "cell_type": "markdown",
      "metadata": {
        "id": "HBuTp9zVKZXO"
      },
      "source": [
        "Поскольку пропуски в итоговой таблице возникли из-за того, что некоторые клиенты не пользовались теми или иними сервисами, то заполним пропуски значением `not_used`"
      ]
    },
    {
      "cell_type": "code",
      "execution_count": null,
      "metadata": {
        "id": "XflPxJl3KZXP"
      },
      "outputs": [],
      "source": [
        "df = df.fillna('not_used')"
      ]
    },
    {
      "cell_type": "code",
      "execution_count": null,
      "metadata": {
        "id": "E6QJbbnHKZXP",
        "outputId": "bdeebfe7-7107-4a2c-bf51-4f104f843535"
      },
      "outputs": [
        {
          "data": {
            "text/plain": [
              "Type                0\n",
              "PaperlessBilling    0\n",
              "PaymentMethod       0\n",
              "MonthlyCharges      0\n",
              "TotalCharges        0\n",
              "Gender              0\n",
              "SeniorCitizen       0\n",
              "Partner             0\n",
              "Dependents          0\n",
              "MultipleLines       0\n",
              "InternetService     0\n",
              "OnlineSecurity      0\n",
              "OnlineBackup        0\n",
              "DeviceProtection    0\n",
              "TechSupport         0\n",
              "StreamingTV         0\n",
              "StreamingMovies     0\n",
              "Target              0\n",
              "Duration            0\n",
              "dtype: int64"
            ]
          },
          "execution_count": 50,
          "metadata": {},
          "output_type": "execute_result"
        }
      ],
      "source": [
        "df.isna().sum()"
      ]
    },
    {
      "cell_type": "code",
      "execution_count": null,
      "metadata": {
        "id": "vZR0c2zdKZXP",
        "outputId": "496db480-c6d3-48d1-bc43-9adf247a9708"
      },
      "outputs": [
        {
          "name": "stdout",
          "output_type": "stream",
          "text": [
            "interval columns not set, guessing: ['MonthlyCharges', 'TotalCharges', 'SeniorCitizen', 'Target', 'Duration']\n"
          ]
        },
        {
          "data": {
            "text/html": [
              "<div>\n",
              "<style scoped>\n",
              "    .dataframe tbody tr th:only-of-type {\n",
              "        vertical-align: middle;\n",
              "    }\n",
              "\n",
              "    .dataframe tbody tr th {\n",
              "        vertical-align: top;\n",
              "    }\n",
              "\n",
              "    .dataframe thead th {\n",
              "        text-align: right;\n",
              "    }\n",
              "</style>\n",
              "<table border=\"1\" class=\"dataframe\">\n",
              "  <thead>\n",
              "    <tr style=\"text-align: right;\">\n",
              "      <th></th>\n",
              "      <th>Type</th>\n",
              "      <th>PaperlessBilling</th>\n",
              "      <th>PaymentMethod</th>\n",
              "      <th>MonthlyCharges</th>\n",
              "      <th>TotalCharges</th>\n",
              "      <th>Gender</th>\n",
              "      <th>SeniorCitizen</th>\n",
              "      <th>Partner</th>\n",
              "      <th>Dependents</th>\n",
              "      <th>MultipleLines</th>\n",
              "      <th>InternetService</th>\n",
              "      <th>OnlineSecurity</th>\n",
              "      <th>OnlineBackup</th>\n",
              "      <th>DeviceProtection</th>\n",
              "      <th>TechSupport</th>\n",
              "      <th>StreamingTV</th>\n",
              "      <th>StreamingMovies</th>\n",
              "      <th>Target</th>\n",
              "      <th>Duration</th>\n",
              "    </tr>\n",
              "  </thead>\n",
              "  <tbody>\n",
              "    <tr>\n",
              "      <th>Type</th>\n",
              "      <td>1.000000</td>\n",
              "      <td>0.106366</td>\n",
              "      <td>0.277502</td>\n",
              "      <td>0.388376</td>\n",
              "      <td>0.470329</td>\n",
              "      <td>0.000000</td>\n",
              "      <td>0.085796</td>\n",
              "      <td>0.179004</td>\n",
              "      <td>0.146014</td>\n",
              "      <td>0.243524</td>\n",
              "      <td>0.504357</td>\n",
              "      <td>0.636343</td>\n",
              "      <td>0.581064</td>\n",
              "      <td>0.631110</td>\n",
              "      <td>0.671229</td>\n",
              "      <td>0.548948</td>\n",
              "      <td>0.554000</td>\n",
              "      <td>0.094682</td>\n",
              "      <td>0.635284</td>\n",
              "    </tr>\n",
              "    <tr>\n",
              "      <th>PaperlessBilling</th>\n",
              "      <td>0.106366</td>\n",
              "      <td>1.000000</td>\n",
              "      <td>0.368131</td>\n",
              "      <td>0.466780</td>\n",
              "      <td>0.201493</td>\n",
              "      <td>0.000000</td>\n",
              "      <td>0.241546</td>\n",
              "      <td>0.011368</td>\n",
              "      <td>0.171560</td>\n",
              "      <td>0.099971</td>\n",
              "      <td>0.230780</td>\n",
              "      <td>0.207730</td>\n",
              "      <td>0.194642</td>\n",
              "      <td>0.194982</td>\n",
              "      <td>0.199977</td>\n",
              "      <td>0.204202</td>\n",
              "      <td>0.201586</td>\n",
              "      <td>0.082553</td>\n",
              "      <td>0.017525</td>\n",
              "    </tr>\n",
              "    <tr>\n",
              "      <th>PaymentMethod</th>\n",
              "      <td>0.277502</td>\n",
              "      <td>0.368131</td>\n",
              "      <td>1.000000</td>\n",
              "      <td>0.398216</td>\n",
              "      <td>0.334297</td>\n",
              "      <td>0.000000</td>\n",
              "      <td>0.291709</td>\n",
              "      <td>0.244388</td>\n",
              "      <td>0.222988</td>\n",
              "      <td>0.174918</td>\n",
              "      <td>0.322618</td>\n",
              "      <td>0.314331</td>\n",
              "      <td>0.292066</td>\n",
              "      <td>0.296610</td>\n",
              "      <td>0.316252</td>\n",
              "      <td>0.283356</td>\n",
              "      <td>0.284296</td>\n",
              "      <td>0.214091</td>\n",
              "      <td>0.348179</td>\n",
              "    </tr>\n",
              "    <tr>\n",
              "      <th>MonthlyCharges</th>\n",
              "      <td>0.388376</td>\n",
              "      <td>0.466780</td>\n",
              "      <td>0.398216</td>\n",
              "      <td>1.000000</td>\n",
              "      <td>0.710646</td>\n",
              "      <td>0.008612</td>\n",
              "      <td>0.304421</td>\n",
              "      <td>0.204186</td>\n",
              "      <td>0.183070</td>\n",
              "      <td>0.710264</td>\n",
              "      <td>0.918983</td>\n",
              "      <td>0.812470</td>\n",
              "      <td>0.818794</td>\n",
              "      <td>0.827299</td>\n",
              "      <td>0.816562</td>\n",
              "      <td>0.864779</td>\n",
              "      <td>0.863502</td>\n",
              "      <td>0.225856</td>\n",
              "      <td>0.386947</td>\n",
              "    </tr>\n",
              "    <tr>\n",
              "      <th>TotalCharges</th>\n",
              "      <td>0.470329</td>\n",
              "      <td>0.201493</td>\n",
              "      <td>0.334297</td>\n",
              "      <td>0.710646</td>\n",
              "      <td>1.000000</td>\n",
              "      <td>0.000000</td>\n",
              "      <td>0.136769</td>\n",
              "      <td>0.382620</td>\n",
              "      <td>0.085094</td>\n",
              "      <td>0.467587</td>\n",
              "      <td>0.489051</td>\n",
              "      <td>0.516210</td>\n",
              "      <td>0.550354</td>\n",
              "      <td>0.558507</td>\n",
              "      <td>0.527680</td>\n",
              "      <td>0.555432</td>\n",
              "      <td>0.553845</td>\n",
              "      <td>0.303621</td>\n",
              "      <td>0.847539</td>\n",
              "    </tr>\n",
              "    <tr>\n",
              "      <th>Gender</th>\n",
              "      <td>0.000000</td>\n",
              "      <td>0.000000</td>\n",
              "      <td>0.000000</td>\n",
              "      <td>0.008612</td>\n",
              "      <td>0.000000</td>\n",
              "      <td>1.000000</td>\n",
              "      <td>0.000000</td>\n",
              "      <td>0.000000</td>\n",
              "      <td>0.000000</td>\n",
              "      <td>0.000000</td>\n",
              "      <td>0.000000</td>\n",
              "      <td>0.000000</td>\n",
              "      <td>0.000000</td>\n",
              "      <td>0.000000</td>\n",
              "      <td>0.000000</td>\n",
              "      <td>0.000000</td>\n",
              "      <td>0.000000</td>\n",
              "      <td>0.009241</td>\n",
              "      <td>0.000000</td>\n",
              "    </tr>\n",
              "    <tr>\n",
              "      <th>SeniorCitizen</th>\n",
              "      <td>0.085796</td>\n",
              "      <td>0.241546</td>\n",
              "      <td>0.291709</td>\n",
              "      <td>0.304421</td>\n",
              "      <td>0.136769</td>\n",
              "      <td>0.000000</td>\n",
              "      <td>1.000000</td>\n",
              "      <td>0.018102</td>\n",
              "      <td>0.323766</td>\n",
              "      <td>0.088024</td>\n",
              "      <td>0.160425</td>\n",
              "      <td>0.126990</td>\n",
              "      <td>0.109750</td>\n",
              "      <td>0.109922</td>\n",
              "      <td>0.134957</td>\n",
              "      <td>0.111518</td>\n",
              "      <td>0.113525</td>\n",
              "      <td>0.085543</td>\n",
              "      <td>0.064985</td>\n",
              "    </tr>\n",
              "    <tr>\n",
              "      <th>Partner</th>\n",
              "      <td>0.179004</td>\n",
              "      <td>0.011368</td>\n",
              "      <td>0.244388</td>\n",
              "      <td>0.204186</td>\n",
              "      <td>0.382620</td>\n",
              "      <td>0.000000</td>\n",
              "      <td>0.018102</td>\n",
              "      <td>1.000000</td>\n",
              "      <td>0.651560</td>\n",
              "      <td>0.086182</td>\n",
              "      <td>0.000000</td>\n",
              "      <td>0.091047</td>\n",
              "      <td>0.091913</td>\n",
              "      <td>0.099610</td>\n",
              "      <td>0.076145</td>\n",
              "      <td>0.081778</td>\n",
              "      <td>0.077636</td>\n",
              "      <td>0.227686</td>\n",
              "      <td>0.449500</td>\n",
              "    </tr>\n",
              "    <tr>\n",
              "      <th>Dependents</th>\n",
              "      <td>0.146014</td>\n",
              "      <td>0.171560</td>\n",
              "      <td>0.222988</td>\n",
              "      <td>0.183070</td>\n",
              "      <td>0.085094</td>\n",
              "      <td>0.000000</td>\n",
              "      <td>0.323766</td>\n",
              "      <td>0.651560</td>\n",
              "      <td>1.000000</td>\n",
              "      <td>0.011405</td>\n",
              "      <td>0.107805</td>\n",
              "      <td>0.116462</td>\n",
              "      <td>0.097119</td>\n",
              "      <td>0.093960</td>\n",
              "      <td>0.109004</td>\n",
              "      <td>0.087645</td>\n",
              "      <td>0.084348</td>\n",
              "      <td>0.048682</td>\n",
              "      <td>0.196873</td>\n",
              "    </tr>\n",
              "    <tr>\n",
              "      <th>MultipleLines</th>\n",
              "      <td>0.243524</td>\n",
              "      <td>0.099971</td>\n",
              "      <td>0.174918</td>\n",
              "      <td>0.710264</td>\n",
              "      <td>0.467587</td>\n",
              "      <td>0.000000</td>\n",
              "      <td>0.088024</td>\n",
              "      <td>0.086182</td>\n",
              "      <td>0.011405</td>\n",
              "      <td>1.000000</td>\n",
              "      <td>0.739773</td>\n",
              "      <td>0.539944</td>\n",
              "      <td>0.562693</td>\n",
              "      <td>0.564510</td>\n",
              "      <td>0.540659</td>\n",
              "      <td>0.586168</td>\n",
              "      <td>0.586821</td>\n",
              "      <td>0.105223</td>\n",
              "      <td>0.346591</td>\n",
              "    </tr>\n",
              "    <tr>\n",
              "      <th>InternetService</th>\n",
              "      <td>0.504357</td>\n",
              "      <td>0.230780</td>\n",
              "      <td>0.322618</td>\n",
              "      <td>0.918983</td>\n",
              "      <td>0.489051</td>\n",
              "      <td>0.000000</td>\n",
              "      <td>0.160425</td>\n",
              "      <td>0.000000</td>\n",
              "      <td>0.107805</td>\n",
              "      <td>0.739773</td>\n",
              "      <td>1.000000</td>\n",
              "      <td>0.949476</td>\n",
              "      <td>0.942840</td>\n",
              "      <td>0.942811</td>\n",
              "      <td>0.948892</td>\n",
              "      <td>0.946743</td>\n",
              "      <td>0.946269</td>\n",
              "      <td>0.056184</td>\n",
              "      <td>0.058580</td>\n",
              "    </tr>\n",
              "    <tr>\n",
              "      <th>OnlineSecurity</th>\n",
              "      <td>0.636343</td>\n",
              "      <td>0.207730</td>\n",
              "      <td>0.314331</td>\n",
              "      <td>0.812470</td>\n",
              "      <td>0.516210</td>\n",
              "      <td>0.000000</td>\n",
              "      <td>0.126990</td>\n",
              "      <td>0.091047</td>\n",
              "      <td>0.116462</td>\n",
              "      <td>0.539944</td>\n",
              "      <td>0.949476</td>\n",
              "      <td>1.000000</td>\n",
              "      <td>0.947202</td>\n",
              "      <td>0.946766</td>\n",
              "      <td>0.952622</td>\n",
              "      <td>0.943075</td>\n",
              "      <td>0.943251</td>\n",
              "      <td>0.058557</td>\n",
              "      <td>0.345782</td>\n",
              "    </tr>\n",
              "    <tr>\n",
              "      <th>OnlineBackup</th>\n",
              "      <td>0.581064</td>\n",
              "      <td>0.194642</td>\n",
              "      <td>0.292066</td>\n",
              "      <td>0.818794</td>\n",
              "      <td>0.550354</td>\n",
              "      <td>0.000000</td>\n",
              "      <td>0.109750</td>\n",
              "      <td>0.091913</td>\n",
              "      <td>0.097119</td>\n",
              "      <td>0.562693</td>\n",
              "      <td>0.942840</td>\n",
              "      <td>0.947202</td>\n",
              "      <td>1.000000</td>\n",
              "      <td>0.947471</td>\n",
              "      <td>0.947735</td>\n",
              "      <td>0.945777</td>\n",
              "      <td>0.945402</td>\n",
              "      <td>0.089751</td>\n",
              "      <td>0.367435</td>\n",
              "    </tr>\n",
              "    <tr>\n",
              "      <th>DeviceProtection</th>\n",
              "      <td>0.631110</td>\n",
              "      <td>0.194982</td>\n",
              "      <td>0.296610</td>\n",
              "      <td>0.827299</td>\n",
              "      <td>0.558507</td>\n",
              "      <td>0.000000</td>\n",
              "      <td>0.109922</td>\n",
              "      <td>0.099610</td>\n",
              "      <td>0.093960</td>\n",
              "      <td>0.564510</td>\n",
              "      <td>0.942811</td>\n",
              "      <td>0.946766</td>\n",
              "      <td>0.947471</td>\n",
              "      <td>1.000000</td>\n",
              "      <td>0.950226</td>\n",
              "      <td>0.952804</td>\n",
              "      <td>0.953743</td>\n",
              "      <td>0.085639</td>\n",
              "      <td>0.376804</td>\n",
              "    </tr>\n",
              "    <tr>\n",
              "      <th>TechSupport</th>\n",
              "      <td>0.671229</td>\n",
              "      <td>0.199977</td>\n",
              "      <td>0.316252</td>\n",
              "      <td>0.816562</td>\n",
              "      <td>0.527680</td>\n",
              "      <td>0.000000</td>\n",
              "      <td>0.134957</td>\n",
              "      <td>0.076145</td>\n",
              "      <td>0.109004</td>\n",
              "      <td>0.540659</td>\n",
              "      <td>0.948892</td>\n",
              "      <td>0.952622</td>\n",
              "      <td>0.947735</td>\n",
              "      <td>0.950226</td>\n",
              "      <td>1.000000</td>\n",
              "      <td>0.946377</td>\n",
              "      <td>0.946463</td>\n",
              "      <td>0.051343</td>\n",
              "      <td>0.352631</td>\n",
              "    </tr>\n",
              "    <tr>\n",
              "      <th>StreamingTV</th>\n",
              "      <td>0.548948</td>\n",
              "      <td>0.204202</td>\n",
              "      <td>0.283356</td>\n",
              "      <td>0.864779</td>\n",
              "      <td>0.555432</td>\n",
              "      <td>0.000000</td>\n",
              "      <td>0.111518</td>\n",
              "      <td>0.081778</td>\n",
              "      <td>0.087645</td>\n",
              "      <td>0.586168</td>\n",
              "      <td>0.946743</td>\n",
              "      <td>0.943075</td>\n",
              "      <td>0.945777</td>\n",
              "      <td>0.952804</td>\n",
              "      <td>0.946377</td>\n",
              "      <td>1.000000</td>\n",
              "      <td>0.965347</td>\n",
              "      <td>0.078513</td>\n",
              "      <td>0.308794</td>\n",
              "    </tr>\n",
              "    <tr>\n",
              "      <th>StreamingMovies</th>\n",
              "      <td>0.554000</td>\n",
              "      <td>0.201586</td>\n",
              "      <td>0.284296</td>\n",
              "      <td>0.863502</td>\n",
              "      <td>0.553845</td>\n",
              "      <td>0.000000</td>\n",
              "      <td>0.113525</td>\n",
              "      <td>0.077636</td>\n",
              "      <td>0.084348</td>\n",
              "      <td>0.586821</td>\n",
              "      <td>0.946269</td>\n",
              "      <td>0.943251</td>\n",
              "      <td>0.945402</td>\n",
              "      <td>0.953743</td>\n",
              "      <td>0.946463</td>\n",
              "      <td>0.965347</td>\n",
              "      <td>1.000000</td>\n",
              "      <td>0.086340</td>\n",
              "      <td>0.307256</td>\n",
              "    </tr>\n",
              "    <tr>\n",
              "      <th>Target</th>\n",
              "      <td>0.094682</td>\n",
              "      <td>0.082553</td>\n",
              "      <td>0.214091</td>\n",
              "      <td>0.225856</td>\n",
              "      <td>0.303621</td>\n",
              "      <td>0.009241</td>\n",
              "      <td>0.085543</td>\n",
              "      <td>0.227686</td>\n",
              "      <td>0.048682</td>\n",
              "      <td>0.105223</td>\n",
              "      <td>0.056184</td>\n",
              "      <td>0.058557</td>\n",
              "      <td>0.089751</td>\n",
              "      <td>0.085639</td>\n",
              "      <td>0.051343</td>\n",
              "      <td>0.078513</td>\n",
              "      <td>0.086340</td>\n",
              "      <td>1.000000</td>\n",
              "      <td>0.373894</td>\n",
              "    </tr>\n",
              "    <tr>\n",
              "      <th>Duration</th>\n",
              "      <td>0.635284</td>\n",
              "      <td>0.017525</td>\n",
              "      <td>0.348179</td>\n",
              "      <td>0.386947</td>\n",
              "      <td>0.847539</td>\n",
              "      <td>0.000000</td>\n",
              "      <td>0.064985</td>\n",
              "      <td>0.449500</td>\n",
              "      <td>0.196873</td>\n",
              "      <td>0.346591</td>\n",
              "      <td>0.058580</td>\n",
              "      <td>0.345782</td>\n",
              "      <td>0.367435</td>\n",
              "      <td>0.376804</td>\n",
              "      <td>0.352631</td>\n",
              "      <td>0.308794</td>\n",
              "      <td>0.307256</td>\n",
              "      <td>0.373894</td>\n",
              "      <td>1.000000</td>\n",
              "    </tr>\n",
              "  </tbody>\n",
              "</table>\n",
              "</div>"
            ],
            "text/plain": [
              "                      Type  PaperlessBilling  PaymentMethod  MonthlyCharges  \\\n",
              "Type              1.000000          0.106366       0.277502        0.388376   \n",
              "PaperlessBilling  0.106366          1.000000       0.368131        0.466780   \n",
              "PaymentMethod     0.277502          0.368131       1.000000        0.398216   \n",
              "MonthlyCharges    0.388376          0.466780       0.398216        1.000000   \n",
              "TotalCharges      0.470329          0.201493       0.334297        0.710646   \n",
              "Gender            0.000000          0.000000       0.000000        0.008612   \n",
              "SeniorCitizen     0.085796          0.241546       0.291709        0.304421   \n",
              "Partner           0.179004          0.011368       0.244388        0.204186   \n",
              "Dependents        0.146014          0.171560       0.222988        0.183070   \n",
              "MultipleLines     0.243524          0.099971       0.174918        0.710264   \n",
              "InternetService   0.504357          0.230780       0.322618        0.918983   \n",
              "OnlineSecurity    0.636343          0.207730       0.314331        0.812470   \n",
              "OnlineBackup      0.581064          0.194642       0.292066        0.818794   \n",
              "DeviceProtection  0.631110          0.194982       0.296610        0.827299   \n",
              "TechSupport       0.671229          0.199977       0.316252        0.816562   \n",
              "StreamingTV       0.548948          0.204202       0.283356        0.864779   \n",
              "StreamingMovies   0.554000          0.201586       0.284296        0.863502   \n",
              "Target            0.094682          0.082553       0.214091        0.225856   \n",
              "Duration          0.635284          0.017525       0.348179        0.386947   \n",
              "\n",
              "                  TotalCharges    Gender  SeniorCitizen   Partner  Dependents  \\\n",
              "Type                  0.470329  0.000000       0.085796  0.179004    0.146014   \n",
              "PaperlessBilling      0.201493  0.000000       0.241546  0.011368    0.171560   \n",
              "PaymentMethod         0.334297  0.000000       0.291709  0.244388    0.222988   \n",
              "MonthlyCharges        0.710646  0.008612       0.304421  0.204186    0.183070   \n",
              "TotalCharges          1.000000  0.000000       0.136769  0.382620    0.085094   \n",
              "Gender                0.000000  1.000000       0.000000  0.000000    0.000000   \n",
              "SeniorCitizen         0.136769  0.000000       1.000000  0.018102    0.323766   \n",
              "Partner               0.382620  0.000000       0.018102  1.000000    0.651560   \n",
              "Dependents            0.085094  0.000000       0.323766  0.651560    1.000000   \n",
              "MultipleLines         0.467587  0.000000       0.088024  0.086182    0.011405   \n",
              "InternetService       0.489051  0.000000       0.160425  0.000000    0.107805   \n",
              "OnlineSecurity        0.516210  0.000000       0.126990  0.091047    0.116462   \n",
              "OnlineBackup          0.550354  0.000000       0.109750  0.091913    0.097119   \n",
              "DeviceProtection      0.558507  0.000000       0.109922  0.099610    0.093960   \n",
              "TechSupport           0.527680  0.000000       0.134957  0.076145    0.109004   \n",
              "StreamingTV           0.555432  0.000000       0.111518  0.081778    0.087645   \n",
              "StreamingMovies       0.553845  0.000000       0.113525  0.077636    0.084348   \n",
              "Target                0.303621  0.009241       0.085543  0.227686    0.048682   \n",
              "Duration              0.847539  0.000000       0.064985  0.449500    0.196873   \n",
              "\n",
              "                  MultipleLines  InternetService  OnlineSecurity  \\\n",
              "Type                   0.243524         0.504357        0.636343   \n",
              "PaperlessBilling       0.099971         0.230780        0.207730   \n",
              "PaymentMethod          0.174918         0.322618        0.314331   \n",
              "MonthlyCharges         0.710264         0.918983        0.812470   \n",
              "TotalCharges           0.467587         0.489051        0.516210   \n",
              "Gender                 0.000000         0.000000        0.000000   \n",
              "SeniorCitizen          0.088024         0.160425        0.126990   \n",
              "Partner                0.086182         0.000000        0.091047   \n",
              "Dependents             0.011405         0.107805        0.116462   \n",
              "MultipleLines          1.000000         0.739773        0.539944   \n",
              "InternetService        0.739773         1.000000        0.949476   \n",
              "OnlineSecurity         0.539944         0.949476        1.000000   \n",
              "OnlineBackup           0.562693         0.942840        0.947202   \n",
              "DeviceProtection       0.564510         0.942811        0.946766   \n",
              "TechSupport            0.540659         0.948892        0.952622   \n",
              "StreamingTV            0.586168         0.946743        0.943075   \n",
              "StreamingMovies        0.586821         0.946269        0.943251   \n",
              "Target                 0.105223         0.056184        0.058557   \n",
              "Duration               0.346591         0.058580        0.345782   \n",
              "\n",
              "                  OnlineBackup  DeviceProtection  TechSupport  StreamingTV  \\\n",
              "Type                  0.581064          0.631110     0.671229     0.548948   \n",
              "PaperlessBilling      0.194642          0.194982     0.199977     0.204202   \n",
              "PaymentMethod         0.292066          0.296610     0.316252     0.283356   \n",
              "MonthlyCharges        0.818794          0.827299     0.816562     0.864779   \n",
              "TotalCharges          0.550354          0.558507     0.527680     0.555432   \n",
              "Gender                0.000000          0.000000     0.000000     0.000000   \n",
              "SeniorCitizen         0.109750          0.109922     0.134957     0.111518   \n",
              "Partner               0.091913          0.099610     0.076145     0.081778   \n",
              "Dependents            0.097119          0.093960     0.109004     0.087645   \n",
              "MultipleLines         0.562693          0.564510     0.540659     0.586168   \n",
              "InternetService       0.942840          0.942811     0.948892     0.946743   \n",
              "OnlineSecurity        0.947202          0.946766     0.952622     0.943075   \n",
              "OnlineBackup          1.000000          0.947471     0.947735     0.945777   \n",
              "DeviceProtection      0.947471          1.000000     0.950226     0.952804   \n",
              "TechSupport           0.947735          0.950226     1.000000     0.946377   \n",
              "StreamingTV           0.945777          0.952804     0.946377     1.000000   \n",
              "StreamingMovies       0.945402          0.953743     0.946463     0.965347   \n",
              "Target                0.089751          0.085639     0.051343     0.078513   \n",
              "Duration              0.367435          0.376804     0.352631     0.308794   \n",
              "\n",
              "                  StreamingMovies    Target  Duration  \n",
              "Type                     0.554000  0.094682  0.635284  \n",
              "PaperlessBilling         0.201586  0.082553  0.017525  \n",
              "PaymentMethod            0.284296  0.214091  0.348179  \n",
              "MonthlyCharges           0.863502  0.225856  0.386947  \n",
              "TotalCharges             0.553845  0.303621  0.847539  \n",
              "Gender                   0.000000  0.009241  0.000000  \n",
              "SeniorCitizen            0.113525  0.085543  0.064985  \n",
              "Partner                  0.077636  0.227686  0.449500  \n",
              "Dependents               0.084348  0.048682  0.196873  \n",
              "MultipleLines            0.586821  0.105223  0.346591  \n",
              "InternetService          0.946269  0.056184  0.058580  \n",
              "OnlineSecurity           0.943251  0.058557  0.345782  \n",
              "OnlineBackup             0.945402  0.089751  0.367435  \n",
              "DeviceProtection         0.953743  0.085639  0.376804  \n",
              "TechSupport              0.946463  0.051343  0.352631  \n",
              "StreamingTV              0.965347  0.078513  0.308794  \n",
              "StreamingMovies          1.000000  0.086340  0.307256  \n",
              "Target                   0.086340  1.000000  0.373894  \n",
              "Duration                 0.307256  0.373894  1.000000  "
            ]
          },
          "execution_count": 51,
          "metadata": {},
          "output_type": "execute_result"
        }
      ],
      "source": [
        "# матрица корреляций признаков\n",
        "df.phik_matrix()"
      ]
    },
    {
      "cell_type": "markdown",
      "metadata": {
        "id": "gsDLx4BvKZXP"
      },
      "source": [
        "Говоря о целевом признаке можно заметить, что имеется средней выраженности положительная корреляция между ним и `TotalCharges`, а также между ним и длительностью действия договора на оказание услуг `Duration`."
      ]
    },
    {
      "cell_type": "markdown",
      "metadata": {
        "id": "tOXrHZZWKZXP"
      },
      "source": [
        "## Обучение моделей"
      ]
    },
    {
      "cell_type": "code",
      "execution_count": null,
      "metadata": {
        "id": "5fu4zInbKZXP",
        "outputId": "b99637f4-7dd2-41ed-fcf0-c38c9c79a844"
      },
      "outputs": [
        {
          "data": {
            "text/plain": [
              "(5271, 18)"
            ]
          },
          "metadata": {},
          "output_type": "display_data"
        },
        {
          "data": {
            "text/plain": [
              "(5271, 18)"
            ]
          },
          "metadata": {},
          "output_type": "display_data"
        },
        {
          "data": {
            "text/plain": [
              "(1757,)"
            ]
          },
          "metadata": {},
          "output_type": "display_data"
        },
        {
          "data": {
            "text/plain": [
              "(1757,)"
            ]
          },
          "metadata": {},
          "output_type": "display_data"
        }
      ],
      "source": [
        "# выделение исследуемых и целевого признака, разбиение на тернировочную и тестовою в соотношении 3:1\n",
        "features = df.drop('Target', axis=1)\n",
        "target = df['Target']\n",
        "\n",
        "X_train, X_test, y_train, y_test = train_test_split(features, target, test_size=.25, random_state=RANDOM_STATE, stratify=target)\n",
        "\n",
        "#проверка размерности тренировочной и тестовой\n",
        "display(X_train.shape, X_train.shape, y_test.shape, y_test.shape)"
      ]
    },
    {
      "cell_type": "code",
      "source": [],
      "metadata": {
        "id": "lSU-k38smVYD"
      },
      "execution_count": null,
      "outputs": []
    },
    {
      "cell_type": "markdown",
      "metadata": {
        "id": "XJ7GAc06KZXQ"
      },
      "source": [
        "Выделение численных и категориальных признаков.\\\n",
        "Из анализа данных, проведенного в первой части проекта, можно заметить, что в основном признаки датасета - категориальные. Численными являются признаки об оплате, а также созданный новый признак `Duration` (продолжительность действия договора)"
      ]
    },
    {
      "cell_type": "code",
      "execution_count": null,
      "metadata": {
        "id": "MaR_KNw2KZXQ",
        "outputId": "3e01f15e-f71f-4b43-aac7-c810d3fdcb2e"
      },
      "outputs": [
        {
          "data": {
            "text/plain": [
              "['Type',\n",
              " 'PaperlessBilling',\n",
              " 'PaymentMethod',\n",
              " 'Gender',\n",
              " 'SeniorCitizen',\n",
              " 'Partner',\n",
              " 'Dependents',\n",
              " 'MultipleLines',\n",
              " 'InternetService',\n",
              " 'OnlineSecurity',\n",
              " 'OnlineBackup',\n",
              " 'DeviceProtection',\n",
              " 'TechSupport',\n",
              " 'StreamingTV',\n",
              " 'StreamingMovies']"
            ]
          },
          "execution_count": 55,
          "metadata": {},
          "output_type": "execute_result"
        }
      ],
      "source": [
        "num_features = ['MonthlyCharges', 'TotalCharges', 'Duration']\n",
        "ohe_features = X_train.columns.to_list()\n",
        "for feature in num_features:\n",
        "    ohe_features.remove(feature)\n",
        "ohe_features"
      ]
    },
    {
      "cell_type": "code",
      "execution_count": null,
      "metadata": {
        "id": "8vbG9-FLKZXQ",
        "outputId": "6fd2fcb5-1514-48f8-b689-d97b8b39fec3"
      },
      "outputs": [
        {
          "data": {
            "text/plain": [
              "18"
            ]
          },
          "metadata": {},
          "output_type": "display_data"
        },
        {
          "data": {
            "text/plain": [
              "18"
            ]
          },
          "execution_count": 56,
          "metadata": {},
          "output_type": "execute_result"
        }
      ],
      "source": [
        "# проверка общего количества признаков после их разделения на численные и категориальные\n",
        "display(len(num_features) + len(ohe_features))\n",
        "len(X_train.columns.to_list())"
      ]
    },
    {
      "cell_type": "markdown",
      "metadata": {
        "id": "mOU2IZg5KZXQ"
      },
      "source": [
        "### Ridge"
      ]
    },
    {
      "cell_type": "code",
      "execution_count": null,
      "metadata": {
        "id": "VLbQzXAOKZXQ"
      },
      "outputs": [],
      "source": [
        "# кодирование и масштабирование признаков с помощью make_column_transformer:\n",
        "X_train_ridge = X_train.copy()\n",
        "X_test_ridge = X_test.copy()"
      ]
    },
    {
      "cell_type": "code",
      "execution_count": null,
      "metadata": {
        "id": "26tjkFCTKZXR"
      },
      "outputs": [],
      "source": [
        "col_transformer = make_column_transformer(\n",
        "    (\n",
        "        OneHotEncoder(drop='first', handle_unknown='ignore'),\n",
        "        ohe_features\n",
        "    ),\n",
        "    (\n",
        "        StandardScaler(),\n",
        "        num_features\n",
        "    ),\n",
        "    remainder='passthrough',\n",
        "    verbose_feature_names_out=False\n",
        ")"
      ]
    },
    {
      "cell_type": "code",
      "execution_count": null,
      "metadata": {
        "id": "kPC83A7OKZXR",
        "outputId": "75314248-7541-42b4-ac88-5cdcafa1eada"
      },
      "outputs": [
        {
          "name": "stdout",
          "output_type": "stream",
          "text": [
            "Ridge best_score: 0.77\n",
            "Ridge best_params: {'ridge__alpha': 0.2}\n"
          ]
        }
      ],
      "source": [
        "# подбор гиперпараметров с помощью GridSearchCV, который имеет встроенную кросс-валидацию для модели Ridge\n",
        "model_ridge = Ridge(random_state=RANDOM_STATE)\n",
        "\n",
        "pipeline_ridge = make_pipeline(col_transformer, model_ridge)\n",
        "\n",
        "param_grid_ridge = {\n",
        "    'ridge__alpha': np.arange (0, 0.21, 0.01),\n",
        "}\n",
        "\n",
        "gs_ridge_pl = GridSearchCV(\n",
        "    pipeline_ridge,\n",
        "    param_grid=param_grid_ridge,\n",
        "    scoring='roc_auc',\n",
        "    n_jobs=-1,\n",
        "    cv=CV\n",
        ")\n",
        "\n",
        "gs_ridge_pl.fit(X_train_ridge, y_train)\n",
        "\n",
        "gs_ridge_best_score = gs_ridge_pl.best_score_\n",
        "gs_ridge_best_params = gs_ridge_pl.best_params_\n",
        "\n",
        "# лучшее значение метрики на кросс-валидации\n",
        "print(f'Ridge best_score: %s' % round((gs_ridge_best_score),2))\n",
        "\n",
        "# лучшие гиперпараметры\n",
        "print(f'Ridge best_params: {gs_ridge_best_params}')"
      ]
    },
    {
      "cell_type": "markdown",
      "metadata": {
        "id": "m0_aB8m-KZXR"
      },
      "source": [
        "###  RandomForestClassifier"
      ]
    },
    {
      "cell_type": "code",
      "execution_count": null,
      "metadata": {
        "id": "nM4F1jNnKZXR"
      },
      "outputs": [],
      "source": [
        "X_train_rf = X_train.copy()\n",
        "X_test_rf = X_test.copy()"
      ]
    },
    {
      "cell_type": "code",
      "execution_count": null,
      "metadata": {
        "id": "wESHc4JJKZXR"
      },
      "outputs": [],
      "source": [
        "model_rf = RandomForestClassifier(random_state=RANDOM_STATE)\n",
        "\n",
        "pipline_rf = make_pipeline(col_transformer, model_rf)\n",
        "\n",
        "param_grid_rf = {\n",
        "    'randomforestclassifier__n_estimators': np.arange (100, 251, 50),\n",
        "    'randomforestclassifier__max_depth': np.arange (4, 11),\n",
        "    'randomforestclassifier__min_samples_split': np.arange (2, 5),\n",
        "    'randomforestclassifier__min_samples_leaf': np.arange (1, 4)\n",
        "}\n",
        "\n",
        "# получается достаточно много комбинаций гиперпараметров при переборе\n",
        "# будем использовать RandomizedSearchCV, он работает намного быстрее\n",
        "gs_rf = RandomizedSearchCV(\n",
        "    pipline_rf,\n",
        "    param_distributions=param_grid_rf,\n",
        "    scoring='roc_auc',\n",
        "    n_jobs=-1,\n",
        "    cv=CV\n",
        ")"
      ]
    },
    {
      "cell_type": "code",
      "execution_count": null,
      "metadata": {
        "id": "B70w8t0QKZXR",
        "outputId": "867a08c6-2093-4a64-8d81-3a35f5bc0734"
      },
      "outputs": [
        {
          "name": "stdout",
          "output_type": "stream",
          "text": [
            "CPU times: user 36.8 s, sys: 0 ns, total: 36.8 s\n",
            "Wall time: 37.1 s\n"
          ]
        },
        {
          "data": {
            "text/html": [
              "<style>#sk-container-id-1 {color: black;background-color: white;}#sk-container-id-1 pre{padding: 0;}#sk-container-id-1 div.sk-toggleable {background-color: white;}#sk-container-id-1 label.sk-toggleable__label {cursor: pointer;display: block;width: 100%;margin-bottom: 0;padding: 0.3em;box-sizing: border-box;text-align: center;}#sk-container-id-1 label.sk-toggleable__label-arrow:before {content: \"▸\";float: left;margin-right: 0.25em;color: #696969;}#sk-container-id-1 label.sk-toggleable__label-arrow:hover:before {color: black;}#sk-container-id-1 div.sk-estimator:hover label.sk-toggleable__label-arrow:before {color: black;}#sk-container-id-1 div.sk-toggleable__content {max-height: 0;max-width: 0;overflow: hidden;text-align: left;background-color: #f0f8ff;}#sk-container-id-1 div.sk-toggleable__content pre {margin: 0.2em;color: black;border-radius: 0.25em;background-color: #f0f8ff;}#sk-container-id-1 input.sk-toggleable__control:checked~div.sk-toggleable__content {max-height: 200px;max-width: 100%;overflow: auto;}#sk-container-id-1 input.sk-toggleable__control:checked~label.sk-toggleable__label-arrow:before {content: \"▾\";}#sk-container-id-1 div.sk-estimator input.sk-toggleable__control:checked~label.sk-toggleable__label {background-color: #d4ebff;}#sk-container-id-1 div.sk-label input.sk-toggleable__control:checked~label.sk-toggleable__label {background-color: #d4ebff;}#sk-container-id-1 input.sk-hidden--visually {border: 0;clip: rect(1px 1px 1px 1px);clip: rect(1px, 1px, 1px, 1px);height: 1px;margin: -1px;overflow: hidden;padding: 0;position: absolute;width: 1px;}#sk-container-id-1 div.sk-estimator {font-family: monospace;background-color: #f0f8ff;border: 1px dotted black;border-radius: 0.25em;box-sizing: border-box;margin-bottom: 0.5em;}#sk-container-id-1 div.sk-estimator:hover {background-color: #d4ebff;}#sk-container-id-1 div.sk-parallel-item::after {content: \"\";width: 100%;border-bottom: 1px solid gray;flex-grow: 1;}#sk-container-id-1 div.sk-label:hover label.sk-toggleable__label {background-color: #d4ebff;}#sk-container-id-1 div.sk-serial::before {content: \"\";position: absolute;border-left: 1px solid gray;box-sizing: border-box;top: 0;bottom: 0;left: 50%;z-index: 0;}#sk-container-id-1 div.sk-serial {display: flex;flex-direction: column;align-items: center;background-color: white;padding-right: 0.2em;padding-left: 0.2em;position: relative;}#sk-container-id-1 div.sk-item {position: relative;z-index: 1;}#sk-container-id-1 div.sk-parallel {display: flex;align-items: stretch;justify-content: center;background-color: white;position: relative;}#sk-container-id-1 div.sk-item::before, #sk-container-id-1 div.sk-parallel-item::before {content: \"\";position: absolute;border-left: 1px solid gray;box-sizing: border-box;top: 0;bottom: 0;left: 50%;z-index: -1;}#sk-container-id-1 div.sk-parallel-item {display: flex;flex-direction: column;z-index: 1;position: relative;background-color: white;}#sk-container-id-1 div.sk-parallel-item:first-child::after {align-self: flex-end;width: 50%;}#sk-container-id-1 div.sk-parallel-item:last-child::after {align-self: flex-start;width: 50%;}#sk-container-id-1 div.sk-parallel-item:only-child::after {width: 0;}#sk-container-id-1 div.sk-dashed-wrapped {border: 1px dashed gray;margin: 0 0.4em 0.5em 0.4em;box-sizing: border-box;padding-bottom: 0.4em;background-color: white;}#sk-container-id-1 div.sk-label label {font-family: monospace;font-weight: bold;display: inline-block;line-height: 1.2em;}#sk-container-id-1 div.sk-label-container {text-align: center;}#sk-container-id-1 div.sk-container {/* jupyter's `normalize.less` sets `[hidden] { display: none; }` but bootstrap.min.css set `[hidden] { display: none !important; }` so we also need the `!important` here to be able to override the default hidden behavior on the sphinx rendered scikit-learn.org. See: https://github.com/scikit-learn/scikit-learn/issues/21755 */display: inline-block !important;position: relative;}#sk-container-id-1 div.sk-text-repr-fallback {display: none;}</style><div id=\"sk-container-id-1\" class=\"sk-top-container\"><div class=\"sk-text-repr-fallback\"><pre>RandomizedSearchCV(cv=6,\n",
              "                   estimator=Pipeline(steps=[(&#x27;columntransformer&#x27;,\n",
              "                                              ColumnTransformer(remainder=&#x27;passthrough&#x27;,\n",
              "                                                                transformers=[(&#x27;onehotencoder&#x27;,\n",
              "                                                                               OneHotEncoder(drop=&#x27;first&#x27;,\n",
              "                                                                                             handle_unknown=&#x27;ignore&#x27;),\n",
              "                                                                               [&#x27;Type&#x27;,\n",
              "                                                                                &#x27;PaperlessBilling&#x27;,\n",
              "                                                                                &#x27;PaymentMethod&#x27;,\n",
              "                                                                                &#x27;Gender&#x27;,\n",
              "                                                                                &#x27;SeniorCitizen&#x27;,\n",
              "                                                                                &#x27;Partner&#x27;,\n",
              "                                                                                &#x27;Dependents&#x27;,\n",
              "                                                                                &#x27;MultipleLines&#x27;,\n",
              "                                                                                &#x27;InternetService&#x27;,\n",
              "                                                                                &#x27;OnlineSecurity&#x27;,\n",
              "                                                                                &#x27;OnlineBacku...\n",
              "                                             (&#x27;randomforestclassifier&#x27;,\n",
              "                                              RandomForestClassifier(random_state=30723))]),\n",
              "                   n_jobs=-1,\n",
              "                   param_distributions={&#x27;randomforestclassifier__max_depth&#x27;: array([ 4,  5,  6,  7,  8,  9, 10]),\n",
              "                                        &#x27;randomforestclassifier__min_samples_leaf&#x27;: array([1, 2, 3]),\n",
              "                                        &#x27;randomforestclassifier__min_samples_split&#x27;: array([2, 3, 4]),\n",
              "                                        &#x27;randomforestclassifier__n_estimators&#x27;: array([100, 150, 200, 250])},\n",
              "                   scoring=&#x27;roc_auc&#x27;)</pre><b>In a Jupyter environment, please rerun this cell to show the HTML representation or trust the notebook. <br />On GitHub, the HTML representation is unable to render, please try loading this page with nbviewer.org.</b></div><div class=\"sk-container\" hidden><div class=\"sk-item sk-dashed-wrapped\"><div class=\"sk-label-container\"><div class=\"sk-label sk-toggleable\"><input class=\"sk-toggleable__control sk-hidden--visually\" id=\"sk-estimator-id-1\" type=\"checkbox\" ><label for=\"sk-estimator-id-1\" class=\"sk-toggleable__label sk-toggleable__label-arrow\">RandomizedSearchCV</label><div class=\"sk-toggleable__content\"><pre>RandomizedSearchCV(cv=6,\n",
              "                   estimator=Pipeline(steps=[(&#x27;columntransformer&#x27;,\n",
              "                                              ColumnTransformer(remainder=&#x27;passthrough&#x27;,\n",
              "                                                                transformers=[(&#x27;onehotencoder&#x27;,\n",
              "                                                                               OneHotEncoder(drop=&#x27;first&#x27;,\n",
              "                                                                                             handle_unknown=&#x27;ignore&#x27;),\n",
              "                                                                               [&#x27;Type&#x27;,\n",
              "                                                                                &#x27;PaperlessBilling&#x27;,\n",
              "                                                                                &#x27;PaymentMethod&#x27;,\n",
              "                                                                                &#x27;Gender&#x27;,\n",
              "                                                                                &#x27;SeniorCitizen&#x27;,\n",
              "                                                                                &#x27;Partner&#x27;,\n",
              "                                                                                &#x27;Dependents&#x27;,\n",
              "                                                                                &#x27;MultipleLines&#x27;,\n",
              "                                                                                &#x27;InternetService&#x27;,\n",
              "                                                                                &#x27;OnlineSecurity&#x27;,\n",
              "                                                                                &#x27;OnlineBacku...\n",
              "                                             (&#x27;randomforestclassifier&#x27;,\n",
              "                                              RandomForestClassifier(random_state=30723))]),\n",
              "                   n_jobs=-1,\n",
              "                   param_distributions={&#x27;randomforestclassifier__max_depth&#x27;: array([ 4,  5,  6,  7,  8,  9, 10]),\n",
              "                                        &#x27;randomforestclassifier__min_samples_leaf&#x27;: array([1, 2, 3]),\n",
              "                                        &#x27;randomforestclassifier__min_samples_split&#x27;: array([2, 3, 4]),\n",
              "                                        &#x27;randomforestclassifier__n_estimators&#x27;: array([100, 150, 200, 250])},\n",
              "                   scoring=&#x27;roc_auc&#x27;)</pre></div></div></div><div class=\"sk-parallel\"><div class=\"sk-parallel-item\"><div class=\"sk-item\"><div class=\"sk-label-container\"><div class=\"sk-label sk-toggleable\"><input class=\"sk-toggleable__control sk-hidden--visually\" id=\"sk-estimator-id-2\" type=\"checkbox\" ><label for=\"sk-estimator-id-2\" class=\"sk-toggleable__label sk-toggleable__label-arrow\">estimator: Pipeline</label><div class=\"sk-toggleable__content\"><pre>Pipeline(steps=[(&#x27;columntransformer&#x27;,\n",
              "                 ColumnTransformer(remainder=&#x27;passthrough&#x27;,\n",
              "                                   transformers=[(&#x27;onehotencoder&#x27;,\n",
              "                                                  OneHotEncoder(drop=&#x27;first&#x27;,\n",
              "                                                                handle_unknown=&#x27;ignore&#x27;),\n",
              "                                                  [&#x27;Type&#x27;, &#x27;PaperlessBilling&#x27;,\n",
              "                                                   &#x27;PaymentMethod&#x27;, &#x27;Gender&#x27;,\n",
              "                                                   &#x27;SeniorCitizen&#x27;, &#x27;Partner&#x27;,\n",
              "                                                   &#x27;Dependents&#x27;,\n",
              "                                                   &#x27;MultipleLines&#x27;,\n",
              "                                                   &#x27;InternetService&#x27;,\n",
              "                                                   &#x27;OnlineSecurity&#x27;,\n",
              "                                                   &#x27;OnlineBackup&#x27;,\n",
              "                                                   &#x27;DeviceProtection&#x27;,\n",
              "                                                   &#x27;TechSupport&#x27;, &#x27;StreamingTV&#x27;,\n",
              "                                                   &#x27;StreamingMovies&#x27;]),\n",
              "                                                 (&#x27;standardscaler&#x27;,\n",
              "                                                  StandardScaler(),\n",
              "                                                  [&#x27;MonthlyCharges&#x27;,\n",
              "                                                   &#x27;TotalCharges&#x27;,\n",
              "                                                   &#x27;Duration&#x27;])],\n",
              "                                   verbose_feature_names_out=False)),\n",
              "                (&#x27;randomforestclassifier&#x27;,\n",
              "                 RandomForestClassifier(random_state=30723))])</pre></div></div></div><div class=\"sk-serial\"><div class=\"sk-item\"><div class=\"sk-serial\"><div class=\"sk-item sk-dashed-wrapped\"><div class=\"sk-label-container\"><div class=\"sk-label sk-toggleable\"><input class=\"sk-toggleable__control sk-hidden--visually\" id=\"sk-estimator-id-3\" type=\"checkbox\" ><label for=\"sk-estimator-id-3\" class=\"sk-toggleable__label sk-toggleable__label-arrow\">columntransformer: ColumnTransformer</label><div class=\"sk-toggleable__content\"><pre>ColumnTransformer(remainder=&#x27;passthrough&#x27;,\n",
              "                  transformers=[(&#x27;onehotencoder&#x27;,\n",
              "                                 OneHotEncoder(drop=&#x27;first&#x27;,\n",
              "                                               handle_unknown=&#x27;ignore&#x27;),\n",
              "                                 [&#x27;Type&#x27;, &#x27;PaperlessBilling&#x27;, &#x27;PaymentMethod&#x27;,\n",
              "                                  &#x27;Gender&#x27;, &#x27;SeniorCitizen&#x27;, &#x27;Partner&#x27;,\n",
              "                                  &#x27;Dependents&#x27;, &#x27;MultipleLines&#x27;,\n",
              "                                  &#x27;InternetService&#x27;, &#x27;OnlineSecurity&#x27;,\n",
              "                                  &#x27;OnlineBackup&#x27;, &#x27;DeviceProtection&#x27;,\n",
              "                                  &#x27;TechSupport&#x27;, &#x27;StreamingTV&#x27;,\n",
              "                                  &#x27;StreamingMovies&#x27;]),\n",
              "                                (&#x27;standardscaler&#x27;, StandardScaler(),\n",
              "                                 [&#x27;MonthlyCharges&#x27;, &#x27;TotalCharges&#x27;,\n",
              "                                  &#x27;Duration&#x27;])],\n",
              "                  verbose_feature_names_out=False)</pre></div></div></div><div class=\"sk-parallel\"><div class=\"sk-parallel-item\"><div class=\"sk-item\"><div class=\"sk-label-container\"><div class=\"sk-label sk-toggleable\"><input class=\"sk-toggleable__control sk-hidden--visually\" id=\"sk-estimator-id-4\" type=\"checkbox\" ><label for=\"sk-estimator-id-4\" class=\"sk-toggleable__label sk-toggleable__label-arrow\">onehotencoder</label><div class=\"sk-toggleable__content\"><pre>[&#x27;Type&#x27;, &#x27;PaperlessBilling&#x27;, &#x27;PaymentMethod&#x27;, &#x27;Gender&#x27;, &#x27;SeniorCitizen&#x27;, &#x27;Partner&#x27;, &#x27;Dependents&#x27;, &#x27;MultipleLines&#x27;, &#x27;InternetService&#x27;, &#x27;OnlineSecurity&#x27;, &#x27;OnlineBackup&#x27;, &#x27;DeviceProtection&#x27;, &#x27;TechSupport&#x27;, &#x27;StreamingTV&#x27;, &#x27;StreamingMovies&#x27;]</pre></div></div></div><div class=\"sk-serial\"><div class=\"sk-item\"><div class=\"sk-estimator sk-toggleable\"><input class=\"sk-toggleable__control sk-hidden--visually\" id=\"sk-estimator-id-5\" type=\"checkbox\" ><label for=\"sk-estimator-id-5\" class=\"sk-toggleable__label sk-toggleable__label-arrow\">OneHotEncoder</label><div class=\"sk-toggleable__content\"><pre>OneHotEncoder(drop=&#x27;first&#x27;, handle_unknown=&#x27;ignore&#x27;)</pre></div></div></div></div></div></div><div class=\"sk-parallel-item\"><div class=\"sk-item\"><div class=\"sk-label-container\"><div class=\"sk-label sk-toggleable\"><input class=\"sk-toggleable__control sk-hidden--visually\" id=\"sk-estimator-id-6\" type=\"checkbox\" ><label for=\"sk-estimator-id-6\" class=\"sk-toggleable__label sk-toggleable__label-arrow\">standardscaler</label><div class=\"sk-toggleable__content\"><pre>[&#x27;MonthlyCharges&#x27;, &#x27;TotalCharges&#x27;, &#x27;Duration&#x27;]</pre></div></div></div><div class=\"sk-serial\"><div class=\"sk-item\"><div class=\"sk-estimator sk-toggleable\"><input class=\"sk-toggleable__control sk-hidden--visually\" id=\"sk-estimator-id-7\" type=\"checkbox\" ><label for=\"sk-estimator-id-7\" class=\"sk-toggleable__label sk-toggleable__label-arrow\">StandardScaler</label><div class=\"sk-toggleable__content\"><pre>StandardScaler()</pre></div></div></div></div></div></div><div class=\"sk-parallel-item\"><div class=\"sk-item\"><div class=\"sk-label-container\"><div class=\"sk-label sk-toggleable\"><input class=\"sk-toggleable__control sk-hidden--visually\" id=\"sk-estimator-id-8\" type=\"checkbox\" ><label for=\"sk-estimator-id-8\" class=\"sk-toggleable__label sk-toggleable__label-arrow\">remainder</label><div class=\"sk-toggleable__content\"><pre></pre></div></div></div><div class=\"sk-serial\"><div class=\"sk-item\"><div class=\"sk-estimator sk-toggleable\"><input class=\"sk-toggleable__control sk-hidden--visually\" id=\"sk-estimator-id-9\" type=\"checkbox\" ><label for=\"sk-estimator-id-9\" class=\"sk-toggleable__label sk-toggleable__label-arrow\">passthrough</label><div class=\"sk-toggleable__content\"><pre>passthrough</pre></div></div></div></div></div></div></div></div><div class=\"sk-item\"><div class=\"sk-estimator sk-toggleable\"><input class=\"sk-toggleable__control sk-hidden--visually\" id=\"sk-estimator-id-10\" type=\"checkbox\" ><label for=\"sk-estimator-id-10\" class=\"sk-toggleable__label sk-toggleable__label-arrow\">RandomForestClassifier</label><div class=\"sk-toggleable__content\"><pre>RandomForestClassifier(random_state=30723)</pre></div></div></div></div></div></div></div></div></div></div></div></div>"
            ],
            "text/plain": [
              "RandomizedSearchCV(cv=6,\n",
              "                   estimator=Pipeline(steps=[('columntransformer',\n",
              "                                              ColumnTransformer(remainder='passthrough',\n",
              "                                                                transformers=[('onehotencoder',\n",
              "                                                                               OneHotEncoder(drop='first',\n",
              "                                                                                             handle_unknown='ignore'),\n",
              "                                                                               ['Type',\n",
              "                                                                                'PaperlessBilling',\n",
              "                                                                                'PaymentMethod',\n",
              "                                                                                'Gender',\n",
              "                                                                                'SeniorCitizen',\n",
              "                                                                                'Partner',\n",
              "                                                                                'Dependents',\n",
              "                                                                                'MultipleLines',\n",
              "                                                                                'InternetService',\n",
              "                                                                                'OnlineSecurity',\n",
              "                                                                                'OnlineBacku...\n",
              "                                             ('randomforestclassifier',\n",
              "                                              RandomForestClassifier(random_state=30723))]),\n",
              "                   n_jobs=-1,\n",
              "                   param_distributions={'randomforestclassifier__max_depth': array([ 4,  5,  6,  7,  8,  9, 10]),\n",
              "                                        'randomforestclassifier__min_samples_leaf': array([1, 2, 3]),\n",
              "                                        'randomforestclassifier__min_samples_split': array([2, 3, 4]),\n",
              "                                        'randomforestclassifier__n_estimators': array([100, 150, 200, 250])},\n",
              "                   scoring='roc_auc')"
            ]
          },
          "execution_count": 63,
          "metadata": {},
          "output_type": "execute_result"
        }
      ],
      "source": [
        "%%time\n",
        "gs_rf.fit(X_train_rf, y_train)"
      ]
    },
    {
      "cell_type": "code",
      "execution_count": null,
      "metadata": {
        "id": "MDxQPQr4KZXS",
        "outputId": "7e196b43-6da8-4e01-b777-df31a355648a"
      },
      "outputs": [
        {
          "name": "stdout",
          "output_type": "stream",
          "text": [
            "Random Forest best_score: 0.83\n",
            "Random Forest best_params: {'randomforestclassifier__n_estimators': 200, 'randomforestclassifier__min_samples_split': 3, 'randomforestclassifier__min_samples_leaf': 2, 'randomforestclassifier__max_depth': 9}\n"
          ]
        }
      ],
      "source": [
        "print(f'Random Forest best_score: %s' % round((gs_rf.best_score_),2))\n",
        "print(f'Random Forest best_params: {gs_rf.best_params_}')"
      ]
    },
    {
      "cell_type": "markdown",
      "metadata": {
        "id": "aG2UezgPKZXS"
      },
      "source": [
        "### CatBoost"
      ]
    },
    {
      "cell_type": "code",
      "execution_count": null,
      "metadata": {
        "id": "sdeTphTIKZXS"
      },
      "outputs": [],
      "source": [
        "X_train_cb = X_train.copy()\n",
        "X_test_cb = X_test.copy()"
      ]
    },
    {
      "cell_type": "code",
      "execution_count": null,
      "metadata": {
        "id": "q8MQDaccKZXS"
      },
      "outputs": [],
      "source": [
        "cb_model = CatBoostClassifier(\n",
        "    eval_metric='AUC',\n",
        "    random_state=RANDOM_STATE,\n",
        "    loss_function= 'Logloss',\n",
        ")\n",
        "\n",
        "# зададим параметры\n",
        "params = {'depth' : range(5, 8),\n",
        "            'learning_rate' : [0.1],\n",
        "            'iterations' : range(200, 301, 50),\n",
        "}\n",
        "\n",
        "search_cat = GridSearchCV(cb_model, params, scoring='roc_auc', cv=CV, n_jobs=-1, verbose=100)"
      ]
    },
    {
      "cell_type": "code",
      "execution_count": null,
      "metadata": {
        "id": "X_0sexvQKZXT",
        "outputId": "52fe0241-9836-4d53-b84e-1a080f7e06fb"
      },
      "outputs": [
        {
          "name": "stdout",
          "output_type": "stream",
          "text": [
            "Fitting 6 folds for each of 9 candidates, totalling 54 fits\n",
            "[CV 1/6; 1/9] START depth=5, iterations=200, learning_rate=0.1..................\n",
            "0:\ttotal: 59.2ms\tremaining: 11.8s\n",
            "199:\ttotal: 1.9s\tremaining: 0us\n",
            "[CV 1/6; 1/9] END depth=5, iterations=200, learning_rate=0.1;, score=0.859 total time=   2.8s\n",
            "[CV 2/6; 1/9] START depth=5, iterations=200, learning_rate=0.1..................\n",
            "0:\ttotal: 11ms\tremaining: 2.18s\n",
            "199:\ttotal: 1.8s\tremaining: 0us\n",
            "[CV 2/6; 1/9] END depth=5, iterations=200, learning_rate=0.1;, score=0.842 total time=   2.6s\n",
            "[CV 3/6; 1/9] START depth=5, iterations=200, learning_rate=0.1..................\n",
            "0:\ttotal: 13ms\tremaining: 2.58s\n",
            "199:\ttotal: 1.89s\tremaining: 0us\n",
            "[CV 3/6; 1/9] END depth=5, iterations=200, learning_rate=0.1;, score=0.839 total time=   2.6s\n",
            "[CV 4/6; 1/9] START depth=5, iterations=200, learning_rate=0.1..................\n",
            "0:\ttotal: 16.3ms\tremaining: 3.23s\n",
            "199:\ttotal: 1.81s\tremaining: 0us\n",
            "[CV 4/6; 1/9] END depth=5, iterations=200, learning_rate=0.1;, score=0.898 total time=   3.0s\n",
            "[CV 5/6; 1/9] START depth=5, iterations=200, learning_rate=0.1..................\n",
            "0:\ttotal: 9.66ms\tremaining: 1.92s\n",
            "199:\ttotal: 1.85s\tremaining: 0us\n",
            "[CV 5/6; 1/9] END depth=5, iterations=200, learning_rate=0.1;, score=0.887 total time=   2.5s\n",
            "[CV 6/6; 1/9] START depth=5, iterations=200, learning_rate=0.1..................\n",
            "0:\ttotal: 9.67ms\tremaining: 1.92s\n",
            "199:\ttotal: 1.82s\tremaining: 0us\n",
            "[CV 6/6; 1/9] END depth=5, iterations=200, learning_rate=0.1;, score=0.877 total time=   2.6s\n",
            "[CV 1/6; 2/9] START depth=5, iterations=250, learning_rate=0.1..................\n",
            "0:\ttotal: 10.8ms\tremaining: 2.69s\n",
            "200:\ttotal: 1.74s\tremaining: 424ms\n",
            "249:\ttotal: 2.22s\tremaining: 0us\n",
            "[CV 1/6; 2/9] END depth=5, iterations=250, learning_rate=0.1;, score=0.873 total time=   3.1s\n",
            "[CV 2/6; 2/9] START depth=5, iterations=250, learning_rate=0.1..................\n",
            "0:\ttotal: 10.9ms\tremaining: 2.71s\n",
            "200:\ttotal: 1.82s\tremaining: 445ms\n",
            "249:\ttotal: 2.3s\tremaining: 0us\n",
            "[CV 2/6; 2/9] END depth=5, iterations=250, learning_rate=0.1;, score=0.849 total time=   3.0s\n",
            "[CV 3/6; 2/9] START depth=5, iterations=250, learning_rate=0.1..................\n",
            "0:\ttotal: 17.8ms\tremaining: 4.43s\n",
            "200:\ttotal: 1.8s\tremaining: 438ms\n",
            "249:\ttotal: 2.25s\tremaining: 0us\n",
            "[CV 3/6; 2/9] END depth=5, iterations=250, learning_rate=0.1;, score=0.854 total time=   3.0s\n",
            "[CV 4/6; 2/9] START depth=5, iterations=250, learning_rate=0.1..................\n",
            "0:\ttotal: 9.29ms\tremaining: 2.31s\n",
            "200:\ttotal: 1.81s\tremaining: 440ms\n",
            "249:\ttotal: 2.27s\tremaining: 0us\n",
            "[CV 4/6; 2/9] END depth=5, iterations=250, learning_rate=0.1;, score=0.909 total time=   3.2s\n",
            "[CV 5/6; 2/9] START depth=5, iterations=250, learning_rate=0.1..................\n",
            "0:\ttotal: 9.75ms\tremaining: 2.43s\n",
            "200:\ttotal: 1.89s\tremaining: 462ms\n",
            "249:\ttotal: 2.38s\tremaining: 0us\n",
            "[CV 5/6; 2/9] END depth=5, iterations=250, learning_rate=0.1;, score=0.890 total time=   3.3s\n",
            "[CV 6/6; 2/9] START depth=5, iterations=250, learning_rate=0.1..................\n",
            "0:\ttotal: 16.3ms\tremaining: 4.05s\n",
            "200:\ttotal: 1.92s\tremaining: 469ms\n",
            "249:\ttotal: 2.43s\tremaining: 0us\n",
            "[CV 6/6; 2/9] END depth=5, iterations=250, learning_rate=0.1;, score=0.885 total time=   3.3s\n",
            "[CV 1/6; 3/9] START depth=5, iterations=300, learning_rate=0.1..................\n",
            "0:\ttotal: 12.3ms\tremaining: 3.67s\n",
            "200:\ttotal: 1.89s\tremaining: 932ms\n",
            "299:\ttotal: 2.95s\tremaining: 0us\n",
            "[CV 1/6; 3/9] END depth=5, iterations=300, learning_rate=0.1;, score=0.882 total time=   3.8s\n",
            "[CV 2/6; 3/9] START depth=5, iterations=300, learning_rate=0.1..................\n",
            "0:\ttotal: 11.7ms\tremaining: 3.49s\n",
            "200:\ttotal: 2.04s\tremaining: 1.01s\n",
            "299:\ttotal: 3.11s\tremaining: 0us\n",
            "[CV 2/6; 3/9] END depth=5, iterations=300, learning_rate=0.1;, score=0.862 total time=   4.1s\n",
            "[CV 3/6; 3/9] START depth=5, iterations=300, learning_rate=0.1..................\n",
            "0:\ttotal: 20.3ms\tremaining: 6.06s\n",
            "200:\ttotal: 1.89s\tremaining: 932ms\n",
            "299:\ttotal: 2.94s\tremaining: 0us\n",
            "[CV 3/6; 3/9] END depth=5, iterations=300, learning_rate=0.1;, score=0.863 total time=   3.8s\n",
            "[CV 4/6; 3/9] START depth=5, iterations=300, learning_rate=0.1..................\n",
            "0:\ttotal: 10.7ms\tremaining: 3.21s\n",
            "200:\ttotal: 1.82s\tremaining: 898ms\n",
            "299:\ttotal: 2.77s\tremaining: 0us\n",
            "[CV 4/6; 3/9] END depth=5, iterations=300, learning_rate=0.1;, score=0.910 total time=   3.5s\n",
            "[CV 5/6; 3/9] START depth=5, iterations=300, learning_rate=0.1..................\n",
            "0:\ttotal: 9.49ms\tremaining: 2.84s\n",
            "200:\ttotal: 1.9s\tremaining: 938ms\n",
            "299:\ttotal: 2.95s\tremaining: 0us\n",
            "[CV 5/6; 3/9] END depth=5, iterations=300, learning_rate=0.1;, score=0.894 total time=   3.7s\n",
            "[CV 6/6; 3/9] START depth=5, iterations=300, learning_rate=0.1..................\n",
            "0:\ttotal: 8.71ms\tremaining: 2.6s\n",
            "200:\ttotal: 1.82s\tremaining: 899ms\n",
            "299:\ttotal: 2.85s\tremaining: 0us\n",
            "[CV 6/6; 3/9] END depth=5, iterations=300, learning_rate=0.1;, score=0.894 total time=   3.9s\n",
            "[CV 1/6; 4/9] START depth=6, iterations=200, learning_rate=0.1..................\n",
            "0:\ttotal: 14.2ms\tremaining: 2.83s\n",
            "199:\ttotal: 2.44s\tremaining: 0us\n",
            "[CV 1/6; 4/9] END depth=6, iterations=200, learning_rate=0.1;, score=0.879 total time=   3.3s\n",
            "[CV 2/6; 4/9] START depth=6, iterations=200, learning_rate=0.1..................\n",
            "0:\ttotal: 13.1ms\tremaining: 2.6s\n",
            "199:\ttotal: 2.34s\tremaining: 0us\n",
            "[CV 2/6; 4/9] END depth=6, iterations=200, learning_rate=0.1;, score=0.859 total time=   3.1s\n",
            "[CV 3/6; 4/9] START depth=6, iterations=200, learning_rate=0.1..................\n",
            "0:\ttotal: 15.2ms\tremaining: 3.03s\n",
            "199:\ttotal: 2.38s\tremaining: 0us\n",
            "[CV 3/6; 4/9] END depth=6, iterations=200, learning_rate=0.1;, score=0.850 total time=   3.0s\n",
            "[CV 4/6; 4/9] START depth=6, iterations=200, learning_rate=0.1..................\n",
            "0:\ttotal: 16.7ms\tremaining: 3.33s\n",
            "199:\ttotal: 2.33s\tremaining: 0us\n",
            "[CV 4/6; 4/9] END depth=6, iterations=200, learning_rate=0.1;, score=0.893 total time=   3.2s\n",
            "[CV 5/6; 4/9] START depth=6, iterations=200, learning_rate=0.1..................\n",
            "0:\ttotal: 12.1ms\tremaining: 2.4s\n",
            "199:\ttotal: 2.36s\tremaining: 0us\n",
            "[CV 5/6; 4/9] END depth=6, iterations=200, learning_rate=0.1;, score=0.878 total time=   3.1s\n",
            "[CV 6/6; 4/9] START depth=6, iterations=200, learning_rate=0.1..................\n",
            "0:\ttotal: 11.1ms\tremaining: 2.22s\n",
            "199:\ttotal: 2.29s\tremaining: 0us\n",
            "[CV 6/6; 4/9] END depth=6, iterations=200, learning_rate=0.1;, score=0.869 total time=   3.1s\n",
            "[CV 1/6; 5/9] START depth=6, iterations=250, learning_rate=0.1..................\n",
            "0:\ttotal: 15.7ms\tremaining: 3.9s\n",
            "200:\ttotal: 2.25s\tremaining: 548ms\n",
            "249:\ttotal: 2.91s\tremaining: 0us\n",
            "[CV 1/6; 5/9] END depth=6, iterations=250, learning_rate=0.1;, score=0.889 total time=   3.7s\n",
            "[CV 2/6; 5/9] START depth=6, iterations=250, learning_rate=0.1..................\n",
            "0:\ttotal: 13.9ms\tremaining: 3.45s\n",
            "200:\ttotal: 2.61s\tremaining: 636ms\n",
            "249:\ttotal: 3.31s\tremaining: 0us\n",
            "[CV 2/6; 5/9] END depth=6, iterations=250, learning_rate=0.1;, score=0.866 total time=   4.2s\n",
            "[CV 3/6; 5/9] START depth=6, iterations=250, learning_rate=0.1..................\n",
            "0:\ttotal: 13.8ms\tremaining: 3.44s\n",
            "200:\ttotal: 2.5s\tremaining: 609ms\n",
            "249:\ttotal: 3.13s\tremaining: 0us\n",
            "[CV 3/6; 5/9] END depth=6, iterations=250, learning_rate=0.1;, score=0.862 total time=   4.1s\n",
            "[CV 4/6; 5/9] START depth=6, iterations=250, learning_rate=0.1..................\n",
            "0:\ttotal: 11.3ms\tremaining: 2.82s\n",
            "200:\ttotal: 2.3s\tremaining: 560ms\n",
            "249:\ttotal: 2.93s\tremaining: 0us\n",
            "[CV 4/6; 5/9] END depth=6, iterations=250, learning_rate=0.1;, score=0.901 total time=   3.8s\n",
            "[CV 5/6; 5/9] START depth=6, iterations=250, learning_rate=0.1..................\n",
            "0:\ttotal: 12.2ms\tremaining: 3.04s\n",
            "200:\ttotal: 2.35s\tremaining: 572ms\n",
            "249:\ttotal: 3s\tremaining: 0us\n",
            "[CV 5/6; 5/9] END depth=6, iterations=250, learning_rate=0.1;, score=0.885 total time=   3.8s\n",
            "[CV 6/6; 5/9] START depth=6, iterations=250, learning_rate=0.1..................\n",
            "0:\ttotal: 12.5ms\tremaining: 3.11s\n",
            "200:\ttotal: 2.52s\tremaining: 615ms\n",
            "249:\ttotal: 3.15s\tremaining: 0us\n",
            "[CV 6/6; 5/9] END depth=6, iterations=250, learning_rate=0.1;, score=0.881 total time=   3.9s\n",
            "[CV 1/6; 6/9] START depth=6, iterations=300, learning_rate=0.1..................\n",
            "0:\ttotal: 17.2ms\tremaining: 5.14s\n",
            "200:\ttotal: 2.37s\tremaining: 1.17s\n",
            "299:\ttotal: 3.73s\tremaining: 0us\n",
            "[CV 1/6; 6/9] END depth=6, iterations=300, learning_rate=0.1;, score=0.893 total time=   4.7s\n",
            "[CV 2/6; 6/9] START depth=6, iterations=300, learning_rate=0.1..................\n",
            "0:\ttotal: 13.9ms\tremaining: 4.16s\n",
            "200:\ttotal: 2.32s\tremaining: 1.14s\n",
            "299:\ttotal: 3.58s\tremaining: 0us\n",
            "[CV 2/6; 6/9] END depth=6, iterations=300, learning_rate=0.1;, score=0.871 total time=   4.4s\n",
            "[CV 3/6; 6/9] START depth=6, iterations=300, learning_rate=0.1..................\n",
            "0:\ttotal: 14.3ms\tremaining: 4.26s\n",
            "200:\ttotal: 2.42s\tremaining: 1.19s\n",
            "299:\ttotal: 3.7s\tremaining: 0us\n",
            "[CV 3/6; 6/9] END depth=6, iterations=300, learning_rate=0.1;, score=0.868 total time=   4.5s\n",
            "[CV 4/6; 6/9] START depth=6, iterations=300, learning_rate=0.1..................\n",
            "0:\ttotal: 20.3ms\tremaining: 6.06s\n",
            "200:\ttotal: 2.36s\tremaining: 1.16s\n",
            "299:\ttotal: 3.62s\tremaining: 0us\n",
            "[CV 4/6; 6/9] END depth=6, iterations=300, learning_rate=0.1;, score=0.907 total time=   4.6s\n",
            "[CV 5/6; 6/9] START depth=6, iterations=300, learning_rate=0.1..................\n",
            "0:\ttotal: 11.6ms\tremaining: 3.46s\n",
            "200:\ttotal: 2.32s\tremaining: 1.14s\n",
            "299:\ttotal: 3.57s\tremaining: 0us\n",
            "[CV 5/6; 6/9] END depth=6, iterations=300, learning_rate=0.1;, score=0.895 total time=   4.7s\n",
            "[CV 6/6; 6/9] START depth=6, iterations=300, learning_rate=0.1..................\n",
            "0:\ttotal: 19.6ms\tremaining: 5.86s\n",
            "200:\ttotal: 2.73s\tremaining: 1.34s\n",
            "299:\ttotal: 4.18s\tremaining: 0us\n",
            "[CV 6/6; 6/9] END depth=6, iterations=300, learning_rate=0.1;, score=0.886 total time=   5.1s\n",
            "[CV 1/6; 7/9] START depth=7, iterations=200, learning_rate=0.1..................\n",
            "0:\ttotal: 33ms\tremaining: 6.57s\n",
            "199:\ttotal: 3.15s\tremaining: 0us\n",
            "[CV 1/6; 7/9] END depth=7, iterations=200, learning_rate=0.1;, score=0.878 total time=   4.0s\n",
            "[CV 2/6; 7/9] START depth=7, iterations=200, learning_rate=0.1..................\n",
            "0:\ttotal: 23.8ms\tremaining: 4.73s\n",
            "199:\ttotal: 3.4s\tremaining: 0us\n",
            "[CV 2/6; 7/9] END depth=7, iterations=200, learning_rate=0.1;, score=0.853 total time=   4.3s\n",
            "[CV 3/6; 7/9] START depth=7, iterations=200, learning_rate=0.1..................\n",
            "0:\ttotal: 17.7ms\tremaining: 3.52s\n",
            "199:\ttotal: 2.94s\tremaining: 0us\n",
            "[CV 3/6; 7/9] END depth=7, iterations=200, learning_rate=0.1;, score=0.852 total time=   3.8s\n",
            "[CV 4/6; 7/9] START depth=7, iterations=200, learning_rate=0.1..................\n",
            "0:\ttotal: 16.2ms\tremaining: 3.22s\n",
            "199:\ttotal: 2.92s\tremaining: 0us\n",
            "[CV 4/6; 7/9] END depth=7, iterations=200, learning_rate=0.1;, score=0.899 total time=   3.7s\n",
            "[CV 5/6; 7/9] START depth=7, iterations=200, learning_rate=0.1..................\n",
            "0:\ttotal: 24.3ms\tremaining: 4.84s\n",
            "199:\ttotal: 2.88s\tremaining: 0us\n",
            "[CV 5/6; 7/9] END depth=7, iterations=200, learning_rate=0.1;, score=0.876 total time=   3.6s\n",
            "[CV 6/6; 7/9] START depth=7, iterations=200, learning_rate=0.1..................\n",
            "0:\ttotal: 19.7ms\tremaining: 3.92s\n",
            "199:\ttotal: 3.04s\tremaining: 0us\n",
            "[CV 6/6; 7/9] END depth=7, iterations=200, learning_rate=0.1;, score=0.885 total time=   4.0s\n",
            "[CV 1/6; 8/9] START depth=7, iterations=250, learning_rate=0.1..................\n",
            "0:\ttotal: 30.1ms\tremaining: 7.48s\n",
            "200:\ttotal: 3.03s\tremaining: 739ms\n",
            "249:\ttotal: 3.91s\tremaining: 0us\n",
            "[CV 1/6; 8/9] END depth=7, iterations=250, learning_rate=0.1;, score=0.882 total time=   4.9s\n",
            "[CV 2/6; 8/9] START depth=7, iterations=250, learning_rate=0.1..................\n",
            "0:\ttotal: 17.7ms\tremaining: 4.4s\n",
            "200:\ttotal: 3.11s\tremaining: 758ms\n",
            "249:\ttotal: 3.97s\tremaining: 0us\n",
            "[CV 2/6; 8/9] END depth=7, iterations=250, learning_rate=0.1;, score=0.857 total time=   4.9s\n",
            "[CV 3/6; 8/9] START depth=7, iterations=250, learning_rate=0.1..................\n",
            "0:\ttotal: 18.2ms\tremaining: 4.54s\n",
            "200:\ttotal: 3.06s\tremaining: 747ms\n",
            "249:\ttotal: 3.93s\tremaining: 0us\n",
            "[CV 3/6; 8/9] END depth=7, iterations=250, learning_rate=0.1;, score=0.856 total time=   4.7s\n",
            "[CV 4/6; 8/9] START depth=7, iterations=250, learning_rate=0.1..................\n",
            "0:\ttotal: 14.9ms\tremaining: 3.7s\n",
            "200:\ttotal: 2.93s\tremaining: 714ms\n",
            "249:\ttotal: 3.77s\tremaining: 0us\n",
            "[CV 4/6; 8/9] END depth=7, iterations=250, learning_rate=0.1;, score=0.907 total time=   4.5s\n",
            "[CV 5/6; 8/9] START depth=7, iterations=250, learning_rate=0.1..................\n",
            "0:\ttotal: 17.1ms\tremaining: 4.27s\n",
            "200:\ttotal: 3.05s\tremaining: 743ms\n",
            "249:\ttotal: 3.87s\tremaining: 0us\n",
            "[CV 5/6; 8/9] END depth=7, iterations=250, learning_rate=0.1;, score=0.886 total time=   4.6s\n",
            "[CV 6/6; 8/9] START depth=7, iterations=250, learning_rate=0.1..................\n",
            "0:\ttotal: 15.3ms\tremaining: 3.81s\n",
            "200:\ttotal: 2.91s\tremaining: 711ms\n",
            "249:\ttotal: 3.75s\tremaining: 0us\n",
            "[CV 6/6; 8/9] END depth=7, iterations=250, learning_rate=0.1;, score=0.895 total time=   4.5s\n",
            "[CV 1/6; 9/9] START depth=7, iterations=300, learning_rate=0.1..................\n",
            "0:\ttotal: 20.4ms\tremaining: 6.09s\n",
            "200:\ttotal: 2.83s\tremaining: 1.4s\n",
            "299:\ttotal: 4.5s\tremaining: 0us\n",
            "[CV 1/6; 9/9] END depth=7, iterations=300, learning_rate=0.1;, score=0.883 total time=   5.3s\n",
            "[CV 2/6; 9/9] START depth=7, iterations=300, learning_rate=0.1..................\n",
            "0:\ttotal: 19.3ms\tremaining: 5.77s\n",
            "200:\ttotal: 3.21s\tremaining: 1.58s\n",
            "299:\ttotal: 4.95s\tremaining: 0us\n",
            "[CV 2/6; 9/9] END depth=7, iterations=300, learning_rate=0.1;, score=0.864 total time=   5.8s\n",
            "[CV 3/6; 9/9] START depth=7, iterations=300, learning_rate=0.1..................\n",
            "0:\ttotal: 17.5ms\tremaining: 5.22s\n",
            "200:\ttotal: 2.9s\tremaining: 1.43s\n",
            "299:\ttotal: 4.54s\tremaining: 0us\n",
            "[CV 3/6; 9/9] END depth=7, iterations=300, learning_rate=0.1;, score=0.858 total time=   5.3s\n",
            "[CV 4/6; 9/9] START depth=7, iterations=300, learning_rate=0.1..................\n",
            "0:\ttotal: 13.5ms\tremaining: 4.03s\n",
            "200:\ttotal: 2.81s\tremaining: 1.39s\n",
            "299:\ttotal: 4.41s\tremaining: 0us\n",
            "[CV 4/6; 9/9] END depth=7, iterations=300, learning_rate=0.1;, score=0.911 total time=   5.3s\n",
            "[CV 5/6; 9/9] START depth=7, iterations=300, learning_rate=0.1..................\n",
            "0:\ttotal: 15.9ms\tremaining: 4.76s\n",
            "200:\ttotal: 2.95s\tremaining: 1.45s\n",
            "299:\ttotal: 4.64s\tremaining: 0us\n",
            "[CV 5/6; 9/9] END depth=7, iterations=300, learning_rate=0.1;, score=0.896 total time=   6.5s\n",
            "[CV 6/6; 9/9] START depth=7, iterations=300, learning_rate=0.1..................\n",
            "0:\ttotal: 14.1ms\tremaining: 4.21s\n",
            "200:\ttotal: 2.91s\tremaining: 1.43s\n",
            "299:\ttotal: 4.54s\tremaining: 0us\n",
            "[CV 6/6; 9/9] END depth=7, iterations=300, learning_rate=0.1;, score=0.906 total time=   5.5s\n",
            "0:\ttotal: 15.2ms\tremaining: 4.55s\n",
            "200:\ttotal: 2.6s\tremaining: 1.28s\n",
            "299:\ttotal: 4.16s\tremaining: 0us\n",
            "CPU times: user 2min 52s, sys: 1.54 s, total: 2min 53s\n",
            "Wall time: 3min 38s\n"
          ]
        }
      ],
      "source": [
        "%%time\n",
        "model_cat = search_cat.fit(X_train_cb, y_train, cat_features=ohe_features, verbose=200)"
      ]
    },
    {
      "cell_type": "code",
      "execution_count": null,
      "metadata": {
        "id": "uEWeza4uKZXT",
        "outputId": "798fe406-6bc9-4edd-f2df-3a5b9f17621e"
      },
      "outputs": [
        {
          "name": "stdout",
          "output_type": "stream",
          "text": [
            "Best score CatBoost при кросс-валидации: 0.89\n",
            "Best CatBoost Model Hyperparameters: {'depth': 6, 'iterations': 300, 'learning_rate': 0.1}\n"
          ]
        }
      ],
      "source": [
        "print('Best score CatBoost при кросс-валидации: %s' % round((model_cat.best_score_),2))\n",
        "print('Best CatBoost Model Hyperparameters: %s' % model_cat.best_params_)"
      ]
    },
    {
      "cell_type": "markdown",
      "metadata": {
        "id": "zKVoWKO4KZXT"
      },
      "source": [
        "### LightGBM"
      ]
    },
    {
      "cell_type": "code",
      "execution_count": null,
      "metadata": {
        "id": "zcPz1RUYKZXT"
      },
      "outputs": [],
      "source": [
        "X_train_lg = X_train.copy()\n",
        "X_test_lg = X_test.copy()"
      ]
    },
    {
      "cell_type": "code",
      "execution_count": null,
      "metadata": {
        "id": "cWhqArQwKZXT",
        "outputId": "92d201de-75a4-45a1-e9b3-0baa958d77ff"
      },
      "outputs": [
        {
          "name": "stdout",
          "output_type": "stream",
          "text": [
            "<class 'pandas.core.frame.DataFrame'>\n",
            "Int64Index: 5271 entries, 5897 to 2511\n",
            "Data columns (total 18 columns):\n",
            " #   Column            Non-Null Count  Dtype   \n",
            "---  ------            --------------  -----   \n",
            " 0   Type              5271 non-null   category\n",
            " 1   PaperlessBilling  5271 non-null   category\n",
            " 2   PaymentMethod     5271 non-null   category\n",
            " 3   MonthlyCharges    5271 non-null   float64 \n",
            " 4   TotalCharges      5271 non-null   float64 \n",
            " 5   Gender            5271 non-null   category\n",
            " 6   SeniorCitizen     5271 non-null   category\n",
            " 7   Partner           5271 non-null   category\n",
            " 8   Dependents        5271 non-null   category\n",
            " 9   MultipleLines     5271 non-null   category\n",
            " 10  InternetService   5271 non-null   category\n",
            " 11  OnlineSecurity    5271 non-null   category\n",
            " 12  OnlineBackup      5271 non-null   category\n",
            " 13  DeviceProtection  5271 non-null   category\n",
            " 14  TechSupport       5271 non-null   category\n",
            " 15  StreamingTV       5271 non-null   category\n",
            " 16  StreamingMovies   5271 non-null   category\n",
            " 17  Duration          5271 non-null   int64   \n",
            "dtypes: category(15), float64(2), int64(1)\n",
            "memory usage: 243.9 KB\n"
          ]
        }
      ],
      "source": [
        "model_lgb = lgb.LGBMClassifier(random_state=RANDOM_STATE, is_unbalance=True)\n",
        "\n",
        "# укажем для модели категориальные данные\n",
        "for c in ohe_features:\n",
        "    X_train_lg[c] = X_train_lg[c].astype('category')\n",
        "\n",
        "# проверка типов данных\n",
        "X_train_lg.info()"
      ]
    },
    {
      "cell_type": "code",
      "execution_count": null,
      "metadata": {
        "id": "rT08hzSxKZXU"
      },
      "outputs": [],
      "source": [
        "param_grid_lgb = {\n",
        "    'n_estimators': range (200, 251, 50),\n",
        "    'max_depth': range (4, 6)\n",
        "}\n",
        "\n",
        "gs_lgb = RandomizedSearchCV(\n",
        "    model_lgb,\n",
        "    param_distributions=param_grid_lgb,\n",
        "    scoring='roc_auc',\n",
        "    n_jobs=-1,\n",
        "    cv=CV,\n",
        "    verbose=100\n",
        ")"
      ]
    },
    {
      "cell_type": "code",
      "execution_count": null,
      "metadata": {
        "id": "NO6OaIt6KZXU",
        "outputId": "f9bfa9a7-79f1-4d4f-c860-72d69eb9a8ef"
      },
      "outputs": [
        {
          "name": "stdout",
          "output_type": "stream",
          "text": [
            "Fitting 6 folds for each of 4 candidates, totalling 24 fits\n",
            "[CV 1/6; 1/4] START max_depth=4, n_estimators=200...............................\n"
          ]
        },
        {
          "name": "stderr",
          "output_type": "stream",
          "text": [
            "/opt/conda/lib/python3.9/site-packages/sklearn/model_selection/_search.py:306: UserWarning: The total space of parameters 4 is smaller than n_iter=10. Running 4 iterations. For exhaustive searches, use GridSearchCV.\n",
            "  warnings.warn(\n"
          ]
        },
        {
          "name": "stdout",
          "output_type": "stream",
          "text": [
            "[CV 1/6; 1/4] END max_depth=4, n_estimators=200;, score=0.866 total time=  25.0s\n",
            "[CV 2/6; 1/4] START max_depth=4, n_estimators=200...............................\n",
            "[CV 2/6; 1/4] END max_depth=4, n_estimators=200;, score=0.855 total time=  25.7s\n",
            "[CV 3/6; 1/4] START max_depth=4, n_estimators=200...............................\n",
            "[CV 3/6; 1/4] END max_depth=4, n_estimators=200;, score=0.859 total time=  19.5s\n",
            "[CV 4/6; 1/4] START max_depth=4, n_estimators=200...............................\n",
            "[CV 4/6; 1/4] END max_depth=4, n_estimators=200;, score=0.893 total time=  31.7s\n",
            "[CV 5/6; 1/4] START max_depth=4, n_estimators=200...............................\n",
            "[CV 5/6; 1/4] END max_depth=4, n_estimators=200;, score=0.885 total time=  28.9s\n",
            "[CV 6/6; 1/4] START max_depth=4, n_estimators=200...............................\n",
            "[CV 6/6; 1/4] END max_depth=4, n_estimators=200;, score=0.904 total time=  19.1s\n",
            "[CV 1/6; 2/4] START max_depth=4, n_estimators=250...............................\n",
            "[CV 1/6; 2/4] END max_depth=4, n_estimators=250;, score=0.864 total time=  20.9s\n",
            "[CV 2/6; 2/4] START max_depth=4, n_estimators=250...............................\n",
            "[CV 2/6; 2/4] END max_depth=4, n_estimators=250;, score=0.868 total time=  27.4s\n",
            "[CV 3/6; 2/4] START max_depth=4, n_estimators=250...............................\n",
            "[CV 3/6; 2/4] END max_depth=4, n_estimators=250;, score=0.867 total time=  26.9s\n",
            "[CV 4/6; 2/4] START max_depth=4, n_estimators=250...............................\n",
            "[CV 4/6; 2/4] END max_depth=4, n_estimators=250;, score=0.894 total time=  47.1s\n",
            "[CV 5/6; 2/4] START max_depth=4, n_estimators=250...............................\n",
            "[CV 5/6; 2/4] END max_depth=4, n_estimators=250;, score=0.886 total time=  30.7s\n",
            "[CV 6/6; 2/4] START max_depth=4, n_estimators=250...............................\n",
            "[CV 6/6; 2/4] END max_depth=4, n_estimators=250;, score=0.909 total time=  26.9s\n",
            "[CV 1/6; 3/4] START max_depth=5, n_estimators=200...............................\n",
            "[CV 1/6; 3/4] END max_depth=5, n_estimators=200;, score=0.858 total time=  31.9s\n",
            "[CV 2/6; 3/4] START max_depth=5, n_estimators=200...............................\n",
            "[CV 2/6; 3/4] END max_depth=5, n_estimators=200;, score=0.871 total time=  31.3s\n",
            "[CV 3/6; 3/4] START max_depth=5, n_estimators=200...............................\n",
            "[CV 3/6; 3/4] END max_depth=5, n_estimators=200;, score=0.864 total time=  32.7s\n",
            "[CV 4/6; 3/4] START max_depth=5, n_estimators=200...............................\n",
            "[CV 4/6; 3/4] END max_depth=5, n_estimators=200;, score=0.903 total time=  33.4s\n",
            "[CV 5/6; 3/4] START max_depth=5, n_estimators=200...............................\n",
            "[CV 5/6; 3/4] END max_depth=5, n_estimators=200;, score=0.886 total time=  48.8s\n",
            "[CV 6/6; 3/4] START max_depth=5, n_estimators=200...............................\n",
            "[CV 6/6; 3/4] END max_depth=5, n_estimators=200;, score=0.905 total time=  31.7s\n",
            "[CV 1/6; 4/4] START max_depth=5, n_estimators=250...............................\n",
            "[CV 1/6; 4/4] END max_depth=5, n_estimators=250;, score=0.864 total time=  33.0s\n",
            "[CV 2/6; 4/4] START max_depth=5, n_estimators=250...............................\n",
            "[CV 2/6; 4/4] END max_depth=5, n_estimators=250;, score=0.876 total time=  50.9s\n",
            "[CV 3/6; 4/4] START max_depth=5, n_estimators=250...............................\n",
            "[CV 3/6; 4/4] END max_depth=5, n_estimators=250;, score=0.871 total time=  43.9s\n",
            "[CV 4/6; 4/4] START max_depth=5, n_estimators=250...............................\n",
            "[CV 4/6; 4/4] END max_depth=5, n_estimators=250;, score=0.905 total time=  52.6s\n",
            "[CV 5/6; 4/4] START max_depth=5, n_estimators=250...............................\n",
            "[CV 5/6; 4/4] END max_depth=5, n_estimators=250;, score=0.891 total time=  43.0s\n",
            "[CV 6/6; 4/4] START max_depth=5, n_estimators=250...............................\n",
            "[CV 6/6; 4/4] END max_depth=5, n_estimators=250;, score=0.909 total time=  53.0s\n",
            "CPU times: user 14min 26s, sys: 1.15 s, total: 14min 28s\n",
            "Wall time: 14min 30s\n"
          ]
        }
      ],
      "source": [
        "%%time\n",
        "gs_lgb = gs_lgb.fit(X_train_lg, y_train)"
      ]
    },
    {
      "cell_type": "code",
      "execution_count": null,
      "metadata": {
        "id": "4bH_50qGKZXU",
        "outputId": "0ddf2a5e-0f48-4145-8cda-e252b848fbb9"
      },
      "outputs": [
        {
          "name": "stdout",
          "output_type": "stream",
          "text": [
            "LightGBM best_score: 0.89\n",
            "LightGBM best_params: {'n_estimators': 250, 'max_depth': 5}\n"
          ]
        }
      ],
      "source": [
        "print(f'LightGBM best_score: %s' % round((gs_lgb.best_score_),2))\n",
        "print(f'LightGBM best_params: {gs_lgb.best_params_}')"
      ]
    },
    {
      "cell_type": "code",
      "execution_count": null,
      "metadata": {
        "id": "0uRWtkspKZXU",
        "outputId": "78cded6d-a0bb-465c-89a8-b8efa6767e5f"
      },
      "outputs": [
        {
          "data": {
            "text/html": [
              "<div>\n",
              "<style scoped>\n",
              "    .dataframe tbody tr th:only-of-type {\n",
              "        vertical-align: middle;\n",
              "    }\n",
              "\n",
              "    .dataframe tbody tr th {\n",
              "        vertical-align: top;\n",
              "    }\n",
              "\n",
              "    .dataframe thead th {\n",
              "        text-align: right;\n",
              "    }\n",
              "</style>\n",
              "<table border=\"1\" class=\"dataframe\">\n",
              "  <thead>\n",
              "    <tr style=\"text-align: right;\">\n",
              "      <th></th>\n",
              "      <th>roc_auc</th>\n",
              "    </tr>\n",
              "  </thead>\n",
              "  <tbody>\n",
              "    <tr>\n",
              "      <th>Ridge</th>\n",
              "      <td>0.765166</td>\n",
              "    </tr>\n",
              "    <tr>\n",
              "      <th>RandomForestClassifier</th>\n",
              "      <td>0.829925</td>\n",
              "    </tr>\n",
              "    <tr>\n",
              "      <th>CatBoost</th>\n",
              "      <td>0.886454</td>\n",
              "    </tr>\n",
              "    <tr>\n",
              "      <th>LGBM</th>\n",
              "      <td>0.885986</td>\n",
              "    </tr>\n",
              "  </tbody>\n",
              "</table>\n",
              "</div>"
            ],
            "text/plain": [
              "                         roc_auc\n",
              "Ridge                   0.765166\n",
              "RandomForestClassifier  0.829925\n",
              "CatBoost                0.886454\n",
              "LGBM                    0.885986"
            ]
          },
          "execution_count": 74,
          "metadata": {},
          "output_type": "execute_result"
        }
      ],
      "source": [
        "# значение метрики ROC-AUC по всем моделям\n",
        "result = pd.DataFrame(\n",
        "    [gs_ridge_best_score, gs_rf.best_score_, model_cat.best_score_, gs_lgb.best_score_],\n",
        "    index=['Ridge', 'RandomForestClassifier', 'CatBoost', 'LGBM'],\n",
        "    columns=['roc_auc']\n",
        ")\n",
        "result"
      ]
    },
    {
      "cell_type": "markdown",
      "metadata": {
        "id": "qkfJiBGyKZXV"
      },
      "source": [
        "Лучший результат метрики ROC-AUC дала модель CatBoost c подобранными гиперпараметрами:"
      ]
    },
    {
      "cell_type": "code",
      "execution_count": null,
      "metadata": {
        "id": "TNxV9lkEKZXV",
        "outputId": "3f16ccd2-25b2-445b-bfa5-d1f8e78050df"
      },
      "outputs": [
        {
          "data": {
            "text/plain": [
              "{'depth': 6, 'iterations': 300, 'learning_rate': 0.1}"
            ]
          },
          "execution_count": 75,
          "metadata": {},
          "output_type": "execute_result"
        }
      ],
      "source": [
        "model_cat.best_params_"
      ]
    },
    {
      "cell_type": "markdown",
      "metadata": {
        "id": "dz7LLZ_FKZXV"
      },
      "source": [
        "## Тестирование модели"
      ]
    },
    {
      "cell_type": "markdown",
      "metadata": {
        "id": "O54yu0V7KZXV"
      },
      "source": [
        "Модель, показавшe. лучший результат на кросс-валидации (CatBoost), тестируем на тестовой выборке (с уже подобранными лучшими гиперпараметрами `best_estimator_`)."
      ]
    },
    {
      "cell_type": "code",
      "execution_count": null,
      "metadata": {
        "id": "S4_f1Ph7KZXV",
        "outputId": "975d131f-669a-4d1b-b908-41b010110642"
      },
      "outputs": [
        {
          "name": "stdout",
          "output_type": "stream",
          "text": [
            "ROC-AUC:  0.8953870690712796\n"
          ]
        }
      ],
      "source": [
        "pred_proba = model_cat.best_estimator_.predict_proba(X_test_cb)[:, 1]\n",
        "print('ROC-AUC: ',roc_auc_score(y_test, pred_proba))"
      ]
    },
    {
      "cell_type": "markdown",
      "metadata": {
        "id": "CetVfWqAKZXW"
      },
      "source": [
        "Значение метрики ROC-AUC на тестовой выборке равно 0,895, что удовлетворяет условиям поставленной задачи (данная метрика должна быть не менее 0,85)"
      ]
    },
    {
      "cell_type": "code",
      "execution_count": null,
      "metadata": {
        "id": "LHbz-U6aKZXW",
        "outputId": "16ff16c7-8ef9-4d58-cb92-ed8bfa83564b"
      },
      "outputs": [
        {
          "data": {
            "text/plain": [
              "0.9"
            ]
          },
          "execution_count": 77,
          "metadata": {},
          "output_type": "execute_result"
        }
      ],
      "source": [
        "round(accuracy_score(y_test, model_cat.best_estimator_.predict(X_test_cb)),2)"
      ]
    },
    {
      "cell_type": "markdown",
      "metadata": {
        "id": "w1w5dtXOKZXW"
      },
      "source": [
        "Метрика accuracy у лучшей модели 0,9"
      ]
    },
    {
      "cell_type": "code",
      "execution_count": null,
      "metadata": {
        "id": "3JV_Y3g_KZXW",
        "outputId": "8660f633-6d3b-4b4e-d91a-2eac40c97956"
      },
      "outputs": [
        {
          "data": {
            "image/png": "[encoded data removed]",
            "text/plain": [
              "<Figure size 720x360 with 1 Axes>"
            ]
          },
          "metadata": {
            "needs_background": "light"
          },
          "output_type": "display_data"
        }
      ],
      "source": [
        "# визуализация важности признаков\n",
        "importances_df = pd.DataFrame(model_cat.best_estimator_.feature_importances_, index = X_test_cb.columns, columns=['importance'])\n",
        "importances_df = importances_df.sort_values(by='importance', ascending=True)\n",
        "importances_df.plot(kind='barh', figsize=(10, 5), title='Feature importance'+'\\n')\n",
        "plt.show()"
      ]
    },
    {
      "cell_type": "markdown",
      "metadata": {
        "id": "CENL_gf2KZXW"
      },
      "source": [
        "Наиболее важными в построенной модели являются признаки: продолжительность действия договора, тип договора, размер ежемесячного платежа."
      ]
    },
    {
      "cell_type": "code",
      "execution_count": null,
      "metadata": {
        "id": "VxAOap7mKZXW",
        "outputId": "beed867d-d6b6-4d3e-a598-990afbab4f2b"
      },
      "outputs": [
        {
          "data": {
            "image/png": "[encoded data removed]",
            "text/plain": [
              "<Figure size 432x288 with 1 Axes>"
            ]
          },
          "metadata": {
            "needs_background": "light"
          },
          "output_type": "display_data"
        },
        {
          "name": "stdout",
          "output_type": "stream",
          "text": [
            "ROC_AUC:  0.8953870690712796\n"
          ]
        }
      ],
      "source": [
        "fpr, tpr, treshold = roc_curve(y_test, pred_proba)\n",
        "roc_auc = auc(fpr, tpr)\n",
        "# строим график ROC-AUC\n",
        "plt.plot(fpr, tpr, color='darkred',\n",
        "         label='ROC кривая (area = %0.2f)' % roc_auc)\n",
        "plt.plot([0, 1], [0, 1], color='green', linestyle='--', label='Dummy Model')\n",
        "plt.xlim([0.0, 1.0])\n",
        "plt.ylim([0.0, 1.05])\n",
        "plt.xlabel('False Positive Rate')\n",
        "plt.ylabel('True Positive Rate')\n",
        "plt.title('ROC-кривая')\n",
        "plt.legend(loc=\"lower right\")\n",
        "plt.show()\n",
        "print('ROC_AUC: ',roc_auc_score(y_test, pred_proba))"
      ]
    },
    {
      "cell_type": "code",
      "execution_count": null,
      "metadata": {
        "id": "UxHvgdcRKZXW",
        "outputId": "043403cd-701b-489d-b4e5-323022ace974"
      },
      "outputs": [
        {
          "data": {
            "image/png": "[encoded data removed]",
            "text/plain": [
              "<Figure size 432x360 with 2 Axes>"
            ]
          },
          "metadata": {
            "needs_background": "light"
          },
          "output_type": "display_data"
        }
      ],
      "source": [
        "# матрица ошибок\n",
        "cmatrix = confusion_matrix(y_test, model_cat.best_estimator_.predict(X_test_cb))\n",
        "plt.figure(figsize=(6, 5))\n",
        "sns.heatmap(cmatrix,\n",
        "                annot=True,\n",
        "                cmap='Greens',\n",
        "                fmt='d').set(title='Confusion matrix'+'\\n', xlabel='Predictions', ylabel='Real values')\n",
        "plt.show();"
      ]
    },
    {
      "cell_type": "markdown",
      "metadata": {
        "id": "YZNDRualKZXX"
      },
      "source": [
        "## Вывод"
      ]
    },
    {
      "cell_type": "markdown",
      "metadata": {
        "id": "wv04cGzJKZXX"
      },
      "source": [
        "Были построены и обучены с помощью кросс-валидации и подбором гиперпараметров следующие модели: Ridge, RandomForestClassifier, CatBoostClassifier, LightGBMClassifier. Датасет был разделен на тренировочную и тестовую в соотношении 3:1. Ввиду дисбаланса классов разделение произведено со стратификацией по целевому признаку.\\\n",
        "Лучший результат показала модель CatBoostClassifier с метрикой ROC-AUC = 0.886 при кросс-валидации. Значение метрики удовлетворяет условию поставленной задачи (ROC-AUC не меньше 0,85). Для лучшей модели на тестовой выборке метрика accuracy равна 0,9, метрика ROC-AUC равна 0,895.\\\n",
        "Наиболее важными в выбранной модели являются признаки: продолжительность действия договора, тип договора, размер ежемесячного платежа. Заметим, что при анализе данных самая высокая положительная корреляция (методом phik) целевого признака была замечена именно со сроком действия договора.\\\n",
        "Модель хорошо предсказывает клиентов, которые не собираются уходить от провайдера. Однако, не очень хорошо предсказывает клиентов, которые собираются уходить от провайдера. В этом можно наметить направление деятельности для дальнейшего улучшения модели."
      ]
    }
  ],
  "metadata": {
    "ExecuteTimeLog": [
      {
        "duration": 479,
        "start_time": "2023-07-05T09:58:53.821Z"
      },
      {
        "duration": 101,
        "start_time": "2023-07-05T09:58:55.924Z"
      },
      {
        "duration": 67,
        "start_time": "2023-07-05T10:01:08.713Z"
      },
      {
        "duration": 31,
        "start_time": "2023-07-05T10:01:22.512Z"
      },
      {
        "duration": 6,
        "start_time": "2023-07-05T10:02:41.177Z"
      },
      {
        "duration": 7,
        "start_time": "2023-07-05T10:03:06.612Z"
      },
      {
        "duration": 12,
        "start_time": "2023-07-05T10:04:48.894Z"
      },
      {
        "duration": 9,
        "start_time": "2023-07-05T10:04:55.168Z"
      },
      {
        "duration": 10,
        "start_time": "2023-07-05T11:25:57.556Z"
      },
      {
        "duration": 8,
        "start_time": "2023-07-05T11:26:31.593Z"
      },
      {
        "duration": 8,
        "start_time": "2023-07-05T11:26:50.433Z"
      },
      {
        "duration": 326,
        "start_time": "2023-07-05T11:28:33.881Z"
      },
      {
        "duration": 103,
        "start_time": "2023-07-05T11:30:12.958Z"
      },
      {
        "duration": 3,
        "start_time": "2023-07-05T11:30:14.278Z"
      },
      {
        "duration": 31,
        "start_time": "2023-07-05T11:30:15.504Z"
      },
      {
        "duration": 41,
        "start_time": "2023-07-05T11:31:05.494Z"
      },
      {
        "duration": 4,
        "start_time": "2023-07-05T11:31:51.554Z"
      },
      {
        "duration": 41,
        "start_time": "2023-07-05T11:31:52.672Z"
      },
      {
        "duration": 11,
        "start_time": "2023-07-05T11:32:27.682Z"
      },
      {
        "duration": 28,
        "start_time": "2023-07-05T11:32:34.527Z"
      },
      {
        "duration": 3,
        "start_time": "2023-07-05T11:32:47.472Z"
      },
      {
        "duration": 53,
        "start_time": "2023-07-05T11:32:48.186Z"
      },
      {
        "duration": 62,
        "start_time": "2023-07-05T11:33:42.446Z"
      },
      {
        "duration": 12,
        "start_time": "2023-07-05T11:34:14.532Z"
      },
      {
        "duration": 8,
        "start_time": "2023-07-05T11:38:49.822Z"
      },
      {
        "duration": 11,
        "start_time": "2023-07-05T11:38:57.934Z"
      },
      {
        "duration": 8,
        "start_time": "2023-07-05T11:39:40.737Z"
      },
      {
        "duration": 54,
        "start_time": "2023-07-05T11:40:16.353Z"
      },
      {
        "duration": 9,
        "start_time": "2023-07-05T11:41:01.726Z"
      },
      {
        "duration": 3,
        "start_time": "2023-07-05T11:41:24.625Z"
      },
      {
        "duration": 50,
        "start_time": "2023-07-05T11:41:30.644Z"
      },
      {
        "duration": 3,
        "start_time": "2023-07-05T11:42:03.750Z"
      },
      {
        "duration": 49,
        "start_time": "2023-07-05T11:42:04.824Z"
      },
      {
        "duration": 386,
        "start_time": "2023-07-05T11:42:23.404Z"
      },
      {
        "duration": 119,
        "start_time": "2023-07-05T11:42:31.700Z"
      },
      {
        "duration": 144,
        "start_time": "2023-07-05T11:42:45.756Z"
      },
      {
        "duration": 3,
        "start_time": "2023-07-05T11:42:54.365Z"
      },
      {
        "duration": 47,
        "start_time": "2023-07-05T11:42:58.521Z"
      },
      {
        "duration": 62,
        "start_time": "2023-07-05T11:43:18.326Z"
      },
      {
        "duration": 53,
        "start_time": "2023-07-05T11:43:23.044Z"
      },
      {
        "duration": 35,
        "start_time": "2023-07-05T11:43:34.356Z"
      },
      {
        "duration": 9,
        "start_time": "2023-07-05T11:45:03.356Z"
      },
      {
        "duration": 7,
        "start_time": "2023-07-05T11:45:25.567Z"
      },
      {
        "duration": 8,
        "start_time": "2023-07-05T11:45:58.004Z"
      },
      {
        "duration": 654,
        "start_time": "2023-07-05T13:08:53.857Z"
      },
      {
        "duration": 554,
        "start_time": "2023-07-05T13:09:40.981Z"
      },
      {
        "duration": 127,
        "start_time": "2023-07-05T13:09:46.497Z"
      },
      {
        "duration": 119,
        "start_time": "2023-07-05T13:09:54.397Z"
      },
      {
        "duration": 117,
        "start_time": "2023-07-05T13:10:01.457Z"
      },
      {
        "duration": 132,
        "start_time": "2023-07-05T13:10:23.293Z"
      },
      {
        "duration": 133,
        "start_time": "2023-07-05T13:10:39.306Z"
      },
      {
        "duration": 118,
        "start_time": "2023-07-05T13:10:45.905Z"
      },
      {
        "duration": 125,
        "start_time": "2023-07-05T13:12:42.642Z"
      },
      {
        "duration": 241,
        "start_time": "2023-07-05T13:13:39.144Z"
      },
      {
        "duration": 139,
        "start_time": "2023-07-05T13:14:52.830Z"
      },
      {
        "duration": 155,
        "start_time": "2023-07-05T13:15:01.901Z"
      },
      {
        "duration": 186,
        "start_time": "2023-07-05T13:15:37.343Z"
      },
      {
        "duration": 152,
        "start_time": "2023-07-05T13:15:46.409Z"
      },
      {
        "duration": 191,
        "start_time": "2023-07-05T13:15:54.023Z"
      },
      {
        "duration": 184,
        "start_time": "2023-07-05T13:16:34.658Z"
      },
      {
        "duration": 110,
        "start_time": "2023-07-05T13:17:24.457Z"
      },
      {
        "duration": 8,
        "start_time": "2023-07-05T13:42:39.367Z"
      },
      {
        "duration": 46,
        "start_time": "2023-07-05T13:43:33.685Z"
      },
      {
        "duration": 880,
        "start_time": "2023-07-05T13:46:53.549Z"
      },
      {
        "duration": 2186,
        "start_time": "2023-07-05T13:47:13.828Z"
      },
      {
        "duration": 9,
        "start_time": "2023-07-05T13:48:12.096Z"
      },
      {
        "duration": 1984,
        "start_time": "2023-07-05T14:40:02.720Z"
      },
      {
        "duration": 1269,
        "start_time": "2023-07-05T14:41:01.550Z"
      },
      {
        "duration": 108,
        "start_time": "2023-07-05T14:41:02.822Z"
      },
      {
        "duration": 4,
        "start_time": "2023-07-05T14:41:02.932Z"
      },
      {
        "duration": 56,
        "start_time": "2023-07-05T14:41:02.938Z"
      },
      {
        "duration": 9,
        "start_time": "2023-07-05T14:41:02.995Z"
      },
      {
        "duration": 90,
        "start_time": "2023-07-05T14:41:03.006Z"
      },
      {
        "duration": 8,
        "start_time": "2023-07-05T14:41:03.098Z"
      },
      {
        "duration": 45568,
        "start_time": "2023-07-05T14:41:05.319Z"
      },
      {
        "duration": 18,
        "start_time": "2023-07-05T14:42:11.029Z"
      },
      {
        "duration": 13,
        "start_time": "2023-07-05T14:42:15.802Z"
      },
      {
        "duration": 11,
        "start_time": "2023-07-05T14:42:24.415Z"
      },
      {
        "duration": 16,
        "start_time": "2023-07-05T14:43:22.522Z"
      },
      {
        "duration": 20,
        "start_time": "2023-07-05T14:44:57.818Z"
      },
      {
        "duration": 10,
        "start_time": "2023-07-05T14:45:27.834Z"
      },
      {
        "duration": 12,
        "start_time": "2023-07-05T14:45:37.605Z"
      },
      {
        "duration": 15,
        "start_time": "2023-07-05T14:45:45.838Z"
      },
      {
        "duration": 7,
        "start_time": "2023-07-05T14:46:03.481Z"
      },
      {
        "duration": 5,
        "start_time": "2023-07-05T15:24:01.862Z"
      },
      {
        "duration": 902,
        "start_time": "2023-07-05T15:26:10.986Z"
      },
      {
        "duration": 90,
        "start_time": "2023-07-05T15:28:40.256Z"
      },
      {
        "duration": 87,
        "start_time": "2023-07-05T15:28:49.383Z"
      },
      {
        "duration": 88,
        "start_time": "2023-07-05T15:29:10.934Z"
      },
      {
        "duration": 436785,
        "start_time": "2023-07-05T15:29:31.048Z"
      },
      {
        "duration": 0,
        "start_time": "2023-07-05T15:36:47.835Z"
      },
      {
        "duration": 10,
        "start_time": "2023-07-05T15:36:51.823Z"
      },
      {
        "duration": 11,
        "start_time": "2023-07-05T15:42:47.795Z"
      },
      {
        "duration": 159,
        "start_time": "2023-07-05T15:49:05.983Z"
      },
      {
        "duration": 919,
        "start_time": "2023-07-05T15:49:47.699Z"
      },
      {
        "duration": 159,
        "start_time": "2023-07-05T15:50:50.449Z"
      },
      {
        "duration": 142,
        "start_time": "2023-07-05T15:51:15.649Z"
      },
      {
        "duration": 129,
        "start_time": "2023-07-05T15:51:27.004Z"
      },
      {
        "duration": 59,
        "start_time": "2023-07-05T15:54:06.321Z"
      },
      {
        "duration": 9,
        "start_time": "2023-07-05T15:54:46.842Z"
      },
      {
        "duration": 39,
        "start_time": "2023-07-05T15:57:26.454Z"
      },
      {
        "duration": 8,
        "start_time": "2023-07-05T15:57:34.490Z"
      },
      {
        "duration": 1459,
        "start_time": "2023-07-06T08:24:02.640Z"
      },
      {
        "duration": 371,
        "start_time": "2023-07-06T08:24:04.101Z"
      },
      {
        "duration": 4,
        "start_time": "2023-07-06T08:24:04.474Z"
      },
      {
        "duration": 55,
        "start_time": "2023-07-06T08:24:04.480Z"
      },
      {
        "duration": 7,
        "start_time": "2023-07-06T08:24:04.537Z"
      },
      {
        "duration": 69,
        "start_time": "2023-07-06T08:24:04.545Z"
      },
      {
        "duration": 7,
        "start_time": "2023-07-06T08:24:04.615Z"
      },
      {
        "duration": 41,
        "start_time": "2023-07-06T08:24:04.624Z"
      },
      {
        "duration": 16,
        "start_time": "2023-07-06T08:24:04.666Z"
      },
      {
        "duration": 24,
        "start_time": "2023-07-06T08:24:04.684Z"
      },
      {
        "duration": 14,
        "start_time": "2023-07-06T08:24:04.710Z"
      },
      {
        "duration": 68,
        "start_time": "2023-07-06T08:24:04.725Z"
      },
      {
        "duration": 8,
        "start_time": "2023-07-06T08:24:04.795Z"
      },
      {
        "duration": 62,
        "start_time": "2023-07-06T08:24:04.806Z"
      },
      {
        "duration": 7,
        "start_time": "2023-07-06T08:24:04.871Z"
      },
      {
        "duration": 21,
        "start_time": "2023-07-06T08:24:04.880Z"
      },
      {
        "duration": 111,
        "start_time": "2023-07-06T08:24:29.022Z"
      },
      {
        "duration": 4,
        "start_time": "2023-07-06T08:26:53.939Z"
      },
      {
        "duration": 14,
        "start_time": "2023-07-06T08:26:56.501Z"
      },
      {
        "duration": 14,
        "start_time": "2023-07-06T08:27:08.330Z"
      },
      {
        "duration": 15,
        "start_time": "2023-07-06T08:27:40.365Z"
      },
      {
        "duration": 10,
        "start_time": "2023-07-06T08:28:28.269Z"
      },
      {
        "duration": 15,
        "start_time": "2023-07-06T08:28:40.108Z"
      },
      {
        "duration": 15,
        "start_time": "2023-07-06T08:28:53.709Z"
      },
      {
        "duration": 13,
        "start_time": "2023-07-06T08:29:44.814Z"
      },
      {
        "duration": 19,
        "start_time": "2023-07-06T08:29:46.548Z"
      },
      {
        "duration": 18,
        "start_time": "2023-07-06T08:29:58.324Z"
      },
      {
        "duration": 17,
        "start_time": "2023-07-06T08:30:07.226Z"
      },
      {
        "duration": 8,
        "start_time": "2023-07-06T08:35:11.130Z"
      },
      {
        "duration": 6,
        "start_time": "2023-07-06T08:35:33.496Z"
      },
      {
        "duration": 5,
        "start_time": "2023-07-06T08:36:10.494Z"
      },
      {
        "duration": 9,
        "start_time": "2023-07-06T08:37:24.441Z"
      },
      {
        "duration": 9,
        "start_time": "2023-07-06T08:37:29.962Z"
      },
      {
        "duration": 12,
        "start_time": "2023-07-06T08:38:34.336Z"
      },
      {
        "duration": 87,
        "start_time": "2023-07-06T08:39:15.839Z"
      },
      {
        "duration": 13,
        "start_time": "2023-07-06T08:39:34.064Z"
      },
      {
        "duration": 10,
        "start_time": "2023-07-06T08:39:38.771Z"
      },
      {
        "duration": 11,
        "start_time": "2023-07-06T08:41:37.751Z"
      },
      {
        "duration": 4,
        "start_time": "2023-07-06T08:41:55.021Z"
      },
      {
        "duration": 11,
        "start_time": "2023-07-06T08:43:03.045Z"
      },
      {
        "duration": 18,
        "start_time": "2023-07-06T08:46:10.790Z"
      },
      {
        "duration": 2757,
        "start_time": "2023-07-06T08:47:14.014Z"
      },
      {
        "duration": 10,
        "start_time": "2023-07-06T08:54:46.331Z"
      },
      {
        "duration": 9,
        "start_time": "2023-07-06T08:55:16.180Z"
      },
      {
        "duration": 4,
        "start_time": "2023-07-06T08:56:30.095Z"
      },
      {
        "duration": 31,
        "start_time": "2023-07-06T08:56:46.242Z"
      },
      {
        "duration": 33,
        "start_time": "2023-07-06T08:56:58.394Z"
      },
      {
        "duration": 26,
        "start_time": "2023-07-06T08:57:08.838Z"
      },
      {
        "duration": 23,
        "start_time": "2023-07-06T08:57:16.799Z"
      },
      {
        "duration": 5,
        "start_time": "2023-07-06T09:02:00.659Z"
      },
      {
        "duration": 15,
        "start_time": "2023-07-06T09:02:03.797Z"
      },
      {
        "duration": 15,
        "start_time": "2023-07-06T09:02:22.621Z"
      },
      {
        "duration": 9,
        "start_time": "2023-07-06T09:02:29.716Z"
      },
      {
        "duration": 6,
        "start_time": "2023-07-06T09:02:52.227Z"
      },
      {
        "duration": 10,
        "start_time": "2023-07-06T09:04:09.004Z"
      },
      {
        "duration": 11,
        "start_time": "2023-07-06T09:04:27.948Z"
      },
      {
        "duration": 10,
        "start_time": "2023-07-06T09:05:02.512Z"
      },
      {
        "duration": 176,
        "start_time": "2023-07-06T09:12:06.226Z"
      },
      {
        "duration": 136,
        "start_time": "2023-07-06T09:12:13.315Z"
      },
      {
        "duration": 128,
        "start_time": "2023-07-06T09:12:20.369Z"
      },
      {
        "duration": 16,
        "start_time": "2023-07-06T09:21:11.812Z"
      },
      {
        "duration": 5,
        "start_time": "2023-07-06T09:21:18.620Z"
      },
      {
        "duration": 16,
        "start_time": "2023-07-06T09:21:28.417Z"
      },
      {
        "duration": 139,
        "start_time": "2023-07-06T09:24:34.522Z"
      },
      {
        "duration": 29,
        "start_time": "2023-07-06T09:29:53.663Z"
      },
      {
        "duration": 8,
        "start_time": "2023-07-06T09:32:27.574Z"
      },
      {
        "duration": 23,
        "start_time": "2023-07-06T09:32:36.668Z"
      },
      {
        "duration": 16,
        "start_time": "2023-07-06T09:32:42.190Z"
      },
      {
        "duration": 3558,
        "start_time": "2023-07-06T09:33:52.572Z"
      },
      {
        "duration": 283,
        "start_time": "2023-07-06T09:35:51.624Z"
      },
      {
        "duration": 27045,
        "start_time": "2023-07-06T09:35:58.419Z"
      },
      {
        "duration": 26395,
        "start_time": "2023-07-06T09:37:19.768Z"
      },
      {
        "duration": 17,
        "start_time": "2023-07-06T09:44:26.803Z"
      },
      {
        "duration": 11717,
        "start_time": "2023-07-06T09:44:49.990Z"
      },
      {
        "duration": 16,
        "start_time": "2023-07-06T09:45:01.710Z"
      },
      {
        "duration": 12,
        "start_time": "2023-07-06T09:47:02.334Z"
      },
      {
        "duration": 2,
        "start_time": "2023-07-06T09:47:39.845Z"
      },
      {
        "duration": 15704,
        "start_time": "2023-07-06T09:47:41.948Z"
      },
      {
        "duration": 751,
        "start_time": "2023-07-06T09:48:06.403Z"
      },
      {
        "duration": 111,
        "start_time": "2023-07-06T09:48:23.643Z"
      },
      {
        "duration": 76,
        "start_time": "2023-07-06T09:48:43.586Z"
      },
      {
        "duration": 3,
        "start_time": "2023-07-06T09:49:54.454Z"
      },
      {
        "duration": 477198,
        "start_time": "2023-07-06T09:50:01.763Z"
      },
      {
        "duration": 17,
        "start_time": "2023-07-06T10:05:17.512Z"
      },
      {
        "duration": 396,
        "start_time": "2023-07-06T10:08:11.408Z"
      },
      {
        "duration": 23,
        "start_time": "2023-07-06T10:08:17.736Z"
      },
      {
        "duration": 13,
        "start_time": "2023-07-06T10:08:57.593Z"
      },
      {
        "duration": 6,
        "start_time": "2023-07-06T10:15:17.762Z"
      },
      {
        "duration": 16,
        "start_time": "2023-07-06T10:15:22.200Z"
      },
      {
        "duration": 16,
        "start_time": "2023-07-06T10:16:39.572Z"
      },
      {
        "duration": 16,
        "start_time": "2023-07-06T10:16:46.355Z"
      },
      {
        "duration": 16,
        "start_time": "2023-07-06T10:17:27.615Z"
      },
      {
        "duration": 15,
        "start_time": "2023-07-06T10:26:15.190Z"
      },
      {
        "duration": 14,
        "start_time": "2023-07-06T10:27:20.155Z"
      },
      {
        "duration": 13,
        "start_time": "2023-07-06T10:28:14.157Z"
      },
      {
        "duration": 1123,
        "start_time": "2023-07-06T10:28:19.345Z"
      },
      {
        "duration": 9384,
        "start_time": "2023-07-06T10:28:30.589Z"
      },
      {
        "duration": 17,
        "start_time": "2023-07-06T10:33:12.395Z"
      },
      {
        "duration": 14,
        "start_time": "2023-07-06T10:33:17.993Z"
      },
      {
        "duration": 14,
        "start_time": "2023-07-06T10:38:38.751Z"
      },
      {
        "duration": 1263,
        "start_time": "2023-07-06T10:50:01.153Z"
      },
      {
        "duration": 4560,
        "start_time": "2023-07-06T10:50:02.419Z"
      },
      {
        "duration": 270,
        "start_time": "2023-07-06T10:50:06.982Z"
      },
      {
        "duration": 2395,
        "start_time": "2023-07-06T10:50:07.254Z"
      },
      {
        "duration": 710,
        "start_time": "2023-07-06T10:50:09.653Z"
      },
      {
        "duration": 105,
        "start_time": "2023-07-06T10:50:10.365Z"
      },
      {
        "duration": 4,
        "start_time": "2023-07-06T10:50:10.472Z"
      },
      {
        "duration": 60,
        "start_time": "2023-07-06T10:50:10.479Z"
      },
      {
        "duration": 10,
        "start_time": "2023-07-06T10:50:10.560Z"
      },
      {
        "duration": 95,
        "start_time": "2023-07-06T10:50:10.572Z"
      },
      {
        "duration": 9,
        "start_time": "2023-07-06T10:50:10.669Z"
      },
      {
        "duration": 21,
        "start_time": "2023-07-06T10:50:10.679Z"
      },
      {
        "duration": 34,
        "start_time": "2023-07-06T10:50:10.701Z"
      },
      {
        "duration": 17,
        "start_time": "2023-07-06T10:50:10.740Z"
      },
      {
        "duration": 18,
        "start_time": "2023-07-06T10:50:10.759Z"
      },
      {
        "duration": 20,
        "start_time": "2023-07-06T10:50:10.779Z"
      },
      {
        "duration": 85,
        "start_time": "2023-07-06T10:50:10.801Z"
      },
      {
        "duration": 9,
        "start_time": "2023-07-06T10:50:10.888Z"
      },
      {
        "duration": 34,
        "start_time": "2023-07-06T10:50:10.902Z"
      },
      {
        "duration": 8,
        "start_time": "2023-07-06T10:50:10.958Z"
      },
      {
        "duration": 16,
        "start_time": "2023-07-06T10:50:10.968Z"
      },
      {
        "duration": 19,
        "start_time": "2023-07-06T10:50:10.986Z"
      },
      {
        "duration": 20,
        "start_time": "2023-07-06T10:50:11.006Z"
      },
      {
        "duration": 42,
        "start_time": "2023-07-06T10:50:11.028Z"
      },
      {
        "duration": 48,
        "start_time": "2023-07-06T10:50:11.072Z"
      },
      {
        "duration": 32,
        "start_time": "2023-07-06T10:50:11.122Z"
      },
      {
        "duration": 20,
        "start_time": "2023-07-06T10:50:11.156Z"
      },
      {
        "duration": 11,
        "start_time": "2023-07-06T10:50:11.178Z"
      },
      {
        "duration": 18,
        "start_time": "2023-07-06T10:50:11.191Z"
      },
      {
        "duration": 22,
        "start_time": "2023-07-06T10:50:11.211Z"
      },
      {
        "duration": 57,
        "start_time": "2023-07-06T10:50:11.234Z"
      },
      {
        "duration": 20,
        "start_time": "2023-07-06T10:50:11.293Z"
      },
      {
        "duration": 23,
        "start_time": "2023-07-06T10:50:11.315Z"
      },
      {
        "duration": 15,
        "start_time": "2023-07-06T10:50:11.342Z"
      },
      {
        "duration": 147,
        "start_time": "2023-07-06T10:50:11.360Z"
      },
      {
        "duration": 5,
        "start_time": "2023-07-06T10:50:11.509Z"
      },
      {
        "duration": 30,
        "start_time": "2023-07-06T10:50:11.516Z"
      },
      {
        "duration": 37,
        "start_time": "2023-07-06T10:50:11.548Z"
      },
      {
        "duration": 14,
        "start_time": "2023-07-06T10:50:11.587Z"
      },
      {
        "duration": 41,
        "start_time": "2023-07-06T10:50:11.602Z"
      },
      {
        "duration": 8,
        "start_time": "2023-07-06T10:50:11.647Z"
      },
      {
        "duration": 19,
        "start_time": "2023-07-06T10:50:11.658Z"
      },
      {
        "duration": 6,
        "start_time": "2023-07-06T10:50:11.679Z"
      },
      {
        "duration": 37,
        "start_time": "2023-07-06T10:50:11.686Z"
      },
      {
        "duration": 31,
        "start_time": "2023-07-06T10:50:11.725Z"
      },
      {
        "duration": 11,
        "start_time": "2023-07-06T10:50:11.758Z"
      },
      {
        "duration": 1314,
        "start_time": "2023-07-06T10:50:11.770Z"
      },
      {
        "duration": 10093,
        "start_time": "2023-07-06T10:50:13.086Z"
      },
      {
        "duration": 14,
        "start_time": "2023-07-06T10:50:23.181Z"
      },
      {
        "duration": 1243,
        "start_time": "2023-07-06T11:01:36.245Z"
      },
      {
        "duration": 4293,
        "start_time": "2023-07-06T11:01:37.490Z"
      },
      {
        "duration": 237,
        "start_time": "2023-07-06T11:01:41.785Z"
      },
      {
        "duration": 2352,
        "start_time": "2023-07-06T11:01:42.024Z"
      },
      {
        "duration": 693,
        "start_time": "2023-07-06T11:01:44.379Z"
      },
      {
        "duration": 110,
        "start_time": "2023-07-06T11:01:45.075Z"
      },
      {
        "duration": 4,
        "start_time": "2023-07-06T11:01:45.186Z"
      },
      {
        "duration": 69,
        "start_time": "2023-07-06T11:01:45.192Z"
      },
      {
        "duration": 8,
        "start_time": "2023-07-06T11:01:45.263Z"
      },
      {
        "duration": 105,
        "start_time": "2023-07-06T11:01:45.273Z"
      },
      {
        "duration": 8,
        "start_time": "2023-07-06T11:01:45.380Z"
      },
      {
        "duration": 12,
        "start_time": "2023-07-06T11:01:45.390Z"
      },
      {
        "duration": 28,
        "start_time": "2023-07-06T11:01:45.404Z"
      },
      {
        "duration": 34,
        "start_time": "2023-07-06T11:01:45.435Z"
      },
      {
        "duration": 14,
        "start_time": "2023-07-06T11:01:45.471Z"
      },
      {
        "duration": 7,
        "start_time": "2023-07-06T11:01:45.488Z"
      },
      {
        "duration": 87,
        "start_time": "2023-07-06T11:01:45.497Z"
      },
      {
        "duration": 7,
        "start_time": "2023-07-06T11:01:45.586Z"
      },
      {
        "duration": 64,
        "start_time": "2023-07-06T11:01:45.595Z"
      },
      {
        "duration": 9,
        "start_time": "2023-07-06T11:01:45.661Z"
      },
      {
        "duration": 5,
        "start_time": "2023-07-06T11:01:45.672Z"
      },
      {
        "duration": 17,
        "start_time": "2023-07-06T11:01:45.678Z"
      },
      {
        "duration": 11,
        "start_time": "2023-07-06T11:01:45.697Z"
      },
      {
        "duration": 11,
        "start_time": "2023-07-06T11:01:45.710Z"
      },
      {
        "duration": 51,
        "start_time": "2023-07-06T11:01:45.723Z"
      },
      {
        "duration": 16,
        "start_time": "2023-07-06T11:01:45.776Z"
      },
      {
        "duration": 9,
        "start_time": "2023-07-06T11:01:45.794Z"
      },
      {
        "duration": 13,
        "start_time": "2023-07-06T11:01:45.804Z"
      },
      {
        "duration": 10,
        "start_time": "2023-07-06T11:01:45.819Z"
      },
      {
        "duration": 29,
        "start_time": "2023-07-06T11:01:45.830Z"
      },
      {
        "duration": 24,
        "start_time": "2023-07-06T11:01:45.861Z"
      },
      {
        "duration": 8,
        "start_time": "2023-07-06T11:01:54.159Z"
      },
      {
        "duration": 27,
        "start_time": "2023-07-06T11:02:08.586Z"
      },
      {
        "duration": 10,
        "start_time": "2023-07-06T11:02:25.401Z"
      },
      {
        "duration": 11,
        "start_time": "2023-07-06T11:02:29.657Z"
      },
      {
        "duration": 153,
        "start_time": "2023-07-06T11:03:03.557Z"
      },
      {
        "duration": 4,
        "start_time": "2023-07-06T11:03:17.095Z"
      },
      {
        "duration": 17,
        "start_time": "2023-07-06T11:03:17.998Z"
      },
      {
        "duration": 16,
        "start_time": "2023-07-06T11:03:23.270Z"
      },
      {
        "duration": 14,
        "start_time": "2023-07-06T11:03:27.817Z"
      },
      {
        "duration": 45,
        "start_time": "2023-07-06T11:04:20.191Z"
      },
      {
        "duration": 14,
        "start_time": "2023-07-06T11:04:23.360Z"
      },
      {
        "duration": 5,
        "start_time": "2023-07-06T11:04:31.901Z"
      },
      {
        "duration": 17,
        "start_time": "2023-07-06T11:04:40.693Z"
      },
      {
        "duration": 9,
        "start_time": "2023-07-06T11:04:45.895Z"
      },
      {
        "duration": 28,
        "start_time": "2023-07-06T11:07:07.956Z"
      },
      {
        "duration": 11,
        "start_time": "2023-07-06T11:07:08.865Z"
      },
      {
        "duration": 1256,
        "start_time": "2023-07-06T11:07:12.544Z"
      },
      {
        "duration": 9737,
        "start_time": "2023-07-06T11:07:16.460Z"
      },
      {
        "duration": 1134,
        "start_time": "2023-07-07T02:10:12.288Z"
      },
      {
        "duration": 4101,
        "start_time": "2023-07-07T02:10:13.424Z"
      },
      {
        "duration": 1472,
        "start_time": "2023-07-07T02:10:17.527Z"
      },
      {
        "duration": 8736,
        "start_time": "2023-07-07T02:10:19.001Z"
      },
      {
        "duration": 108,
        "start_time": "2023-07-07T02:10:27.739Z"
      },
      {
        "duration": 0,
        "start_time": "2023-07-07T02:10:27.849Z"
      },
      {
        "duration": 0,
        "start_time": "2023-07-07T02:10:27.850Z"
      },
      {
        "duration": 0,
        "start_time": "2023-07-07T02:10:27.851Z"
      },
      {
        "duration": 0,
        "start_time": "2023-07-07T02:10:27.852Z"
      },
      {
        "duration": 0,
        "start_time": "2023-07-07T02:10:27.853Z"
      },
      {
        "duration": 0,
        "start_time": "2023-07-07T02:10:27.854Z"
      },
      {
        "duration": 0,
        "start_time": "2023-07-07T02:10:27.855Z"
      },
      {
        "duration": 0,
        "start_time": "2023-07-07T02:10:27.856Z"
      },
      {
        "duration": 0,
        "start_time": "2023-07-07T02:10:27.856Z"
      },
      {
        "duration": 0,
        "start_time": "2023-07-07T02:10:27.857Z"
      },
      {
        "duration": 0,
        "start_time": "2023-07-07T02:10:27.858Z"
      },
      {
        "duration": 0,
        "start_time": "2023-07-07T02:10:27.859Z"
      },
      {
        "duration": 0,
        "start_time": "2023-07-07T02:10:27.860Z"
      },
      {
        "duration": 0,
        "start_time": "2023-07-07T02:10:27.861Z"
      },
      {
        "duration": 0,
        "start_time": "2023-07-07T02:10:27.862Z"
      },
      {
        "duration": 0,
        "start_time": "2023-07-07T02:10:27.862Z"
      },
      {
        "duration": 0,
        "start_time": "2023-07-07T02:10:27.863Z"
      },
      {
        "duration": 0,
        "start_time": "2023-07-07T02:10:27.865Z"
      },
      {
        "duration": 0,
        "start_time": "2023-07-07T02:10:27.866Z"
      },
      {
        "duration": 0,
        "start_time": "2023-07-07T02:10:27.867Z"
      },
      {
        "duration": 0,
        "start_time": "2023-07-07T02:10:27.868Z"
      },
      {
        "duration": 0,
        "start_time": "2023-07-07T02:10:27.869Z"
      },
      {
        "duration": 0,
        "start_time": "2023-07-07T02:10:27.899Z"
      },
      {
        "duration": 0,
        "start_time": "2023-07-07T02:10:27.901Z"
      },
      {
        "duration": 0,
        "start_time": "2023-07-07T02:10:27.902Z"
      },
      {
        "duration": 0,
        "start_time": "2023-07-07T02:10:27.903Z"
      },
      {
        "duration": 0,
        "start_time": "2023-07-07T02:10:27.904Z"
      },
      {
        "duration": 0,
        "start_time": "2023-07-07T02:10:27.905Z"
      },
      {
        "duration": 0,
        "start_time": "2023-07-07T02:10:27.906Z"
      },
      {
        "duration": 0,
        "start_time": "2023-07-07T02:10:27.907Z"
      },
      {
        "duration": 0,
        "start_time": "2023-07-07T02:10:27.908Z"
      },
      {
        "duration": 0,
        "start_time": "2023-07-07T02:10:27.909Z"
      },
      {
        "duration": 0,
        "start_time": "2023-07-07T02:10:27.910Z"
      },
      {
        "duration": 0,
        "start_time": "2023-07-07T02:10:27.911Z"
      },
      {
        "duration": 0,
        "start_time": "2023-07-07T02:10:27.912Z"
      },
      {
        "duration": 0,
        "start_time": "2023-07-07T02:10:27.913Z"
      },
      {
        "duration": 0,
        "start_time": "2023-07-07T02:10:27.915Z"
      },
      {
        "duration": 0,
        "start_time": "2023-07-07T02:10:27.916Z"
      },
      {
        "duration": 0,
        "start_time": "2023-07-07T02:10:27.917Z"
      },
      {
        "duration": 0,
        "start_time": "2023-07-07T02:10:27.918Z"
      },
      {
        "duration": 0,
        "start_time": "2023-07-07T02:10:27.919Z"
      },
      {
        "duration": 0,
        "start_time": "2023-07-07T02:10:27.920Z"
      },
      {
        "duration": 0,
        "start_time": "2023-07-07T02:10:27.921Z"
      },
      {
        "duration": 0,
        "start_time": "2023-07-07T02:10:27.922Z"
      },
      {
        "duration": 0,
        "start_time": "2023-07-07T02:10:27.923Z"
      },
      {
        "duration": 1676,
        "start_time": "2023-07-07T03:39:56.277Z"
      },
      {
        "duration": 16683,
        "start_time": "2023-07-07T03:39:57.958Z"
      },
      {
        "duration": 328,
        "start_time": "2023-07-07T03:40:14.642Z"
      },
      {
        "duration": 19538,
        "start_time": "2023-07-07T03:40:14.971Z"
      },
      {
        "duration": 813,
        "start_time": "2023-07-07T03:40:43.444Z"
      },
      {
        "duration": 581,
        "start_time": "2023-07-07T03:40:58.187Z"
      },
      {
        "duration": 4,
        "start_time": "2023-07-07T03:42:37.442Z"
      },
      {
        "duration": 3,
        "start_time": "2023-07-07T03:45:40.392Z"
      },
      {
        "duration": 73,
        "start_time": "2023-07-07T03:45:43.884Z"
      },
      {
        "duration": 8,
        "start_time": "2023-07-07T03:57:04.261Z"
      },
      {
        "duration": 90,
        "start_time": "2023-07-07T03:57:07.198Z"
      },
      {
        "duration": 17,
        "start_time": "2023-07-07T03:57:08.424Z"
      },
      {
        "duration": 12,
        "start_time": "2023-07-07T03:57:09.418Z"
      },
      {
        "duration": 10,
        "start_time": "2023-07-07T03:57:29.185Z"
      },
      {
        "duration": 20,
        "start_time": "2023-07-07T04:02:54.134Z"
      },
      {
        "duration": 14,
        "start_time": "2023-07-07T04:02:56.780Z"
      },
      {
        "duration": 5,
        "start_time": "2023-07-07T04:02:57.876Z"
      },
      {
        "duration": 56,
        "start_time": "2023-07-07T04:03:05.035Z"
      },
      {
        "duration": 7,
        "start_time": "2023-07-07T04:03:06.791Z"
      },
      {
        "duration": 46,
        "start_time": "2023-07-07T04:03:09.516Z"
      },
      {
        "duration": 33,
        "start_time": "2023-07-07T04:03:11.296Z"
      },
      {
        "duration": 4,
        "start_time": "2023-07-07T04:03:14.850Z"
      },
      {
        "duration": 11,
        "start_time": "2023-07-07T04:03:15.764Z"
      },
      {
        "duration": 27,
        "start_time": "2023-07-07T04:03:16.798Z"
      },
      {
        "duration": 26,
        "start_time": "2023-07-07T04:03:18.502Z"
      },
      {
        "duration": 20,
        "start_time": "2023-07-07T04:03:23.342Z"
      },
      {
        "duration": 45,
        "start_time": "2023-07-07T04:03:25.998Z"
      },
      {
        "duration": 8,
        "start_time": "2023-07-07T04:03:28.382Z"
      },
      {
        "duration": 4,
        "start_time": "2023-07-07T04:03:29.150Z"
      },
      {
        "duration": 12,
        "start_time": "2023-07-07T04:03:32.955Z"
      },
      {
        "duration": 4,
        "start_time": "2023-07-07T04:03:44.663Z"
      },
      {
        "duration": 31,
        "start_time": "2023-07-07T04:03:45.617Z"
      },
      {
        "duration": 5,
        "start_time": "2023-07-07T04:03:58.150Z"
      },
      {
        "duration": 23,
        "start_time": "2023-07-07T04:03:58.834Z"
      },
      {
        "duration": 36,
        "start_time": "2023-07-07T04:04:00.826Z"
      },
      {
        "duration": 15,
        "start_time": "2023-07-07T04:04:01.546Z"
      },
      {
        "duration": 156,
        "start_time": "2023-07-07T04:04:05.479Z"
      },
      {
        "duration": 6,
        "start_time": "2023-07-07T04:04:12.442Z"
      },
      {
        "duration": 26,
        "start_time": "2023-07-07T04:04:13.224Z"
      },
      {
        "duration": 13,
        "start_time": "2023-07-07T04:04:20.470Z"
      },
      {
        "duration": 29,
        "start_time": "2023-07-07T04:04:21.591Z"
      },
      {
        "duration": 56,
        "start_time": "2023-07-07T04:04:27.797Z"
      },
      {
        "duration": 33,
        "start_time": "2023-07-07T04:04:33.188Z"
      },
      {
        "duration": 4,
        "start_time": "2023-07-07T04:04:36.255Z"
      },
      {
        "duration": 23,
        "start_time": "2023-07-07T04:04:37.043Z"
      },
      {
        "duration": 21,
        "start_time": "2023-07-07T04:04:37.996Z"
      },
      {
        "duration": 38,
        "start_time": "2023-07-07T04:04:44.982Z"
      },
      {
        "duration": 11,
        "start_time": "2023-07-07T04:04:45.642Z"
      },
      {
        "duration": 1283,
        "start_time": "2023-07-07T04:04:46.653Z"
      },
      {
        "duration": 10975,
        "start_time": "2023-07-07T04:04:49.997Z"
      },
      {
        "duration": 24,
        "start_time": "2023-07-07T04:05:04.630Z"
      },
      {
        "duration": 1471,
        "start_time": "2023-07-07T04:25:10.356Z"
      },
      {
        "duration": 7993,
        "start_time": "2023-07-07T04:25:11.828Z"
      },
      {
        "duration": 573,
        "start_time": "2023-07-07T04:25:19.822Z"
      },
      {
        "duration": 3000,
        "start_time": "2023-07-07T04:25:20.396Z"
      },
      {
        "duration": 11,
        "start_time": "2023-07-07T04:25:23.399Z"
      },
      {
        "duration": 461,
        "start_time": "2023-07-07T04:25:23.411Z"
      },
      {
        "duration": 4,
        "start_time": "2023-07-07T04:25:23.874Z"
      },
      {
        "duration": 87,
        "start_time": "2023-07-07T04:25:23.879Z"
      },
      {
        "duration": 8,
        "start_time": "2023-07-07T04:25:23.967Z"
      },
      {
        "duration": 74,
        "start_time": "2023-07-07T04:25:23.976Z"
      },
      {
        "duration": 6,
        "start_time": "2023-07-07T04:25:24.052Z"
      },
      {
        "duration": 19,
        "start_time": "2023-07-07T04:25:24.060Z"
      },
      {
        "duration": 37,
        "start_time": "2023-07-07T04:25:24.080Z"
      },
      {
        "duration": 40,
        "start_time": "2023-07-07T04:25:24.122Z"
      },
      {
        "duration": 15,
        "start_time": "2023-07-07T04:25:24.164Z"
      },
      {
        "duration": 9,
        "start_time": "2023-07-07T04:25:24.181Z"
      },
      {
        "duration": 77,
        "start_time": "2023-07-07T04:25:24.191Z"
      },
      {
        "duration": 6,
        "start_time": "2023-07-07T04:25:24.269Z"
      },
      {
        "duration": 66,
        "start_time": "2023-07-07T04:25:24.276Z"
      },
      {
        "duration": 7,
        "start_time": "2023-07-07T04:25:24.346Z"
      },
      {
        "duration": 6,
        "start_time": "2023-07-07T04:25:24.354Z"
      },
      {
        "duration": 26,
        "start_time": "2023-07-07T04:25:24.362Z"
      },
      {
        "duration": 33,
        "start_time": "2023-07-07T04:25:24.390Z"
      },
      {
        "duration": 32,
        "start_time": "2023-07-07T04:25:24.425Z"
      },
      {
        "duration": 14,
        "start_time": "2023-07-07T04:25:24.459Z"
      },
      {
        "duration": 92,
        "start_time": "2023-07-07T04:25:24.475Z"
      },
      {
        "duration": 12,
        "start_time": "2023-07-07T04:25:24.569Z"
      },
      {
        "duration": 4,
        "start_time": "2023-07-07T04:25:24.583Z"
      },
      {
        "duration": 62,
        "start_time": "2023-07-07T04:25:24.589Z"
      },
      {
        "duration": 25,
        "start_time": "2023-07-07T04:25:24.652Z"
      },
      {
        "duration": 54,
        "start_time": "2023-07-07T04:25:24.679Z"
      },
      {
        "duration": 16,
        "start_time": "2023-07-07T04:25:24.736Z"
      },
      {
        "duration": 37,
        "start_time": "2023-07-07T04:25:24.754Z"
      },
      {
        "duration": 65,
        "start_time": "2023-07-07T04:25:24.793Z"
      },
      {
        "duration": 30,
        "start_time": "2023-07-07T04:25:24.860Z"
      },
      {
        "duration": 184,
        "start_time": "2023-07-07T04:25:24.892Z"
      },
      {
        "duration": 5,
        "start_time": "2023-07-07T04:25:25.078Z"
      },
      {
        "duration": 76,
        "start_time": "2023-07-07T04:25:25.085Z"
      },
      {
        "duration": 25,
        "start_time": "2023-07-07T04:25:25.163Z"
      },
      {
        "duration": 35,
        "start_time": "2023-07-07T04:25:25.190Z"
      },
      {
        "duration": 51,
        "start_time": "2023-07-07T04:25:25.240Z"
      },
      {
        "duration": 41,
        "start_time": "2023-07-07T04:25:25.293Z"
      },
      {
        "duration": 35,
        "start_time": "2023-07-07T04:25:25.338Z"
      },
      {
        "duration": 21,
        "start_time": "2023-07-07T04:25:25.374Z"
      },
      {
        "duration": 70,
        "start_time": "2023-07-07T04:25:25.397Z"
      },
      {
        "duration": 41,
        "start_time": "2023-07-07T04:25:25.469Z"
      },
      {
        "duration": 15,
        "start_time": "2023-07-07T04:25:25.511Z"
      },
      {
        "duration": 1266,
        "start_time": "2023-07-07T04:25:25.528Z"
      },
      {
        "duration": 4,
        "start_time": "2023-07-07T04:55:02.455Z"
      },
      {
        "duration": 36,
        "start_time": "2023-07-07T04:55:04.181Z"
      },
      {
        "duration": 4,
        "start_time": "2023-07-07T04:55:54.886Z"
      },
      {
        "duration": 1206,
        "start_time": "2023-07-07T04:58:27.515Z"
      },
      {
        "duration": 4921,
        "start_time": "2023-07-07T04:58:28.723Z"
      },
      {
        "duration": 339,
        "start_time": "2023-07-07T04:58:33.645Z"
      },
      {
        "duration": 2653,
        "start_time": "2023-07-07T04:58:33.986Z"
      },
      {
        "duration": 4,
        "start_time": "2023-07-07T04:58:36.641Z"
      },
      {
        "duration": 128,
        "start_time": "2023-07-07T04:58:36.647Z"
      },
      {
        "duration": 5,
        "start_time": "2023-07-07T04:58:36.776Z"
      },
      {
        "duration": 71,
        "start_time": "2023-07-07T04:58:36.782Z"
      },
      {
        "duration": 8,
        "start_time": "2023-07-07T04:58:36.855Z"
      },
      {
        "duration": 103,
        "start_time": "2023-07-07T04:58:36.867Z"
      },
      {
        "duration": 7,
        "start_time": "2023-07-07T04:58:36.972Z"
      },
      {
        "duration": 9,
        "start_time": "2023-07-07T04:58:36.981Z"
      },
      {
        "duration": 25,
        "start_time": "2023-07-07T04:58:36.992Z"
      },
      {
        "duration": 35,
        "start_time": "2023-07-07T04:58:37.018Z"
      },
      {
        "duration": 15,
        "start_time": "2023-07-07T04:58:37.054Z"
      },
      {
        "duration": 9,
        "start_time": "2023-07-07T04:58:37.071Z"
      },
      {
        "duration": 79,
        "start_time": "2023-07-07T04:58:37.082Z"
      },
      {
        "duration": 7,
        "start_time": "2023-07-07T04:58:37.163Z"
      },
      {
        "duration": 60,
        "start_time": "2023-07-07T04:58:37.171Z"
      },
      {
        "duration": 12,
        "start_time": "2023-07-07T04:58:37.238Z"
      },
      {
        "duration": 5,
        "start_time": "2023-07-07T04:58:37.251Z"
      },
      {
        "duration": 15,
        "start_time": "2023-07-07T04:58:37.257Z"
      },
      {
        "duration": 9,
        "start_time": "2023-07-07T04:58:37.273Z"
      },
      {
        "duration": 11,
        "start_time": "2023-07-07T04:58:37.283Z"
      },
      {
        "duration": 41,
        "start_time": "2023-07-07T04:58:37.296Z"
      },
      {
        "duration": 16,
        "start_time": "2023-07-07T04:58:37.342Z"
      },
      {
        "duration": 9,
        "start_time": "2023-07-07T04:58:37.359Z"
      },
      {
        "duration": 4,
        "start_time": "2023-07-07T04:58:37.373Z"
      },
      {
        "duration": 14,
        "start_time": "2023-07-07T04:58:37.379Z"
      },
      {
        "duration": 47,
        "start_time": "2023-07-07T04:58:37.395Z"
      },
      {
        "duration": 35,
        "start_time": "2023-07-07T04:58:37.445Z"
      },
      {
        "duration": 14,
        "start_time": "2023-07-07T04:58:37.482Z"
      },
      {
        "duration": 65,
        "start_time": "2023-07-07T04:58:37.498Z"
      },
      {
        "duration": 19,
        "start_time": "2023-07-07T04:58:37.564Z"
      },
      {
        "duration": 32,
        "start_time": "2023-07-07T04:58:37.585Z"
      },
      {
        "duration": 138,
        "start_time": "2023-07-07T04:58:37.629Z"
      },
      {
        "duration": 6,
        "start_time": "2023-07-07T04:58:37.768Z"
      },
      {
        "duration": 5,
        "start_time": "2023-07-07T04:58:37.776Z"
      },
      {
        "duration": 76,
        "start_time": "2023-07-07T04:58:37.782Z"
      },
      {
        "duration": 17,
        "start_time": "2023-07-07T04:58:37.860Z"
      },
      {
        "duration": 32,
        "start_time": "2023-07-07T04:58:37.879Z"
      },
      {
        "duration": 220,
        "start_time": "2023-07-07T04:58:37.912Z"
      },
      {
        "duration": 0,
        "start_time": "2023-07-07T04:58:38.136Z"
      },
      {
        "duration": 1,
        "start_time": "2023-07-07T04:58:38.143Z"
      },
      {
        "duration": 0,
        "start_time": "2023-07-07T04:58:38.147Z"
      },
      {
        "duration": 0,
        "start_time": "2023-07-07T04:58:38.148Z"
      },
      {
        "duration": 0,
        "start_time": "2023-07-07T04:58:38.153Z"
      },
      {
        "duration": 0,
        "start_time": "2023-07-07T04:58:38.154Z"
      },
      {
        "duration": 1,
        "start_time": "2023-07-07T04:58:38.155Z"
      },
      {
        "duration": 1191,
        "start_time": "2023-07-07T04:59:12.959Z"
      },
      {
        "duration": 5682,
        "start_time": "2023-07-07T04:59:14.152Z"
      },
      {
        "duration": 291,
        "start_time": "2023-07-07T04:59:19.836Z"
      },
      {
        "duration": 2761,
        "start_time": "2023-07-07T04:59:20.131Z"
      },
      {
        "duration": 6,
        "start_time": "2023-07-07T04:59:22.895Z"
      },
      {
        "duration": 155,
        "start_time": "2023-07-07T04:59:22.903Z"
      },
      {
        "duration": 4,
        "start_time": "2023-07-07T04:59:23.060Z"
      },
      {
        "duration": 72,
        "start_time": "2023-07-07T04:59:23.066Z"
      },
      {
        "duration": 8,
        "start_time": "2023-07-07T04:59:23.140Z"
      },
      {
        "duration": 83,
        "start_time": "2023-07-07T04:59:23.149Z"
      },
      {
        "duration": 8,
        "start_time": "2023-07-07T04:59:23.233Z"
      },
      {
        "duration": 6,
        "start_time": "2023-07-07T04:59:23.243Z"
      },
      {
        "duration": 10,
        "start_time": "2023-07-07T04:59:23.250Z"
      },
      {
        "duration": 14,
        "start_time": "2023-07-07T04:59:23.263Z"
      },
      {
        "duration": 31,
        "start_time": "2023-07-07T04:59:23.305Z"
      },
      {
        "duration": 10,
        "start_time": "2023-07-07T04:59:23.338Z"
      },
      {
        "duration": 86,
        "start_time": "2023-07-07T04:59:23.349Z"
      },
      {
        "duration": 6,
        "start_time": "2023-07-07T04:59:23.437Z"
      },
      {
        "duration": 34,
        "start_time": "2023-07-07T04:59:23.444Z"
      },
      {
        "duration": 6,
        "start_time": "2023-07-07T04:59:23.480Z"
      },
      {
        "duration": 38,
        "start_time": "2023-07-07T04:59:23.507Z"
      },
      {
        "duration": 18,
        "start_time": "2023-07-07T04:59:23.547Z"
      },
      {
        "duration": 10,
        "start_time": "2023-07-07T04:59:23.566Z"
      },
      {
        "duration": 44,
        "start_time": "2023-07-07T04:59:23.577Z"
      },
      {
        "duration": 26,
        "start_time": "2023-07-07T04:59:23.629Z"
      },
      {
        "duration": 25,
        "start_time": "2023-07-07T04:59:23.657Z"
      },
      {
        "duration": 10,
        "start_time": "2023-07-07T04:59:23.684Z"
      },
      {
        "duration": 92,
        "start_time": "2023-07-07T04:59:23.696Z"
      },
      {
        "duration": 15,
        "start_time": "2023-07-07T04:59:23.790Z"
      },
      {
        "duration": 27,
        "start_time": "2023-07-07T04:59:23.811Z"
      },
      {
        "duration": 23,
        "start_time": "2023-07-07T04:59:23.839Z"
      },
      {
        "duration": 21,
        "start_time": "2023-07-07T04:59:23.863Z"
      },
      {
        "duration": 55,
        "start_time": "2023-07-07T04:59:23.886Z"
      },
      {
        "duration": 9,
        "start_time": "2023-07-07T04:59:23.942Z"
      },
      {
        "duration": 16,
        "start_time": "2023-07-07T04:59:23.953Z"
      },
      {
        "duration": 163,
        "start_time": "2023-07-07T04:59:23.971Z"
      },
      {
        "duration": 6,
        "start_time": "2023-07-07T04:59:24.136Z"
      },
      {
        "duration": 11,
        "start_time": "2023-07-07T04:59:24.144Z"
      },
      {
        "duration": 25,
        "start_time": "2023-07-07T04:59:24.157Z"
      },
      {
        "duration": 49,
        "start_time": "2023-07-07T04:59:24.184Z"
      },
      {
        "duration": 24,
        "start_time": "2023-07-07T04:59:24.242Z"
      },
      {
        "duration": 44,
        "start_time": "2023-07-07T04:59:24.268Z"
      },
      {
        "duration": 17,
        "start_time": "2023-07-07T04:59:24.314Z"
      },
      {
        "duration": 9,
        "start_time": "2023-07-07T04:59:24.333Z"
      },
      {
        "duration": 24,
        "start_time": "2023-07-07T04:59:24.344Z"
      },
      {
        "duration": 9,
        "start_time": "2023-07-07T04:59:24.370Z"
      },
      {
        "duration": 45,
        "start_time": "2023-07-07T04:59:24.380Z"
      },
      {
        "duration": 12,
        "start_time": "2023-07-07T04:59:24.427Z"
      },
      {
        "duration": 1218,
        "start_time": "2023-07-07T04:59:24.441Z"
      },
      {
        "duration": 1568,
        "start_time": "2023-07-08T03:56:29.161Z"
      },
      {
        "duration": 9305,
        "start_time": "2023-07-08T03:56:30.731Z"
      },
      {
        "duration": 14,
        "start_time": "2023-07-08T03:56:40.039Z"
      },
      {
        "duration": 14248,
        "start_time": "2023-07-08T03:56:40.054Z"
      },
      {
        "duration": 2,
        "start_time": "2023-07-08T03:56:54.305Z"
      },
      {
        "duration": 8,
        "start_time": "2023-07-08T03:56:54.309Z"
      },
      {
        "duration": 312,
        "start_time": "2023-07-08T03:56:54.319Z"
      },
      {
        "duration": 3,
        "start_time": "2023-07-08T03:56:54.633Z"
      },
      {
        "duration": 90,
        "start_time": "2023-07-08T03:56:54.637Z"
      },
      {
        "duration": 7,
        "start_time": "2023-07-08T03:56:54.728Z"
      },
      {
        "duration": 82,
        "start_time": "2023-07-08T03:56:54.737Z"
      },
      {
        "duration": 6,
        "start_time": "2023-07-08T03:56:54.821Z"
      },
      {
        "duration": 9,
        "start_time": "2023-07-08T03:56:54.828Z"
      },
      {
        "duration": 36,
        "start_time": "2023-07-08T03:56:54.839Z"
      },
      {
        "duration": 14,
        "start_time": "2023-07-08T03:56:54.876Z"
      },
      {
        "duration": 28,
        "start_time": "2023-07-08T03:56:54.891Z"
      },
      {
        "duration": 13,
        "start_time": "2023-07-08T03:56:54.920Z"
      },
      {
        "duration": 59,
        "start_time": "2023-07-08T03:56:54.934Z"
      },
      {
        "duration": 6,
        "start_time": "2023-07-08T03:56:54.995Z"
      },
      {
        "duration": 38,
        "start_time": "2023-07-08T03:56:55.002Z"
      },
      {
        "duration": 6,
        "start_time": "2023-07-08T03:56:55.042Z"
      },
      {
        "duration": 41,
        "start_time": "2023-07-08T03:56:55.050Z"
      },
      {
        "duration": 14,
        "start_time": "2023-07-08T03:56:55.093Z"
      },
      {
        "duration": 10,
        "start_time": "2023-07-08T03:56:55.109Z"
      },
      {
        "duration": 11,
        "start_time": "2023-07-08T03:56:55.120Z"
      },
      {
        "duration": 14,
        "start_time": "2023-07-08T03:56:55.132Z"
      },
      {
        "duration": 29,
        "start_time": "2023-07-08T03:56:55.147Z"
      },
      {
        "duration": 11,
        "start_time": "2023-07-08T03:56:55.177Z"
      },
      {
        "duration": 4,
        "start_time": "2023-07-08T03:56:55.190Z"
      },
      {
        "duration": 15,
        "start_time": "2023-07-08T03:56:55.196Z"
      },
      {
        "duration": 15,
        "start_time": "2023-07-08T03:56:55.212Z"
      },
      {
        "duration": 35,
        "start_time": "2023-07-08T03:56:55.229Z"
      },
      {
        "duration": 8,
        "start_time": "2023-07-08T03:56:55.266Z"
      },
      {
        "duration": 21,
        "start_time": "2023-07-08T03:56:55.275Z"
      },
      {
        "duration": 18,
        "start_time": "2023-07-08T03:56:55.298Z"
      },
      {
        "duration": 8,
        "start_time": "2023-07-08T03:56:55.318Z"
      },
      {
        "duration": 128,
        "start_time": "2023-07-08T03:56:55.328Z"
      },
      {
        "duration": 5,
        "start_time": "2023-07-08T03:56:55.457Z"
      },
      {
        "duration": 13,
        "start_time": "2023-07-08T03:56:55.463Z"
      },
      {
        "duration": 30,
        "start_time": "2023-07-08T03:56:55.477Z"
      },
      {
        "duration": 21,
        "start_time": "2023-07-08T03:56:55.510Z"
      },
      {
        "duration": 13,
        "start_time": "2023-07-08T03:56:55.533Z"
      },
      {
        "duration": 33,
        "start_time": "2023-07-08T03:56:55.547Z"
      },
      {
        "duration": 10,
        "start_time": "2023-07-08T03:56:55.582Z"
      },
      {
        "duration": 7,
        "start_time": "2023-07-08T03:56:55.594Z"
      },
      {
        "duration": 21,
        "start_time": "2023-07-08T03:56:55.603Z"
      },
      {
        "duration": 9,
        "start_time": "2023-07-08T03:56:55.626Z"
      },
      {
        "duration": 43,
        "start_time": "2023-07-08T03:56:55.636Z"
      },
      {
        "duration": 9,
        "start_time": "2023-07-08T03:56:55.680Z"
      },
      {
        "duration": 1003,
        "start_time": "2023-07-08T03:56:55.690Z"
      },
      {
        "duration": 11,
        "start_time": "2023-07-08T03:56:56.695Z"
      },
      {
        "duration": 12,
        "start_time": "2023-07-08T03:59:09.161Z"
      },
      {
        "duration": 13,
        "start_time": "2023-07-08T03:59:42.502Z"
      },
      {
        "duration": 3,
        "start_time": "2023-07-08T04:12:46.936Z"
      },
      {
        "duration": 100,
        "start_time": "2023-07-08T04:12:48.593Z"
      },
      {
        "duration": 8,
        "start_time": "2023-07-08T04:13:15.251Z"
      },
      {
        "duration": 9,
        "start_time": "2023-07-08T04:13:41.786Z"
      },
      {
        "duration": 10,
        "start_time": "2023-07-08T04:13:56.897Z"
      },
      {
        "duration": 3,
        "start_time": "2023-07-08T04:17:46.142Z"
      },
      {
        "duration": 3,
        "start_time": "2023-07-08T04:18:11.007Z"
      },
      {
        "duration": 13,
        "start_time": "2023-07-08T04:22:22.524Z"
      },
      {
        "duration": 10,
        "start_time": "2023-07-08T04:23:37.553Z"
      },
      {
        "duration": 2075,
        "start_time": "2023-07-08T04:24:57.844Z"
      },
      {
        "duration": 17,
        "start_time": "2023-07-08T04:24:59.921Z"
      },
      {
        "duration": 11,
        "start_time": "2023-07-08T04:25:35.977Z"
      },
      {
        "duration": 9,
        "start_time": "2023-07-08T04:28:50.034Z"
      },
      {
        "duration": 10,
        "start_time": "2023-07-08T04:30:10.817Z"
      },
      {
        "duration": 4,
        "start_time": "2023-07-08T04:30:21.280Z"
      },
      {
        "duration": 13,
        "start_time": "2023-07-08T04:31:24.464Z"
      },
      {
        "duration": 12,
        "start_time": "2023-07-08T04:31:31.501Z"
      },
      {
        "duration": 15,
        "start_time": "2023-07-08T04:31:45.812Z"
      },
      {
        "duration": 13,
        "start_time": "2023-07-08T04:31:56.953Z"
      },
      {
        "duration": 4993,
        "start_time": "2023-07-08T04:34:00.197Z"
      },
      {
        "duration": 47,
        "start_time": "2023-07-08T04:34:05.192Z"
      },
      {
        "duration": 1331,
        "start_time": "2023-07-08T04:34:18.158Z"
      },
      {
        "duration": 3,
        "start_time": "2023-07-08T04:34:23.684Z"
      },
      {
        "duration": 253,
        "start_time": "2023-07-08T04:34:30.583Z"
      },
      {
        "duration": 2302,
        "start_time": "2023-07-08T04:34:31.704Z"
      },
      {
        "duration": 3,
        "start_time": "2023-07-08T04:34:37.438Z"
      },
      {
        "duration": 4,
        "start_time": "2023-07-08T04:34:39.121Z"
      },
      {
        "duration": 95,
        "start_time": "2023-07-08T04:34:39.779Z"
      },
      {
        "duration": 3,
        "start_time": "2023-07-08T04:34:44.703Z"
      },
      {
        "duration": 48,
        "start_time": "2023-07-08T04:34:45.117Z"
      },
      {
        "duration": 7,
        "start_time": "2023-07-08T04:34:47.088Z"
      },
      {
        "duration": 54,
        "start_time": "2023-07-08T04:34:47.968Z"
      },
      {
        "duration": 7,
        "start_time": "2023-07-08T04:34:48.416Z"
      },
      {
        "duration": 4,
        "start_time": "2023-07-08T04:34:48.842Z"
      },
      {
        "duration": 11,
        "start_time": "2023-07-08T04:34:49.406Z"
      },
      {
        "duration": 13,
        "start_time": "2023-07-08T04:34:50.081Z"
      },
      {
        "duration": 13,
        "start_time": "2023-07-08T04:34:50.583Z"
      },
      {
        "duration": 6,
        "start_time": "2023-07-08T04:34:51.039Z"
      },
      {
        "duration": 45,
        "start_time": "2023-07-08T04:34:53.400Z"
      },
      {
        "duration": 7,
        "start_time": "2023-07-08T04:34:53.579Z"
      },
      {
        "duration": 30,
        "start_time": "2023-07-08T04:34:54.439Z"
      },
      {
        "duration": 7,
        "start_time": "2023-07-08T04:34:54.630Z"
      },
      {
        "duration": 3,
        "start_time": "2023-07-08T04:34:56.064Z"
      },
      {
        "duration": 11,
        "start_time": "2023-07-08T04:34:56.495Z"
      },
      {
        "duration": 9,
        "start_time": "2023-07-08T04:34:56.733Z"
      },
      {
        "duration": 9,
        "start_time": "2023-07-08T04:34:57.174Z"
      },
      {
        "duration": 15,
        "start_time": "2023-07-08T04:34:57.368Z"
      },
      {
        "duration": 15,
        "start_time": "2023-07-08T04:34:57.525Z"
      },
      {
        "duration": 9,
        "start_time": "2023-07-08T04:34:57.696Z"
      },
      {
        "duration": 4,
        "start_time": "2023-07-08T04:34:58.262Z"
      },
      {
        "duration": 9,
        "start_time": "2023-07-08T04:34:58.983Z"
      },
      {
        "duration": 5,
        "start_time": "2023-07-08T04:35:00.223Z"
      },
      {
        "duration": 21,
        "start_time": "2023-07-08T04:35:00.442Z"
      },
      {
        "duration": 4,
        "start_time": "2023-07-08T04:35:00.822Z"
      },
      {
        "duration": 22,
        "start_time": "2023-07-08T04:35:01.201Z"
      },
      {
        "duration": 8,
        "start_time": "2023-07-08T04:35:01.760Z"
      },
      {
        "duration": 10,
        "start_time": "2023-07-08T04:35:02.129Z"
      },
      {
        "duration": 136,
        "start_time": "2023-07-08T04:35:02.512Z"
      },
      {
        "duration": 4,
        "start_time": "2023-07-08T04:35:03.703Z"
      },
      {
        "duration": 4,
        "start_time": "2023-07-08T04:35:03.880Z"
      },
      {
        "duration": 15,
        "start_time": "2023-07-08T04:35:04.046Z"
      },
      {
        "duration": 14,
        "start_time": "2023-07-08T04:35:04.331Z"
      },
      {
        "duration": 12,
        "start_time": "2023-07-08T04:35:04.539Z"
      },
      {
        "duration": 30,
        "start_time": "2023-07-08T04:35:05.315Z"
      },
      {
        "duration": 11,
        "start_time": "2023-07-08T04:35:05.623Z"
      },
      {
        "duration": 5,
        "start_time": "2023-07-08T04:35:05.896Z"
      },
      {
        "duration": 14,
        "start_time": "2023-07-08T04:35:06.118Z"
      },
      {
        "duration": 9,
        "start_time": "2023-07-08T04:35:06.311Z"
      },
      {
        "duration": 26,
        "start_time": "2023-07-08T04:35:06.673Z"
      },
      {
        "duration": 9,
        "start_time": "2023-07-08T04:35:07.177Z"
      },
      {
        "duration": 1019,
        "start_time": "2023-07-08T04:35:07.390Z"
      },
      {
        "duration": 14,
        "start_time": "2023-07-08T04:35:10.189Z"
      },
      {
        "duration": 3,
        "start_time": "2023-07-08T04:35:11.168Z"
      },
      {
        "duration": 3,
        "start_time": "2023-07-08T04:35:12.377Z"
      },
      {
        "duration": 4,
        "start_time": "2023-07-08T04:35:16.630Z"
      },
      {
        "duration": 89,
        "start_time": "2023-07-08T04:35:36.562Z"
      },
      {
        "duration": 4171,
        "start_time": "2023-07-08T04:36:52.784Z"
      },
      {
        "duration": 1151,
        "start_time": "2023-07-08T04:36:56.957Z"
      },
      {
        "duration": 4,
        "start_time": "2023-07-08T04:36:58.109Z"
      },
      {
        "duration": 318,
        "start_time": "2023-07-08T04:36:58.115Z"
      },
      {
        "duration": 2527,
        "start_time": "2023-07-08T04:36:58.435Z"
      },
      {
        "duration": 3,
        "start_time": "2023-07-08T04:37:00.964Z"
      },
      {
        "duration": 34,
        "start_time": "2023-07-08T04:37:00.968Z"
      },
      {
        "duration": 131,
        "start_time": "2023-07-08T04:37:01.004Z"
      },
      {
        "duration": 4,
        "start_time": "2023-07-08T04:37:01.136Z"
      },
      {
        "duration": 91,
        "start_time": "2023-07-08T04:37:01.142Z"
      },
      {
        "duration": 8,
        "start_time": "2023-07-08T04:37:01.235Z"
      },
      {
        "duration": 95,
        "start_time": "2023-07-08T04:37:01.244Z"
      },
      {
        "duration": 7,
        "start_time": "2023-07-08T04:37:01.341Z"
      },
      {
        "duration": 48,
        "start_time": "2023-07-08T04:37:01.352Z"
      },
      {
        "duration": 38,
        "start_time": "2023-07-08T04:37:01.402Z"
      },
      {
        "duration": 40,
        "start_time": "2023-07-08T04:37:01.442Z"
      },
      {
        "duration": 44,
        "start_time": "2023-07-08T04:37:01.484Z"
      },
      {
        "duration": 34,
        "start_time": "2023-07-08T04:37:01.530Z"
      },
      {
        "duration": 101,
        "start_time": "2023-07-08T04:37:01.566Z"
      },
      {
        "duration": 8,
        "start_time": "2023-07-08T04:37:01.669Z"
      },
      {
        "duration": 77,
        "start_time": "2023-07-08T04:37:01.679Z"
      },
      {
        "duration": 8,
        "start_time": "2023-07-08T04:37:01.758Z"
      },
      {
        "duration": 42,
        "start_time": "2023-07-08T04:37:01.768Z"
      },
      {
        "duration": 64,
        "start_time": "2023-07-08T04:37:01.812Z"
      },
      {
        "duration": 27,
        "start_time": "2023-07-08T04:37:01.878Z"
      },
      {
        "duration": 23,
        "start_time": "2023-07-08T04:37:01.906Z"
      },
      {
        "duration": 33,
        "start_time": "2023-07-08T04:37:01.930Z"
      },
      {
        "duration": 32,
        "start_time": "2023-07-08T04:37:01.965Z"
      },
      {
        "duration": 26,
        "start_time": "2023-07-08T04:37:01.999Z"
      },
      {
        "duration": 21,
        "start_time": "2023-07-08T04:37:02.027Z"
      },
      {
        "duration": 40,
        "start_time": "2023-07-08T04:37:02.050Z"
      },
      {
        "duration": 20,
        "start_time": "2023-07-08T04:37:02.092Z"
      },
      {
        "duration": 29,
        "start_time": "2023-07-08T04:37:02.113Z"
      },
      {
        "duration": 46,
        "start_time": "2023-07-08T04:37:02.144Z"
      },
      {
        "duration": 65,
        "start_time": "2023-07-08T04:37:02.192Z"
      },
      {
        "duration": 27,
        "start_time": "2023-07-08T04:37:02.258Z"
      },
      {
        "duration": 17,
        "start_time": "2023-07-08T04:37:02.287Z"
      },
      {
        "duration": 138,
        "start_time": "2023-07-08T04:37:02.306Z"
      },
      {
        "duration": 5,
        "start_time": "2023-07-08T04:37:02.445Z"
      },
      {
        "duration": 13,
        "start_time": "2023-07-08T04:37:02.452Z"
      },
      {
        "duration": 18,
        "start_time": "2023-07-08T04:37:02.474Z"
      },
      {
        "duration": 19,
        "start_time": "2023-07-08T04:37:02.494Z"
      },
      {
        "duration": 13,
        "start_time": "2023-07-08T04:37:02.515Z"
      },
      {
        "duration": 2,
        "start_time": "2023-07-08T04:37:02.529Z"
      },
      {
        "duration": 14,
        "start_time": "2023-07-08T04:37:11.548Z"
      },
      {
        "duration": 5,
        "start_time": "2023-07-08T04:37:28.653Z"
      },
      {
        "duration": 16,
        "start_time": "2023-07-08T04:37:29.098Z"
      },
      {
        "duration": 10,
        "start_time": "2023-07-08T04:37:29.866Z"
      },
      {
        "duration": 10,
        "start_time": "2023-07-08T04:37:30.986Z"
      },
      {
        "duration": 11,
        "start_time": "2023-07-08T04:37:31.419Z"
      },
      {
        "duration": 1000,
        "start_time": "2023-07-08T04:37:31.592Z"
      },
      {
        "duration": 11,
        "start_time": "2023-07-08T04:37:35.050Z"
      },
      {
        "duration": 2,
        "start_time": "2023-07-08T04:37:36.052Z"
      },
      {
        "duration": 3,
        "start_time": "2023-07-08T04:37:36.851Z"
      },
      {
        "duration": 4,
        "start_time": "2023-07-08T04:37:38.212Z"
      },
      {
        "duration": 130,
        "start_time": "2023-07-08T04:37:39.650Z"
      },
      {
        "duration": 51,
        "start_time": "2023-07-08T04:40:55.045Z"
      },
      {
        "duration": 9,
        "start_time": "2023-07-08T04:42:29.451Z"
      },
      {
        "duration": 32,
        "start_time": "2023-07-08T04:43:14.329Z"
      },
      {
        "duration": 10,
        "start_time": "2023-07-08T04:53:14.263Z"
      },
      {
        "duration": 20,
        "start_time": "2023-07-08T04:54:41.071Z"
      },
      {
        "duration": 13064,
        "start_time": "2023-07-08T04:54:45.614Z"
      },
      {
        "duration": 2,
        "start_time": "2023-07-08T04:58:19.910Z"
      },
      {
        "duration": 10894,
        "start_time": "2023-07-08T04:58:25.184Z"
      },
      {
        "duration": 11712,
        "start_time": "2023-07-08T06:07:39.466Z"
      },
      {
        "duration": 3,
        "start_time": "2023-07-08T06:11:43.461Z"
      },
      {
        "duration": 32647,
        "start_time": "2023-07-08T06:11:44.052Z"
      },
      {
        "duration": 4,
        "start_time": "2023-07-08T06:17:33.020Z"
      },
      {
        "duration": 4,
        "start_time": "2023-07-08T06:21:00.077Z"
      },
      {
        "duration": 48,
        "start_time": "2023-07-08T06:21:44.875Z"
      },
      {
        "duration": 29,
        "start_time": "2023-07-08T06:22:37.317Z"
      },
      {
        "duration": 3,
        "start_time": "2023-07-08T06:23:12.085Z"
      },
      {
        "duration": 33092,
        "start_time": "2023-07-08T06:23:17.804Z"
      },
      {
        "duration": 32753,
        "start_time": "2023-07-08T06:23:59.442Z"
      },
      {
        "duration": 12,
        "start_time": "2023-07-08T06:25:02.787Z"
      },
      {
        "duration": 31,
        "start_time": "2023-07-08T06:26:08.281Z"
      },
      {
        "duration": 7989,
        "start_time": "2023-07-08T06:26:12.533Z"
      },
      {
        "duration": 8463,
        "start_time": "2023-07-08T06:28:32.522Z"
      },
      {
        "duration": 42833,
        "start_time": "2023-07-08T06:28:59.504Z"
      },
      {
        "duration": 2,
        "start_time": "2023-07-08T06:30:34.523Z"
      },
      {
        "duration": 54101,
        "start_time": "2023-07-08T06:30:38.351Z"
      },
      {
        "duration": 83456,
        "start_time": "2023-07-08T06:32:41.834Z"
      },
      {
        "duration": 19,
        "start_time": "2023-07-08T06:43:11.800Z"
      },
      {
        "duration": 3,
        "start_time": "2023-07-08T06:47:23.635Z"
      },
      {
        "duration": 151,
        "start_time": "2023-07-08T07:04:20.713Z"
      },
      {
        "duration": 124,
        "start_time": "2023-07-08T07:05:07.758Z"
      },
      {
        "duration": 251360,
        "start_time": "2023-07-08T07:05:22.645Z"
      },
      {
        "duration": 4,
        "start_time": "2023-07-08T07:16:49.000Z"
      },
      {
        "duration": 286,
        "start_time": "2023-07-08T07:19:44.800Z"
      },
      {
        "duration": 313009,
        "start_time": "2023-07-08T07:20:29.202Z"
      },
      {
        "duration": 3,
        "start_time": "2023-07-08T07:26:36.953Z"
      },
      {
        "duration": 24,
        "start_time": "2023-07-08T07:31:34.864Z"
      },
      {
        "duration": 17,
        "start_time": "2023-07-08T08:30:51.649Z"
      },
      {
        "duration": 24,
        "start_time": "2023-07-08T08:32:53.978Z"
      },
      {
        "duration": 30,
        "start_time": "2023-07-08T08:37:39.825Z"
      },
      {
        "duration": 24,
        "start_time": "2023-07-08T08:38:45.995Z"
      },
      {
        "duration": 39151,
        "start_time": "2023-07-08T08:41:53.137Z"
      },
      {
        "duration": 4,
        "start_time": "2023-07-08T08:42:52.279Z"
      },
      {
        "duration": 7,
        "start_time": "2023-07-08T08:44:47.516Z"
      },
      {
        "duration": 45,
        "start_time": "2023-07-08T09:09:21.868Z"
      },
      {
        "duration": 43,
        "start_time": "2023-07-08T09:18:42.814Z"
      },
      {
        "duration": 42,
        "start_time": "2023-07-08T09:19:43.121Z"
      },
      {
        "duration": 31,
        "start_time": "2023-07-08T09:19:55.909Z"
      },
      {
        "duration": 690,
        "start_time": "2023-07-08T10:52:58.927Z"
      },
      {
        "duration": 11063,
        "start_time": "2023-07-08T10:53:25.349Z"
      },
      {
        "duration": 1344,
        "start_time": "2023-07-08T10:53:36.414Z"
      },
      {
        "duration": 3,
        "start_time": "2023-07-08T10:53:37.760Z"
      },
      {
        "duration": 247,
        "start_time": "2023-07-08T10:53:37.765Z"
      },
      {
        "duration": 14070,
        "start_time": "2023-07-08T10:53:38.014Z"
      },
      {
        "duration": 2,
        "start_time": "2023-07-08T10:53:52.086Z"
      },
      {
        "duration": 18,
        "start_time": "2023-07-08T10:53:52.090Z"
      },
      {
        "duration": 454,
        "start_time": "2023-07-08T10:53:52.109Z"
      },
      {
        "duration": 3,
        "start_time": "2023-07-08T10:53:52.564Z"
      },
      {
        "duration": 65,
        "start_time": "2023-07-08T10:53:52.570Z"
      },
      {
        "duration": 8,
        "start_time": "2023-07-08T10:53:52.636Z"
      },
      {
        "duration": 76,
        "start_time": "2023-07-08T10:53:52.645Z"
      },
      {
        "duration": 7,
        "start_time": "2023-07-08T10:53:52.722Z"
      },
      {
        "duration": 7,
        "start_time": "2023-07-08T10:53:52.731Z"
      },
      {
        "duration": 41,
        "start_time": "2023-07-08T10:53:52.740Z"
      },
      {
        "duration": 26,
        "start_time": "2023-07-08T10:53:52.783Z"
      },
      {
        "duration": 71,
        "start_time": "2023-07-08T10:53:52.811Z"
      },
      {
        "duration": 9,
        "start_time": "2023-07-08T10:53:52.883Z"
      },
      {
        "duration": 48,
        "start_time": "2023-07-08T10:53:52.894Z"
      },
      {
        "duration": 6,
        "start_time": "2023-07-08T10:53:52.944Z"
      },
      {
        "duration": 31,
        "start_time": "2023-07-08T10:53:52.968Z"
      },
      {
        "duration": 6,
        "start_time": "2023-07-08T10:53:53.001Z"
      },
      {
        "duration": 21,
        "start_time": "2023-07-08T10:53:53.008Z"
      },
      {
        "duration": 16,
        "start_time": "2023-07-08T10:53:53.031Z"
      },
      {
        "duration": 11,
        "start_time": "2023-07-08T10:53:53.049Z"
      },
      {
        "duration": 35,
        "start_time": "2023-07-08T10:53:53.061Z"
      },
      {
        "duration": 16,
        "start_time": "2023-07-08T10:53:53.097Z"
      },
      {
        "duration": 33,
        "start_time": "2023-07-08T10:53:53.116Z"
      },
      {
        "duration": 17,
        "start_time": "2023-07-08T10:53:53.151Z"
      },
      {
        "duration": 6,
        "start_time": "2023-07-08T10:53:53.170Z"
      },
      {
        "duration": 10,
        "start_time": "2023-07-08T10:53:53.178Z"
      },
      {
        "duration": 7,
        "start_time": "2023-07-08T10:53:53.189Z"
      },
      {
        "duration": 31,
        "start_time": "2023-07-08T10:53:53.197Z"
      },
      {
        "duration": 16,
        "start_time": "2023-07-08T10:53:53.229Z"
      },
      {
        "duration": 28,
        "start_time": "2023-07-08T10:53:53.247Z"
      },
      {
        "duration": 9,
        "start_time": "2023-07-08T10:53:53.277Z"
      },
      {
        "duration": 8,
        "start_time": "2023-07-08T10:53:53.288Z"
      },
      {
        "duration": 139,
        "start_time": "2023-07-08T10:53:53.297Z"
      },
      {
        "duration": 4,
        "start_time": "2023-07-08T10:53:53.438Z"
      },
      {
        "duration": 19,
        "start_time": "2023-07-08T10:53:53.443Z"
      },
      {
        "duration": 24,
        "start_time": "2023-07-08T10:53:53.463Z"
      },
      {
        "duration": 17,
        "start_time": "2023-07-08T10:53:53.489Z"
      },
      {
        "duration": 11,
        "start_time": "2023-07-08T10:53:53.508Z"
      },
      {
        "duration": 2,
        "start_time": "2023-07-08T10:53:53.520Z"
      },
      {
        "duration": 22,
        "start_time": "2023-07-08T10:53:53.523Z"
      },
      {
        "duration": 6,
        "start_time": "2023-07-08T10:53:53.547Z"
      },
      {
        "duration": 42,
        "start_time": "2023-07-08T10:53:53.555Z"
      },
      {
        "duration": 25,
        "start_time": "2023-07-08T10:53:53.598Z"
      },
      {
        "duration": 13,
        "start_time": "2023-07-08T10:53:53.625Z"
      },
      {
        "duration": 10,
        "start_time": "2023-07-08T10:53:53.639Z"
      },
      {
        "duration": 1062,
        "start_time": "2023-07-08T10:53:53.650Z"
      },
      {
        "duration": 10,
        "start_time": "2023-07-08T10:53:54.714Z"
      },
      {
        "duration": 16,
        "start_time": "2023-07-08T10:53:54.725Z"
      },
      {
        "duration": 46,
        "start_time": "2023-07-08T10:53:54.743Z"
      },
      {
        "duration": 24,
        "start_time": "2023-07-08T10:53:54.791Z"
      },
      {
        "duration": 3,
        "start_time": "2023-07-08T10:54:40.489Z"
      },
      {
        "duration": 3,
        "start_time": "2023-07-08T10:55:31.347Z"
      },
      {
        "duration": 40992,
        "start_time": "2023-07-08T10:55:36.777Z"
      },
      {
        "duration": 108,
        "start_time": "2023-07-08T10:58:53.391Z"
      },
      {
        "duration": 54,
        "start_time": "2023-07-08T10:59:16.059Z"
      },
      {
        "duration": 33,
        "start_time": "2023-07-08T10:59:18.302Z"
      },
      {
        "duration": 21,
        "start_time": "2023-07-08T11:00:07.287Z"
      },
      {
        "duration": 3,
        "start_time": "2023-07-08T11:00:08.695Z"
      },
      {
        "duration": 79,
        "start_time": "2023-07-08T11:04:50.336Z"
      },
      {
        "duration": 44,
        "start_time": "2023-07-08T11:54:40.752Z"
      },
      {
        "duration": 16510,
        "start_time": "2023-07-08T12:02:44.138Z"
      },
      {
        "duration": 10509,
        "start_time": "2023-07-08T12:08:28.094Z"
      },
      {
        "duration": 9263,
        "start_time": "2023-07-08T12:09:41.971Z"
      },
      {
        "duration": 12,
        "start_time": "2023-07-08T12:11:26.227Z"
      },
      {
        "duration": 11,
        "start_time": "2023-07-08T12:16:16.623Z"
      },
      {
        "duration": 13,
        "start_time": "2023-07-08T12:17:43.968Z"
      },
      {
        "duration": 1406,
        "start_time": "2023-07-08T12:24:54.505Z"
      },
      {
        "duration": 9848,
        "start_time": "2023-07-08T12:25:41.745Z"
      },
      {
        "duration": 1327,
        "start_time": "2023-07-08T12:25:55.114Z"
      },
      {
        "duration": 8445,
        "start_time": "2023-07-08T12:37:46.656Z"
      },
      {
        "duration": 8798,
        "start_time": "2023-07-08T12:38:22.735Z"
      },
      {
        "duration": 11,
        "start_time": "2023-07-08T12:41:37.055Z"
      },
      {
        "duration": 117,
        "start_time": "2023-07-08T12:42:05.179Z"
      },
      {
        "duration": 104,
        "start_time": "2023-07-08T12:42:55.359Z"
      },
      {
        "duration": 103,
        "start_time": "2023-07-08T12:43:01.349Z"
      },
      {
        "duration": 9171,
        "start_time": "2023-07-08T12:43:13.396Z"
      },
      {
        "duration": 8415,
        "start_time": "2023-07-08T12:43:33.111Z"
      },
      {
        "duration": 4,
        "start_time": "2023-07-08T12:48:19.806Z"
      },
      {
        "duration": 3,
        "start_time": "2023-07-08T12:48:32.596Z"
      },
      {
        "duration": 4,
        "start_time": "2023-07-08T12:49:53.202Z"
      },
      {
        "duration": 4,
        "start_time": "2023-07-08T12:50:05.499Z"
      },
      {
        "duration": 4,
        "start_time": "2023-07-08T12:54:23.705Z"
      },
      {
        "duration": 3,
        "start_time": "2023-07-08T12:54:26.665Z"
      },
      {
        "duration": 106,
        "start_time": "2023-07-08T12:57:19.767Z"
      },
      {
        "duration": 4,
        "start_time": "2023-07-08T12:58:13.982Z"
      },
      {
        "duration": 13,
        "start_time": "2023-07-08T12:58:17.100Z"
      },
      {
        "duration": 4,
        "start_time": "2023-07-08T12:58:34.231Z"
      },
      {
        "duration": 3,
        "start_time": "2023-07-08T12:58:35.498Z"
      },
      {
        "duration": 3,
        "start_time": "2023-07-08T12:59:00.146Z"
      },
      {
        "duration": 4,
        "start_time": "2023-07-08T12:59:02.098Z"
      },
      {
        "duration": 3,
        "start_time": "2023-07-08T12:59:11.323Z"
      },
      {
        "duration": 3,
        "start_time": "2023-07-08T12:59:13.165Z"
      },
      {
        "duration": 3,
        "start_time": "2023-07-08T12:59:15.604Z"
      },
      {
        "duration": 3,
        "start_time": "2023-07-08T12:59:16.565Z"
      },
      {
        "duration": 3,
        "start_time": "2023-07-08T13:02:45.840Z"
      },
      {
        "duration": 3,
        "start_time": "2023-07-08T13:02:47.492Z"
      },
      {
        "duration": 21,
        "start_time": "2023-07-08T13:06:34.402Z"
      },
      {
        "duration": 86033,
        "start_time": "2023-07-08T13:07:32.919Z"
      },
      {
        "duration": 84650,
        "start_time": "2023-07-08T13:14:15.292Z"
      },
      {
        "duration": 5,
        "start_time": "2023-07-08T13:18:20.915Z"
      },
      {
        "duration": 9838,
        "start_time": "2023-07-09T05:52:35.496Z"
      },
      {
        "duration": 1540,
        "start_time": "2023-07-09T05:52:45.336Z"
      },
      {
        "duration": 4,
        "start_time": "2023-07-09T05:52:46.878Z"
      },
      {
        "duration": 236,
        "start_time": "2023-07-09T05:52:46.883Z"
      },
      {
        "duration": 15651,
        "start_time": "2023-07-09T05:52:47.122Z"
      },
      {
        "duration": 3,
        "start_time": "2023-07-09T05:53:02.776Z"
      },
      {
        "duration": 10,
        "start_time": "2023-07-09T05:53:02.781Z"
      },
      {
        "duration": 366,
        "start_time": "2023-07-09T05:53:02.797Z"
      },
      {
        "duration": 4,
        "start_time": "2023-07-09T05:53:03.165Z"
      },
      {
        "duration": 76,
        "start_time": "2023-07-09T05:53:03.171Z"
      },
      {
        "duration": 14,
        "start_time": "2023-07-09T05:53:03.249Z"
      },
      {
        "duration": 121,
        "start_time": "2023-07-09T05:53:03.265Z"
      },
      {
        "duration": 11,
        "start_time": "2023-07-09T05:53:03.389Z"
      },
      {
        "duration": 23,
        "start_time": "2023-07-09T05:53:03.404Z"
      },
      {
        "duration": 33,
        "start_time": "2023-07-09T05:53:03.428Z"
      },
      {
        "duration": 60,
        "start_time": "2023-07-09T05:53:03.462Z"
      },
      {
        "duration": 29,
        "start_time": "2023-07-09T05:53:03.523Z"
      },
      {
        "duration": 11,
        "start_time": "2023-07-09T05:53:03.553Z"
      },
      {
        "duration": 52,
        "start_time": "2023-07-09T05:53:03.565Z"
      },
      {
        "duration": 7,
        "start_time": "2023-07-09T05:53:03.618Z"
      },
      {
        "duration": 71,
        "start_time": "2023-07-09T05:53:03.627Z"
      },
      {
        "duration": 7,
        "start_time": "2023-07-09T05:53:03.700Z"
      },
      {
        "duration": 9,
        "start_time": "2023-07-09T05:53:03.709Z"
      },
      {
        "duration": 33,
        "start_time": "2023-07-09T05:53:03.719Z"
      },
      {
        "duration": 12,
        "start_time": "2023-07-09T05:53:03.759Z"
      },
      {
        "duration": 30,
        "start_time": "2023-07-09T05:53:03.773Z"
      },
      {
        "duration": 60,
        "start_time": "2023-07-09T05:53:03.805Z"
      },
      {
        "duration": 49,
        "start_time": "2023-07-09T05:53:03.867Z"
      },
      {
        "duration": 68,
        "start_time": "2023-07-09T05:53:03.918Z"
      },
      {
        "duration": 22,
        "start_time": "2023-07-09T05:53:03.988Z"
      },
      {
        "duration": 18,
        "start_time": "2023-07-09T05:53:04.012Z"
      },
      {
        "duration": 27,
        "start_time": "2023-07-09T05:53:04.032Z"
      },
      {
        "duration": 32,
        "start_time": "2023-07-09T05:53:04.062Z"
      },
      {
        "duration": 5,
        "start_time": "2023-07-09T05:53:04.097Z"
      },
      {
        "duration": 57,
        "start_time": "2023-07-09T05:53:04.104Z"
      },
      {
        "duration": 18,
        "start_time": "2023-07-09T05:53:04.163Z"
      },
      {
        "duration": 20,
        "start_time": "2023-07-09T05:53:04.183Z"
      },
      {
        "duration": 179,
        "start_time": "2023-07-09T05:53:04.206Z"
      },
      {
        "duration": 5,
        "start_time": "2023-07-09T05:53:04.386Z"
      },
      {
        "duration": 24,
        "start_time": "2023-07-09T05:53:04.392Z"
      },
      {
        "duration": 15,
        "start_time": "2023-07-09T05:53:04.420Z"
      },
      {
        "duration": 27,
        "start_time": "2023-07-09T05:53:04.436Z"
      },
      {
        "duration": 12,
        "start_time": "2023-07-09T05:53:04.464Z"
      },
      {
        "duration": 2,
        "start_time": "2023-07-09T05:53:04.477Z"
      },
      {
        "duration": 29,
        "start_time": "2023-07-09T05:53:04.481Z"
      },
      {
        "duration": 10,
        "start_time": "2023-07-09T05:53:04.512Z"
      },
      {
        "duration": 39,
        "start_time": "2023-07-09T05:53:04.524Z"
      },
      {
        "duration": 18,
        "start_time": "2023-07-09T05:53:04.564Z"
      },
      {
        "duration": 9,
        "start_time": "2023-07-09T05:53:04.583Z"
      },
      {
        "duration": 12,
        "start_time": "2023-07-09T05:53:04.594Z"
      },
      {
        "duration": 1190,
        "start_time": "2023-07-09T05:53:04.608Z"
      },
      {
        "duration": 13,
        "start_time": "2023-07-09T05:53:05.800Z"
      },
      {
        "duration": 33,
        "start_time": "2023-07-09T05:53:05.815Z"
      },
      {
        "duration": 47,
        "start_time": "2023-07-09T05:53:05.858Z"
      },
      {
        "duration": 28,
        "start_time": "2023-07-09T05:53:10.589Z"
      },
      {
        "duration": 4,
        "start_time": "2023-07-09T05:53:13.697Z"
      },
      {
        "duration": 4,
        "start_time": "2023-07-09T05:53:14.935Z"
      },
      {
        "duration": 56,
        "start_time": "2023-07-09T05:53:16.325Z"
      },
      {
        "duration": 41,
        "start_time": "2023-07-09T05:53:17.263Z"
      },
      {
        "duration": 20896,
        "start_time": "2023-07-09T05:53:18.455Z"
      },
      {
        "duration": 4787,
        "start_time": "2023-07-09T05:55:01.631Z"
      },
      {
        "duration": 1286,
        "start_time": "2023-07-09T05:55:06.421Z"
      },
      {
        "duration": 4,
        "start_time": "2023-07-09T05:55:07.709Z"
      },
      {
        "duration": 252,
        "start_time": "2023-07-09T05:55:07.715Z"
      },
      {
        "duration": 2545,
        "start_time": "2023-07-09T05:55:07.970Z"
      },
      {
        "duration": 3,
        "start_time": "2023-07-09T05:55:10.517Z"
      },
      {
        "duration": 5,
        "start_time": "2023-07-09T05:55:10.522Z"
      },
      {
        "duration": 102,
        "start_time": "2023-07-09T05:55:10.528Z"
      },
      {
        "duration": 5,
        "start_time": "2023-07-09T05:55:10.632Z"
      },
      {
        "duration": 62,
        "start_time": "2023-07-09T05:55:10.638Z"
      },
      {
        "duration": 8,
        "start_time": "2023-07-09T05:55:10.702Z"
      },
      {
        "duration": 101,
        "start_time": "2023-07-09T05:55:10.712Z"
      },
      {
        "duration": 7,
        "start_time": "2023-07-09T05:55:10.814Z"
      },
      {
        "duration": 4,
        "start_time": "2023-07-09T05:55:10.824Z"
      },
      {
        "duration": 31,
        "start_time": "2023-07-09T05:55:10.829Z"
      },
      {
        "duration": 18,
        "start_time": "2023-07-09T05:55:10.862Z"
      },
      {
        "duration": 15,
        "start_time": "2023-07-09T05:55:10.882Z"
      },
      {
        "duration": 10,
        "start_time": "2023-07-09T05:55:10.899Z"
      },
      {
        "duration": 88,
        "start_time": "2023-07-09T05:55:10.910Z"
      },
      {
        "duration": 7,
        "start_time": "2023-07-09T05:55:11.000Z"
      },
      {
        "duration": 52,
        "start_time": "2023-07-09T05:55:11.008Z"
      },
      {
        "duration": 11,
        "start_time": "2023-07-09T05:55:11.062Z"
      },
      {
        "duration": 10,
        "start_time": "2023-07-09T05:55:11.075Z"
      },
      {
        "duration": 17,
        "start_time": "2023-07-09T05:55:11.086Z"
      },
      {
        "duration": 12,
        "start_time": "2023-07-09T05:55:11.105Z"
      },
      {
        "duration": 10,
        "start_time": "2023-07-09T05:55:11.118Z"
      },
      {
        "duration": 32,
        "start_time": "2023-07-09T05:55:11.129Z"
      },
      {
        "duration": 23,
        "start_time": "2023-07-09T05:55:11.163Z"
      },
      {
        "duration": 13,
        "start_time": "2023-07-09T05:55:11.188Z"
      },
      {
        "duration": 9,
        "start_time": "2023-07-09T05:55:11.203Z"
      },
      {
        "duration": 11,
        "start_time": "2023-07-09T05:55:11.214Z"
      },
      {
        "duration": 4,
        "start_time": "2023-07-09T05:55:11.226Z"
      },
      {
        "duration": 46,
        "start_time": "2023-07-09T05:55:11.232Z"
      },
      {
        "duration": 4,
        "start_time": "2023-07-09T05:55:11.280Z"
      },
      {
        "duration": 28,
        "start_time": "2023-07-09T05:55:11.286Z"
      },
      {
        "duration": 21,
        "start_time": "2023-07-09T05:55:11.316Z"
      },
      {
        "duration": 25,
        "start_time": "2023-07-09T05:55:11.338Z"
      },
      {
        "duration": 144,
        "start_time": "2023-07-09T05:55:11.364Z"
      },
      {
        "duration": 5,
        "start_time": "2023-07-09T05:55:11.510Z"
      },
      {
        "duration": 9,
        "start_time": "2023-07-09T05:55:11.517Z"
      },
      {
        "duration": 30,
        "start_time": "2023-07-09T05:55:11.530Z"
      },
      {
        "duration": 24,
        "start_time": "2023-07-09T05:55:11.562Z"
      },
      {
        "duration": 20,
        "start_time": "2023-07-09T05:55:11.588Z"
      },
      {
        "duration": 2,
        "start_time": "2023-07-09T05:55:11.611Z"
      },
      {
        "duration": 20,
        "start_time": "2023-07-09T05:55:11.614Z"
      },
      {
        "duration": 4,
        "start_time": "2023-07-09T05:55:11.636Z"
      },
      {
        "duration": 17,
        "start_time": "2023-07-09T05:55:11.660Z"
      },
      {
        "duration": 16,
        "start_time": "2023-07-09T05:55:11.680Z"
      },
      {
        "duration": 10,
        "start_time": "2023-07-09T05:55:11.698Z"
      },
      {
        "duration": 12,
        "start_time": "2023-07-09T05:55:11.711Z"
      },
      {
        "duration": 1170,
        "start_time": "2023-07-09T05:55:11.760Z"
      },
      {
        "duration": 27,
        "start_time": "2023-07-09T05:55:12.932Z"
      },
      {
        "duration": 26,
        "start_time": "2023-07-09T05:55:12.961Z"
      },
      {
        "duration": 26,
        "start_time": "2023-07-09T05:55:12.989Z"
      },
      {
        "duration": 56,
        "start_time": "2023-07-09T05:55:13.017Z"
      },
      {
        "duration": 4,
        "start_time": "2023-07-09T05:55:13.076Z"
      },
      {
        "duration": 5,
        "start_time": "2023-07-09T05:55:14.190Z"
      },
      {
        "duration": 4,
        "start_time": "2023-07-09T05:55:14.660Z"
      },
      {
        "duration": 3,
        "start_time": "2023-07-09T05:55:15.017Z"
      },
      {
        "duration": 3,
        "start_time": "2023-07-09T05:55:15.397Z"
      },
      {
        "duration": 37222,
        "start_time": "2023-07-09T05:55:15.640Z"
      },
      {
        "duration": 4,
        "start_time": "2023-07-09T05:56:06.621Z"
      },
      {
        "duration": 118,
        "start_time": "2023-07-09T05:56:07.447Z"
      },
      {
        "duration": 59891,
        "start_time": "2023-07-09T05:56:57.697Z"
      },
      {
        "duration": 4,
        "start_time": "2023-07-09T05:59:05.643Z"
      },
      {
        "duration": 98340,
        "start_time": "2023-07-09T05:59:12.653Z"
      },
      {
        "duration": 18,
        "start_time": "2023-07-09T06:16:26.551Z"
      },
      {
        "duration": 12,
        "start_time": "2023-07-09T06:16:47.731Z"
      },
      {
        "duration": 31,
        "start_time": "2023-07-09T06:16:59.119Z"
      },
      {
        "duration": 18,
        "start_time": "2023-07-09T06:17:17.528Z"
      },
      {
        "duration": 15,
        "start_time": "2023-07-09T06:17:32.587Z"
      },
      {
        "duration": 237,
        "start_time": "2023-07-09T06:17:43.704Z"
      },
      {
        "duration": 2199,
        "start_time": "2023-07-09T06:17:58.919Z"
      },
      {
        "duration": 2145,
        "start_time": "2023-07-09T06:18:16.252Z"
      },
      {
        "duration": 388537,
        "start_time": "2023-07-09T06:18:35.216Z"
      },
      {
        "duration": 4,
        "start_time": "2023-07-09T06:26:51.093Z"
      },
      {
        "duration": 31,
        "start_time": "2023-07-09T06:37:34.290Z"
      },
      {
        "duration": 26,
        "start_time": "2023-07-09T06:37:46.373Z"
      },
      {
        "duration": 27,
        "start_time": "2023-07-09T06:38:56.205Z"
      },
      {
        "duration": 32,
        "start_time": "2023-07-09T06:39:52.540Z"
      },
      {
        "duration": 26,
        "start_time": "2023-07-09T06:40:08.136Z"
      },
      {
        "duration": 93,
        "start_time": "2023-07-09T06:41:08.128Z"
      },
      {
        "duration": 1374,
        "start_time": "2023-07-09T06:41:57.854Z"
      },
      {
        "duration": 6847,
        "start_time": "2023-07-09T06:44:27.814Z"
      },
      {
        "duration": 7534,
        "start_time": "2023-07-09T06:44:58.741Z"
      },
      {
        "duration": 12072,
        "start_time": "2023-07-09T06:45:37.603Z"
      },
      {
        "duration": 16664,
        "start_time": "2023-07-09T06:45:59.935Z"
      },
      {
        "duration": 15988,
        "start_time": "2023-07-09T06:48:33.646Z"
      },
      {
        "duration": 15561,
        "start_time": "2023-07-09T06:49:09.403Z"
      },
      {
        "duration": 40,
        "start_time": "2023-07-09T06:50:06.485Z"
      },
      {
        "duration": 4,
        "start_time": "2023-07-09T06:53:05.982Z"
      },
      {
        "duration": 5,
        "start_time": "2023-07-09T07:03:37.604Z"
      },
      {
        "duration": 33238,
        "start_time": "2023-07-09T07:03:50.965Z"
      },
      {
        "duration": 17,
        "start_time": "2023-07-09T07:07:04.906Z"
      },
      {
        "duration": 16,
        "start_time": "2023-07-09T07:07:14.411Z"
      },
      {
        "duration": 18,
        "start_time": "2023-07-09T07:09:45.625Z"
      },
      {
        "duration": 12,
        "start_time": "2023-07-09T07:10:57.064Z"
      },
      {
        "duration": 17,
        "start_time": "2023-07-09T07:13:27.337Z"
      },
      {
        "duration": 25,
        "start_time": "2023-07-09T07:14:00.705Z"
      },
      {
        "duration": 37,
        "start_time": "2023-07-09T07:14:16.887Z"
      },
      {
        "duration": 4,
        "start_time": "2023-07-09T07:20:58.576Z"
      },
      {
        "duration": 136,
        "start_time": "2023-07-09T07:21:23.006Z"
      },
      {
        "duration": 129,
        "start_time": "2023-07-09T07:22:07.251Z"
      },
      {
        "duration": 4,
        "start_time": "2023-07-09T07:23:06.860Z"
      },
      {
        "duration": 157,
        "start_time": "2023-07-09T07:23:08.622Z"
      },
      {
        "duration": 4,
        "start_time": "2023-07-09T07:24:18.934Z"
      },
      {
        "duration": 113,
        "start_time": "2023-07-09T07:24:20.644Z"
      },
      {
        "duration": 4,
        "start_time": "2023-07-09T07:24:56.395Z"
      },
      {
        "duration": 129,
        "start_time": "2023-07-09T07:24:57.965Z"
      },
      {
        "duration": 4,
        "start_time": "2023-07-09T07:26:03.280Z"
      },
      {
        "duration": 113,
        "start_time": "2023-07-09T07:26:04.939Z"
      },
      {
        "duration": 4,
        "start_time": "2023-07-09T07:27:22.968Z"
      },
      {
        "duration": 8355,
        "start_time": "2023-07-09T07:27:23.743Z"
      },
      {
        "duration": 5,
        "start_time": "2023-07-09T07:28:40.059Z"
      },
      {
        "duration": 10016,
        "start_time": "2023-07-09T13:00:13.858Z"
      },
      {
        "duration": 1567,
        "start_time": "2023-07-09T13:00:23.877Z"
      },
      {
        "duration": 4,
        "start_time": "2023-07-09T13:00:25.445Z"
      },
      {
        "duration": 482,
        "start_time": "2023-07-09T13:00:25.450Z"
      },
      {
        "duration": 15349,
        "start_time": "2023-07-09T13:00:25.935Z"
      },
      {
        "duration": 3,
        "start_time": "2023-07-09T13:00:41.286Z"
      },
      {
        "duration": 16,
        "start_time": "2023-07-09T13:00:41.290Z"
      },
      {
        "duration": 407,
        "start_time": "2023-07-09T13:00:41.307Z"
      },
      {
        "duration": 3,
        "start_time": "2023-07-09T13:00:41.716Z"
      },
      {
        "duration": 70,
        "start_time": "2023-07-09T13:00:41.721Z"
      },
      {
        "duration": 8,
        "start_time": "2023-07-09T13:00:41.793Z"
      },
      {
        "duration": 86,
        "start_time": "2023-07-09T13:00:41.802Z"
      },
      {
        "duration": 8,
        "start_time": "2023-07-09T13:00:41.889Z"
      },
      {
        "duration": 15,
        "start_time": "2023-07-09T13:00:41.899Z"
      },
      {
        "duration": 25,
        "start_time": "2023-07-09T13:00:41.915Z"
      },
      {
        "duration": 30,
        "start_time": "2023-07-09T13:00:41.942Z"
      },
      {
        "duration": 37,
        "start_time": "2023-07-09T13:00:41.974Z"
      },
      {
        "duration": 12,
        "start_time": "2023-07-09T13:00:42.014Z"
      },
      {
        "duration": 60,
        "start_time": "2023-07-09T13:00:42.028Z"
      },
      {
        "duration": 7,
        "start_time": "2023-07-09T13:00:42.090Z"
      },
      {
        "duration": 38,
        "start_time": "2023-07-09T13:00:42.100Z"
      },
      {
        "duration": 8,
        "start_time": "2023-07-09T13:00:42.167Z"
      },
      {
        "duration": 15,
        "start_time": "2023-07-09T13:00:42.177Z"
      },
      {
        "duration": 18,
        "start_time": "2023-07-09T13:00:42.193Z"
      },
      {
        "duration": 11,
        "start_time": "2023-07-09T13:00:42.212Z"
      },
      {
        "duration": 13,
        "start_time": "2023-07-09T13:00:42.225Z"
      },
      {
        "duration": 40,
        "start_time": "2023-07-09T13:00:42.240Z"
      },
      {
        "duration": 22,
        "start_time": "2023-07-09T13:00:42.283Z"
      },
      {
        "duration": 11,
        "start_time": "2023-07-09T13:00:42.307Z"
      },
      {
        "duration": 5,
        "start_time": "2023-07-09T13:00:42.319Z"
      },
      {
        "duration": 22,
        "start_time": "2023-07-09T13:00:42.326Z"
      },
      {
        "duration": 8,
        "start_time": "2023-07-09T13:00:42.367Z"
      },
      {
        "duration": 25,
        "start_time": "2023-07-09T13:00:42.376Z"
      },
      {
        "duration": 6,
        "start_time": "2023-07-09T13:00:42.402Z"
      },
      {
        "duration": 26,
        "start_time": "2023-07-09T13:00:42.409Z"
      },
      {
        "duration": 35,
        "start_time": "2023-07-09T13:00:42.436Z"
      },
      {
        "duration": 10,
        "start_time": "2023-07-09T13:00:42.472Z"
      },
      {
        "duration": 152,
        "start_time": "2023-07-09T13:00:42.483Z"
      },
      {
        "duration": 4,
        "start_time": "2023-07-09T13:00:42.637Z"
      },
      {
        "duration": 11,
        "start_time": "2023-07-09T13:00:42.643Z"
      },
      {
        "duration": 23,
        "start_time": "2023-07-09T13:00:42.673Z"
      },
      {
        "duration": 21,
        "start_time": "2023-07-09T13:00:42.697Z"
      },
      {
        "duration": 14,
        "start_time": "2023-07-09T13:00:42.720Z"
      },
      {
        "duration": 3,
        "start_time": "2023-07-09T13:00:42.735Z"
      },
      {
        "duration": 42,
        "start_time": "2023-07-09T13:00:42.740Z"
      },
      {
        "duration": 6,
        "start_time": "2023-07-09T13:00:42.784Z"
      },
      {
        "duration": 25,
        "start_time": "2023-07-09T13:00:42.792Z"
      },
      {
        "duration": 25,
        "start_time": "2023-07-09T13:00:42.818Z"
      },
      {
        "duration": 9,
        "start_time": "2023-07-09T13:00:42.845Z"
      },
      {
        "duration": 16,
        "start_time": "2023-07-09T13:00:42.856Z"
      },
      {
        "duration": 1237,
        "start_time": "2023-07-09T13:00:42.874Z"
      },
      {
        "duration": 16,
        "start_time": "2023-07-09T13:00:44.114Z"
      },
      {
        "duration": 23,
        "start_time": "2023-07-09T13:00:44.132Z"
      },
      {
        "duration": 36,
        "start_time": "2023-07-09T13:00:44.172Z"
      },
      {
        "duration": 32,
        "start_time": "2023-07-09T13:00:44.210Z"
      },
      {
        "duration": 3,
        "start_time": "2023-07-09T13:00:44.244Z"
      },
      {
        "duration": 3,
        "start_time": "2023-07-09T13:01:05.617Z"
      },
      {
        "duration": 5,
        "start_time": "2023-07-09T13:01:16.666Z"
      },
      {
        "duration": 5,
        "start_time": "2023-07-09T13:01:17.517Z"
      },
      {
        "duration": 227,
        "start_time": "2023-07-09T13:01:19.052Z"
      },
      {
        "duration": 9,
        "start_time": "2023-07-09T13:02:09.366Z"
      },
      {
        "duration": 118,
        "start_time": "2023-07-09T13:02:14.710Z"
      },
      {
        "duration": 13,
        "start_time": "2023-07-09T13:35:08.658Z"
      },
      {
        "duration": 28,
        "start_time": "2023-07-09T13:35:26.147Z"
      },
      {
        "duration": 24,
        "start_time": "2023-07-09T13:35:49.664Z"
      },
      {
        "duration": 4,
        "start_time": "2023-07-09T13:37:24.660Z"
      },
      {
        "duration": 94,
        "start_time": "2023-07-09T13:37:28.464Z"
      },
      {
        "duration": 4,
        "start_time": "2023-07-09T13:38:30.362Z"
      },
      {
        "duration": 380018,
        "start_time": "2023-07-09T13:38:32.767Z"
      },
      {
        "duration": 4,
        "start_time": "2023-07-09T13:44:52.787Z"
      },
      {
        "duration": 4,
        "start_time": "2023-07-09T13:45:48.435Z"
      },
      {
        "duration": 344974,
        "start_time": "2023-07-09T13:45:50.319Z"
      },
      {
        "duration": 4,
        "start_time": "2023-07-09T13:53:17.882Z"
      },
      {
        "duration": 3,
        "start_time": "2023-07-09T13:53:57.188Z"
      },
      {
        "duration": 616641,
        "start_time": "2023-07-09T13:53:59.656Z"
      },
      {
        "duration": 4,
        "start_time": "2023-07-09T14:04:17.820Z"
      },
      {
        "duration": 1115952,
        "start_time": "2023-07-09T14:04:27.749Z"
      },
      {
        "duration": 5153,
        "start_time": "2023-07-09T14:35:32.899Z"
      },
      {
        "duration": 2175,
        "start_time": "2023-07-09T14:35:38.055Z"
      },
      {
        "duration": 5,
        "start_time": "2023-07-09T14:35:40.232Z"
      },
      {
        "duration": 316,
        "start_time": "2023-07-09T14:35:40.239Z"
      },
      {
        "duration": 2792,
        "start_time": "2023-07-09T14:35:40.560Z"
      },
      {
        "duration": 3,
        "start_time": "2023-07-09T14:35:43.355Z"
      },
      {
        "duration": 28,
        "start_time": "2023-07-09T14:35:43.360Z"
      },
      {
        "duration": 374,
        "start_time": "2023-07-09T14:35:43.391Z"
      },
      {
        "duration": 12,
        "start_time": "2023-07-09T14:35:43.769Z"
      },
      {
        "duration": 70,
        "start_time": "2023-07-09T14:35:43.786Z"
      },
      {
        "duration": 13,
        "start_time": "2023-07-09T14:35:43.867Z"
      },
      {
        "duration": 100,
        "start_time": "2023-07-09T14:35:43.885Z"
      },
      {
        "duration": 18,
        "start_time": "2023-07-09T14:35:43.989Z"
      },
      {
        "duration": 21,
        "start_time": "2023-07-09T14:35:44.010Z"
      },
      {
        "duration": 21,
        "start_time": "2023-07-09T14:35:44.034Z"
      },
      {
        "duration": 38,
        "start_time": "2023-07-09T14:35:44.057Z"
      },
      {
        "duration": 23,
        "start_time": "2023-07-09T14:35:44.098Z"
      },
      {
        "duration": 23,
        "start_time": "2023-07-09T14:35:44.124Z"
      },
      {
        "duration": 73,
        "start_time": "2023-07-09T14:35:44.149Z"
      },
      {
        "duration": 9,
        "start_time": "2023-07-09T14:35:44.225Z"
      },
      {
        "duration": 71,
        "start_time": "2023-07-09T14:35:44.236Z"
      },
      {
        "duration": 9,
        "start_time": "2023-07-09T14:35:44.309Z"
      },
      {
        "duration": 6,
        "start_time": "2023-07-09T14:35:44.320Z"
      },
      {
        "duration": 52,
        "start_time": "2023-07-09T14:35:44.328Z"
      },
      {
        "duration": 10,
        "start_time": "2023-07-09T14:35:44.386Z"
      },
      {
        "duration": 25,
        "start_time": "2023-07-09T14:35:44.398Z"
      },
      {
        "duration": 28,
        "start_time": "2023-07-09T14:35:44.425Z"
      },
      {
        "duration": 29,
        "start_time": "2023-07-09T14:35:44.459Z"
      },
      {
        "duration": 15,
        "start_time": "2023-07-09T14:35:44.492Z"
      },
      {
        "duration": 5,
        "start_time": "2023-07-09T14:35:44.509Z"
      },
      {
        "duration": 25,
        "start_time": "2023-07-09T14:35:44.516Z"
      },
      {
        "duration": 11,
        "start_time": "2023-07-09T14:35:44.543Z"
      },
      {
        "duration": 33,
        "start_time": "2023-07-09T14:35:44.556Z"
      },
      {
        "duration": 7,
        "start_time": "2023-07-09T14:35:44.591Z"
      },
      {
        "duration": 29,
        "start_time": "2023-07-09T14:35:44.601Z"
      },
      {
        "duration": 18,
        "start_time": "2023-07-09T14:35:44.634Z"
      },
      {
        "duration": 22,
        "start_time": "2023-07-09T14:35:44.653Z"
      },
      {
        "duration": 206,
        "start_time": "2023-07-09T14:35:44.677Z"
      },
      {
        "duration": 16,
        "start_time": "2023-07-09T14:35:44.885Z"
      },
      {
        "duration": 8,
        "start_time": "2023-07-09T14:35:44.905Z"
      },
      {
        "duration": 38,
        "start_time": "2023-07-09T14:35:44.915Z"
      },
      {
        "duration": 33,
        "start_time": "2023-07-09T14:35:44.955Z"
      },
      {
        "duration": 37,
        "start_time": "2023-07-09T14:35:44.990Z"
      },
      {
        "duration": 49,
        "start_time": "2023-07-09T14:35:45.029Z"
      },
      {
        "duration": 31,
        "start_time": "2023-07-09T14:35:45.085Z"
      },
      {
        "duration": 6,
        "start_time": "2023-07-09T14:35:45.118Z"
      },
      {
        "duration": 30,
        "start_time": "2023-07-09T14:35:45.125Z"
      },
      {
        "duration": 31,
        "start_time": "2023-07-09T14:35:45.158Z"
      },
      {
        "duration": 12,
        "start_time": "2023-07-09T14:35:45.191Z"
      },
      {
        "duration": 11,
        "start_time": "2023-07-09T14:35:45.205Z"
      },
      {
        "duration": 1327,
        "start_time": "2023-07-09T14:35:45.218Z"
      },
      {
        "duration": 32,
        "start_time": "2023-07-09T14:35:46.548Z"
      },
      {
        "duration": 38,
        "start_time": "2023-07-09T14:35:46.586Z"
      },
      {
        "duration": 56,
        "start_time": "2023-07-09T14:35:46.626Z"
      },
      {
        "duration": 37,
        "start_time": "2023-07-09T14:35:46.688Z"
      },
      {
        "duration": 77,
        "start_time": "2023-07-09T14:35:46.727Z"
      },
      {
        "duration": 55,
        "start_time": "2023-07-09T14:35:46.806Z"
      },
      {
        "duration": 10,
        "start_time": "2023-07-09T14:35:46.863Z"
      },
      {
        "duration": 25,
        "start_time": "2023-07-09T14:35:46.877Z"
      },
      {
        "duration": 37682,
        "start_time": "2023-07-09T14:35:46.905Z"
      },
      {
        "duration": 4,
        "start_time": "2023-07-09T14:36:24.590Z"
      },
      {
        "duration": 42697,
        "start_time": "2023-07-09T14:36:24.667Z"
      },
      {
        "duration": 8,
        "start_time": "2023-07-09T14:37:07.367Z"
      },
      {
        "duration": 191,
        "start_time": "2023-07-09T14:37:07.387Z"
      },
      {
        "duration": 0,
        "start_time": "2023-07-09T14:37:07.583Z"
      },
      {
        "duration": 1,
        "start_time": "2023-07-09T14:37:07.585Z"
      },
      {
        "duration": 0,
        "start_time": "2023-07-09T14:37:07.588Z"
      },
      {
        "duration": 0,
        "start_time": "2023-07-09T14:37:07.589Z"
      },
      {
        "duration": 0,
        "start_time": "2023-07-09T14:37:07.590Z"
      },
      {
        "duration": 0,
        "start_time": "2023-07-09T14:37:07.595Z"
      },
      {
        "duration": 15,
        "start_time": "2023-07-09T14:38:07.302Z"
      },
      {
        "duration": 19,
        "start_time": "2023-07-09T14:38:18.302Z"
      },
      {
        "duration": 497174,
        "start_time": "2023-07-09T14:38:41.311Z"
      },
      {
        "duration": 5,
        "start_time": "2023-07-09T14:47:21.551Z"
      },
      {
        "duration": 5,
        "start_time": "2023-07-09T14:47:32.932Z"
      },
      {
        "duration": 43,
        "start_time": "2023-07-09T14:47:33.471Z"
      },
      {
        "duration": 4,
        "start_time": "2023-07-09T14:47:34.950Z"
      },
      {
        "duration": 1173059,
        "start_time": "2023-07-09T14:47:36.916Z"
      },
      {
        "duration": 4,
        "start_time": "2023-07-09T15:07:18.106Z"
      },
      {
        "duration": 9,
        "start_time": "2023-07-09T15:08:02.696Z"
      },
      {
        "duration": 39,
        "start_time": "2023-07-09T15:16:26.947Z"
      },
      {
        "duration": 51,
        "start_time": "2023-07-09T15:16:41.920Z"
      },
      {
        "duration": 121,
        "start_time": "2023-07-09T15:20:11.956Z"
      },
      {
        "duration": 4,
        "start_time": "2023-07-09T15:20:49.318Z"
      },
      {
        "duration": 61,
        "start_time": "2023-07-09T15:20:53.337Z"
      },
      {
        "duration": 63,
        "start_time": "2023-07-09T15:22:15.243Z"
      },
      {
        "duration": 12,
        "start_time": "2023-07-09T15:23:27.798Z"
      },
      {
        "duration": 11,
        "start_time": "2023-07-09T15:23:34.922Z"
      },
      {
        "duration": 14,
        "start_time": "2023-07-09T15:25:52.141Z"
      },
      {
        "duration": 15,
        "start_time": "2023-07-09T15:27:21.208Z"
      },
      {
        "duration": 2134,
        "start_time": "2023-07-09T15:28:17.433Z"
      },
      {
        "duration": 5,
        "start_time": "2023-07-09T15:28:29.988Z"
      },
      {
        "duration": 27,
        "start_time": "2023-07-09T15:28:44.269Z"
      },
      {
        "duration": 85,
        "start_time": "2023-07-09T15:28:47.289Z"
      },
      {
        "duration": 46,
        "start_time": "2023-07-09T15:29:05.945Z"
      },
      {
        "duration": 320,
        "start_time": "2023-07-09T15:29:06.780Z"
      },
      {
        "duration": 300,
        "start_time": "2023-07-09T15:29:16.134Z"
      },
      {
        "duration": 15,
        "start_time": "2023-07-09T15:30:18.936Z"
      },
      {
        "duration": 6,
        "start_time": "2023-07-09T15:31:25.967Z"
      },
      {
        "duration": 20,
        "start_time": "2023-07-09T15:31:31.687Z"
      },
      {
        "duration": 6,
        "start_time": "2023-07-09T15:31:45.990Z"
      },
      {
        "duration": 167,
        "start_time": "2023-07-09T15:31:49.651Z"
      },
      {
        "duration": 220,
        "start_time": "2023-07-09T15:32:02.351Z"
      },
      {
        "duration": 218,
        "start_time": "2023-07-09T15:32:14.068Z"
      },
      {
        "duration": 161,
        "start_time": "2023-07-09T15:32:22.298Z"
      },
      {
        "duration": 155,
        "start_time": "2023-07-09T15:32:31.592Z"
      },
      {
        "duration": 4,
        "start_time": "2023-07-09T15:38:12.398Z"
      },
      {
        "duration": 19,
        "start_time": "2023-07-09T15:40:32.570Z"
      },
      {
        "duration": 12,
        "start_time": "2023-07-09T15:41:27.953Z"
      },
      {
        "duration": 32,
        "start_time": "2023-07-09T15:43:11.667Z"
      },
      {
        "duration": 4602,
        "start_time": "2023-07-09T15:45:42.850Z"
      },
      {
        "duration": 1402,
        "start_time": "2023-07-09T15:45:47.454Z"
      },
      {
        "duration": 4,
        "start_time": "2023-07-09T15:45:48.858Z"
      },
      {
        "duration": 260,
        "start_time": "2023-07-09T15:45:48.866Z"
      },
      {
        "duration": 2466,
        "start_time": "2023-07-09T15:45:49.128Z"
      },
      {
        "duration": 2,
        "start_time": "2023-07-09T15:45:51.597Z"
      },
      {
        "duration": 21,
        "start_time": "2023-07-09T15:45:51.602Z"
      },
      {
        "duration": 114,
        "start_time": "2023-07-09T15:45:51.625Z"
      },
      {
        "duration": 4,
        "start_time": "2023-07-09T15:45:51.741Z"
      },
      {
        "duration": 102,
        "start_time": "2023-07-09T15:45:51.748Z"
      },
      {
        "duration": 15,
        "start_time": "2023-07-09T15:45:51.852Z"
      },
      {
        "duration": 85,
        "start_time": "2023-07-09T15:45:51.869Z"
      },
      {
        "duration": 12,
        "start_time": "2023-07-09T15:45:51.956Z"
      },
      {
        "duration": 10,
        "start_time": "2023-07-09T15:45:51.970Z"
      },
      {
        "duration": 24,
        "start_time": "2023-07-09T15:45:51.982Z"
      },
      {
        "duration": 23,
        "start_time": "2023-07-09T15:45:52.008Z"
      },
      {
        "duration": 16,
        "start_time": "2023-07-09T15:45:52.033Z"
      },
      {
        "duration": 45,
        "start_time": "2023-07-09T15:45:52.050Z"
      },
      {
        "duration": 92,
        "start_time": "2023-07-09T15:45:52.096Z"
      },
      {
        "duration": 7,
        "start_time": "2023-07-09T15:45:52.190Z"
      },
      {
        "duration": 44,
        "start_time": "2023-07-09T15:45:52.198Z"
      },
      {
        "duration": 7,
        "start_time": "2023-07-09T15:45:52.244Z"
      },
      {
        "duration": 4,
        "start_time": "2023-07-09T15:45:52.268Z"
      },
      {
        "duration": 22,
        "start_time": "2023-07-09T15:45:52.274Z"
      },
      {
        "duration": 18,
        "start_time": "2023-07-09T15:45:52.298Z"
      },
      {
        "duration": 29,
        "start_time": "2023-07-09T15:45:52.318Z"
      },
      {
        "duration": 37,
        "start_time": "2023-07-09T15:45:52.350Z"
      },
      {
        "duration": 26,
        "start_time": "2023-07-09T15:45:52.392Z"
      },
      {
        "duration": 22,
        "start_time": "2023-07-09T15:45:52.420Z"
      },
      {
        "duration": 4,
        "start_time": "2023-07-09T15:45:52.444Z"
      },
      {
        "duration": 25,
        "start_time": "2023-07-09T15:45:52.450Z"
      },
      {
        "duration": 10,
        "start_time": "2023-07-09T15:45:52.477Z"
      },
      {
        "duration": 38,
        "start_time": "2023-07-09T15:45:52.489Z"
      },
      {
        "duration": 15,
        "start_time": "2023-07-09T15:45:52.529Z"
      },
      {
        "duration": 51,
        "start_time": "2023-07-09T15:45:52.546Z"
      },
      {
        "duration": 16,
        "start_time": "2023-07-09T15:45:52.599Z"
      },
      {
        "duration": 10,
        "start_time": "2023-07-09T15:45:52.617Z"
      },
      {
        "duration": 195,
        "start_time": "2023-07-09T15:45:52.629Z"
      },
      {
        "duration": 5,
        "start_time": "2023-07-09T15:45:52.826Z"
      },
      {
        "duration": 26,
        "start_time": "2023-07-09T15:45:52.833Z"
      },
      {
        "duration": 33,
        "start_time": "2023-07-09T15:45:52.861Z"
      },
      {
        "duration": 18,
        "start_time": "2023-07-09T15:45:52.895Z"
      },
      {
        "duration": 17,
        "start_time": "2023-07-09T15:45:52.915Z"
      },
      {
        "duration": 3,
        "start_time": "2023-07-09T15:45:52.934Z"
      },
      {
        "duration": 34,
        "start_time": "2023-07-09T15:45:52.938Z"
      },
      {
        "duration": 7,
        "start_time": "2023-07-09T15:45:52.975Z"
      },
      {
        "duration": 24,
        "start_time": "2023-07-09T15:45:52.984Z"
      },
      {
        "duration": 11,
        "start_time": "2023-07-09T15:45:53.011Z"
      },
      {
        "duration": 12,
        "start_time": "2023-07-09T15:45:53.024Z"
      },
      {
        "duration": 42,
        "start_time": "2023-07-09T15:45:53.037Z"
      },
      {
        "duration": 1291,
        "start_time": "2023-07-09T15:45:53.081Z"
      },
      {
        "duration": 14,
        "start_time": "2023-07-09T15:45:54.374Z"
      },
      {
        "duration": 29,
        "start_time": "2023-07-09T15:45:54.391Z"
      },
      {
        "duration": 38,
        "start_time": "2023-07-09T15:45:54.421Z"
      },
      {
        "duration": 28,
        "start_time": "2023-07-09T15:45:54.469Z"
      },
      {
        "duration": 5,
        "start_time": "2023-07-09T15:45:54.499Z"
      },
      {
        "duration": 8,
        "start_time": "2023-07-09T15:45:54.506Z"
      },
      {
        "duration": 9,
        "start_time": "2023-07-09T15:45:54.516Z"
      },
      {
        "duration": 26,
        "start_time": "2023-07-09T15:45:54.527Z"
      },
      {
        "duration": 39530,
        "start_time": "2023-07-09T15:45:54.556Z"
      },
      {
        "duration": 4,
        "start_time": "2023-07-09T15:46:34.089Z"
      },
      {
        "duration": 27864,
        "start_time": "2023-07-09T15:46:34.168Z"
      },
      {
        "duration": 3,
        "start_time": "2023-07-09T15:47:02.034Z"
      },
      {
        "duration": 31,
        "start_time": "2023-07-09T15:47:02.039Z"
      },
      {
        "duration": 67,
        "start_time": "2023-07-09T15:47:02.072Z"
      },
      {
        "duration": 0,
        "start_time": "2023-07-09T15:47:02.141Z"
      },
      {
        "duration": 0,
        "start_time": "2023-07-09T15:47:02.142Z"
      },
      {
        "duration": 0,
        "start_time": "2023-07-09T15:47:02.144Z"
      },
      {
        "duration": 0,
        "start_time": "2023-07-09T15:47:02.145Z"
      },
      {
        "duration": 0,
        "start_time": "2023-07-09T15:47:02.147Z"
      },
      {
        "duration": 0,
        "start_time": "2023-07-09T15:47:02.148Z"
      },
      {
        "duration": 0,
        "start_time": "2023-07-09T15:47:02.150Z"
      },
      {
        "duration": 0,
        "start_time": "2023-07-09T15:47:02.152Z"
      },
      {
        "duration": 0,
        "start_time": "2023-07-09T15:47:02.153Z"
      },
      {
        "duration": 0,
        "start_time": "2023-07-09T15:47:02.155Z"
      },
      {
        "duration": 0,
        "start_time": "2023-07-09T15:47:02.156Z"
      },
      {
        "duration": 0,
        "start_time": "2023-07-09T15:47:02.157Z"
      },
      {
        "duration": 387834,
        "start_time": "2023-07-09T15:47:42.947Z"
      },
      {
        "duration": 4,
        "start_time": "2023-07-09T15:54:19.305Z"
      },
      {
        "duration": 5,
        "start_time": "2023-07-09T15:54:39.815Z"
      },
      {
        "duration": 59,
        "start_time": "2023-07-09T15:54:40.877Z"
      },
      {
        "duration": 4,
        "start_time": "2023-07-09T15:54:42.104Z"
      },
      {
        "duration": 189864,
        "start_time": "2023-07-09T15:54:48.208Z"
      },
      {
        "duration": 12,
        "start_time": "2023-07-09T15:58:13.848Z"
      },
      {
        "duration": 604,
        "start_time": "2023-07-09T15:58:50.391Z"
      },
      {
        "duration": 48174,
        "start_time": "2023-07-09T15:59:56.302Z"
      },
      {
        "duration": 4,
        "start_time": "2023-07-09T16:00:51.145Z"
      },
      {
        "duration": 9,
        "start_time": "2023-07-09T16:00:53.486Z"
      },
      {
        "duration": 32,
        "start_time": "2023-07-09T16:13:04.318Z"
      },
      {
        "duration": 98,
        "start_time": "2023-07-09T16:13:08.671Z"
      },
      {
        "duration": 16,
        "start_time": "2023-07-09T16:15:04.801Z"
      },
      {
        "duration": 13,
        "start_time": "2023-07-09T16:15:39.308Z"
      },
      {
        "duration": 13,
        "start_time": "2023-07-09T16:15:55.996Z"
      },
      {
        "duration": 16,
        "start_time": "2023-07-09T16:16:02.303Z"
      },
      {
        "duration": 14,
        "start_time": "2023-07-09T16:16:34.335Z"
      },
      {
        "duration": 200,
        "start_time": "2023-07-09T16:16:41.645Z"
      },
      {
        "duration": 71,
        "start_time": "2023-07-09T16:16:47.302Z"
      },
      {
        "duration": 10,
        "start_time": "2023-07-09T16:18:48.069Z"
      },
      {
        "duration": 5496,
        "start_time": "2023-07-09T16:40:39.507Z"
      },
      {
        "duration": 1988,
        "start_time": "2023-07-09T16:40:45.006Z"
      },
      {
        "duration": 4,
        "start_time": "2023-07-09T16:40:46.996Z"
      },
      {
        "duration": 250,
        "start_time": "2023-07-09T16:40:47.001Z"
      },
      {
        "duration": 2419,
        "start_time": "2023-07-09T16:40:47.254Z"
      },
      {
        "duration": 3,
        "start_time": "2023-07-09T16:40:49.675Z"
      },
      {
        "duration": 23,
        "start_time": "2023-07-09T16:40:49.680Z"
      },
      {
        "duration": 337,
        "start_time": "2023-07-09T16:40:49.704Z"
      },
      {
        "duration": 3,
        "start_time": "2023-07-09T16:40:50.043Z"
      },
      {
        "duration": 66,
        "start_time": "2023-07-09T16:40:50.048Z"
      },
      {
        "duration": 7,
        "start_time": "2023-07-09T16:40:50.116Z"
      },
      {
        "duration": 87,
        "start_time": "2023-07-09T16:40:50.125Z"
      },
      {
        "duration": 6,
        "start_time": "2023-07-09T16:40:50.213Z"
      },
      {
        "duration": 26,
        "start_time": "2023-07-09T16:40:50.222Z"
      },
      {
        "duration": 26,
        "start_time": "2023-07-09T16:40:50.249Z"
      },
      {
        "duration": 16,
        "start_time": "2023-07-09T16:40:50.277Z"
      },
      {
        "duration": 27,
        "start_time": "2023-07-09T16:40:50.294Z"
      },
      {
        "duration": 6,
        "start_time": "2023-07-09T16:40:50.323Z"
      },
      {
        "duration": 71,
        "start_time": "2023-07-09T16:40:50.330Z"
      },
      {
        "duration": 9,
        "start_time": "2023-07-09T16:40:50.403Z"
      },
      {
        "duration": 68,
        "start_time": "2023-07-09T16:40:50.415Z"
      },
      {
        "duration": 12,
        "start_time": "2023-07-09T16:40:50.485Z"
      },
      {
        "duration": 14,
        "start_time": "2023-07-09T16:40:50.499Z"
      },
      {
        "duration": 17,
        "start_time": "2023-07-09T16:40:50.515Z"
      },
      {
        "duration": 28,
        "start_time": "2023-07-09T16:40:50.534Z"
      },
      {
        "duration": 35,
        "start_time": "2023-07-09T16:40:50.563Z"
      },
      {
        "duration": 27,
        "start_time": "2023-07-09T16:40:50.600Z"
      },
      {
        "duration": 25,
        "start_time": "2023-07-09T16:40:50.629Z"
      },
      {
        "duration": 26,
        "start_time": "2023-07-09T16:40:50.656Z"
      },
      {
        "duration": 23,
        "start_time": "2023-07-09T16:40:50.684Z"
      },
      {
        "duration": 18,
        "start_time": "2023-07-09T16:40:50.709Z"
      },
      {
        "duration": 23,
        "start_time": "2023-07-09T16:40:50.729Z"
      },
      {
        "duration": 30,
        "start_time": "2023-07-09T16:40:50.754Z"
      },
      {
        "duration": 24,
        "start_time": "2023-07-09T16:40:50.786Z"
      },
      {
        "duration": 27,
        "start_time": "2023-07-09T16:40:50.812Z"
      },
      {
        "duration": 22,
        "start_time": "2023-07-09T16:40:50.842Z"
      },
      {
        "duration": 47,
        "start_time": "2023-07-09T16:40:50.866Z"
      },
      {
        "duration": 193,
        "start_time": "2023-07-09T16:40:50.915Z"
      },
      {
        "duration": 5,
        "start_time": "2023-07-09T16:40:51.110Z"
      },
      {
        "duration": 5,
        "start_time": "2023-07-09T16:40:51.117Z"
      },
      {
        "duration": 17,
        "start_time": "2023-07-09T16:40:51.127Z"
      },
      {
        "duration": 45,
        "start_time": "2023-07-09T16:40:51.146Z"
      },
      {
        "duration": 30,
        "start_time": "2023-07-09T16:40:51.193Z"
      },
      {
        "duration": 3,
        "start_time": "2023-07-09T16:40:51.225Z"
      },
      {
        "duration": 39,
        "start_time": "2023-07-09T16:40:51.229Z"
      },
      {
        "duration": 17,
        "start_time": "2023-07-09T16:40:51.270Z"
      },
      {
        "duration": 34,
        "start_time": "2023-07-09T16:40:51.289Z"
      },
      {
        "duration": 38,
        "start_time": "2023-07-09T16:40:51.325Z"
      },
      {
        "duration": 31,
        "start_time": "2023-07-09T16:40:51.365Z"
      },
      {
        "duration": 40,
        "start_time": "2023-07-09T16:40:51.398Z"
      },
      {
        "duration": 1154,
        "start_time": "2023-07-09T16:40:51.440Z"
      },
      {
        "duration": 14,
        "start_time": "2023-07-09T16:40:52.595Z"
      },
      {
        "duration": 27,
        "start_time": "2023-07-09T16:40:52.610Z"
      },
      {
        "duration": 44,
        "start_time": "2023-07-09T16:40:52.638Z"
      },
      {
        "duration": 37,
        "start_time": "2023-07-09T16:40:52.683Z"
      },
      {
        "duration": 5,
        "start_time": "2023-07-09T16:40:52.721Z"
      },
      {
        "duration": 18,
        "start_time": "2023-07-09T16:40:52.728Z"
      },
      {
        "duration": 43,
        "start_time": "2023-07-09T16:40:52.748Z"
      },
      {
        "duration": 12,
        "start_time": "2023-07-09T16:40:52.793Z"
      },
      {
        "duration": 39283,
        "start_time": "2023-07-09T16:40:52.807Z"
      },
      {
        "duration": 3,
        "start_time": "2023-07-09T16:41:32.092Z"
      },
      {
        "duration": 35233,
        "start_time": "2023-07-09T16:41:32.097Z"
      },
      {
        "duration": 4,
        "start_time": "2023-07-09T16:42:07.331Z"
      },
      {
        "duration": 39,
        "start_time": "2023-07-09T16:42:07.336Z"
      },
      {
        "duration": 236188,
        "start_time": "2023-07-09T16:42:07.377Z"
      },
      {
        "duration": 4,
        "start_time": "2023-07-09T16:46:03.568Z"
      },
      {
        "duration": 6,
        "start_time": "2023-07-09T16:46:03.575Z"
      },
      {
        "duration": 44,
        "start_time": "2023-07-09T16:46:03.583Z"
      },
      {
        "duration": 3,
        "start_time": "2023-07-09T16:46:03.629Z"
      },
      {
        "duration": 68148,
        "start_time": "2023-07-09T16:46:03.634Z"
      },
      {
        "duration": 82,
        "start_time": "2023-07-09T16:47:11.784Z"
      },
      {
        "duration": 28,
        "start_time": "2023-07-09T16:47:11.868Z"
      },
      {
        "duration": 49,
        "start_time": "2023-07-09T16:47:11.898Z"
      },
      {
        "duration": 31,
        "start_time": "2023-07-09T16:47:11.949Z"
      },
      {
        "duration": 190,
        "start_time": "2023-07-09T16:47:11.982Z"
      },
      {
        "duration": 0,
        "start_time": "2023-07-09T16:47:12.174Z"
      },
      {
        "duration": 1,
        "start_time": "2023-07-09T16:47:12.175Z"
      },
      {
        "duration": 137,
        "start_time": "2023-07-09T16:48:07.390Z"
      },
      {
        "duration": 99,
        "start_time": "2023-07-09T16:48:13.986Z"
      },
      {
        "duration": 16,
        "start_time": "2023-07-09T16:53:09.713Z"
      },
      {
        "duration": 11,
        "start_time": "2023-07-09T16:54:41.270Z"
      },
      {
        "duration": 12,
        "start_time": "2023-07-09T16:54:59.157Z"
      },
      {
        "duration": 10,
        "start_time": "2023-07-09T16:55:23.635Z"
      },
      {
        "duration": 12,
        "start_time": "2023-07-09T16:58:25.802Z"
      },
      {
        "duration": 14,
        "start_time": "2023-07-09T16:58:37.084Z"
      },
      {
        "duration": 447630,
        "start_time": "2023-07-09T17:00:04.041Z"
      },
      {
        "duration": 4,
        "start_time": "2023-07-09T17:07:31.673Z"
      },
      {
        "duration": 71,
        "start_time": "2023-07-09T17:07:31.679Z"
      },
      {
        "duration": 15,
        "start_time": "2023-07-09T17:07:48.146Z"
      },
      {
        "duration": 12,
        "start_time": "2023-07-09T17:08:00.014Z"
      },
      {
        "duration": 25,
        "start_time": "2023-07-09T17:09:03.083Z"
      },
      {
        "duration": 3,
        "start_time": "2023-07-09T17:09:09.152Z"
      },
      {
        "duration": 13,
        "start_time": "2023-07-09T17:09:17.104Z"
      },
      {
        "duration": 10729,
        "start_time": "2023-07-10T04:49:46.616Z"
      },
      {
        "duration": 1592,
        "start_time": "2023-07-10T04:49:57.347Z"
      },
      {
        "duration": 16,
        "start_time": "2023-07-10T04:49:58.947Z"
      },
      {
        "duration": 393,
        "start_time": "2023-07-10T04:49:58.966Z"
      },
      {
        "duration": 19898,
        "start_time": "2023-07-10T04:49:59.365Z"
      },
      {
        "duration": 3,
        "start_time": "2023-07-10T04:50:19.265Z"
      },
      {
        "duration": 9,
        "start_time": "2023-07-10T04:50:19.270Z"
      },
      {
        "duration": 388,
        "start_time": "2023-07-10T04:50:19.280Z"
      },
      {
        "duration": 4,
        "start_time": "2023-07-10T04:50:19.670Z"
      },
      {
        "duration": 85,
        "start_time": "2023-07-10T04:50:19.676Z"
      },
      {
        "duration": 9,
        "start_time": "2023-07-10T04:50:19.764Z"
      },
      {
        "duration": 90,
        "start_time": "2023-07-10T04:50:19.774Z"
      },
      {
        "duration": 9,
        "start_time": "2023-07-10T04:50:19.865Z"
      },
      {
        "duration": 7,
        "start_time": "2023-07-10T04:50:19.876Z"
      },
      {
        "duration": 16,
        "start_time": "2023-07-10T04:50:19.884Z"
      },
      {
        "duration": 18,
        "start_time": "2023-07-10T04:50:19.902Z"
      },
      {
        "duration": 29,
        "start_time": "2023-07-10T04:50:19.933Z"
      },
      {
        "duration": 11,
        "start_time": "2023-07-10T04:50:19.964Z"
      },
      {
        "duration": 66,
        "start_time": "2023-07-10T04:50:19.977Z"
      },
      {
        "duration": 14,
        "start_time": "2023-07-10T04:50:20.044Z"
      },
      {
        "duration": 58,
        "start_time": "2023-07-10T04:50:20.060Z"
      },
      {
        "duration": 9,
        "start_time": "2023-07-10T04:50:20.121Z"
      },
      {
        "duration": 40,
        "start_time": "2023-07-10T04:50:20.132Z"
      },
      {
        "duration": 16,
        "start_time": "2023-07-10T04:50:20.174Z"
      },
      {
        "duration": 17,
        "start_time": "2023-07-10T04:50:20.191Z"
      },
      {
        "duration": 17,
        "start_time": "2023-07-10T04:50:20.209Z"
      },
      {
        "duration": 32,
        "start_time": "2023-07-10T04:50:20.227Z"
      },
      {
        "duration": 34,
        "start_time": "2023-07-10T04:50:20.264Z"
      },
      {
        "duration": 16,
        "start_time": "2023-07-10T04:50:20.299Z"
      },
      {
        "duration": 14,
        "start_time": "2023-07-10T04:50:20.317Z"
      },
      {
        "duration": 40,
        "start_time": "2023-07-10T04:50:20.333Z"
      },
      {
        "duration": 23,
        "start_time": "2023-07-10T04:50:20.375Z"
      },
      {
        "duration": 44,
        "start_time": "2023-07-10T04:50:20.399Z"
      },
      {
        "duration": 29,
        "start_time": "2023-07-10T04:50:20.445Z"
      },
      {
        "duration": 28,
        "start_time": "2023-07-10T04:50:20.476Z"
      },
      {
        "duration": 10,
        "start_time": "2023-07-10T04:50:20.506Z"
      },
      {
        "duration": 11,
        "start_time": "2023-07-10T04:50:20.518Z"
      },
      {
        "duration": 169,
        "start_time": "2023-07-10T04:50:20.530Z"
      },
      {
        "duration": 4,
        "start_time": "2023-07-10T04:50:20.701Z"
      },
      {
        "duration": 14,
        "start_time": "2023-07-10T04:50:20.706Z"
      },
      {
        "duration": 46,
        "start_time": "2023-07-10T04:50:20.722Z"
      },
      {
        "duration": 43,
        "start_time": "2023-07-10T04:50:20.770Z"
      },
      {
        "duration": 19,
        "start_time": "2023-07-10T04:50:20.814Z"
      },
      {
        "duration": 22,
        "start_time": "2023-07-10T04:50:20.835Z"
      },
      {
        "duration": 27,
        "start_time": "2023-07-10T04:50:20.860Z"
      },
      {
        "duration": 22,
        "start_time": "2023-07-10T04:50:20.889Z"
      },
      {
        "duration": 48,
        "start_time": "2023-07-10T04:50:20.912Z"
      },
      {
        "duration": 13,
        "start_time": "2023-07-10T04:50:20.962Z"
      },
      {
        "duration": 11,
        "start_time": "2023-07-10T04:50:20.976Z"
      },
      {
        "duration": 11,
        "start_time": "2023-07-10T04:50:20.989Z"
      },
      {
        "duration": 1150,
        "start_time": "2023-07-10T04:50:21.002Z"
      },
      {
        "duration": 14,
        "start_time": "2023-07-10T04:50:22.160Z"
      },
      {
        "duration": 18,
        "start_time": "2023-07-10T04:50:22.176Z"
      },
      {
        "duration": 53,
        "start_time": "2023-07-10T04:50:22.195Z"
      },
      {
        "duration": 32,
        "start_time": "2023-07-10T04:50:22.255Z"
      },
      {
        "duration": 4,
        "start_time": "2023-07-10T04:50:22.289Z"
      },
      {
        "duration": 5,
        "start_time": "2023-07-10T04:50:22.295Z"
      },
      {
        "duration": 25,
        "start_time": "2023-07-10T04:50:22.302Z"
      },
      {
        "duration": 29,
        "start_time": "2023-07-10T04:50:22.329Z"
      },
      {
        "duration": 144,
        "start_time": "2023-07-10T04:50:37.227Z"
      },
      {
        "duration": 97,
        "start_time": "2023-07-10T04:52:46.293Z"
      },
      {
        "duration": 11,
        "start_time": "2023-07-10T04:52:51.355Z"
      },
      {
        "duration": 272,
        "start_time": "2023-07-10T04:53:14.890Z"
      },
      {
        "duration": 37198,
        "start_time": "2023-07-10T04:53:35.965Z"
      },
      {
        "duration": 11,
        "start_time": "2023-07-10T04:55:14.885Z"
      },
      {
        "duration": 3,
        "start_time": "2023-07-10T04:55:20.009Z"
      },
      {
        "duration": 38374,
        "start_time": "2023-07-10T04:55:20.654Z"
      },
      {
        "duration": 4,
        "start_time": "2023-07-10T04:57:03.073Z"
      },
      {
        "duration": 3,
        "start_time": "2023-07-10T04:58:01.201Z"
      },
      {
        "duration": 46,
        "start_time": "2023-07-10T05:00:04.636Z"
      },
      {
        "duration": 246442,
        "start_time": "2023-07-10T05:00:06.803Z"
      },
      {
        "duration": 3,
        "start_time": "2023-07-10T05:04:18.572Z"
      },
      {
        "duration": 4,
        "start_time": "2023-07-10T05:04:36.560Z"
      },
      {
        "duration": 32,
        "start_time": "2023-07-10T05:04:38.406Z"
      },
      {
        "duration": 3,
        "start_time": "2023-07-10T05:04:47.208Z"
      },
      {
        "duration": 2732381,
        "start_time": "2023-07-10T05:04:47.863Z"
      },
      {
        "duration": 6,
        "start_time": "2023-07-10T05:50:30.153Z"
      },
      {
        "duration": 4,
        "start_time": "2023-07-10T05:51:10.057Z"
      },
      {
        "duration": 80,
        "start_time": "2023-07-10T05:51:15.459Z"
      },
      {
        "duration": 9,
        "start_time": "2023-07-10T05:52:03.331Z"
      },
      {
        "duration": 126118,
        "start_time": "2023-07-10T05:52:07.531Z"
      },
      {
        "duration": 4,
        "start_time": "2023-07-10T05:54:38.991Z"
      },
      {
        "duration": 4,
        "start_time": "2023-07-10T05:54:45.147Z"
      },
      {
        "duration": 112598,
        "start_time": "2023-07-10T05:54:47.545Z"
      },
      {
        "duration": 4,
        "start_time": "2023-07-10T05:56:44.896Z"
      },
      {
        "duration": 8,
        "start_time": "2023-07-10T05:57:06.183Z"
      },
      {
        "duration": 13,
        "start_time": "2023-07-10T05:58:50.172Z"
      },
      {
        "duration": 10,
        "start_time": "2023-07-10T05:59:29.349Z"
      },
      {
        "duration": 10,
        "start_time": "2023-07-10T05:59:58.249Z"
      },
      {
        "duration": 14,
        "start_time": "2023-07-10T06:00:05.845Z"
      },
      {
        "duration": 9,
        "start_time": "2023-07-10T06:00:30.614Z"
      },
      {
        "duration": 248,
        "start_time": "2023-07-10T06:02:22.320Z"
      },
      {
        "duration": 222,
        "start_time": "2023-07-10T06:02:29.062Z"
      },
      {
        "duration": 225,
        "start_time": "2023-07-10T06:02:53.017Z"
      },
      {
        "duration": 126,
        "start_time": "2023-07-10T06:03:45.768Z"
      },
      {
        "duration": 70,
        "start_time": "2023-07-10T06:04:45.805Z"
      },
      {
        "duration": 142,
        "start_time": "2023-07-10T06:04:58.485Z"
      },
      {
        "duration": 19,
        "start_time": "2023-07-10T06:05:22.119Z"
      },
      {
        "duration": 17,
        "start_time": "2023-07-10T06:05:57.888Z"
      },
      {
        "duration": 292,
        "start_time": "2023-07-10T06:06:10.939Z"
      },
      {
        "duration": 268,
        "start_time": "2023-07-10T06:06:19.449Z"
      },
      {
        "duration": 26,
        "start_time": "2023-07-10T06:09:44.238Z"
      },
      {
        "duration": 231,
        "start_time": "2023-07-10T06:09:48.667Z"
      },
      {
        "duration": 350,
        "start_time": "2023-07-10T06:10:17.445Z"
      },
      {
        "duration": 29,
        "start_time": "2023-07-10T06:11:27.260Z"
      },
      {
        "duration": 26,
        "start_time": "2023-07-10T06:12:26.435Z"
      },
      {
        "duration": 31,
        "start_time": "2023-07-10T06:13:55.349Z"
      },
      {
        "duration": 331,
        "start_time": "2023-07-10T06:14:21.668Z"
      },
      {
        "duration": 290,
        "start_time": "2023-07-10T06:15:25.489Z"
      },
      {
        "duration": 36,
        "start_time": "2023-07-10T06:15:49.417Z"
      },
      {
        "duration": 220,
        "start_time": "2023-07-10T06:18:26.975Z"
      },
      {
        "duration": 240,
        "start_time": "2023-07-10T06:23:56.573Z"
      },
      {
        "duration": 124,
        "start_time": "2023-07-10T06:27:17.119Z"
      },
      {
        "duration": 4,
        "start_time": "2023-07-10T06:30:26.344Z"
      },
      {
        "duration": 214,
        "start_time": "2023-07-10T06:33:21.425Z"
      },
      {
        "duration": 4415,
        "start_time": "2023-07-10T06:55:07.533Z"
      },
      {
        "duration": 1173,
        "start_time": "2023-07-10T06:55:11.950Z"
      },
      {
        "duration": 7,
        "start_time": "2023-07-10T06:55:13.125Z"
      },
      {
        "duration": 220,
        "start_time": "2023-07-10T06:55:13.134Z"
      },
      {
        "duration": 2297,
        "start_time": "2023-07-10T06:55:13.357Z"
      },
      {
        "duration": 3,
        "start_time": "2023-07-10T06:55:15.656Z"
      },
      {
        "duration": 8,
        "start_time": "2023-07-10T06:55:15.660Z"
      },
      {
        "duration": 106,
        "start_time": "2023-07-10T06:55:15.669Z"
      },
      {
        "duration": 4,
        "start_time": "2023-07-10T06:55:15.776Z"
      },
      {
        "duration": 55,
        "start_time": "2023-07-10T06:55:15.782Z"
      },
      {
        "duration": 8,
        "start_time": "2023-07-10T06:55:15.839Z"
      },
      {
        "duration": 62,
        "start_time": "2023-07-10T06:55:15.848Z"
      },
      {
        "duration": 20,
        "start_time": "2023-07-10T06:55:15.912Z"
      },
      {
        "duration": 4,
        "start_time": "2023-07-10T06:55:15.935Z"
      },
      {
        "duration": 19,
        "start_time": "2023-07-10T06:55:15.940Z"
      },
      {
        "duration": 24,
        "start_time": "2023-07-10T06:55:15.960Z"
      },
      {
        "duration": 26,
        "start_time": "2023-07-10T06:55:15.985Z"
      },
      {
        "duration": 8,
        "start_time": "2023-07-10T06:55:16.012Z"
      },
      {
        "duration": 49,
        "start_time": "2023-07-10T06:55:16.021Z"
      },
      {
        "duration": 5,
        "start_time": "2023-07-10T06:55:16.072Z"
      },
      {
        "duration": 53,
        "start_time": "2023-07-10T06:55:16.079Z"
      },
      {
        "duration": 7,
        "start_time": "2023-07-10T06:55:16.133Z"
      },
      {
        "duration": 13,
        "start_time": "2023-07-10T06:55:16.141Z"
      },
      {
        "duration": 16,
        "start_time": "2023-07-10T06:55:16.155Z"
      },
      {
        "duration": 9,
        "start_time": "2023-07-10T06:55:16.172Z"
      },
      {
        "duration": 9,
        "start_time": "2023-07-10T06:55:16.182Z"
      },
      {
        "duration": 16,
        "start_time": "2023-07-10T06:55:16.192Z"
      },
      {
        "duration": 34,
        "start_time": "2023-07-10T06:55:16.209Z"
      },
      {
        "duration": 35,
        "start_time": "2023-07-10T06:55:16.244Z"
      },
      {
        "duration": 11,
        "start_time": "2023-07-10T06:55:16.280Z"
      },
      {
        "duration": 14,
        "start_time": "2023-07-10T06:55:16.292Z"
      },
      {
        "duration": 9,
        "start_time": "2023-07-10T06:55:16.308Z"
      },
      {
        "duration": 26,
        "start_time": "2023-07-10T06:55:16.318Z"
      },
      {
        "duration": 7,
        "start_time": "2023-07-10T06:55:16.345Z"
      },
      {
        "duration": 24,
        "start_time": "2023-07-10T06:55:16.354Z"
      },
      {
        "duration": 16,
        "start_time": "2023-07-10T06:55:16.379Z"
      },
      {
        "duration": 9,
        "start_time": "2023-07-10T06:55:16.396Z"
      },
      {
        "duration": 134,
        "start_time": "2023-07-10T06:55:16.407Z"
      },
      {
        "duration": 4,
        "start_time": "2023-07-10T06:55:16.543Z"
      },
      {
        "duration": 9,
        "start_time": "2023-07-10T06:55:16.548Z"
      },
      {
        "duration": 15,
        "start_time": "2023-07-10T06:55:16.561Z"
      },
      {
        "duration": 22,
        "start_time": "2023-07-10T06:55:16.577Z"
      },
      {
        "duration": 96,
        "start_time": "2023-07-10T06:55:16.601Z"
      },
      {
        "duration": 24,
        "start_time": "2023-07-10T06:55:16.699Z"
      },
      {
        "duration": 59,
        "start_time": "2023-07-10T06:55:16.724Z"
      },
      {
        "duration": 5,
        "start_time": "2023-07-10T06:55:16.785Z"
      },
      {
        "duration": 17,
        "start_time": "2023-07-10T06:55:16.792Z"
      },
      {
        "duration": 11,
        "start_time": "2023-07-10T06:55:16.811Z"
      },
      {
        "duration": 9,
        "start_time": "2023-07-10T06:55:16.823Z"
      },
      {
        "duration": 10,
        "start_time": "2023-07-10T06:55:16.833Z"
      },
      {
        "duration": 987,
        "start_time": "2023-07-10T06:55:16.845Z"
      },
      {
        "duration": 15,
        "start_time": "2023-07-10T06:55:17.833Z"
      },
      {
        "duration": 15,
        "start_time": "2023-07-10T06:55:17.849Z"
      },
      {
        "duration": 24,
        "start_time": "2023-07-10T06:55:17.866Z"
      },
      {
        "duration": 53,
        "start_time": "2023-07-10T06:55:17.891Z"
      },
      {
        "duration": 3,
        "start_time": "2023-07-10T06:55:17.945Z"
      },
      {
        "duration": 11,
        "start_time": "2023-07-10T06:55:17.949Z"
      },
      {
        "duration": 15,
        "start_time": "2023-07-10T06:55:17.961Z"
      },
      {
        "duration": 6,
        "start_time": "2023-07-10T06:55:17.978Z"
      },
      {
        "duration": 39170,
        "start_time": "2023-07-10T06:55:17.985Z"
      },
      {
        "duration": 4,
        "start_time": "2023-07-10T06:55:57.158Z"
      },
      {
        "duration": 100,
        "start_time": "2023-07-10T06:55:57.233Z"
      },
      {
        "duration": 37156,
        "start_time": "2023-07-10T06:55:57.335Z"
      },
      {
        "duration": 4,
        "start_time": "2023-07-10T06:56:34.493Z"
      },
      {
        "duration": 53,
        "start_time": "2023-07-10T06:56:34.498Z"
      },
      {
        "duration": 51,
        "start_time": "2023-07-10T06:56:34.552Z"
      },
      {
        "duration": 197742,
        "start_time": "2023-07-10T06:56:34.604Z"
      },
      {
        "duration": 3,
        "start_time": "2023-07-10T06:59:52.347Z"
      },
      {
        "duration": 21,
        "start_time": "2023-07-10T06:59:52.352Z"
      },
      {
        "duration": 37,
        "start_time": "2023-07-10T06:59:52.374Z"
      },
      {
        "duration": 3,
        "start_time": "2023-07-10T06:59:52.412Z"
      },
      {
        "duration": 32820,
        "start_time": "2023-07-10T06:59:52.417Z"
      },
      {
        "duration": 4,
        "start_time": "2023-07-10T07:00:25.238Z"
      },
      {
        "duration": 4,
        "start_time": "2023-07-10T07:01:56.338Z"
      },
      {
        "duration": 23317,
        "start_time": "2023-07-10T07:02:05.125Z"
      },
      {
        "duration": 4,
        "start_time": "2023-07-10T07:02:51.692Z"
      },
      {
        "duration": 7,
        "start_time": "2023-07-10T07:03:03.901Z"
      },
      {
        "duration": 3,
        "start_time": "2023-07-10T07:07:37.129Z"
      },
      {
        "duration": 13,
        "start_time": "2023-07-10T07:07:49.769Z"
      },
      {
        "duration": 240,
        "start_time": "2023-07-10T07:07:55.582Z"
      },
      {
        "duration": 132,
        "start_time": "2023-07-10T07:08:02.049Z"
      },
      {
        "duration": 243,
        "start_time": "2023-07-10T07:08:07.561Z"
      },
      {
        "duration": 108,
        "start_time": "2023-07-10T07:14:40.618Z"
      },
      {
        "duration": 5,
        "start_time": "2023-07-10T07:15:05.197Z"
      },
      {
        "duration": 11,
        "start_time": "2023-07-10T07:15:11.922Z"
      },
      {
        "duration": 11,
        "start_time": "2023-07-10T07:15:34.882Z"
      },
      {
        "duration": 4366,
        "start_time": "2023-07-10T07:16:32.787Z"
      },
      {
        "duration": 1286,
        "start_time": "2023-07-10T07:16:37.155Z"
      },
      {
        "duration": 4,
        "start_time": "2023-07-10T07:16:38.443Z"
      },
      {
        "duration": 186,
        "start_time": "2023-07-10T07:16:38.449Z"
      },
      {
        "duration": 2297,
        "start_time": "2023-07-10T07:16:38.637Z"
      },
      {
        "duration": 2,
        "start_time": "2023-07-10T07:16:40.936Z"
      },
      {
        "duration": 36,
        "start_time": "2023-07-10T07:16:40.940Z"
      },
      {
        "duration": 232,
        "start_time": "2023-07-10T07:16:40.978Z"
      },
      {
        "duration": 5,
        "start_time": "2023-07-10T07:16:41.212Z"
      },
      {
        "duration": 100,
        "start_time": "2023-07-10T07:16:41.219Z"
      },
      {
        "duration": 8,
        "start_time": "2023-07-10T07:16:41.320Z"
      },
      {
        "duration": 60,
        "start_time": "2023-07-10T07:16:41.329Z"
      },
      {
        "duration": 7,
        "start_time": "2023-07-10T07:16:41.390Z"
      },
      {
        "duration": 16,
        "start_time": "2023-07-10T07:16:41.400Z"
      },
      {
        "duration": 19,
        "start_time": "2023-07-10T07:16:41.417Z"
      },
      {
        "duration": 13,
        "start_time": "2023-07-10T07:16:41.437Z"
      },
      {
        "duration": 29,
        "start_time": "2023-07-10T07:16:41.452Z"
      },
      {
        "duration": 19,
        "start_time": "2023-07-10T07:16:41.482Z"
      },
      {
        "duration": 54,
        "start_time": "2023-07-10T07:16:41.503Z"
      },
      {
        "duration": 6,
        "start_time": "2023-07-10T07:16:41.558Z"
      },
      {
        "duration": 35,
        "start_time": "2023-07-10T07:16:41.566Z"
      },
      {
        "duration": 34,
        "start_time": "2023-07-10T07:16:41.603Z"
      },
      {
        "duration": 3,
        "start_time": "2023-07-10T07:16:41.638Z"
      },
      {
        "duration": 14,
        "start_time": "2023-07-10T07:16:41.643Z"
      },
      {
        "duration": 9,
        "start_time": "2023-07-10T07:16:41.659Z"
      },
      {
        "duration": 20,
        "start_time": "2023-07-10T07:16:41.669Z"
      },
      {
        "duration": 16,
        "start_time": "2023-07-10T07:16:41.691Z"
      },
      {
        "duration": 15,
        "start_time": "2023-07-10T07:16:41.732Z"
      },
      {
        "duration": 11,
        "start_time": "2023-07-10T07:16:41.749Z"
      },
      {
        "duration": 4,
        "start_time": "2023-07-10T07:16:41.762Z"
      },
      {
        "duration": 12,
        "start_time": "2023-07-10T07:16:41.768Z"
      },
      {
        "duration": 5,
        "start_time": "2023-07-10T07:16:41.782Z"
      },
      {
        "duration": 50,
        "start_time": "2023-07-10T07:16:41.789Z"
      },
      {
        "duration": 3,
        "start_time": "2023-07-10T07:16:41.841Z"
      },
      {
        "duration": 27,
        "start_time": "2023-07-10T07:16:41.845Z"
      },
      {
        "duration": 11,
        "start_time": "2023-07-10T07:16:41.873Z"
      },
      {
        "duration": 17,
        "start_time": "2023-07-10T07:16:41.886Z"
      },
      {
        "duration": 137,
        "start_time": "2023-07-10T07:16:41.904Z"
      },
      {
        "duration": 5,
        "start_time": "2023-07-10T07:16:42.042Z"
      },
      {
        "duration": 6,
        "start_time": "2023-07-10T07:16:42.048Z"
      },
      {
        "duration": 18,
        "start_time": "2023-07-10T07:16:42.059Z"
      },
      {
        "duration": 16,
        "start_time": "2023-07-10T07:16:42.078Z"
      },
      {
        "duration": 13,
        "start_time": "2023-07-10T07:16:42.095Z"
      },
      {
        "duration": 23,
        "start_time": "2023-07-10T07:16:42.109Z"
      },
      {
        "duration": 18,
        "start_time": "2023-07-10T07:16:42.133Z"
      },
      {
        "duration": 5,
        "start_time": "2023-07-10T07:16:42.153Z"
      },
      {
        "duration": 16,
        "start_time": "2023-07-10T07:16:42.159Z"
      },
      {
        "duration": 16,
        "start_time": "2023-07-10T07:16:42.176Z"
      },
      {
        "duration": 12,
        "start_time": "2023-07-10T07:16:42.194Z"
      },
      {
        "duration": 30,
        "start_time": "2023-07-10T07:16:42.207Z"
      },
      {
        "duration": 993,
        "start_time": "2023-07-10T07:16:42.239Z"
      },
      {
        "duration": 13,
        "start_time": "2023-07-10T07:16:43.234Z"
      },
      {
        "duration": 18,
        "start_time": "2023-07-10T07:16:43.249Z"
      },
      {
        "duration": 38,
        "start_time": "2023-07-10T07:16:43.269Z"
      },
      {
        "duration": 43,
        "start_time": "2023-07-10T07:16:43.308Z"
      },
      {
        "duration": 4,
        "start_time": "2023-07-10T07:16:43.353Z"
      },
      {
        "duration": 9,
        "start_time": "2023-07-10T07:16:43.358Z"
      },
      {
        "duration": 7,
        "start_time": "2023-07-10T07:16:43.369Z"
      },
      {
        "duration": 5,
        "start_time": "2023-07-10T07:16:43.377Z"
      },
      {
        "duration": 39273,
        "start_time": "2023-07-10T07:16:43.384Z"
      },
      {
        "duration": 73,
        "start_time": "2023-07-10T07:17:22.659Z"
      },
      {
        "duration": 5,
        "start_time": "2023-07-10T07:17:22.734Z"
      },
      {
        "duration": 34712,
        "start_time": "2023-07-10T07:17:22.741Z"
      },
      {
        "duration": 4,
        "start_time": "2023-07-10T07:17:57.454Z"
      },
      {
        "duration": 12,
        "start_time": "2023-07-10T07:17:57.459Z"
      },
      {
        "duration": 59,
        "start_time": "2023-07-10T07:17:57.472Z"
      },
      {
        "duration": 207168,
        "start_time": "2023-07-10T07:17:57.533Z"
      },
      {
        "duration": 4,
        "start_time": "2023-07-10T07:21:24.703Z"
      },
      {
        "duration": 11,
        "start_time": "2023-07-10T07:21:24.709Z"
      },
      {
        "duration": 50,
        "start_time": "2023-07-10T07:21:24.722Z"
      },
      {
        "duration": 3,
        "start_time": "2023-07-10T07:21:24.774Z"
      },
      {
        "duration": 514257,
        "start_time": "2023-07-10T07:21:24.779Z"
      },
      {
        "duration": 4,
        "start_time": "2023-07-10T07:29:59.038Z"
      },
      {
        "duration": 9,
        "start_time": "2023-07-10T07:29:59.043Z"
      },
      {
        "duration": 23488,
        "start_time": "2023-07-10T07:29:59.053Z"
      },
      {
        "duration": 3,
        "start_time": "2023-07-10T07:30:22.543Z"
      },
      {
        "duration": 11,
        "start_time": "2023-07-10T07:30:22.547Z"
      },
      {
        "duration": 17,
        "start_time": "2023-07-10T07:30:22.559Z"
      },
      {
        "duration": 17,
        "start_time": "2023-07-10T07:30:22.578Z"
      },
      {
        "duration": 42,
        "start_time": "2023-07-10T07:30:22.596Z"
      },
      {
        "duration": 226,
        "start_time": "2023-07-10T07:30:22.640Z"
      },
      {
        "duration": 139,
        "start_time": "2023-07-10T07:30:22.868Z"
      },
      {
        "duration": 273,
        "start_time": "2023-07-10T07:30:23.008Z"
      },
      {
        "duration": 12,
        "start_time": "2023-07-11T13:22:57.580Z"
      },
      {
        "duration": 4513,
        "start_time": "2023-07-11T13:24:49.880Z"
      },
      {
        "duration": 1342,
        "start_time": "2023-07-11T13:24:54.396Z"
      },
      {
        "duration": 4,
        "start_time": "2023-07-11T13:24:55.741Z"
      },
      {
        "duration": 235,
        "start_time": "2023-07-11T13:24:55.747Z"
      },
      {
        "duration": 2596,
        "start_time": "2023-07-11T13:24:55.984Z"
      },
      {
        "duration": 3,
        "start_time": "2023-07-11T13:24:58.582Z"
      },
      {
        "duration": 6,
        "start_time": "2023-07-11T13:24:58.587Z"
      },
      {
        "duration": 110,
        "start_time": "2023-07-11T13:24:58.595Z"
      },
      {
        "duration": 3,
        "start_time": "2023-07-11T13:24:58.707Z"
      },
      {
        "duration": 64,
        "start_time": "2023-07-11T13:24:58.712Z"
      },
      {
        "duration": 7,
        "start_time": "2023-07-11T13:24:58.778Z"
      },
      {
        "duration": 95,
        "start_time": "2023-07-11T13:24:58.786Z"
      },
      {
        "duration": 7,
        "start_time": "2023-07-11T13:24:58.883Z"
      },
      {
        "duration": 56,
        "start_time": "2023-07-11T13:24:58.892Z"
      },
      {
        "duration": 50,
        "start_time": "2023-07-11T13:24:58.950Z"
      },
      {
        "duration": 32,
        "start_time": "2023-07-11T13:24:59.002Z"
      },
      {
        "duration": 16,
        "start_time": "2023-07-11T13:24:59.036Z"
      },
      {
        "duration": 22,
        "start_time": "2023-07-11T13:24:59.054Z"
      },
      {
        "duration": 66,
        "start_time": "2023-07-11T13:24:59.077Z"
      },
      {
        "duration": 8,
        "start_time": "2023-07-11T13:24:59.144Z"
      },
      {
        "duration": 33,
        "start_time": "2023-07-11T13:24:59.153Z"
      },
      {
        "duration": 7,
        "start_time": "2023-07-11T13:24:59.187Z"
      },
      {
        "duration": 22,
        "start_time": "2023-07-11T13:24:59.195Z"
      },
      {
        "duration": 47,
        "start_time": "2023-07-11T13:24:59.219Z"
      },
      {
        "duration": 19,
        "start_time": "2023-07-11T13:24:59.268Z"
      },
      {
        "duration": 12,
        "start_time": "2023-07-11T13:24:59.289Z"
      },
      {
        "duration": 16,
        "start_time": "2023-07-11T13:24:59.303Z"
      },
      {
        "duration": 31,
        "start_time": "2023-07-11T13:24:59.321Z"
      },
      {
        "duration": 31,
        "start_time": "2023-07-11T13:24:59.354Z"
      },
      {
        "duration": 24,
        "start_time": "2023-07-11T13:24:59.386Z"
      },
      {
        "duration": 13,
        "start_time": "2023-07-11T13:24:59.412Z"
      },
      {
        "duration": 35,
        "start_time": "2023-07-11T13:24:59.426Z"
      },
      {
        "duration": 38,
        "start_time": "2023-07-11T13:24:59.463Z"
      },
      {
        "duration": 30,
        "start_time": "2023-07-11T13:24:59.504Z"
      },
      {
        "duration": 45,
        "start_time": "2023-07-11T13:24:59.536Z"
      },
      {
        "duration": 15,
        "start_time": "2023-07-11T13:24:59.582Z"
      },
      {
        "duration": 8,
        "start_time": "2023-07-11T13:24:59.599Z"
      },
      {
        "duration": 178,
        "start_time": "2023-07-11T13:24:59.609Z"
      },
      {
        "duration": 4,
        "start_time": "2023-07-11T13:24:59.789Z"
      },
      {
        "duration": 21,
        "start_time": "2023-07-11T13:24:59.794Z"
      },
      {
        "duration": 32,
        "start_time": "2023-07-11T13:24:59.818Z"
      },
      {
        "duration": 26,
        "start_time": "2023-07-11T13:24:59.852Z"
      },
      {
        "duration": 17,
        "start_time": "2023-07-11T13:24:59.880Z"
      },
      {
        "duration": 3,
        "start_time": "2023-07-11T13:24:59.899Z"
      },
      {
        "duration": 37,
        "start_time": "2023-07-11T13:24:59.904Z"
      },
      {
        "duration": 21,
        "start_time": "2023-07-11T13:24:59.942Z"
      },
      {
        "duration": 37,
        "start_time": "2023-07-11T13:24:59.965Z"
      },
      {
        "duration": 118,
        "start_time": "2023-07-11T13:25:00.004Z"
      },
      {
        "duration": 77,
        "start_time": "2023-07-11T13:25:00.123Z"
      },
      {
        "duration": 76,
        "start_time": "2023-07-11T13:25:00.202Z"
      },
      {
        "duration": 1169,
        "start_time": "2023-07-11T13:25:00.279Z"
      },
      {
        "duration": 14,
        "start_time": "2023-07-11T13:25:01.450Z"
      },
      {
        "duration": 34,
        "start_time": "2023-07-11T13:25:01.466Z"
      },
      {
        "duration": 104,
        "start_time": "2023-07-11T13:25:01.501Z"
      },
      {
        "duration": 141,
        "start_time": "2023-07-11T13:25:04.458Z"
      },
      {
        "duration": 11,
        "start_time": "2023-07-11T13:25:42.931Z"
      },
      {
        "duration": 5,
        "start_time": "2023-07-11T13:25:50.054Z"
      },
      {
        "duration": 12,
        "start_time": "2023-07-11T13:26:47.031Z"
      },
      {
        "duration": 3,
        "start_time": "2023-07-11T13:27:57.154Z"
      },
      {
        "duration": 3,
        "start_time": "2023-07-11T13:27:58.679Z"
      },
      {
        "duration": 3,
        "start_time": "2023-07-11T13:27:59.483Z"
      },
      {
        "duration": 38778,
        "start_time": "2023-07-11T13:28:01.581Z"
      },
      {
        "duration": 3,
        "start_time": "2023-07-11T13:29:10.796Z"
      },
      {
        "duration": 8,
        "start_time": "2023-07-11T13:29:13.127Z"
      },
      {
        "duration": 32861,
        "start_time": "2023-07-11T13:29:14.103Z"
      },
      {
        "duration": 3,
        "start_time": "2023-07-11T13:29:46.966Z"
      },
      {
        "duration": 4,
        "start_time": "2023-07-11T13:35:38.089Z"
      },
      {
        "duration": 5,
        "start_time": "2023-07-11T13:35:38.827Z"
      },
      {
        "duration": 229966,
        "start_time": "2023-07-11T13:35:43.442Z"
      },
      {
        "duration": 4,
        "start_time": "2023-07-11T13:40:42.470Z"
      },
      {
        "duration": 3,
        "start_time": "2023-07-11T13:40:47.245Z"
      },
      {
        "duration": 35,
        "start_time": "2023-07-11T13:40:48.598Z"
      },
      {
        "duration": 3,
        "start_time": "2023-07-11T13:40:50.043Z"
      },
      {
        "duration": 4685,
        "start_time": "2023-07-11T15:18:52.439Z"
      },
      {
        "duration": 1353,
        "start_time": "2023-07-11T15:18:57.127Z"
      },
      {
        "duration": 3,
        "start_time": "2023-07-11T15:18:58.482Z"
      },
      {
        "duration": 264,
        "start_time": "2023-07-11T15:18:58.487Z"
      },
      {
        "duration": 2522,
        "start_time": "2023-07-11T15:18:58.755Z"
      },
      {
        "duration": 4,
        "start_time": "2023-07-11T15:19:01.280Z"
      },
      {
        "duration": 34,
        "start_time": "2023-07-11T15:19:01.285Z"
      },
      {
        "duration": 260,
        "start_time": "2023-07-11T15:19:01.321Z"
      },
      {
        "duration": 5,
        "start_time": "2023-07-11T15:19:01.584Z"
      },
      {
        "duration": 164,
        "start_time": "2023-07-11T15:19:01.590Z"
      },
      {
        "duration": 59,
        "start_time": "2023-07-11T15:19:01.756Z"
      },
      {
        "duration": 189,
        "start_time": "2023-07-11T15:19:01.819Z"
      },
      {
        "duration": 33,
        "start_time": "2023-07-11T15:19:02.011Z"
      },
      {
        "duration": 41,
        "start_time": "2023-07-11T15:19:02.049Z"
      },
      {
        "duration": 53,
        "start_time": "2023-07-11T15:19:02.092Z"
      },
      {
        "duration": 82,
        "start_time": "2023-07-11T15:19:02.152Z"
      },
      {
        "duration": 54,
        "start_time": "2023-07-11T15:19:02.236Z"
      },
      {
        "duration": 96,
        "start_time": "2023-07-11T15:19:02.291Z"
      },
      {
        "duration": 95,
        "start_time": "2023-07-11T15:19:02.388Z"
      },
      {
        "duration": 49,
        "start_time": "2023-07-11T15:19:02.485Z"
      },
      {
        "duration": 88,
        "start_time": "2023-07-11T15:19:02.536Z"
      },
      {
        "duration": 61,
        "start_time": "2023-07-11T15:19:02.626Z"
      },
      {
        "duration": 102,
        "start_time": "2023-07-11T15:19:02.689Z"
      },
      {
        "duration": 77,
        "start_time": "2023-07-11T15:19:02.793Z"
      },
      {
        "duration": 71,
        "start_time": "2023-07-11T15:19:02.872Z"
      },
      {
        "duration": 33,
        "start_time": "2023-07-11T15:19:02.951Z"
      },
      {
        "duration": 41,
        "start_time": "2023-07-11T15:19:02.986Z"
      },
      {
        "duration": 87,
        "start_time": "2023-07-11T15:19:03.029Z"
      },
      {
        "duration": 60,
        "start_time": "2023-07-11T15:19:03.118Z"
      },
      {
        "duration": 31,
        "start_time": "2023-07-11T15:19:03.179Z"
      },
      {
        "duration": 75,
        "start_time": "2023-07-11T15:19:03.212Z"
      },
      {
        "duration": 34,
        "start_time": "2023-07-11T15:19:03.289Z"
      },
      {
        "duration": 68,
        "start_time": "2023-07-11T15:19:03.325Z"
      },
      {
        "duration": 106,
        "start_time": "2023-07-11T15:19:03.396Z"
      },
      {
        "duration": 78,
        "start_time": "2023-07-11T15:19:03.505Z"
      },
      {
        "duration": 16,
        "start_time": "2023-07-11T15:19:03.585Z"
      },
      {
        "duration": 15,
        "start_time": "2023-07-11T15:19:03.603Z"
      },
      {
        "duration": 159,
        "start_time": "2023-07-11T15:19:03.620Z"
      },
      {
        "duration": 5,
        "start_time": "2023-07-11T15:19:03.783Z"
      },
      {
        "duration": 12,
        "start_time": "2023-07-11T15:19:03.790Z"
      },
      {
        "duration": 22,
        "start_time": "2023-07-11T15:19:03.804Z"
      },
      {
        "duration": 27,
        "start_time": "2023-07-11T15:19:03.832Z"
      },
      {
        "duration": 16,
        "start_time": "2023-07-11T15:19:03.861Z"
      },
      {
        "duration": 3,
        "start_time": "2023-07-11T15:19:03.879Z"
      },
      {
        "duration": 25,
        "start_time": "2023-07-11T15:19:03.884Z"
      },
      {
        "duration": 5,
        "start_time": "2023-07-11T15:19:03.912Z"
      },
      {
        "duration": 24,
        "start_time": "2023-07-11T15:19:03.933Z"
      },
      {
        "duration": 35,
        "start_time": "2023-07-11T15:19:03.959Z"
      },
      {
        "duration": 16,
        "start_time": "2023-07-11T15:19:03.996Z"
      },
      {
        "duration": 12,
        "start_time": "2023-07-11T15:19:04.014Z"
      },
      {
        "duration": 1197,
        "start_time": "2023-07-11T15:19:04.028Z"
      },
      {
        "duration": 26,
        "start_time": "2023-07-11T15:19:05.227Z"
      },
      {
        "duration": 22,
        "start_time": "2023-07-11T15:19:05.254Z"
      },
      {
        "duration": 13,
        "start_time": "2023-07-11T15:19:05.278Z"
      },
      {
        "duration": 15,
        "start_time": "2023-07-11T15:19:05.293Z"
      },
      {
        "duration": 18,
        "start_time": "2023-07-11T15:19:05.310Z"
      },
      {
        "duration": 30,
        "start_time": "2023-07-11T15:19:05.330Z"
      },
      {
        "duration": 19,
        "start_time": "2023-07-11T15:19:05.362Z"
      },
      {
        "duration": 8,
        "start_time": "2023-07-11T15:19:05.384Z"
      },
      {
        "duration": 36775,
        "start_time": "2023-07-11T15:19:05.394Z"
      },
      {
        "duration": 3,
        "start_time": "2023-07-11T15:19:42.171Z"
      },
      {
        "duration": 145,
        "start_time": "2023-07-11T15:19:42.234Z"
      },
      {
        "duration": 45737,
        "start_time": "2023-07-11T15:19:42.381Z"
      },
      {
        "duration": 19,
        "start_time": "2023-07-11T15:20:28.119Z"
      },
      {
        "duration": 43,
        "start_time": "2023-07-11T15:20:28.147Z"
      },
      {
        "duration": 12,
        "start_time": "2023-07-11T15:20:28.192Z"
      },
      {
        "duration": 231391,
        "start_time": "2023-07-11T15:20:28.206Z"
      },
      {
        "duration": 3,
        "start_time": "2023-07-11T15:24:19.599Z"
      },
      {
        "duration": 14,
        "start_time": "2023-07-11T15:24:19.604Z"
      },
      {
        "duration": 47,
        "start_time": "2023-07-11T15:24:19.620Z"
      },
      {
        "duration": 7,
        "start_time": "2023-07-11T15:24:19.669Z"
      },
      {
        "duration": 9626,
        "start_time": "2023-07-12T02:05:49.718Z"
      },
      {
        "duration": 1380,
        "start_time": "2023-07-12T02:05:59.346Z"
      },
      {
        "duration": 3,
        "start_time": "2023-07-12T02:06:00.728Z"
      },
      {
        "duration": 307,
        "start_time": "2023-07-12T02:06:00.732Z"
      },
      {
        "duration": 15122,
        "start_time": "2023-07-12T02:06:01.042Z"
      },
      {
        "duration": 2,
        "start_time": "2023-07-12T02:06:16.166Z"
      },
      {
        "duration": 17,
        "start_time": "2023-07-12T02:06:16.170Z"
      },
      {
        "duration": 407,
        "start_time": "2023-07-12T02:06:16.189Z"
      },
      {
        "duration": 14,
        "start_time": "2023-07-12T02:06:16.598Z"
      },
      {
        "duration": 53,
        "start_time": "2023-07-12T02:06:16.618Z"
      },
      {
        "duration": 8,
        "start_time": "2023-07-12T02:06:16.672Z"
      },
      {
        "duration": 68,
        "start_time": "2023-07-12T02:06:16.681Z"
      },
      {
        "duration": 11,
        "start_time": "2023-07-12T02:06:16.750Z"
      },
      {
        "duration": 26,
        "start_time": "2023-07-12T02:06:16.764Z"
      },
      {
        "duration": 45,
        "start_time": "2023-07-12T02:06:16.791Z"
      },
      {
        "duration": 28,
        "start_time": "2023-07-12T02:06:16.837Z"
      },
      {
        "duration": 17,
        "start_time": "2023-07-12T02:06:16.866Z"
      },
      {
        "duration": 16,
        "start_time": "2023-07-12T02:06:16.884Z"
      },
      {
        "duration": 61,
        "start_time": "2023-07-12T02:06:16.910Z"
      },
      {
        "duration": 5,
        "start_time": "2023-07-12T02:06:16.973Z"
      },
      {
        "duration": 35,
        "start_time": "2023-07-12T02:06:16.980Z"
      },
      {
        "duration": 6,
        "start_time": "2023-07-12T02:06:17.016Z"
      },
      {
        "duration": 25,
        "start_time": "2023-07-12T02:06:17.024Z"
      },
      {
        "duration": 26,
        "start_time": "2023-07-12T02:06:17.050Z"
      },
      {
        "duration": 8,
        "start_time": "2023-07-12T02:06:17.077Z"
      },
      {
        "duration": 22,
        "start_time": "2023-07-12T02:06:17.087Z"
      },
      {
        "duration": 22,
        "start_time": "2023-07-12T02:06:17.114Z"
      },
      {
        "duration": 32,
        "start_time": "2023-07-12T02:06:17.137Z"
      },
      {
        "duration": 36,
        "start_time": "2023-07-12T02:06:17.170Z"
      },
      {
        "duration": 24,
        "start_time": "2023-07-12T02:06:17.208Z"
      },
      {
        "duration": 10,
        "start_time": "2023-07-12T02:06:17.233Z"
      },
      {
        "duration": 25,
        "start_time": "2023-07-12T02:06:17.244Z"
      },
      {
        "duration": 46,
        "start_time": "2023-07-12T02:06:17.271Z"
      },
      {
        "duration": 40,
        "start_time": "2023-07-12T02:06:17.319Z"
      },
      {
        "duration": 62,
        "start_time": "2023-07-12T02:06:17.360Z"
      },
      {
        "duration": 32,
        "start_time": "2023-07-12T02:06:17.424Z"
      },
      {
        "duration": 18,
        "start_time": "2023-07-12T02:06:17.457Z"
      },
      {
        "duration": 120,
        "start_time": "2023-07-12T02:06:17.477Z"
      },
      {
        "duration": 14,
        "start_time": "2023-07-12T02:06:17.605Z"
      },
      {
        "duration": 4,
        "start_time": "2023-07-12T02:06:17.620Z"
      },
      {
        "duration": 16,
        "start_time": "2023-07-12T02:06:17.628Z"
      },
      {
        "duration": 18,
        "start_time": "2023-07-12T02:06:17.645Z"
      },
      {
        "duration": 11,
        "start_time": "2023-07-12T02:06:17.665Z"
      },
      {
        "duration": 2,
        "start_time": "2023-07-12T02:06:17.678Z"
      },
      {
        "duration": 34,
        "start_time": "2023-07-12T02:06:17.681Z"
      },
      {
        "duration": 5,
        "start_time": "2023-07-12T02:06:17.716Z"
      },
      {
        "duration": 26,
        "start_time": "2023-07-12T02:06:17.722Z"
      },
      {
        "duration": 12,
        "start_time": "2023-07-12T02:06:17.750Z"
      },
      {
        "duration": 12,
        "start_time": "2023-07-12T02:06:17.763Z"
      },
      {
        "duration": 10,
        "start_time": "2023-07-12T02:06:17.776Z"
      },
      {
        "duration": 975,
        "start_time": "2023-07-12T02:06:17.787Z"
      },
      {
        "duration": 12,
        "start_time": "2023-07-12T02:06:18.763Z"
      },
      {
        "duration": 43,
        "start_time": "2023-07-12T02:06:18.776Z"
      },
      {
        "duration": 27,
        "start_time": "2023-07-12T02:06:18.821Z"
      },
      {
        "duration": 25,
        "start_time": "2023-07-12T02:06:18.850Z"
      },
      {
        "duration": 18,
        "start_time": "2023-07-12T02:06:18.877Z"
      },
      {
        "duration": 31,
        "start_time": "2023-07-12T02:06:18.897Z"
      },
      {
        "duration": 29,
        "start_time": "2023-07-12T02:06:18.930Z"
      },
      {
        "duration": 12,
        "start_time": "2023-07-12T02:06:18.960Z"
      },
      {
        "duration": 35956,
        "start_time": "2023-07-12T02:06:18.974Z"
      },
      {
        "duration": 3,
        "start_time": "2023-07-12T02:06:54.932Z"
      },
      {
        "duration": 192,
        "start_time": "2023-07-12T02:06:54.937Z"
      },
      {
        "duration": 37151,
        "start_time": "2023-07-12T02:06:55.130Z"
      },
      {
        "duration": 3,
        "start_time": "2023-07-12T02:07:32.283Z"
      },
      {
        "duration": 41,
        "start_time": "2023-07-12T02:07:32.288Z"
      },
      {
        "duration": 28,
        "start_time": "2023-07-12T02:07:32.331Z"
      },
      {
        "duration": 218485,
        "start_time": "2023-07-12T02:07:32.361Z"
      },
      {
        "duration": 4,
        "start_time": "2023-07-12T02:11:10.848Z"
      },
      {
        "duration": 5,
        "start_time": "2023-07-12T02:11:10.854Z"
      },
      {
        "duration": 37,
        "start_time": "2023-07-12T02:11:10.860Z"
      },
      {
        "duration": 11,
        "start_time": "2023-07-12T02:11:10.899Z"
      },
      {
        "duration": 870306,
        "start_time": "2023-07-12T02:11:10.911Z"
      },
      {
        "duration": 83,
        "start_time": "2023-07-12T02:25:41.219Z"
      },
      {
        "duration": 13,
        "start_time": "2023-07-12T02:25:41.314Z"
      },
      {
        "duration": 6,
        "start_time": "2023-07-12T02:25:41.329Z"
      },
      {
        "duration": 14,
        "start_time": "2023-07-12T02:25:41.336Z"
      },
      {
        "duration": 11,
        "start_time": "2023-07-12T02:25:41.351Z"
      },
      {
        "duration": 235,
        "start_time": "2023-07-12T02:25:41.363Z"
      },
      {
        "duration": 130,
        "start_time": "2023-07-12T02:25:41.599Z"
      },
      {
        "duration": 221,
        "start_time": "2023-07-12T02:25:41.730Z"
      }
    ],
    "kernelspec": {
      "display_name": "Python 3 (ipykernel)",
      "language": "python",
      "name": "python3"
    },
    "language_info": {
      "codemirror_mode": {
        "name": "ipython",
        "version": 3
      },
      "file_extension": ".py",
      "mimetype": "text/x-python",
      "name": "python",
      "nbconvert_exporter": "python",
      "pygments_lexer": "ipython3",
      "version": "3.9.5"
    },
    "toc": {
      "base_numbering": 1,
      "nav_menu": {},
      "number_sections": true,
      "sideBar": true,
      "skip_h1_title": true,
      "title_cell": "Table of Contents",
      "title_sidebar": "Contents",
      "toc_cell": false,
      "toc_position": {},
      "toc_section_display": true,
      "toc_window_display": false
    },
    "colab": {
      "provenance": []
    }
  },
  "nbformat": 4,
  "nbformat_minor": 0
}