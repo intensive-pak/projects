{
  "cells": [
    {
      "cell_type": "markdown",
      "source": [
        "## Predict house prices  \n",
        "\n",
        "\n",
        "There is a dataset with 79 explanatory variables describing (almost) every aspect of residential homes.  \n",
        "\n",
        "  \n",
        "**Goal:**  \n",
        "To predict the final price of each home.  \n",
        "  \n",
        "\n",
        "**Metric:**  \n",
        "Submissions are evaluated on Root-Mean-Squared-Error (RMSE) between the logarithm of the predicted value and the logarithm of the observed sales price. (Taking logs means that errors in predicting expensive houses and cheap houses will affect the result equally.)"
      ],
      "metadata": {
        "id": "ykhzWd5Y4DGp"
      }
    },
    {
      "cell_type": "code",
      "execution_count": 1,
      "metadata": {
        "colab": {
          "base_uri": "https://localhost:8080/"
        },
        "id": "vYxyJJU7-s7f",
        "outputId": "e2abddae-4c24-4ab3-9434-cb974204ae9a",
        "collapsed": true
      },
      "outputs": [
        {
          "output_type": "stream",
          "name": "stdout",
          "text": [
            "Requirement already satisfied: ydf in /usr/local/lib/python3.10/dist-packages (0.9.0)\n",
            "Requirement already satisfied: numpy in /usr/local/lib/python3.10/dist-packages (from ydf) (1.26.4)\n",
            "Requirement already satisfied: absl_py in /usr/local/lib/python3.10/dist-packages (from ydf) (1.4.0)\n",
            "Requirement already satisfied: protobuf>=3.14 in /usr/local/lib/python3.10/dist-packages (from ydf) (4.25.5)\n"
          ]
        }
      ],
      "source": [
        "pip install ydf -U"
      ]
    },
    {
      "cell_type": "code",
      "source": [
        "pip install phik"
      ],
      "metadata": {
        "colab": {
          "base_uri": "https://localhost:8080/"
        },
        "id": "7mSoxxbl9PMC",
        "outputId": "91f75e48-4aa8-4ed4-9365-0af9d98f3ade",
        "collapsed": true
      },
      "execution_count": 2,
      "outputs": [
        {
          "output_type": "stream",
          "name": "stdout",
          "text": [
            "Requirement already satisfied: phik in /usr/local/lib/python3.10/dist-packages (0.12.4)\n",
            "Requirement already satisfied: numpy>=1.18.0 in /usr/local/lib/python3.10/dist-packages (from phik) (1.26.4)\n",
            "Requirement already satisfied: scipy>=1.5.2 in /usr/local/lib/python3.10/dist-packages (from phik) (1.13.1)\n",
            "Requirement already satisfied: pandas>=0.25.1 in /usr/local/lib/python3.10/dist-packages (from phik) (2.2.2)\n",
            "Requirement already satisfied: matplotlib>=2.2.3 in /usr/local/lib/python3.10/dist-packages (from phik) (3.8.0)\n",
            "Requirement already satisfied: joblib>=0.14.1 in /usr/local/lib/python3.10/dist-packages (from phik) (1.4.2)\n",
            "Requirement already satisfied: contourpy>=1.0.1 in /usr/local/lib/python3.10/dist-packages (from matplotlib>=2.2.3->phik) (1.3.1)\n",
            "Requirement already satisfied: cycler>=0.10 in /usr/local/lib/python3.10/dist-packages (from matplotlib>=2.2.3->phik) (0.12.1)\n",
            "Requirement already satisfied: fonttools>=4.22.0 in /usr/local/lib/python3.10/dist-packages (from matplotlib>=2.2.3->phik) (4.55.3)\n",
            "Requirement already satisfied: kiwisolver>=1.0.1 in /usr/local/lib/python3.10/dist-packages (from matplotlib>=2.2.3->phik) (1.4.7)\n",
            "Requirement already satisfied: packaging>=20.0 in /usr/local/lib/python3.10/dist-packages (from matplotlib>=2.2.3->phik) (24.2)\n",
            "Requirement already satisfied: pillow>=6.2.0 in /usr/local/lib/python3.10/dist-packages (from matplotlib>=2.2.3->phik) (11.0.0)\n",
            "Requirement already satisfied: pyparsing>=2.3.1 in /usr/local/lib/python3.10/dist-packages (from matplotlib>=2.2.3->phik) (3.2.0)\n",
            "Requirement already satisfied: python-dateutil>=2.7 in /usr/local/lib/python3.10/dist-packages (from matplotlib>=2.2.3->phik) (2.8.2)\n",
            "Requirement already satisfied: pytz>=2020.1 in /usr/local/lib/python3.10/dist-packages (from pandas>=0.25.1->phik) (2024.2)\n",
            "Requirement already satisfied: tzdata>=2022.7 in /usr/local/lib/python3.10/dist-packages (from pandas>=0.25.1->phik) (2024.2)\n",
            "Requirement already satisfied: six>=1.5 in /usr/local/lib/python3.10/dist-packages (from python-dateutil>=2.7->matplotlib>=2.2.3->phik) (1.17.0)\n"
          ]
        }
      ]
    },
    {
      "cell_type": "code",
      "execution_count": 3,
      "metadata": {
        "id": "4ddTiAmjzgZi"
      },
      "outputs": [],
      "source": [
        "import pandas as pd\n",
        "import matplotlib.pyplot as plt\n",
        "import seaborn as sns\n",
        "import numpy as np\n",
        "import ydf\n",
        "import phik\n",
        "from sklearn.model_selection import train_test_split"
      ]
    },
    {
      "cell_type": "code",
      "execution_count": 4,
      "metadata": {
        "id": "gTLUeAlAcV0w"
      },
      "outputs": [],
      "source": [
        "# set the constant\n",
        "RANDOM_STATE = 12345"
      ]
    },
    {
      "cell_type": "code",
      "execution_count": 5,
      "metadata": {
        "id": "Iy4F4AM0znWM"
      },
      "outputs": [],
      "source": [
        "df = pd.read_csv('/content/train.csv')\n",
        "test_df = pd.read_csv('/content/test.csv')\n",
        "submission_df = pd.read_csv('/content/sample_submission.csv')"
      ]
    },
    {
      "cell_type": "markdown",
      "metadata": {
        "id": "i3WF_ZYhzyQv"
      },
      "source": [
        "### EDA"
      ]
    },
    {
      "cell_type": "code",
      "execution_count": 6,
      "metadata": {
        "id": "InvU7QOdb7Ju",
        "colab": {
          "base_uri": "https://localhost:8080/",
          "height": 255
        },
        "outputId": "2d20a54e-3ebb-476a-a524-4e9d963abe4a"
      },
      "outputs": [
        {
          "output_type": "execute_result",
          "data": {
            "text/plain": [
              "   Id  MSSubClass MSZoning  LotFrontage  LotArea Street Alley LotShape  \\\n",
              "0   1          60       RL         65.0     8450   Pave   NaN      Reg   \n",
              "1   2          20       RL         80.0     9600   Pave   NaN      Reg   \n",
              "2   3          60       RL         68.0    11250   Pave   NaN      IR1   \n",
              "3   4          70       RL         60.0     9550   Pave   NaN      IR1   \n",
              "4   5          60       RL         84.0    14260   Pave   NaN      IR1   \n",
              "\n",
              "  LandContour Utilities  ... PoolArea PoolQC Fence MiscFeature MiscVal MoSold  \\\n",
              "0         Lvl    AllPub  ...        0    NaN   NaN         NaN       0      2   \n",
              "1         Lvl    AllPub  ...        0    NaN   NaN         NaN       0      5   \n",
              "2         Lvl    AllPub  ...        0    NaN   NaN         NaN       0      9   \n",
              "3         Lvl    AllPub  ...        0    NaN   NaN         NaN       0      2   \n",
              "4         Lvl    AllPub  ...        0    NaN   NaN         NaN       0     12   \n",
              "\n",
              "  YrSold  SaleType  SaleCondition  SalePrice  \n",
              "0   2008        WD         Normal     208500  \n",
              "1   2007        WD         Normal     181500  \n",
              "2   2008        WD         Normal     223500  \n",
              "3   2006        WD        Abnorml     140000  \n",
              "4   2008        WD         Normal     250000  \n",
              "\n",
              "[5 rows x 81 columns]"
            ],
            "text/html": [
              "\n",
              "  <div id=\"df-f8facc61-1971-4504-bc87-da9b2bdb2e1d\" class=\"colab-df-container\">\n",
              "    <div>\n",
              "<style scoped>\n",
              "    .dataframe tbody tr th:only-of-type {\n",
              "        vertical-align: middle;\n",
              "    }\n",
              "\n",
              "    .dataframe tbody tr th {\n",
              "        vertical-align: top;\n",
              "    }\n",
              "\n",
              "    .dataframe thead th {\n",
              "        text-align: right;\n",
              "    }\n",
              "</style>\n",
              "<table border=\"1\" class=\"dataframe\">\n",
              "  <thead>\n",
              "    <tr style=\"text-align: right;\">\n",
              "      <th></th>\n",
              "      <th>Id</th>\n",
              "      <th>MSSubClass</th>\n",
              "      <th>MSZoning</th>\n",
              "      <th>LotFrontage</th>\n",
              "      <th>LotArea</th>\n",
              "      <th>Street</th>\n",
              "      <th>Alley</th>\n",
              "      <th>LotShape</th>\n",
              "      <th>LandContour</th>\n",
              "      <th>Utilities</th>\n",
              "      <th>...</th>\n",
              "      <th>PoolArea</th>\n",
              "      <th>PoolQC</th>\n",
              "      <th>Fence</th>\n",
              "      <th>MiscFeature</th>\n",
              "      <th>MiscVal</th>\n",
              "      <th>MoSold</th>\n",
              "      <th>YrSold</th>\n",
              "      <th>SaleType</th>\n",
              "      <th>SaleCondition</th>\n",
              "      <th>SalePrice</th>\n",
              "    </tr>\n",
              "  </thead>\n",
              "  <tbody>\n",
              "    <tr>\n",
              "      <th>0</th>\n",
              "      <td>1</td>\n",
              "      <td>60</td>\n",
              "      <td>RL</td>\n",
              "      <td>65.0</td>\n",
              "      <td>8450</td>\n",
              "      <td>Pave</td>\n",
              "      <td>NaN</td>\n",
              "      <td>Reg</td>\n",
              "      <td>Lvl</td>\n",
              "      <td>AllPub</td>\n",
              "      <td>...</td>\n",
              "      <td>0</td>\n",
              "      <td>NaN</td>\n",
              "      <td>NaN</td>\n",
              "      <td>NaN</td>\n",
              "      <td>0</td>\n",
              "      <td>2</td>\n",
              "      <td>2008</td>\n",
              "      <td>WD</td>\n",
              "      <td>Normal</td>\n",
              "      <td>208500</td>\n",
              "    </tr>\n",
              "    <tr>\n",
              "      <th>1</th>\n",
              "      <td>2</td>\n",
              "      <td>20</td>\n",
              "      <td>RL</td>\n",
              "      <td>80.0</td>\n",
              "      <td>9600</td>\n",
              "      <td>Pave</td>\n",
              "      <td>NaN</td>\n",
              "      <td>Reg</td>\n",
              "      <td>Lvl</td>\n",
              "      <td>AllPub</td>\n",
              "      <td>...</td>\n",
              "      <td>0</td>\n",
              "      <td>NaN</td>\n",
              "      <td>NaN</td>\n",
              "      <td>NaN</td>\n",
              "      <td>0</td>\n",
              "      <td>5</td>\n",
              "      <td>2007</td>\n",
              "      <td>WD</td>\n",
              "      <td>Normal</td>\n",
              "      <td>181500</td>\n",
              "    </tr>\n",
              "    <tr>\n",
              "      <th>2</th>\n",
              "      <td>3</td>\n",
              "      <td>60</td>\n",
              "      <td>RL</td>\n",
              "      <td>68.0</td>\n",
              "      <td>11250</td>\n",
              "      <td>Pave</td>\n",
              "      <td>NaN</td>\n",
              "      <td>IR1</td>\n",
              "      <td>Lvl</td>\n",
              "      <td>AllPub</td>\n",
              "      <td>...</td>\n",
              "      <td>0</td>\n",
              "      <td>NaN</td>\n",
              "      <td>NaN</td>\n",
              "      <td>NaN</td>\n",
              "      <td>0</td>\n",
              "      <td>9</td>\n",
              "      <td>2008</td>\n",
              "      <td>WD</td>\n",
              "      <td>Normal</td>\n",
              "      <td>223500</td>\n",
              "    </tr>\n",
              "    <tr>\n",
              "      <th>3</th>\n",
              "      <td>4</td>\n",
              "      <td>70</td>\n",
              "      <td>RL</td>\n",
              "      <td>60.0</td>\n",
              "      <td>9550</td>\n",
              "      <td>Pave</td>\n",
              "      <td>NaN</td>\n",
              "      <td>IR1</td>\n",
              "      <td>Lvl</td>\n",
              "      <td>AllPub</td>\n",
              "      <td>...</td>\n",
              "      <td>0</td>\n",
              "      <td>NaN</td>\n",
              "      <td>NaN</td>\n",
              "      <td>NaN</td>\n",
              "      <td>0</td>\n",
              "      <td>2</td>\n",
              "      <td>2006</td>\n",
              "      <td>WD</td>\n",
              "      <td>Abnorml</td>\n",
              "      <td>140000</td>\n",
              "    </tr>\n",
              "    <tr>\n",
              "      <th>4</th>\n",
              "      <td>5</td>\n",
              "      <td>60</td>\n",
              "      <td>RL</td>\n",
              "      <td>84.0</td>\n",
              "      <td>14260</td>\n",
              "      <td>Pave</td>\n",
              "      <td>NaN</td>\n",
              "      <td>IR1</td>\n",
              "      <td>Lvl</td>\n",
              "      <td>AllPub</td>\n",
              "      <td>...</td>\n",
              "      <td>0</td>\n",
              "      <td>NaN</td>\n",
              "      <td>NaN</td>\n",
              "      <td>NaN</td>\n",
              "      <td>0</td>\n",
              "      <td>12</td>\n",
              "      <td>2008</td>\n",
              "      <td>WD</td>\n",
              "      <td>Normal</td>\n",
              "      <td>250000</td>\n",
              "    </tr>\n",
              "  </tbody>\n",
              "</table>\n",
              "<p>5 rows × 81 columns</p>\n",
              "</div>\n",
              "    <div class=\"colab-df-buttons\">\n",
              "\n",
              "  <div class=\"colab-df-container\">\n",
              "    <button class=\"colab-df-convert\" onclick=\"convertToInteractive('df-f8facc61-1971-4504-bc87-da9b2bdb2e1d')\"\n",
              "            title=\"Convert this dataframe to an interactive table.\"\n",
              "            style=\"display:none;\">\n",
              "\n",
              "  <svg xmlns=\"http://www.w3.org/2000/svg\" height=\"24px\" viewBox=\"0 -960 960 960\">\n",
              "    <path d=\"M120-120v-720h720v720H120Zm60-500h600v-160H180v160Zm220 220h160v-160H400v160Zm0 220h160v-160H400v160ZM180-400h160v-160H180v160Zm440 0h160v-160H620v160ZM180-180h160v-160H180v160Zm440 0h160v-160H620v160Z\"/>\n",
              "  </svg>\n",
              "    </button>\n",
              "\n",
              "  <style>\n",
              "    .colab-df-container {\n",
              "      display:flex;\n",
              "      gap: 12px;\n",
              "    }\n",
              "\n",
              "    .colab-df-convert {\n",
              "      background-color: #E8F0FE;\n",
              "      border: none;\n",
              "      border-radius: 50%;\n",
              "      cursor: pointer;\n",
              "      display: none;\n",
              "      fill: #1967D2;\n",
              "      height: 32px;\n",
              "      padding: 0 0 0 0;\n",
              "      width: 32px;\n",
              "    }\n",
              "\n",
              "    .colab-df-convert:hover {\n",
              "      background-color: #E2EBFA;\n",
              "      box-shadow: 0px 1px 2px rgba(60, 64, 67, 0.3), 0px 1px 3px 1px rgba(60, 64, 67, 0.15);\n",
              "      fill: #174EA6;\n",
              "    }\n",
              "\n",
              "    .colab-df-buttons div {\n",
              "      margin-bottom: 4px;\n",
              "    }\n",
              "\n",
              "    [theme=dark] .colab-df-convert {\n",
              "      background-color: #3B4455;\n",
              "      fill: #D2E3FC;\n",
              "    }\n",
              "\n",
              "    [theme=dark] .colab-df-convert:hover {\n",
              "      background-color: #434B5C;\n",
              "      box-shadow: 0px 1px 3px 1px rgba(0, 0, 0, 0.15);\n",
              "      filter: drop-shadow(0px 1px 2px rgba(0, 0, 0, 0.3));\n",
              "      fill: #FFFFFF;\n",
              "    }\n",
              "  </style>\n",
              "\n",
              "    <script>\n",
              "      const buttonEl =\n",
              "        document.querySelector('#df-f8facc61-1971-4504-bc87-da9b2bdb2e1d button.colab-df-convert');\n",
              "      buttonEl.style.display =\n",
              "        google.colab.kernel.accessAllowed ? 'block' : 'none';\n",
              "\n",
              "      async function convertToInteractive(key) {\n",
              "        const element = document.querySelector('#df-f8facc61-1971-4504-bc87-da9b2bdb2e1d');\n",
              "        const dataTable =\n",
              "          await google.colab.kernel.invokeFunction('convertToInteractive',\n",
              "                                                    [key], {});\n",
              "        if (!dataTable) return;\n",
              "\n",
              "        const docLinkHtml = 'Like what you see? Visit the ' +\n",
              "          '<a target=\"_blank\" href=https://colab.research.google.com/notebooks/data_table.ipynb>data table notebook</a>'\n",
              "          + ' to learn more about interactive tables.';\n",
              "        element.innerHTML = '';\n",
              "        dataTable['output_type'] = 'display_data';\n",
              "        await google.colab.output.renderOutput(dataTable, element);\n",
              "        const docLink = document.createElement('div');\n",
              "        docLink.innerHTML = docLinkHtml;\n",
              "        element.appendChild(docLink);\n",
              "      }\n",
              "    </script>\n",
              "  </div>\n",
              "\n",
              "\n",
              "<div id=\"df-c0b7cd38-a70f-4b04-8471-0ec9125f0aca\">\n",
              "  <button class=\"colab-df-quickchart\" onclick=\"quickchart('df-c0b7cd38-a70f-4b04-8471-0ec9125f0aca')\"\n",
              "            title=\"Suggest charts\"\n",
              "            style=\"display:none;\">\n",
              "\n",
              "<svg xmlns=\"http://www.w3.org/2000/svg\" height=\"24px\"viewBox=\"0 0 24 24\"\n",
              "     width=\"24px\">\n",
              "    <g>\n",
              "        <path d=\"M19 3H5c-1.1 0-2 .9-2 2v14c0 1.1.9 2 2 2h14c1.1 0 2-.9 2-2V5c0-1.1-.9-2-2-2zM9 17H7v-7h2v7zm4 0h-2V7h2v10zm4 0h-2v-4h2v4z\"/>\n",
              "    </g>\n",
              "</svg>\n",
              "  </button>\n",
              "\n",
              "<style>\n",
              "  .colab-df-quickchart {\n",
              "      --bg-color: #E8F0FE;\n",
              "      --fill-color: #1967D2;\n",
              "      --hover-bg-color: #E2EBFA;\n",
              "      --hover-fill-color: #174EA6;\n",
              "      --disabled-fill-color: #AAA;\n",
              "      --disabled-bg-color: #DDD;\n",
              "  }\n",
              "\n",
              "  [theme=dark] .colab-df-quickchart {\n",
              "      --bg-color: #3B4455;\n",
              "      --fill-color: #D2E3FC;\n",
              "      --hover-bg-color: #434B5C;\n",
              "      --hover-fill-color: #FFFFFF;\n",
              "      --disabled-bg-color: #3B4455;\n",
              "      --disabled-fill-color: #666;\n",
              "  }\n",
              "\n",
              "  .colab-df-quickchart {\n",
              "    background-color: var(--bg-color);\n",
              "    border: none;\n",
              "    border-radius: 50%;\n",
              "    cursor: pointer;\n",
              "    display: none;\n",
              "    fill: var(--fill-color);\n",
              "    height: 32px;\n",
              "    padding: 0;\n",
              "    width: 32px;\n",
              "  }\n",
              "\n",
              "  .colab-df-quickchart:hover {\n",
              "    background-color: var(--hover-bg-color);\n",
              "    box-shadow: 0 1px 2px rgba(60, 64, 67, 0.3), 0 1px 3px 1px rgba(60, 64, 67, 0.15);\n",
              "    fill: var(--button-hover-fill-color);\n",
              "  }\n",
              "\n",
              "  .colab-df-quickchart-complete:disabled,\n",
              "  .colab-df-quickchart-complete:disabled:hover {\n",
              "    background-color: var(--disabled-bg-color);\n",
              "    fill: var(--disabled-fill-color);\n",
              "    box-shadow: none;\n",
              "  }\n",
              "\n",
              "  .colab-df-spinner {\n",
              "    border: 2px solid var(--fill-color);\n",
              "    border-color: transparent;\n",
              "    border-bottom-color: var(--fill-color);\n",
              "    animation:\n",
              "      spin 1s steps(1) infinite;\n",
              "  }\n",
              "\n",
              "  @keyframes spin {\n",
              "    0% {\n",
              "      border-color: transparent;\n",
              "      border-bottom-color: var(--fill-color);\n",
              "      border-left-color: var(--fill-color);\n",
              "    }\n",
              "    20% {\n",
              "      border-color: transparent;\n",
              "      border-left-color: var(--fill-color);\n",
              "      border-top-color: var(--fill-color);\n",
              "    }\n",
              "    30% {\n",
              "      border-color: transparent;\n",
              "      border-left-color: var(--fill-color);\n",
              "      border-top-color: var(--fill-color);\n",
              "      border-right-color: var(--fill-color);\n",
              "    }\n",
              "    40% {\n",
              "      border-color: transparent;\n",
              "      border-right-color: var(--fill-color);\n",
              "      border-top-color: var(--fill-color);\n",
              "    }\n",
              "    60% {\n",
              "      border-color: transparent;\n",
              "      border-right-color: var(--fill-color);\n",
              "    }\n",
              "    80% {\n",
              "      border-color: transparent;\n",
              "      border-right-color: var(--fill-color);\n",
              "      border-bottom-color: var(--fill-color);\n",
              "    }\n",
              "    90% {\n",
              "      border-color: transparent;\n",
              "      border-bottom-color: var(--fill-color);\n",
              "    }\n",
              "  }\n",
              "</style>\n",
              "\n",
              "  <script>\n",
              "    async function quickchart(key) {\n",
              "      const quickchartButtonEl =\n",
              "        document.querySelector('#' + key + ' button');\n",
              "      quickchartButtonEl.disabled = true;  // To prevent multiple clicks.\n",
              "      quickchartButtonEl.classList.add('colab-df-spinner');\n",
              "      try {\n",
              "        const charts = await google.colab.kernel.invokeFunction(\n",
              "            'suggestCharts', [key], {});\n",
              "      } catch (error) {\n",
              "        console.error('Error during call to suggestCharts:', error);\n",
              "      }\n",
              "      quickchartButtonEl.classList.remove('colab-df-spinner');\n",
              "      quickchartButtonEl.classList.add('colab-df-quickchart-complete');\n",
              "    }\n",
              "    (() => {\n",
              "      let quickchartButtonEl =\n",
              "        document.querySelector('#df-c0b7cd38-a70f-4b04-8471-0ec9125f0aca button');\n",
              "      quickchartButtonEl.style.display =\n",
              "        google.colab.kernel.accessAllowed ? 'block' : 'none';\n",
              "    })();\n",
              "  </script>\n",
              "</div>\n",
              "    </div>\n",
              "  </div>\n"
            ],
            "application/vnd.google.colaboratory.intrinsic+json": {
              "type": "dataframe",
              "variable_name": "df"
            }
          },
          "metadata": {},
          "execution_count": 6
        }
      ],
      "source": [
        "df.head()"
      ]
    },
    {
      "cell_type": "code",
      "execution_count": 7,
      "metadata": {
        "id": "lmB523dRz5wA",
        "colab": {
          "base_uri": "https://localhost:8080/"
        },
        "outputId": "901d149f-c848-436d-9ca7-02a4d1f012ed"
      },
      "outputs": [
        {
          "output_type": "stream",
          "name": "stdout",
          "text": [
            "<class 'pandas.core.frame.DataFrame'>\n",
            "RangeIndex: 1460 entries, 0 to 1459\n",
            "Data columns (total 81 columns):\n",
            " #   Column         Non-Null Count  Dtype  \n",
            "---  ------         --------------  -----  \n",
            " 0   Id             1460 non-null   int64  \n",
            " 1   MSSubClass     1460 non-null   int64  \n",
            " 2   MSZoning       1460 non-null   object \n",
            " 3   LotFrontage    1201 non-null   float64\n",
            " 4   LotArea        1460 non-null   int64  \n",
            " 5   Street         1460 non-null   object \n",
            " 6   Alley          91 non-null     object \n",
            " 7   LotShape       1460 non-null   object \n",
            " 8   LandContour    1460 non-null   object \n",
            " 9   Utilities      1460 non-null   object \n",
            " 10  LotConfig      1460 non-null   object \n",
            " 11  LandSlope      1460 non-null   object \n",
            " 12  Neighborhood   1460 non-null   object \n",
            " 13  Condition1     1460 non-null   object \n",
            " 14  Condition2     1460 non-null   object \n",
            " 15  BldgType       1460 non-null   object \n",
            " 16  HouseStyle     1460 non-null   object \n",
            " 17  OverallQual    1460 non-null   int64  \n",
            " 18  OverallCond    1460 non-null   int64  \n",
            " 19  YearBuilt      1460 non-null   int64  \n",
            " 20  YearRemodAdd   1460 non-null   int64  \n",
            " 21  RoofStyle      1460 non-null   object \n",
            " 22  RoofMatl       1460 non-null   object \n",
            " 23  Exterior1st    1460 non-null   object \n",
            " 24  Exterior2nd    1460 non-null   object \n",
            " 25  MasVnrType     588 non-null    object \n",
            " 26  MasVnrArea     1452 non-null   float64\n",
            " 27  ExterQual      1460 non-null   object \n",
            " 28  ExterCond      1460 non-null   object \n",
            " 29  Foundation     1460 non-null   object \n",
            " 30  BsmtQual       1423 non-null   object \n",
            " 31  BsmtCond       1423 non-null   object \n",
            " 32  BsmtExposure   1422 non-null   object \n",
            " 33  BsmtFinType1   1423 non-null   object \n",
            " 34  BsmtFinSF1     1460 non-null   int64  \n",
            " 35  BsmtFinType2   1422 non-null   object \n",
            " 36  BsmtFinSF2     1460 non-null   int64  \n",
            " 37  BsmtUnfSF      1460 non-null   int64  \n",
            " 38  TotalBsmtSF    1460 non-null   int64  \n",
            " 39  Heating        1460 non-null   object \n",
            " 40  HeatingQC      1460 non-null   object \n",
            " 41  CentralAir     1460 non-null   object \n",
            " 42  Electrical     1459 non-null   object \n",
            " 43  1stFlrSF       1460 non-null   int64  \n",
            " 44  2ndFlrSF       1460 non-null   int64  \n",
            " 45  LowQualFinSF   1460 non-null   int64  \n",
            " 46  GrLivArea      1460 non-null   int64  \n",
            " 47  BsmtFullBath   1460 non-null   int64  \n",
            " 48  BsmtHalfBath   1460 non-null   int64  \n",
            " 49  FullBath       1460 non-null   int64  \n",
            " 50  HalfBath       1460 non-null   int64  \n",
            " 51  BedroomAbvGr   1460 non-null   int64  \n",
            " 52  KitchenAbvGr   1460 non-null   int64  \n",
            " 53  KitchenQual    1460 non-null   object \n",
            " 54  TotRmsAbvGrd   1460 non-null   int64  \n",
            " 55  Functional     1460 non-null   object \n",
            " 56  Fireplaces     1460 non-null   int64  \n",
            " 57  FireplaceQu    770 non-null    object \n",
            " 58  GarageType     1379 non-null   object \n",
            " 59  GarageYrBlt    1379 non-null   float64\n",
            " 60  GarageFinish   1379 non-null   object \n",
            " 61  GarageCars     1460 non-null   int64  \n",
            " 62  GarageArea     1460 non-null   int64  \n",
            " 63  GarageQual     1379 non-null   object \n",
            " 64  GarageCond     1379 non-null   object \n",
            " 65  PavedDrive     1460 non-null   object \n",
            " 66  WoodDeckSF     1460 non-null   int64  \n",
            " 67  OpenPorchSF    1460 non-null   int64  \n",
            " 68  EnclosedPorch  1460 non-null   int64  \n",
            " 69  3SsnPorch      1460 non-null   int64  \n",
            " 70  ScreenPorch    1460 non-null   int64  \n",
            " 71  PoolArea       1460 non-null   int64  \n",
            " 72  PoolQC         7 non-null      object \n",
            " 73  Fence          281 non-null    object \n",
            " 74  MiscFeature    54 non-null     object \n",
            " 75  MiscVal        1460 non-null   int64  \n",
            " 76  MoSold         1460 non-null   int64  \n",
            " 77  YrSold         1460 non-null   int64  \n",
            " 78  SaleType       1460 non-null   object \n",
            " 79  SaleCondition  1460 non-null   object \n",
            " 80  SalePrice      1460 non-null   int64  \n",
            "dtypes: float64(3), int64(35), object(43)\n",
            "memory usage: 924.0+ KB\n"
          ]
        }
      ],
      "source": [
        "df.info()"
      ]
    },
    {
      "cell_type": "code",
      "execution_count": 8,
      "metadata": {
        "id": "N2WFwBoCLrjQ",
        "colab": {
          "base_uri": "https://localhost:8080/"
        },
        "outputId": "904cc0a4-bab1-4a74-8677-70ba9f21e73d"
      },
      "outputs": [
        {
          "output_type": "execute_result",
          "data": {
            "text/plain": [
              "0"
            ]
          },
          "metadata": {},
          "execution_count": 8
        }
      ],
      "source": [
        "# check/count duplicates\n",
        "df.duplicated().sum()"
      ]
    },
    {
      "cell_type": "markdown",
      "source": [
        "Analysis of the target (`SalePrice`)"
      ],
      "metadata": {
        "id": "VjZ3FIAN4t3B"
      }
    },
    {
      "cell_type": "code",
      "execution_count": 9,
      "metadata": {
        "id": "-BavMV9fz_3P",
        "colab": {
          "base_uri": "https://localhost:8080/",
          "height": 335
        },
        "outputId": "7e3c819e-6b03-4025-f4e3-338982561309"
      },
      "outputs": [
        {
          "output_type": "execute_result",
          "data": {
            "text/plain": [
              "count      1460.000000\n",
              "mean     180921.195890\n",
              "std       79442.502883\n",
              "min       34900.000000\n",
              "25%      129975.000000\n",
              "50%      163000.000000\n",
              "75%      214000.000000\n",
              "max      755000.000000\n",
              "Name: SalePrice, dtype: float64"
            ],
            "text/html": [
              "<div>\n",
              "<style scoped>\n",
              "    .dataframe tbody tr th:only-of-type {\n",
              "        vertical-align: middle;\n",
              "    }\n",
              "\n",
              "    .dataframe tbody tr th {\n",
              "        vertical-align: top;\n",
              "    }\n",
              "\n",
              "    .dataframe thead th {\n",
              "        text-align: right;\n",
              "    }\n",
              "</style>\n",
              "<table border=\"1\" class=\"dataframe\">\n",
              "  <thead>\n",
              "    <tr style=\"text-align: right;\">\n",
              "      <th></th>\n",
              "      <th>SalePrice</th>\n",
              "    </tr>\n",
              "  </thead>\n",
              "  <tbody>\n",
              "    <tr>\n",
              "      <th>count</th>\n",
              "      <td>1460.000000</td>\n",
              "    </tr>\n",
              "    <tr>\n",
              "      <th>mean</th>\n",
              "      <td>180921.195890</td>\n",
              "    </tr>\n",
              "    <tr>\n",
              "      <th>std</th>\n",
              "      <td>79442.502883</td>\n",
              "    </tr>\n",
              "    <tr>\n",
              "      <th>min</th>\n",
              "      <td>34900.000000</td>\n",
              "    </tr>\n",
              "    <tr>\n",
              "      <th>25%</th>\n",
              "      <td>129975.000000</td>\n",
              "    </tr>\n",
              "    <tr>\n",
              "      <th>50%</th>\n",
              "      <td>163000.000000</td>\n",
              "    </tr>\n",
              "    <tr>\n",
              "      <th>75%</th>\n",
              "      <td>214000.000000</td>\n",
              "    </tr>\n",
              "    <tr>\n",
              "      <th>max</th>\n",
              "      <td>755000.000000</td>\n",
              "    </tr>\n",
              "  </tbody>\n",
              "</table>\n",
              "</div><br><label><b>dtype:</b> float64</label>"
            ]
          },
          "metadata": {},
          "execution_count": 9
        }
      ],
      "source": [
        "df.SalePrice.describe()"
      ]
    },
    {
      "cell_type": "code",
      "execution_count": 10,
      "metadata": {
        "id": "eztV4IkB4uBr",
        "colab": {
          "base_uri": "https://localhost:8080/",
          "height": 665
        },
        "outputId": "d32035b1-76ac-4be6-dd27-f0df73f4535a"
      },
      "outputs": [
        {
          "output_type": "stream",
          "name": "stderr",
          "text": [
            "<ipython-input-10-36cb2cf793ba>:1: UserWarning: \n",
            "\n",
            "`distplot` is a deprecated function and will be removed in seaborn v0.14.0.\n",
            "\n",
            "Please adapt your code to use either `displot` (a figure-level function with\n",
            "similar flexibility) or `histplot` (an axes-level function for histograms).\n",
            "\n",
            "For a guide to updating your code to use the new functions, please see\n",
            "https://gist.github.com/mwaskom/de44147ed2974457ad6372750bbe5751\n",
            "\n",
            "  sns.distplot(df.SalePrice);\n"
          ]
        },
        {
          "output_type": "display_data",
          "data": {
            "text/plain": [
              "<Figure size 640x480 with 1 Axes>"
            ],
            "image/png": "[encoded data removed]"
          },
          "metadata": {}
        }
      ],
      "source": [
        "sns.distplot(df.SalePrice);"
      ]
    },
    {
      "cell_type": "code",
      "source": [
        "# since the metric evaluates a logarithm of the predicted value, we calculate a logarithm:\n",
        "df['SalePrice_log'] = np.log(df['SalePrice'])"
      ],
      "metadata": {
        "id": "7Fsd9DspwC-n"
      },
      "execution_count": 11,
      "outputs": []
    },
    {
      "cell_type": "code",
      "source": [
        "# distribution of the logarithmic value of the target\n",
        "sns.distplot(df.SalePrice_log)"
      ],
      "metadata": {
        "colab": {
          "base_uri": "https://localhost:8080/",
          "height": 668
        },
        "id": "cAJ6NLBLwXJm",
        "outputId": "94a15256-2eca-4369-e15c-0ad13686d3c1"
      },
      "execution_count": 12,
      "outputs": [
        {
          "output_type": "stream",
          "name": "stderr",
          "text": [
            "<ipython-input-12-6f23826805a6>:2: UserWarning: \n",
            "\n",
            "`distplot` is a deprecated function and will be removed in seaborn v0.14.0.\n",
            "\n",
            "Please adapt your code to use either `displot` (a figure-level function with\n",
            "similar flexibility) or `histplot` (an axes-level function for histograms).\n",
            "\n",
            "For a guide to updating your code to use the new functions, please see\n",
            "https://gist.github.com/mwaskom/de44147ed2974457ad6372750bbe5751\n",
            "\n",
            "  sns.distplot(df.SalePrice_log)\n"
          ]
        },
        {
          "output_type": "execute_result",
          "data": {
            "text/plain": [
              "<Axes: xlabel='SalePrice_log', ylabel='Density'>"
            ]
          },
          "metadata": {},
          "execution_count": 12
        },
        {
          "output_type": "display_data",
          "data": {
            "text/plain": [
              "<Figure size 640x480 with 1 Axes>"
            ],
            "image/png": "[encoded data removed]"
          },
          "metadata": {}
        }
      ]
    },
    {
      "cell_type": "markdown",
      "source": [
        "Logarithmic values of `SalePrice` form a normal distribution. A distribution of absolute values of `SalePrice` slightly shifted left and outliers to the right are observed."
      ],
      "metadata": {
        "id": "gtPE6Luz3Ym2"
      }
    },
    {
      "cell_type": "code",
      "execution_count": 13,
      "metadata": {
        "colab": {
          "base_uri": "https://localhost:8080/",
          "height": 206
        },
        "id": "XxsMFeDvJZAG",
        "outputId": "aee2a55b-9e3d-4de8-fff2-fb5b8b573153"
      },
      "outputs": [
        {
          "output_type": "execute_result",
          "data": {
            "text/plain": [
              "<pandas.io.formats.style.Styler at 0x7a3079c13580>"
            ],
            "text/html": [
              "<style type=\"text/css\">\n",
              "</style>\n",
              "<table id=\"T_d0960\" class=\"dataframe\">\n",
              "  <thead>\n",
              "    <tr>\n",
              "      <th class=\"blank level0\" >&nbsp;</th>\n",
              "      <th id=\"T_d0960_level0_col0\" class=\"col_heading level0 col0\" >SalePrice</th>\n",
              "      <th id=\"T_d0960_level0_col1\" class=\"col_heading level0 col1\" >SalePrice_log</th>\n",
              "    </tr>\n",
              "  </thead>\n",
              "  <tbody>\n",
              "    <tr>\n",
              "      <th id=\"T_d0960_level0_row0\" class=\"row_heading level0 row0\" >0.010000</th>\n",
              "      <td id=\"T_d0960_row0_col0\" class=\"data row0 col0\" >61,815.97</td>\n",
              "      <td id=\"T_d0960_row0_col1\" class=\"data row0 col1\" >11.03</td>\n",
              "    </tr>\n",
              "    <tr>\n",
              "      <th id=\"T_d0960_level0_row1\" class=\"row_heading level0 row1\" >0.050000</th>\n",
              "      <td id=\"T_d0960_row1_col0\" class=\"data row1 col0\" >88,000.00</td>\n",
              "      <td id=\"T_d0960_row1_col1\" class=\"data row1 col1\" >11.39</td>\n",
              "    </tr>\n",
              "    <tr>\n",
              "      <th id=\"T_d0960_level0_row2\" class=\"row_heading level0 row2\" >0.500000</th>\n",
              "      <td id=\"T_d0960_row2_col0\" class=\"data row2 col0\" >163,000.00</td>\n",
              "      <td id=\"T_d0960_row2_col1\" class=\"data row2 col1\" >12.00</td>\n",
              "    </tr>\n",
              "    <tr>\n",
              "      <th id=\"T_d0960_level0_row3\" class=\"row_heading level0 row3\" >0.950000</th>\n",
              "      <td id=\"T_d0960_row3_col0\" class=\"data row3 col0\" >326,100.00</td>\n",
              "      <td id=\"T_d0960_row3_col1\" class=\"data row3 col1\" >12.69</td>\n",
              "    </tr>\n",
              "    <tr>\n",
              "      <th id=\"T_d0960_level0_row4\" class=\"row_heading level0 row4\" >0.990000</th>\n",
              "      <td id=\"T_d0960_row4_col0\" class=\"data row4 col0\" >442,567.01</td>\n",
              "      <td id=\"T_d0960_row4_col1\" class=\"data row4 col1\" >13.00</td>\n",
              "    </tr>\n",
              "  </tbody>\n",
              "</table>\n"
            ]
          },
          "metadata": {},
          "execution_count": 13
        }
      ],
      "source": [
        "(\n",
        "    df[['SalePrice', 'SalePrice_log']]\n",
        "    .quantile([ 0.01, 0.05,.5, 0.95, .99])\n",
        "    .style.format(\"{:,.2f}\")\n",
        ")"
      ]
    },
    {
      "cell_type": "markdown",
      "metadata": {
        "id": "OV3S_o-6aVP2"
      },
      "source": [
        "There are less than 1% houses sold for < `61815` and less than 1% houses sold for > `442567`."
      ]
    },
    {
      "cell_type": "markdown",
      "metadata": {
        "id": "9UlSu8HB5PFG"
      },
      "source": [
        "##### Numeric features"
      ]
    },
    {
      "cell_type": "code",
      "execution_count": 14,
      "metadata": {
        "id": "PlIyp73v5KX5"
      },
      "outputs": [],
      "source": [
        "# we exclude `Id` and `SalePrice_log` from analysis of a numeric features\n",
        "numeric_features = df.drop(['Id', 'SalePrice_log'], axis=1).select_dtypes(include=[float, int])"
      ]
    },
    {
      "cell_type": "markdown",
      "metadata": {
        "id": "lZIkorVwc8JE"
      },
      "source": [
        "We look at the top 10 numeric features which correlate with target (`SalePrice`) the most and plot correlation heatmap."
      ]
    },
    {
      "cell_type": "code",
      "execution_count": 15,
      "metadata": {
        "colab": {
          "base_uri": "https://localhost:8080/"
        },
        "collapsed": true,
        "id": "dM_rTfQl6TFG",
        "outputId": "48bab3d7-992c-4b5e-c19d-5f5db0ab770a"
      },
      "outputs": [
        {
          "output_type": "stream",
          "name": "stdout",
          "text": [
            "SalePrice       1.000000\n",
            "OverallQual     0.790982\n",
            "GrLivArea       0.708624\n",
            "GarageCars      0.640409\n",
            "GarageArea      0.623431\n",
            "TotalBsmtSF     0.613581\n",
            "1stFlrSF        0.605852\n",
            "FullBath        0.560664\n",
            "TotRmsAbvGrd    0.533723\n",
            "YearBuilt       0.522897\n",
            "Name: SalePrice, dtype: float64\n"
          ]
        }
      ],
      "source": [
        "correlation_num_features = numeric_features.corr()\n",
        "print (correlation_num_features['SalePrice'].sort_values(ascending=False)[:10])\n"
      ]
    },
    {
      "cell_type": "code",
      "execution_count": 16,
      "metadata": {
        "colab": {
          "base_uri": "https://localhost:8080/",
          "height": 730
        },
        "id": "paiZPiVHHTcP",
        "outputId": "270fe18c-8ad7-4f8f-aaa3-bed888dd0c0d"
      },
      "outputs": [
        {
          "output_type": "display_data",
          "data": {
            "text/plain": [
              "<Figure size 1000x700 with 2 Axes>"
            ],
            "image/png": "[encoded data removed]"
          },
          "metadata": {}
        }
      ],
      "source": [
        "fig, ax = plt.subplots(figsize=(10, 7))\n",
        "\n",
        "sns.heatmap(\n",
        "    df[correlation_num_features[\"SalePrice\"].sort_values(ascending=False).index[:10]].corr(),\n",
        "    annot=True,\n",
        "    fmt=\".2f\",\n",
        "    annot_kws={\"size\": 10},\n",
        "    square=True,\n",
        "    cmap=\"crest\",\n",
        "    linewidths=.5,\n",
        ").set_title(\"SalePrice - numeric features correlation heatmap\" + \"\\n\", fontsize=12);"
      ]
    },
    {
      "cell_type": "markdown",
      "metadata": {
        "id": "fpOpPJHoecZB"
      },
      "source": [
        "Let's plot some of the num feature - target correlation."
      ]
    },
    {
      "cell_type": "code",
      "execution_count": 17,
      "metadata": {
        "colab": {
          "base_uri": "https://localhost:8080/",
          "height": 493
        },
        "id": "1CluOGkCCQ2w",
        "outputId": "7b033c1a-8abb-4c85-ad1e-8b05b90da226"
      },
      "outputs": [
        {
          "output_type": "display_data",
          "data": {
            "text/plain": [
              "<Figure size 640x480 with 1 Axes>"
            ],
            "image/png": "[encoded data removed]"
          },
          "metadata": {}
        }
      ],
      "source": [
        "sns.scatterplot(x=df.GrLivArea, y=df.SalePrice)\n",
        "plt.ylabel('Sale price')\n",
        "plt.xlabel('Ground living area')\n",
        "plt.title('Sale_price - Living_area correlation' + '\\n');"
      ]
    },
    {
      "cell_type": "code",
      "execution_count": 18,
      "metadata": {
        "colab": {
          "base_uri": "https://localhost:8080/",
          "height": 206
        },
        "id": "R1FBOcz2jetY",
        "outputId": "542081cf-1a8f-4dbf-e122-c060eeb302a0"
      },
      "outputs": [
        {
          "output_type": "execute_result",
          "data": {
            "text/plain": [
              "<pandas.io.formats.style.Styler at 0x7a3079543af0>"
            ],
            "text/html": [
              "<style type=\"text/css\">\n",
              "</style>\n",
              "<table id=\"T_a9211\" class=\"dataframe\">\n",
              "  <thead>\n",
              "    <tr>\n",
              "      <th class=\"blank level0\" >&nbsp;</th>\n",
              "      <th id=\"T_a9211_level0_col0\" class=\"col_heading level0 col0\" >GrLivArea</th>\n",
              "    </tr>\n",
              "  </thead>\n",
              "  <tbody>\n",
              "    <tr>\n",
              "      <th id=\"T_a9211_level0_row0\" class=\"row_heading level0 row0\" >0.010000</th>\n",
              "      <td id=\"T_a9211_row0_col0\" class=\"data row0 col0\" >692.18</td>\n",
              "    </tr>\n",
              "    <tr>\n",
              "      <th id=\"T_a9211_level0_row1\" class=\"row_heading level0 row1\" >0.030000</th>\n",
              "      <td id=\"T_a9211_row1_col0\" class=\"data row1 col0\" >796.00</td>\n",
              "    </tr>\n",
              "    <tr>\n",
              "      <th id=\"T_a9211_level0_row2\" class=\"row_heading level0 row2\" >0.500000</th>\n",
              "      <td id=\"T_a9211_row2_col0\" class=\"data row2 col0\" >1,464.00</td>\n",
              "    </tr>\n",
              "    <tr>\n",
              "      <th id=\"T_a9211_level0_row3\" class=\"row_heading level0 row3\" >0.970000</th>\n",
              "      <td id=\"T_a9211_row3_col0\" class=\"data row3 col0\" >2,633.23</td>\n",
              "    </tr>\n",
              "    <tr>\n",
              "      <th id=\"T_a9211_level0_row4\" class=\"row_heading level0 row4\" >0.990000</th>\n",
              "      <td id=\"T_a9211_row4_col0\" class=\"data row4 col0\" >3,123.48</td>\n",
              "    </tr>\n",
              "  </tbody>\n",
              "</table>\n"
            ]
          },
          "metadata": {},
          "execution_count": 18
        }
      ],
      "source": [
        "(\n",
        "    df[['GrLivArea']]\n",
        "    .quantile([ 0.01, 0.03,.5, 0.97, .99])\n",
        "    .style.format(\"{:,.2f}\")\n",
        ")"
      ]
    },
    {
      "cell_type": "markdown",
      "metadata": {
        "id": "CugfTlSuUOsk"
      },
      "source": [
        "Less than 1% of houses have `GrLivArea` (Above grade (ground) living area square feet) < 692 and less than 1% of houses have `GrLivArea` > 3123."
      ]
    },
    {
      "cell_type": "code",
      "execution_count": 19,
      "metadata": {
        "colab": {
          "base_uri": "https://localhost:8080/",
          "height": 472
        },
        "id": "MO4cwdeWETl8",
        "outputId": "0f6f72a1-33a6-454f-efb7-37f2838846fb"
      },
      "outputs": [
        {
          "output_type": "display_data",
          "data": {
            "text/plain": [
              "<Figure size 640x480 with 1 Axes>"
            ],
            "image/png": "[encoded data removed]"
          },
          "metadata": {}
        }
      ],
      "source": [
        "sns.histplot(x=df.GarageCars, y=df.SalePrice)\n",
        "plt.ylabel('Sale price')\n",
        "plt.xlabel('Garage cars capacity')\n",
        "plt.title('Garage capacity (cars) - Sale_price distribution');"
      ]
    },
    {
      "cell_type": "markdown",
      "metadata": {
        "id": "SMUBkIToU5bM"
      },
      "source": [
        "There are very few houses with garage for 4 cars. The presence of a garage and the number of cars it can accommodate increase the `SalePrice`. This applies to garages for 1-3 cars. A garage for 4 cars doesn't affect the `SalePrice`."
      ]
    },
    {
      "cell_type": "code",
      "execution_count": 20,
      "metadata": {
        "colab": {
          "base_uri": "https://localhost:8080/",
          "height": 472
        },
        "id": "slYUBXmTgt_Q",
        "outputId": "9a64beff-a825-46b1-e690-8f642f04398a"
      },
      "outputs": [
        {
          "output_type": "display_data",
          "data": {
            "text/plain": [
              "<Figure size 640x480 with 1 Axes>"
            ],
            "image/png": "[encoded data removed]"
          },
          "metadata": {}
        }
      ],
      "source": [
        "sns.scatterplot(x=df.YearBuilt, y=df.SalePrice)\n",
        "plt.ylabel('Sale price')\n",
        "plt.xlabel('Year')\n",
        "plt.title('Correlation between Sale_price and year_built');"
      ]
    },
    {
      "cell_type": "markdown",
      "source": [
        "Newly built houses cost more."
      ],
      "metadata": {
        "id": "zciQsnDz8-F9"
      }
    },
    {
      "cell_type": "markdown",
      "metadata": {
        "id": "STnD3YMaDQi3"
      },
      "source": [
        "##### Categorical values"
      ]
    },
    {
      "cell_type": "code",
      "execution_count": 21,
      "metadata": {
        "colab": {
          "base_uri": "https://localhost:8080/",
          "height": 224
        },
        "id": "urPq28UsDTTE",
        "outputId": "330c7edd-f2fd-4af7-8456-1955534a2ca6"
      },
      "outputs": [
        {
          "output_type": "execute_result",
          "data": {
            "text/plain": [
              "       MSZoning Street Alley LotShape LandContour Utilities LotConfig  \\\n",
              "count      1460   1460    91     1460        1460      1460      1460   \n",
              "unique        5      2     2        4           4         2         5   \n",
              "top          RL   Pave  Grvl      Reg         Lvl    AllPub    Inside   \n",
              "freq       1151   1454    50      925        1311      1459      1052   \n",
              "\n",
              "       LandSlope Neighborhood Condition1  ... GarageType GarageFinish  \\\n",
              "count       1460         1460       1460  ...       1379         1379   \n",
              "unique         3           25          9  ...          6            3   \n",
              "top          Gtl        NAmes       Norm  ...     Attchd          Unf   \n",
              "freq        1382          225       1260  ...        870          605   \n",
              "\n",
              "       GarageQual GarageCond PavedDrive PoolQC  Fence MiscFeature SaleType  \\\n",
              "count        1379       1379       1460      7    281          54     1460   \n",
              "unique          5          5          3      3      4           4        9   \n",
              "top            TA         TA          Y     Gd  MnPrv        Shed       WD   \n",
              "freq         1311       1326       1340      3    157          49     1267   \n",
              "\n",
              "       SaleCondition  \n",
              "count           1460  \n",
              "unique             6  \n",
              "top           Normal  \n",
              "freq            1198  \n",
              "\n",
              "[4 rows x 43 columns]"
            ],
            "text/html": [
              "\n",
              "  <div id=\"df-4ec23eaf-b818-4006-befa-4e6b3a09cafc\" class=\"colab-df-container\">\n",
              "    <div>\n",
              "<style scoped>\n",
              "    .dataframe tbody tr th:only-of-type {\n",
              "        vertical-align: middle;\n",
              "    }\n",
              "\n",
              "    .dataframe tbody tr th {\n",
              "        vertical-align: top;\n",
              "    }\n",
              "\n",
              "    .dataframe thead th {\n",
              "        text-align: right;\n",
              "    }\n",
              "</style>\n",
              "<table border=\"1\" class=\"dataframe\">\n",
              "  <thead>\n",
              "    <tr style=\"text-align: right;\">\n",
              "      <th></th>\n",
              "      <th>MSZoning</th>\n",
              "      <th>Street</th>\n",
              "      <th>Alley</th>\n",
              "      <th>LotShape</th>\n",
              "      <th>LandContour</th>\n",
              "      <th>Utilities</th>\n",
              "      <th>LotConfig</th>\n",
              "      <th>LandSlope</th>\n",
              "      <th>Neighborhood</th>\n",
              "      <th>Condition1</th>\n",
              "      <th>...</th>\n",
              "      <th>GarageType</th>\n",
              "      <th>GarageFinish</th>\n",
              "      <th>GarageQual</th>\n",
              "      <th>GarageCond</th>\n",
              "      <th>PavedDrive</th>\n",
              "      <th>PoolQC</th>\n",
              "      <th>Fence</th>\n",
              "      <th>MiscFeature</th>\n",
              "      <th>SaleType</th>\n",
              "      <th>SaleCondition</th>\n",
              "    </tr>\n",
              "  </thead>\n",
              "  <tbody>\n",
              "    <tr>\n",
              "      <th>count</th>\n",
              "      <td>1460</td>\n",
              "      <td>1460</td>\n",
              "      <td>91</td>\n",
              "      <td>1460</td>\n",
              "      <td>1460</td>\n",
              "      <td>1460</td>\n",
              "      <td>1460</td>\n",
              "      <td>1460</td>\n",
              "      <td>1460</td>\n",
              "      <td>1460</td>\n",
              "      <td>...</td>\n",
              "      <td>1379</td>\n",
              "      <td>1379</td>\n",
              "      <td>1379</td>\n",
              "      <td>1379</td>\n",
              "      <td>1460</td>\n",
              "      <td>7</td>\n",
              "      <td>281</td>\n",
              "      <td>54</td>\n",
              "      <td>1460</td>\n",
              "      <td>1460</td>\n",
              "    </tr>\n",
              "    <tr>\n",
              "      <th>unique</th>\n",
              "      <td>5</td>\n",
              "      <td>2</td>\n",
              "      <td>2</td>\n",
              "      <td>4</td>\n",
              "      <td>4</td>\n",
              "      <td>2</td>\n",
              "      <td>5</td>\n",
              "      <td>3</td>\n",
              "      <td>25</td>\n",
              "      <td>9</td>\n",
              "      <td>...</td>\n",
              "      <td>6</td>\n",
              "      <td>3</td>\n",
              "      <td>5</td>\n",
              "      <td>5</td>\n",
              "      <td>3</td>\n",
              "      <td>3</td>\n",
              "      <td>4</td>\n",
              "      <td>4</td>\n",
              "      <td>9</td>\n",
              "      <td>6</td>\n",
              "    </tr>\n",
              "    <tr>\n",
              "      <th>top</th>\n",
              "      <td>RL</td>\n",
              "      <td>Pave</td>\n",
              "      <td>Grvl</td>\n",
              "      <td>Reg</td>\n",
              "      <td>Lvl</td>\n",
              "      <td>AllPub</td>\n",
              "      <td>Inside</td>\n",
              "      <td>Gtl</td>\n",
              "      <td>NAmes</td>\n",
              "      <td>Norm</td>\n",
              "      <td>...</td>\n",
              "      <td>Attchd</td>\n",
              "      <td>Unf</td>\n",
              "      <td>TA</td>\n",
              "      <td>TA</td>\n",
              "      <td>Y</td>\n",
              "      <td>Gd</td>\n",
              "      <td>MnPrv</td>\n",
              "      <td>Shed</td>\n",
              "      <td>WD</td>\n",
              "      <td>Normal</td>\n",
              "    </tr>\n",
              "    <tr>\n",
              "      <th>freq</th>\n",
              "      <td>1151</td>\n",
              "      <td>1454</td>\n",
              "      <td>50</td>\n",
              "      <td>925</td>\n",
              "      <td>1311</td>\n",
              "      <td>1459</td>\n",
              "      <td>1052</td>\n",
              "      <td>1382</td>\n",
              "      <td>225</td>\n",
              "      <td>1260</td>\n",
              "      <td>...</td>\n",
              "      <td>870</td>\n",
              "      <td>605</td>\n",
              "      <td>1311</td>\n",
              "      <td>1326</td>\n",
              "      <td>1340</td>\n",
              "      <td>3</td>\n",
              "      <td>157</td>\n",
              "      <td>49</td>\n",
              "      <td>1267</td>\n",
              "      <td>1198</td>\n",
              "    </tr>\n",
              "  </tbody>\n",
              "</table>\n",
              "<p>4 rows × 43 columns</p>\n",
              "</div>\n",
              "    <div class=\"colab-df-buttons\">\n",
              "\n",
              "  <div class=\"colab-df-container\">\n",
              "    <button class=\"colab-df-convert\" onclick=\"convertToInteractive('df-4ec23eaf-b818-4006-befa-4e6b3a09cafc')\"\n",
              "            title=\"Convert this dataframe to an interactive table.\"\n",
              "            style=\"display:none;\">\n",
              "\n",
              "  <svg xmlns=\"http://www.w3.org/2000/svg\" height=\"24px\" viewBox=\"0 -960 960 960\">\n",
              "    <path d=\"M120-120v-720h720v720H120Zm60-500h600v-160H180v160Zm220 220h160v-160H400v160Zm0 220h160v-160H400v160ZM180-400h160v-160H180v160Zm440 0h160v-160H620v160ZM180-180h160v-160H180v160Zm440 0h160v-160H620v160Z\"/>\n",
              "  </svg>\n",
              "    </button>\n",
              "\n",
              "  <style>\n",
              "    .colab-df-container {\n",
              "      display:flex;\n",
              "      gap: 12px;\n",
              "    }\n",
              "\n",
              "    .colab-df-convert {\n",
              "      background-color: #E8F0FE;\n",
              "      border: none;\n",
              "      border-radius: 50%;\n",
              "      cursor: pointer;\n",
              "      display: none;\n",
              "      fill: #1967D2;\n",
              "      height: 32px;\n",
              "      padding: 0 0 0 0;\n",
              "      width: 32px;\n",
              "    }\n",
              "\n",
              "    .colab-df-convert:hover {\n",
              "      background-color: #E2EBFA;\n",
              "      box-shadow: 0px 1px 2px rgba(60, 64, 67, 0.3), 0px 1px 3px 1px rgba(60, 64, 67, 0.15);\n",
              "      fill: #174EA6;\n",
              "    }\n",
              "\n",
              "    .colab-df-buttons div {\n",
              "      margin-bottom: 4px;\n",
              "    }\n",
              "\n",
              "    [theme=dark] .colab-df-convert {\n",
              "      background-color: #3B4455;\n",
              "      fill: #D2E3FC;\n",
              "    }\n",
              "\n",
              "    [theme=dark] .colab-df-convert:hover {\n",
              "      background-color: #434B5C;\n",
              "      box-shadow: 0px 1px 3px 1px rgba(0, 0, 0, 0.15);\n",
              "      filter: drop-shadow(0px 1px 2px rgba(0, 0, 0, 0.3));\n",
              "      fill: #FFFFFF;\n",
              "    }\n",
              "  </style>\n",
              "\n",
              "    <script>\n",
              "      const buttonEl =\n",
              "        document.querySelector('#df-4ec23eaf-b818-4006-befa-4e6b3a09cafc button.colab-df-convert');\n",
              "      buttonEl.style.display =\n",
              "        google.colab.kernel.accessAllowed ? 'block' : 'none';\n",
              "\n",
              "      async function convertToInteractive(key) {\n",
              "        const element = document.querySelector('#df-4ec23eaf-b818-4006-befa-4e6b3a09cafc');\n",
              "        const dataTable =\n",
              "          await google.colab.kernel.invokeFunction('convertToInteractive',\n",
              "                                                    [key], {});\n",
              "        if (!dataTable) return;\n",
              "\n",
              "        const docLinkHtml = 'Like what you see? Visit the ' +\n",
              "          '<a target=\"_blank\" href=https://colab.research.google.com/notebooks/data_table.ipynb>data table notebook</a>'\n",
              "          + ' to learn more about interactive tables.';\n",
              "        element.innerHTML = '';\n",
              "        dataTable['output_type'] = 'display_data';\n",
              "        await google.colab.output.renderOutput(dataTable, element);\n",
              "        const docLink = document.createElement('div');\n",
              "        docLink.innerHTML = docLinkHtml;\n",
              "        element.appendChild(docLink);\n",
              "      }\n",
              "    </script>\n",
              "  </div>\n",
              "\n",
              "\n",
              "<div id=\"df-bc2018ed-f73e-4326-be2b-407a7a7a1f67\">\n",
              "  <button class=\"colab-df-quickchart\" onclick=\"quickchart('df-bc2018ed-f73e-4326-be2b-407a7a7a1f67')\"\n",
              "            title=\"Suggest charts\"\n",
              "            style=\"display:none;\">\n",
              "\n",
              "<svg xmlns=\"http://www.w3.org/2000/svg\" height=\"24px\"viewBox=\"0 0 24 24\"\n",
              "     width=\"24px\">\n",
              "    <g>\n",
              "        <path d=\"M19 3H5c-1.1 0-2 .9-2 2v14c0 1.1.9 2 2 2h14c1.1 0 2-.9 2-2V5c0-1.1-.9-2-2-2zM9 17H7v-7h2v7zm4 0h-2V7h2v10zm4 0h-2v-4h2v4z\"/>\n",
              "    </g>\n",
              "</svg>\n",
              "  </button>\n",
              "\n",
              "<style>\n",
              "  .colab-df-quickchart {\n",
              "      --bg-color: #E8F0FE;\n",
              "      --fill-color: #1967D2;\n",
              "      --hover-bg-color: #E2EBFA;\n",
              "      --hover-fill-color: #174EA6;\n",
              "      --disabled-fill-color: #AAA;\n",
              "      --disabled-bg-color: #DDD;\n",
              "  }\n",
              "\n",
              "  [theme=dark] .colab-df-quickchart {\n",
              "      --bg-color: #3B4455;\n",
              "      --fill-color: #D2E3FC;\n",
              "      --hover-bg-color: #434B5C;\n",
              "      --hover-fill-color: #FFFFFF;\n",
              "      --disabled-bg-color: #3B4455;\n",
              "      --disabled-fill-color: #666;\n",
              "  }\n",
              "\n",
              "  .colab-df-quickchart {\n",
              "    background-color: var(--bg-color);\n",
              "    border: none;\n",
              "    border-radius: 50%;\n",
              "    cursor: pointer;\n",
              "    display: none;\n",
              "    fill: var(--fill-color);\n",
              "    height: 32px;\n",
              "    padding: 0;\n",
              "    width: 32px;\n",
              "  }\n",
              "\n",
              "  .colab-df-quickchart:hover {\n",
              "    background-color: var(--hover-bg-color);\n",
              "    box-shadow: 0 1px 2px rgba(60, 64, 67, 0.3), 0 1px 3px 1px rgba(60, 64, 67, 0.15);\n",
              "    fill: var(--button-hover-fill-color);\n",
              "  }\n",
              "\n",
              "  .colab-df-quickchart-complete:disabled,\n",
              "  .colab-df-quickchart-complete:disabled:hover {\n",
              "    background-color: var(--disabled-bg-color);\n",
              "    fill: var(--disabled-fill-color);\n",
              "    box-shadow: none;\n",
              "  }\n",
              "\n",
              "  .colab-df-spinner {\n",
              "    border: 2px solid var(--fill-color);\n",
              "    border-color: transparent;\n",
              "    border-bottom-color: var(--fill-color);\n",
              "    animation:\n",
              "      spin 1s steps(1) infinite;\n",
              "  }\n",
              "\n",
              "  @keyframes spin {\n",
              "    0% {\n",
              "      border-color: transparent;\n",
              "      border-bottom-color: var(--fill-color);\n",
              "      border-left-color: var(--fill-color);\n",
              "    }\n",
              "    20% {\n",
              "      border-color: transparent;\n",
              "      border-left-color: var(--fill-color);\n",
              "      border-top-color: var(--fill-color);\n",
              "    }\n",
              "    30% {\n",
              "      border-color: transparent;\n",
              "      border-left-color: var(--fill-color);\n",
              "      border-top-color: var(--fill-color);\n",
              "      border-right-color: var(--fill-color);\n",
              "    }\n",
              "    40% {\n",
              "      border-color: transparent;\n",
              "      border-right-color: var(--fill-color);\n",
              "      border-top-color: var(--fill-color);\n",
              "    }\n",
              "    60% {\n",
              "      border-color: transparent;\n",
              "      border-right-color: var(--fill-color);\n",
              "    }\n",
              "    80% {\n",
              "      border-color: transparent;\n",
              "      border-right-color: var(--fill-color);\n",
              "      border-bottom-color: var(--fill-color);\n",
              "    }\n",
              "    90% {\n",
              "      border-color: transparent;\n",
              "      border-bottom-color: var(--fill-color);\n",
              "    }\n",
              "  }\n",
              "</style>\n",
              "\n",
              "  <script>\n",
              "    async function quickchart(key) {\n",
              "      const quickchartButtonEl =\n",
              "        document.querySelector('#' + key + ' button');\n",
              "      quickchartButtonEl.disabled = true;  // To prevent multiple clicks.\n",
              "      quickchartButtonEl.classList.add('colab-df-spinner');\n",
              "      try {\n",
              "        const charts = await google.colab.kernel.invokeFunction(\n",
              "            'suggestCharts', [key], {});\n",
              "      } catch (error) {\n",
              "        console.error('Error during call to suggestCharts:', error);\n",
              "      }\n",
              "      quickchartButtonEl.classList.remove('colab-df-spinner');\n",
              "      quickchartButtonEl.classList.add('colab-df-quickchart-complete');\n",
              "    }\n",
              "    (() => {\n",
              "      let quickchartButtonEl =\n",
              "        document.querySelector('#df-bc2018ed-f73e-4326-be2b-407a7a7a1f67 button');\n",
              "      quickchartButtonEl.style.display =\n",
              "        google.colab.kernel.accessAllowed ? 'block' : 'none';\n",
              "    })();\n",
              "  </script>\n",
              "</div>\n",
              "    </div>\n",
              "  </div>\n"
            ],
            "application/vnd.google.colaboratory.intrinsic+json": {
              "type": "dataframe"
            }
          },
          "metadata": {},
          "execution_count": 21
        }
      ],
      "source": [
        "categorical_features = df.select_dtypes(exclude=[np.number])\n",
        "categorical_features.describe()"
      ]
    },
    {
      "cell_type": "code",
      "source": [
        "# add `SalePrice` column to categorical features dataframe to check correlation between the target and categorical features\n",
        "cat_feature_target = categorical_features.copy()\n",
        "cat_feature_target['SalePrice']=df['SalePrice']"
      ],
      "metadata": {
        "id": "zoR3GSzh9fgR"
      },
      "execution_count": 22,
      "outputs": []
    },
    {
      "cell_type": "code",
      "source": [
        "# correlation between the target and categorical features, top 10\n",
        "cat_feature_target.phik_matrix().sort_values(by='SalePrice', ascending=False)['SalePrice'].head(10)"
      ],
      "metadata": {
        "colab": {
          "base_uri": "https://localhost:8080/",
          "height": 416
        },
        "id": "3R1jyDnB9jOh",
        "outputId": "c6990103-935e-4f01-8660-e2ce5b088b6c"
      },
      "execution_count": 23,
      "outputs": [
        {
          "output_type": "stream",
          "name": "stdout",
          "text": [
            "interval columns not set, guessing: ['SalePrice']\n"
          ]
        },
        {
          "output_type": "execute_result",
          "data": {
            "text/plain": [
              "SalePrice       1.000000\n",
              "Neighborhood    0.687896\n",
              "Alley           0.683165\n",
              "ExterQual       0.675875\n",
              "KitchenQual     0.661993\n",
              "BsmtQual        0.655659\n",
              "PoolQC          0.625961\n",
              "GarageFinish    0.570523\n",
              "CentralAir      0.543913\n",
              "HeatingQC       0.514985\n",
              "Name: SalePrice, dtype: float64"
            ],
            "text/html": [
              "<div>\n",
              "<style scoped>\n",
              "    .dataframe tbody tr th:only-of-type {\n",
              "        vertical-align: middle;\n",
              "    }\n",
              "\n",
              "    .dataframe tbody tr th {\n",
              "        vertical-align: top;\n",
              "    }\n",
              "\n",
              "    .dataframe thead th {\n",
              "        text-align: right;\n",
              "    }\n",
              "</style>\n",
              "<table border=\"1\" class=\"dataframe\">\n",
              "  <thead>\n",
              "    <tr style=\"text-align: right;\">\n",
              "      <th></th>\n",
              "      <th>SalePrice</th>\n",
              "    </tr>\n",
              "  </thead>\n",
              "  <tbody>\n",
              "    <tr>\n",
              "      <th>SalePrice</th>\n",
              "      <td>1.000000</td>\n",
              "    </tr>\n",
              "    <tr>\n",
              "      <th>Neighborhood</th>\n",
              "      <td>0.687896</td>\n",
              "    </tr>\n",
              "    <tr>\n",
              "      <th>Alley</th>\n",
              "      <td>0.683165</td>\n",
              "    </tr>\n",
              "    <tr>\n",
              "      <th>ExterQual</th>\n",
              "      <td>0.675875</td>\n",
              "    </tr>\n",
              "    <tr>\n",
              "      <th>KitchenQual</th>\n",
              "      <td>0.661993</td>\n",
              "    </tr>\n",
              "    <tr>\n",
              "      <th>BsmtQual</th>\n",
              "      <td>0.655659</td>\n",
              "    </tr>\n",
              "    <tr>\n",
              "      <th>PoolQC</th>\n",
              "      <td>0.625961</td>\n",
              "    </tr>\n",
              "    <tr>\n",
              "      <th>GarageFinish</th>\n",
              "      <td>0.570523</td>\n",
              "    </tr>\n",
              "    <tr>\n",
              "      <th>CentralAir</th>\n",
              "      <td>0.543913</td>\n",
              "    </tr>\n",
              "    <tr>\n",
              "      <th>HeatingQC</th>\n",
              "      <td>0.514985</td>\n",
              "    </tr>\n",
              "  </tbody>\n",
              "</table>\n",
              "</div><br><label><b>dtype:</b> float64</label>"
            ]
          },
          "metadata": {},
          "execution_count": 23
        }
      ]
    },
    {
      "cell_type": "markdown",
      "source": [
        "`Neighborhood`, `Alley`, exterial materal, `PoolQC` highly correlate with house sale price."
      ],
      "metadata": {
        "id": "VlC0bg0Q9uSC"
      }
    },
    {
      "cell_type": "markdown",
      "metadata": {
        "id": "Zuk0YIjq79Vk"
      },
      "source": [
        "##### Null values"
      ]
    },
    {
      "cell_type": "code",
      "execution_count": 24,
      "metadata": {
        "id": "fxHVceKM7_UP"
      },
      "outputs": [],
      "source": [
        "def pass_value_barh(df):\n",
        "    (df.isna().mean() * 100).to_frame().rename(columns={0: \"space\"}).query(\n",
        "        \"space > 0\"\n",
        "    ).sort_values(by=\"space\", ascending=True).plot(\n",
        "        kind=\"barh\", figsize=(19, 6), legend=False, xlabel='Percents', fontsize=14, grid=True,\n",
        "    ).set_title(\n",
        "        \"Percentage of null values\" + \"\\n\", fontsize=20\n",
        "    )"
      ]
    },
    {
      "cell_type": "code",
      "execution_count": 25,
      "metadata": {
        "colab": {
          "base_uri": "https://localhost:8080/",
          "height": 419
        },
        "id": "vS5-IsMyDLHm",
        "outputId": "369a0ac6-d715-4626-c852-ec2040e49366"
      },
      "outputs": [
        {
          "output_type": "display_data",
          "data": {
            "text/plain": [
              "<Figure size 1900x600 with 1 Axes>"
            ],
            "image/png": "[encoded data removed]"
          },
          "metadata": {}
        }
      ],
      "source": [
        "pass_value_barh(df)"
      ]
    },
    {
      "cell_type": "markdown",
      "metadata": {
        "id": "Wvav3TrQxnUr"
      },
      "source": [
        "There are ~95% of values missed for `PoolQC`, `MiscFeature`,`Alley`, etc. We will fill some of them. The rest of missing data will be handled by a model.  "
      ]
    },
    {
      "cell_type": "markdown",
      "metadata": {
        "id": "EERN_KwbWehw"
      },
      "source": [
        "##### Prepare the dataset"
      ]
    },
    {
      "cell_type": "markdown",
      "metadata": {
        "id": "lT_klTKw-tU9"
      },
      "source": [
        "We drop `Id`column as it is not useful for a machine learning model. We drop `SalePrice` as `SalePrice_log` will be used as target for a model learning.\n"
      ]
    },
    {
      "cell_type": "code",
      "execution_count": 26,
      "metadata": {
        "id": "dNhMh5M-cl0V"
      },
      "outputs": [],
      "source": [
        "df.drop(['Id', 'SalePrice'], axis=1, inplace=True)"
      ]
    },
    {
      "cell_type": "code",
      "source": [
        "# assume that `PoolQC` is N/A in case the lot doesn't have a pool, i e the lot's `PoolArea` is 0.\n",
        "# Let's fill this categorical feature with 'no_pool'\n",
        "df.loc[df['PoolArea'] == 0, 'PoolQC'] = df['PoolQC'].fillna('no_pool')"
      ],
      "metadata": {
        "id": "ePnHJKCg_myQ"
      },
      "execution_count": 27,
      "outputs": []
    },
    {
      "cell_type": "code",
      "source": [
        "# assume that `MiscFeature` is N/A in case the lot doesn't have any.\n",
        "# fill N/A of this categorical feature with 'no_feature'\n",
        "df['MiscFeature'] = df['MiscFeature'].fillna('no_feature')"
      ],
      "metadata": {
        "id": "mKvDIg-BDhVb"
      },
      "execution_count": 28,
      "outputs": []
    },
    {
      "cell_type": "code",
      "source": [
        "# assume that `Fence` is N/A in case the lot doesn't have any.\n",
        "# fill N/A of this categorical feature with 'no_fence'\n",
        "df['Fence'] = df['Fence'].fillna('no_fence')"
      ],
      "metadata": {
        "id": "JcGTDbjEFyOQ"
      },
      "execution_count": 29,
      "outputs": []
    },
    {
      "cell_type": "code",
      "source": [
        "# assume that `FireplaceQu` is N/A in case the lot doesn't have any.\n",
        "# fill N/A of this categorical feature with 'no_fireplace'\n",
        "df['FireplaceQu'] = df['FireplaceQu'].fillna('no_fireplace')"
      ],
      "metadata": {
        "id": "NTTZoVloLxU3"
      },
      "execution_count": 30,
      "outputs": []
    },
    {
      "cell_type": "code",
      "source": [
        "# Assume if linear feet of street connected to property is N/A, then the property has no connection to street\n",
        "df['LotFrontage'] = df['LotFrontage'].fillna(0)"
      ],
      "metadata": {
        "id": "1eO-wc8BTrzX"
      },
      "execution_count": 31,
      "outputs": []
    },
    {
      "cell_type": "code",
      "source": [
        "# assume that Masonry veneer type is N/A in case the lot doesn't have veneer.\n",
        "df.loc[df['MasVnrArea'] == 0, 'MasVnrType'] = df['MasVnrType'].fillna('no_veneer')\n"
      ],
      "metadata": {
        "id": "B0IeugOdQEgS"
      },
      "execution_count": 32,
      "outputs": []
    },
    {
      "cell_type": "code",
      "source": [
        "# as per dataset description N/A in `Alley` means `No alley access to the property`\n",
        "df['Alley'] = df['Alley'].fillna('no_alley_access')"
      ],
      "metadata": {
        "id": "4OT2f0zqXdOw"
      },
      "execution_count": 33,
      "outputs": []
    },
    {
      "cell_type": "code",
      "source": [
        "# as per dataset description N/A in `GarageType` means `No garage`\n",
        "df['GarageType'] = df['GarageType'].fillna('no_garage')"
      ],
      "metadata": {
        "id": "l9YJ5Y6boxsp"
      },
      "execution_count": 34,
      "outputs": []
    },
    {
      "cell_type": "code",
      "source": [
        "# fill missing values in columns describing a garage\n",
        "df.loc[df['GarageCars'] == 0, 'GarageType'] = df['GarageType'].fillna('no_garage')\n",
        "df.loc[df['GarageCars'] == 0, 'GarageYrBlt'] = df['GarageYrBlt'].fillna(1000) # numerical feature\n",
        "df.loc[df['GarageCars'] == 0, 'GarageFinish'] = df['GarageFinish'].fillna('no_garage')\n",
        "df.loc[df['GarageCars'] == 0, 'GarageQual'] = df['GarageQual'].fillna('no_garage')\n",
        "df.loc[df['GarageCars'] == 0, 'GarageCond'] = df['GarageCond'].fillna('no_garage')"
      ],
      "metadata": {
        "id": "L-bJI5TvpMfW"
      },
      "execution_count": 35,
      "outputs": []
    },
    {
      "cell_type": "code",
      "execution_count": 36,
      "metadata": {
        "colab": {
          "base_uri": "https://localhost:8080/"
        },
        "id": "BDXS-GjakEAo",
        "outputId": "b86082f5-412f-4e58-b837-1614a3d77fd5"
      },
      "outputs": [
        {
          "output_type": "execute_result",
          "data": {
            "text/plain": [
              "(1430, 80)"
            ]
          },
          "metadata": {},
          "execution_count": 36
        }
      ],
      "source": [
        "df_model = df.query('3124 >= GrLivArea >= 692')\n",
        "df_model.shape"
      ]
    },
    {
      "cell_type": "code",
      "execution_count": 37,
      "metadata": {
        "colab": {
          "base_uri": "https://localhost:8080/"
        },
        "id": "iShz5LyBt_JC",
        "outputId": "c130da1c-c442-416c-d890-999e52a26cf9"
      },
      "outputs": [
        {
          "output_type": "execute_result",
          "data": {
            "text/plain": [
              "97.94520547945206"
            ]
          },
          "metadata": {},
          "execution_count": 37
        }
      ],
      "source": [
        "# check size of the dataset comparing to the size of initial dataset\n",
        "df_model.shape[0]/df.shape[0]*100"
      ]
    },
    {
      "cell_type": "markdown",
      "source": [
        "We have dropped ~2% of data from initial dataset, which is acceptable."
      ],
      "metadata": {
        "id": "jsKDPTA9wFgw"
      }
    },
    {
      "cell_type": "markdown",
      "metadata": {
        "id": "Rv4_LuTlwIl4"
      },
      "source": [
        "### Model training"
      ]
    },
    {
      "cell_type": "code",
      "execution_count": 38,
      "metadata": {
        "colab": {
          "base_uri": "https://localhost:8080/",
          "height": 53
        },
        "id": "voykFxlQaLpc",
        "outputId": "5acdda57-0e03-43d9-d9dd-35e7edde4b33"
      },
      "outputs": [
        {
          "output_type": "display_data",
          "data": {
            "text/plain": [
              "(1001, 80)"
            ]
          },
          "metadata": {}
        },
        {
          "output_type": "display_data",
          "data": {
            "text/plain": [
              "(429, 80)"
            ]
          },
          "metadata": {}
        }
      ],
      "source": [
        "# Split to train and test datasets\n",
        "\n",
        "X_train, X_test = train_test_split(\n",
        "    df_model, test_size=0.3, random_state=RANDOM_STATE\n",
        ")\n",
        "\n",
        "#check train and test sets size\n",
        "display(\n",
        "    X_train.shape,\n",
        "    X_test.shape,\n",
        "   )"
      ]
    },
    {
      "cell_type": "markdown",
      "metadata": {
        "id": "fl55jTwwYmHl"
      },
      "source": [
        "We did not specify input features, so all the columns are used as input features. The type of features is automatically detected and ingested.  \n",
        "Let's train a gradient boosted trees model using tuned values for some of the hyper-parameters."
      ]
    },
    {
      "cell_type": "code",
      "execution_count": 39,
      "metadata": {
        "colab": {
          "base_uri": "https://localhost:8080/"
        },
        "id": "fMWWR70aWyGZ",
        "outputId": "c860059b-90d3-4b2b-e985-ebd47159ab1c"
      },
      "outputs": [
        {
          "output_type": "execute_result",
          "data": {
            "text/plain": [
              "<ydf.learner.tuner.SearchSpace at 0x7a307dd6ca00>"
            ]
          },
          "metadata": {},
          "execution_count": 39
        }
      ],
      "source": [
        "tuner = ydf.RandomSearchTuner(num_trials=50)\n",
        "tuner.choice(\"shrinkage\", [0.2, 0.1, 0.05])\n",
        "tuner.choice(\"subsample\", [1.0, 0.9, 0.8])\n",
        "tuner.choice(\"max_depth\", [3, 4, 5, 6])"
      ]
    },
    {
      "cell_type": "code",
      "execution_count": 40,
      "metadata": {
        "id": "273d4O7N7INn",
        "colab": {
          "base_uri": "https://localhost:8080/"
        },
        "outputId": "c76c808d-a44a-4f2f-d275-324f4e1c00c8"
      },
      "outputs": [
        {
          "output_type": "stream",
          "name": "stdout",
          "text": [
            "Train model on 1001 examples\n",
            "Model trained in 0:00:33.662397\n"
          ]
        },
        {
          "output_type": "execute_result",
          "data": {
            "text/plain": [
              "<ydf.model.gradient_boosted_trees_model.gradient_boosted_trees_model.GradientBoostedTreesModel at 0x7a3079c11ff0>"
            ]
          },
          "metadata": {},
          "execution_count": 40
        }
      ],
      "source": [
        "model = ydf.GradientBoostedTreesLearner(\n",
        "    label=\"SalePrice_log\",\n",
        "    task=ydf.Task.REGRESSION,\n",
        "    num_trees=100,\n",
        "    tuner=tuner,\n",
        ").train(X_train)\n",
        "\n",
        "model"
      ]
    },
    {
      "cell_type": "code",
      "execution_count": 41,
      "metadata": {
        "collapsed": true,
        "id": "RVYHsQhA7qvX",
        "colab": {
          "base_uri": "https://localhost:8080/",
          "height": 985
        },
        "outputId": "1130fa2f-ccf6-4cc4-c89f-17f9d49f75b1"
      },
      "outputs": [
        {
          "output_type": "execute_result",
          "data": {
            "text/plain": [
              "<ydf.utils.html.HtmlNotebookDisplay at 0x7a307dd6c6d0>"
            ],
            "text/html": [
              "\n",
              "<style>\n",
              "\n",
              ".tab_block .header {\n",
              "    flex-direction: row;\n",
              "    display: flex;\n",
              "}\n",
              "\n",
              ".tab_block .header .tab {\n",
              "    cursor: pointer;\n",
              "    background-color: #F6F5F5;\n",
              "    text-decoration: none;\n",
              "    text-align: center;\n",
              "    padding: 4px 12px;\n",
              "    color: black;\n",
              "}\n",
              "\n",
              ".tab_block .header .tab.selected {\n",
              "    border-bottom: 2px solid #2F80ED;\n",
              "}\n",
              "\n",
              ".tab_block .header .tab:hover {\n",
              "    text-decoration: none;\n",
              "    background-color: #DCDCDC;\n",
              "}\n",
              "\n",
              ".tab_block .body .tab_content {\n",
              "    display: none;\n",
              "    padding: 5px;\n",
              "}\n",
              "\n",
              ".tab_block .body .tab_content.selected {\n",
              "    display: block;\n",
              "}\n",
              "\n",
              ".ydf_pre {\n",
              "    font-size: medium;\n",
              "}\n",
              "\n",
              "\n",
              "\n",
              ".variable_importance {\n",
              "}\n",
              "\n",
              ".variable_importance select {\n",
              "}\n",
              "\n",
              ".variable_importance .content {\n",
              "  display: none;\n",
              "}\n",
              "\n",
              ".variable_importance .content.selected {\n",
              "  display: block;\n",
              "}\n",
              "\n",
              ".ydf_tuning_table {\n",
              "  border-collapse: collapse;\n",
              "  border: 1px solid lightgray;\n",
              "}\n",
              "\n",
              ".ydf_tuning_table th {\n",
              "  background-color: #ededed;\n",
              "  font-weight: bold;\n",
              "  text-align: left;\n",
              "  padding: 3px 4px;\n",
              "  border: 1px solid lightgray;\n",
              "}\n",
              "\n",
              ".ydf_tuning_table td {\n",
              "  text-align: right;\n",
              "  padding: 3px 4px;\n",
              "  border: 1px solid lightgray;\n",
              "}\n",
              "\n",
              ".ydf_tuning_table .best {\n",
              "  background-color: khaki;\n",
              "}\n",
              "\n",
              "</style>\n",
              "\n",
              "<script>\n",
              "\n",
              "function ydfShowTab(block_id, item) {\n",
              "    const block = document.getElementById(block_id);\n",
              "    \n",
              "    \n",
              "    console.log(\"HIDE first of:\",block.getElementsByClassName(\"tab selected\"));\n",
              "    console.log(\"HIDE first of:\",block.getElementsByClassName(\"tab_content selected\"));\n",
              "    \n",
              "    block.getElementsByClassName(\"tab selected\")[0].classList.remove(\"selected\");\n",
              "    block.getElementsByClassName(\"tab_content selected\")[0].classList.remove(\"selected\");\n",
              "    document.getElementById(block_id + \"_\" + item).classList.add(\"selected\");\n",
              "    document.getElementById(block_id + \"_body_\" + item).classList.add(\"selected\");\n",
              "}\n",
              "  \n",
              "\n",
              "function ydfShowVariableImportance(block_id) {\n",
              "    const block = document.getElementById(block_id);\n",
              "    const item = block.getElementsByTagName(\"select\")[0].value;\n",
              "    block.getElementsByClassName(\"content selected\")[0].classList.remove(\"selected\");\n",
              "    document.getElementById(block_id + \"_body_\" + item).classList.add(\"selected\");\n",
              "}\n",
              "\n",
              "</script>\n",
              "  <div class=\"tab_block\" id=\"2cdc-59b2-064f-9c3c\"><div class=\"header\"><a id=\"2cdc-59b2-064f-9c3c_model\" class=\"tab selected\" onclick=\"ydfShowTab('2cdc-59b2-064f-9c3c', 'model')\">Model</a><a id=\"2cdc-59b2-064f-9c3c_dataspec\" class=\"tab\" onclick=\"ydfShowTab('2cdc-59b2-064f-9c3c', 'dataspec')\">Dataspec</a><a id=\"2cdc-59b2-064f-9c3c_tuning\" class=\"tab\" onclick=\"ydfShowTab('2cdc-59b2-064f-9c3c', 'tuning')\">Tuning</a><a id=\"2cdc-59b2-064f-9c3c_training\" class=\"tab\" onclick=\"ydfShowTab('2cdc-59b2-064f-9c3c', 'training')\">Training</a><a id=\"2cdc-59b2-064f-9c3c_variable_importance\" class=\"tab\" onclick=\"ydfShowTab('2cdc-59b2-064f-9c3c', 'variable_importance')\">Variable importances</a><a id=\"2cdc-59b2-064f-9c3c_structure\" class=\"tab\" onclick=\"ydfShowTab('2cdc-59b2-064f-9c3c', 'structure')\">Structure</a></div><div class=\"body\"><div id=\"2cdc-59b2-064f-9c3c_body_model\" class=\"tab_content selected\"><b>Name</b> : GRADIENT_BOOSTED_TREES<br><b>Task</b> : REGRESSION<br><b>Label</b> : SalePrice_log<br><b>Features (79)</b> : MSSubClass MSZoning LotFrontage LotArea Street Alley LotShape LandContour Utilities LotConfig LandSlope Neighborhood Condition1 Condition2 BldgType HouseStyle OverallQual OverallCond YearBuilt YearRemodAdd RoofStyle RoofMatl Exterior1st Exterior2nd MasVnrType MasVnrArea ExterQual ExterCond Foundation BsmtQual BsmtCond BsmtExposure BsmtFinType1 BsmtFinSF1 BsmtFinType2 BsmtFinSF2 BsmtUnfSF TotalBsmtSF Heating HeatingQC CentralAir Electrical 1stFlrSF 2ndFlrSF LowQualFinSF GrLivArea BsmtFullBath BsmtHalfBath FullBath HalfBath BedroomAbvGr KitchenAbvGr KitchenQual TotRmsAbvGrd Functional Fireplaces FireplaceQu GarageType GarageYrBlt GarageFinish GarageCars GarageArea GarageQual GarageCond PavedDrive WoodDeckSF OpenPorchSF EnclosedPorch 3SsnPorch ScreenPorch PoolArea PoolQC Fence MiscFeature MiscVal MoSold YrSold SaleType SaleCondition<br><b>Weights</b> : None<br><b>Trained with tuner</b> : Yes<br><b>Model size</b> : 209 kB<br></div><div id=\"2cdc-59b2-064f-9c3c_body_dataspec\" class=\"tab_content\"><pre class=\"ydf_pre\">Number of records: 1001\n",
              "Number of columns: 80\n",
              "\n",
              "Number of columns by type:\n",
              "\tCATEGORICAL: 43 (53.75%)\n",
              "\tNUMERICAL: 37 (46.25%)\n",
              "\n",
              "Columns:\n",
              "\n",
              "CATEGORICAL: 43 (53.75%)\n",
              "\t2: &quot;MSZoning&quot; CATEGORICAL has-dict vocab-size:5 num-oods:4 (0.3996%) most-frequent:&quot;RL&quot; 796 (79.5205%) dtype:DTYPE_BYTES\n",
              "\t5: &quot;Street&quot; CATEGORICAL has-dict vocab-size:2 num-oods:4 (0.3996%) most-frequent:&quot;Pave&quot; 997 (99.6004%) dtype:DTYPE_BYTES\n",
              "\t6: &quot;Alley&quot; CATEGORICAL has-dict vocab-size:4 zero-ood-items most-frequent:&quot;no_alley_access&quot; 939 (93.8062%) dtype:DTYPE_BYTES\n",
              "\t7: &quot;LotShape&quot; CATEGORICAL has-dict vocab-size:4 num-oods:3 (0.2997%) most-frequent:&quot;Reg&quot; 621 (62.038%) dtype:DTYPE_BYTES\n",
              "\t8: &quot;LandContour&quot; CATEGORICAL has-dict vocab-size:5 zero-ood-items most-frequent:&quot;Lvl&quot; 899 (89.8102%) dtype:DTYPE_BYTES\n",
              "\t9: &quot;Utilities&quot; CATEGORICAL has-dict vocab-size:2 zero-ood-items most-frequent:&quot;AllPub&quot; 1001 (100%) dtype:DTYPE_BYTES\n",
              "\t10: &quot;LotConfig&quot; CATEGORICAL has-dict vocab-size:5 num-oods:3 (0.2997%) most-frequent:&quot;Inside&quot; 718 (71.7283%) dtype:DTYPE_BYTES\n",
              "\t11: &quot;LandSlope&quot; CATEGORICAL has-dict vocab-size:4 zero-ood-items most-frequent:&quot;Gtl&quot; 950 (94.9051%) dtype:DTYPE_BYTES\n",
              "\t12: &quot;Neighborhood&quot; CATEGORICAL has-dict vocab-size:25 num-oods:1 (0.0999001%) most-frequent:&quot;NAmes&quot; 153 (15.2847%) dtype:DTYPE_BYTES\n",
              "\t13: &quot;Condition1&quot; CATEGORICAL has-dict vocab-size:7 num-oods:9 (0.899101%) most-frequent:&quot;Norm&quot; 875 (87.4126%) dtype:DTYPE_BYTES\n",
              "\t14: &quot;Condition2&quot; CATEGORICAL has-dict vocab-size:2 num-oods:9 (0.899101%) most-frequent:&quot;Norm&quot; 992 (99.1009%) dtype:DTYPE_BYTES\n",
              "\t15: &quot;BldgType&quot; CATEGORICAL has-dict vocab-size:6 zero-ood-items most-frequent:&quot;1Fam&quot; 832 (83.1169%) dtype:DTYPE_BYTES\n",
              "\t16: &quot;HouseStyle&quot; CATEGORICAL has-dict vocab-size:8 num-oods:3 (0.2997%) most-frequent:&quot;1Story&quot; 504 (50.3497%) dtype:DTYPE_BYTES\n",
              "\t21: &quot;RoofStyle&quot; CATEGORICAL has-dict vocab-size:5 num-oods:6 (0.599401%) most-frequent:&quot;Gable&quot; 785 (78.4216%) dtype:DTYPE_BYTES\n",
              "\t22: &quot;RoofMatl&quot; CATEGORICAL has-dict vocab-size:3 num-oods:7 (0.699301%) most-frequent:&quot;CompShg&quot; 985 (98.4016%) dtype:DTYPE_BYTES\n",
              "\t23: &quot;Exterior1st&quot; CATEGORICAL has-dict vocab-size:11 num-oods:7 (0.699301%) most-frequent:&quot;VinylSd&quot; 369 (36.8631%) dtype:DTYPE_BYTES\n",
              "\t24: &quot;Exterior2nd&quot; CATEGORICAL has-dict vocab-size:14 num-oods:4 (0.3996%) most-frequent:&quot;VinylSd&quot; 361 (36.0639%) dtype:DTYPE_BYTES\n",
              "\t25: &quot;MasVnrType&quot; CATEGORICAL num-nas:10 (0.999001%) has-dict vocab-size:5 zero-ood-items most-frequent:&quot;no_veneer&quot; 588 (59.334%) dtype:DTYPE_BYTES\n",
              "\t27: &quot;ExterQual&quot; CATEGORICAL has-dict vocab-size:5 zero-ood-items most-frequent:&quot;TA&quot; 610 (60.9391%) dtype:DTYPE_BYTES\n",
              "\t28: &quot;ExterCond&quot; CATEGORICAL has-dict vocab-size:4 num-oods:4 (0.3996%) most-frequent:&quot;TA&quot; 875 (87.4126%) dtype:DTYPE_BYTES\n",
              "\t29: &quot;Foundation&quot; CATEGORICAL has-dict vocab-size:6 num-oods:3 (0.2997%) most-frequent:&quot;PConc&quot; 464 (46.3536%) dtype:DTYPE_BYTES\n",
              "\t30: &quot;BsmtQual&quot; CATEGORICAL num-nas:25 (2.4975%) has-dict vocab-size:5 zero-ood-items most-frequent:&quot;Gd&quot; 437 (44.7746%) dtype:DTYPE_BYTES\n",
              "\t31: &quot;BsmtCond&quot; CATEGORICAL num-nas:25 (2.4975%) has-dict vocab-size:4 num-oods:2 (0.204918%) most-frequent:&quot;TA&quot; 896 (91.8033%) dtype:DTYPE_BYTES\n",
              "\t32: &quot;BsmtExposure&quot; CATEGORICAL num-nas:26 (2.5974%) has-dict vocab-size:5 zero-ood-items most-frequent:&quot;No&quot; 652 (66.8718%) dtype:DTYPE_BYTES\n",
              "\t33: &quot;BsmtFinType1&quot; CATEGORICAL num-nas:25 (2.4975%) has-dict vocab-size:7 zero-ood-items most-frequent:&quot;Unf&quot; 307 (31.4549%) dtype:DTYPE_BYTES\n",
              "\t35: &quot;BsmtFinType2&quot; CATEGORICAL num-nas:25 (2.4975%) has-dict vocab-size:7 zero-ood-items most-frequent:&quot;Unf&quot; 862 (88.3197%) dtype:DTYPE_BYTES\n",
              "\t39: &quot;Heating&quot; CATEGORICAL has-dict vocab-size:4 num-oods:5 (0.4995%) most-frequent:&quot;GasA&quot; 979 (97.8022%) dtype:DTYPE_BYTES\n",
              "\t40: &quot;HeatingQC&quot; CATEGORICAL has-dict vocab-size:5 num-oods:1 (0.0999001%) most-frequent:&quot;Ex&quot; 522 (52.1479%) dtype:DTYPE_BYTES\n",
              "\t41: &quot;CentralAir&quot; CATEGORICAL has-dict vocab-size:3 zero-ood-items most-frequent:&quot;Y&quot; 939 (93.8062%) dtype:DTYPE_BYTES\n",
              "\t42: &quot;Electrical&quot; CATEGORICAL has-dict vocab-size:4 num-oods:4 (0.3996%) most-frequent:&quot;SBrkr&quot; 917 (91.6084%) dtype:DTYPE_BYTES\n",
              "\t53: &quot;KitchenQual&quot; CATEGORICAL has-dict vocab-size:5 zero-ood-items most-frequent:&quot;TA&quot; 498 (49.7502%) dtype:DTYPE_BYTES\n",
              "\t55: &quot;Functional&quot; CATEGORICAL has-dict vocab-size:6 num-oods:5 (0.4995%) most-frequent:&quot;Typ&quot; 932 (93.1069%) dtype:DTYPE_BYTES\n",
              "\t57: &quot;FireplaceQu&quot; CATEGORICAL has-dict vocab-size:7 zero-ood-items most-frequent:&quot;no_fireplace&quot; 471 (47.0529%) dtype:DTYPE_BYTES\n",
              "\t58: &quot;GarageType&quot; CATEGORICAL has-dict vocab-size:8 zero-ood-items most-frequent:&quot;Attchd&quot; 608 (60.7393%) dtype:DTYPE_BYTES\n",
              "\t60: &quot;GarageFinish&quot; CATEGORICAL has-dict vocab-size:5 zero-ood-items most-frequent:&quot;Unf&quot; 412 (41.1588%) dtype:DTYPE_BYTES\n",
              "\t63: &quot;GarageQual&quot; CATEGORICAL has-dict vocab-size:5 num-oods:4 (0.3996%) most-frequent:&quot;TA&quot; 905 (90.4096%) dtype:DTYPE_BYTES\n",
              "\t64: &quot;GarageCond&quot; CATEGORICAL has-dict vocab-size:5 num-oods:5 (0.4995%) most-frequent:&quot;TA&quot; 917 (91.6084%) dtype:DTYPE_BYTES\n",
              "\t65: &quot;PavedDrive&quot; CATEGORICAL has-dict vocab-size:4 zero-ood-items most-frequent:&quot;Y&quot; 922 (92.1079%) dtype:DTYPE_BYTES\n",
              "\t72: &quot;PoolQC&quot; CATEGORICAL has-dict vocab-size:2 num-oods:3 (0.2997%) most-frequent:&quot;no_pool&quot; 998 (99.7003%) dtype:DTYPE_BYTES\n",
              "\t73: &quot;Fence&quot; CATEGORICAL has-dict vocab-size:6 zero-ood-items most-frequent:&quot;no_fence&quot; 821 (82.018%) dtype:DTYPE_BYTES\n",
              "\t74: &quot;MiscFeature&quot; CATEGORICAL has-dict vocab-size:3 num-oods:4 (0.3996%) most-frequent:&quot;no_feature&quot; 962 (96.1039%) dtype:DTYPE_BYTES\n",
              "\t78: &quot;SaleType&quot; CATEGORICAL has-dict vocab-size:4 num-oods:17 (1.6983%) most-frequent:&quot;WD&quot; 868 (86.7133%) dtype:DTYPE_BYTES\n",
              "\t79: &quot;SaleCondition&quot; CATEGORICAL has-dict vocab-size:6 num-oods:3 (0.2997%) most-frequent:&quot;Normal&quot; 819 (81.8182%) dtype:DTYPE_BYTES\n",
              "\n",
              "NUMERICAL: 37 (46.25%)\n",
              "\t0: &quot;SalePrice_log&quot; NUMERICAL mean:12.0311 min:10.5427 max:13.3239 sd:0.380414 dtype:DTYPE_FLOAT64\n",
              "\t1: &quot;MSSubClass&quot; NUMERICAL mean:57.0579 min:20 max:190 sd:41.9381 dtype:DTYPE_INT64\n",
              "\t3: &quot;LotFrontage&quot; NUMERICAL mean:57.4635 min:0 max:313 sd:34.7914 dtype:DTYPE_FLOAT64\n",
              "\t4: &quot;LotArea&quot; NUMERICAL mean:10461.2 min:1300 max:164660 sd:9176.01 dtype:DTYPE_INT64\n",
              "\t17: &quot;OverallQual&quot; NUMERICAL mean:6.12488 min:1 max:10 sd:1.34669 dtype:DTYPE_INT64\n",
              "\t18: &quot;OverallCond&quot; NUMERICAL mean:5.52647 min:1 max:9 sd:1.09195 dtype:DTYPE_INT64\n",
              "\t19: &quot;YearBuilt&quot; NUMERICAL mean:1972.04 min:1872 max:2010 sd:30.1327 dtype:DTYPE_INT64\n",
              "\t20: &quot;YearRemodAdd&quot; NUMERICAL mean:1984.96 min:1950 max:2010 sd:20.8244 dtype:DTYPE_INT64\n",
              "\t26: &quot;MasVnrArea&quot; NUMERICAL num-nas:5 (0.4995%) mean:97.2771 min:0 max:1129 sd:164.864 dtype:DTYPE_FLOAT64\n",
              "\t34: &quot;BsmtFinSF1&quot; NUMERICAL mean:440.85 min:0 max:2188 sd:440.648 dtype:DTYPE_INT64\n",
              "\t36: &quot;BsmtFinSF2&quot; NUMERICAL mean:48.038 min:0 max:1474 sd:166.987 dtype:DTYPE_INT64\n",
              "\t37: &quot;BsmtUnfSF&quot; NUMERICAL mean:571.98 min:0 max:2121 sd:434.041 dtype:DTYPE_INT64\n",
              "\t38: &quot;TotalBsmtSF&quot; NUMERICAL mean:1060.87 min:0 max:3094 sd:405.199 dtype:DTYPE_INT64\n",
              "\t43: &quot;1stFlrSF&quot; NUMERICAL mean:1167.2 min:372 max:2898 sd:364.28 dtype:DTYPE_INT64\n",
              "\t44: &quot;2ndFlrSF&quot; NUMERICAL mean:339.265 min:0 max:1611 sd:421.123 dtype:DTYPE_INT64\n",
              "\t45: &quot;LowQualFinSF&quot; NUMERICAL mean:4.54645 min:0 max:528 sd:41.1142 dtype:DTYPE_INT64\n",
              "\t46: &quot;GrLivArea&quot; NUMERICAL mean:1511.01 min:693 max:3112 sd:462.964 dtype:DTYPE_INT64\n",
              "\t47: &quot;BsmtFullBath&quot; NUMERICAL mean:0.406593 min:0 max:2 sd:0.507207 dtype:DTYPE_INT64\n",
              "\t48: &quot;BsmtHalfBath&quot; NUMERICAL mean:0.0619381 min:0 max:2 sd:0.245152 dtype:DTYPE_INT64\n",
              "\t49: &quot;FullBath&quot; NUMERICAL mean:1.57043 min:0 max:3 sd:0.52821 dtype:DTYPE_INT64\n",
              "\t50: &quot;HalfBath&quot; NUMERICAL mean:0.373626 min:0 max:2 sd:0.498012 dtype:DTYPE_INT64\n",
              "\t51: &quot;BedroomAbvGr&quot; NUMERICAL mean:2.87612 min:0 max:6 sd:0.8 dtype:DTYPE_INT64\n",
              "\t52: &quot;KitchenAbvGr&quot; NUMERICAL mean:1.04795 min:0 max:3 sd:0.22282 dtype:DTYPE_INT64\n",
              "\t54: &quot;TotRmsAbvGrd&quot; NUMERICAL mean:6.53147 min:3 max:12 sd:1.55975 dtype:DTYPE_INT64\n",
              "\t56: &quot;Fireplaces&quot; NUMERICAL mean:0.609391 min:0 max:3 sd:0.635506 dtype:DTYPE_INT64\n",
              "\t59: &quot;GarageYrBlt&quot; NUMERICAL mean:1932.15 min:1000 max:2010 sd:210.585 dtype:DTYPE_FLOAT64\n",
              "\t61: &quot;GarageCars&quot; NUMERICAL mean:1.77522 min:0 max:4 sd:0.72931 dtype:DTYPE_INT64\n",
              "\t62: &quot;GarageArea&quot; NUMERICAL mean:473.296 min:0 max:1356 sd:208.195 dtype:DTYPE_INT64\n",
              "\t66: &quot;WoodDeckSF&quot; NUMERICAL mean:95.3666 min:0 max:670 sd:119.035 dtype:DTYPE_INT64\n",
              "\t67: &quot;OpenPorchSF&quot; NUMERICAL mean:47.2428 min:0 max:547 sd:66.8072 dtype:DTYPE_INT64\n",
              "\t68: &quot;EnclosedPorch&quot; NUMERICAL mean:20.953 min:0 max:552 sd:59.0845 dtype:DTYPE_INT64\n",
              "\t69: &quot;3SsnPorch&quot; NUMERICAL mean:3.88611 min:0 max:508 sd:32.1305 dtype:DTYPE_INT64\n",
              "\t70: &quot;ScreenPorch&quot; NUMERICAL mean:14.5385 min:0 max:480 sd:54.4418 dtype:DTYPE_INT64\n",
              "\t71: &quot;PoolArea&quot; NUMERICAL mean:1.73427 min:0 max:648 sd:31.7774 dtype:DTYPE_INT64\n",
              "\t75: &quot;MiscVal&quot; NUMERICAL mean:52.2877 min:0 max:15500 sd:587.913 dtype:DTYPE_INT64\n",
              "\t76: &quot;MoSold&quot; NUMERICAL mean:6.32068 min:1 max:12 sd:2.70273 dtype:DTYPE_INT64\n",
              "\t77: &quot;YrSold&quot; NUMERICAL mean:2007.83 min:2006 max:2010 sd:1.33043 dtype:DTYPE_INT64\n",
              "\n",
              "Terminology:\n",
              "\tnas: Number of non-available (i.e. missing) values.\n",
              "\tood: Out of dictionary.\n",
              "\tmanually-defined: Attribute whose type is manually defined by the user, i.e., the type was not automatically inferred.\n",
              "\ttokenized: The attribute value is obtained through tokenization.\n",
              "\thas-dict: The attribute is attached to a string dictionary e.g. a categorical attribute stored as a string.\n",
              "\tvocab-size: Number of unique values.\n",
              "</pre></div><div id=\"2cdc-59b2-064f-9c3c_body_tuning\" class=\"tab_content\"><p>A <a target=\"_blank\" href=\"https://ydf.readthedocs.io/en/latest/glossary#tuner\">tuner</a> automatically selects the hyper-parameters of a learner.</p><p><b>Note:</b>The hyper-parameters tuning logs are accessible programmatically in python with `model.hyperparameter_optimizer_logs()`.</p><table class=\"ydf_tuning_table\"><tr><th>trial</th><th>score</th><th>duration</th><th>shrinkage</th><th>subsample</th><th>max_depth</th></tr><tr class=\"best\"><td>17</td><td>-0.107811</td><td>20.5568</td><td>0.2</td><td>0.8</td><td>3</td></tr><tr><td>14</td><td>-0.10802</td><td>18.2564</td><td>0.1</td><td>0.8</td><td>5</td></tr><tr><td>33</td><td>-0.109496</td><td>31.1747</td><td>0.2</td><td>0.9</td><td>5</td></tr><tr><td>28</td><td>-0.110468</td><td>27.4045</td><td>0.1</td><td>0.9</td><td>4</td></tr><tr><td>21</td><td>-0.110824</td><td>23.3018</td><td>0.1</td><td>0.8</td><td>3</td></tr><tr><td>2</td><td>-0.112243</td><td>6.99152</td><td>0.05</td><td>0.8</td><td>6</td></tr><tr><td>7</td><td>-0.112892</td><td>12.0678</td><td>0.1</td><td>1</td><td>4</td></tr><tr><td>27</td><td>-0.114896</td><td>26.8698</td><td>0.2</td><td>0.9</td><td>4</td></tr><tr><td>4</td><td>-0.115012</td><td>9.98694</td><td>0.05</td><td>0.9</td><td>6</td></tr><tr><td>26</td><td>-0.115202</td><td>26.4004</td><td>0.2</td><td>0.9</td><td>3</td></tr><tr><td>32</td><td>-0.11522</td><td>30.3206</td><td>0.1</td><td>0.9</td><td>3</td></tr><tr><td>9</td><td>-0.115865</td><td>13.9459</td><td>0.1</td><td>1</td><td>3</td></tr><tr><td>1</td><td>-0.116253</td><td>3.60862</td><td>0.2</td><td>1</td><td>5</td></tr><tr><td>8</td><td>-0.116982</td><td>13.6446</td><td>0.05</td><td>1</td><td>6</td></tr><tr><td>19</td><td>-0.117153</td><td>21.8308</td><td>0.2</td><td>1</td><td>3</td></tr><tr><td>31</td><td>-0.117162</td><td>30.0336</td><td>0.1</td><td>1</td><td>6</td></tr><tr><td>3</td><td>-0.117408</td><td>8.18382</td><td>0.2</td><td>0.8</td><td>4</td></tr><tr><td>13</td><td>-0.117557</td><td>17.1724</td><td>0.2</td><td>0.8</td><td>5</td></tr><tr><td>12</td><td>-0.117591</td><td>16.5799</td><td>0.05</td><td>0.8</td><td>5</td></tr><tr><td>29</td><td>-0.118427</td><td>28.2905</td><td>0.2</td><td>1</td><td>6</td></tr><tr><td>35</td><td>-0.118437</td><td>33.6538</td><td>0.05</td><td>0.9</td><td>4</td></tr><tr><td>24</td><td>-0.118723</td><td>25.2093</td><td>0.05</td><td>1</td><td>5</td></tr><tr><td>25</td><td>-0.118723</td><td>26.1045</td><td>0.2</td><td>0.9</td><td>6</td></tr><tr><td>6</td><td>-0.118732</td><td>11.5339</td><td>0.1</td><td>0.8</td><td>4</td></tr><tr><td>34</td><td>-0.11878</td><td>32.7663</td><td>0.1</td><td>0.8</td><td>6</td></tr><tr><td>20</td><td>-0.119872</td><td>22.9799</td><td>0.05</td><td>0.9</td><td>5</td></tr><tr><td>23</td><td>-0.120104</td><td>24.2635</td><td>0.05</td><td>1</td><td>4</td></tr><tr><td>5</td><td>-0.120165</td><td>11.0081</td><td>0.1</td><td>1</td><td>5</td></tr><tr><td>16</td><td>-0.120468</td><td>20.1141</td><td>0.1</td><td>0.9</td><td>5</td></tr><tr><td>18</td><td>-0.120572</td><td>21.4405</td><td>0.05</td><td>0.8</td><td>4</td></tr><tr><td>11</td><td>-0.120688</td><td>15.632</td><td>0.1</td><td>0.9</td><td>6</td></tr><tr><td>0</td><td>-0.121096</td><td>2.06977</td><td>0.2</td><td>0.8</td><td>6</td></tr><tr><td>10</td><td>-0.123255</td><td>14.271</td><td>0.2</td><td>1</td><td>4</td></tr><tr><td>22</td><td>-0.123696</td><td>23.6232</td><td>0.05</td><td>0.9</td><td>3</td></tr><tr><td>15</td><td>-0.12638</td><td>18.7406</td><td>0.05</td><td>0.8</td><td>3</td></tr><tr><td>30</td><td>-0.127418</td><td>28.5866</td><td>0.05</td><td>1</td><td>3</td></tr></table></div><div id=\"2cdc-59b2-064f-9c3c_body_training\" class=\"tab_content\"><p>The following evaluation is computed on the validation or out-of-bag dataset.</p><pre class=\"ydf_pre\">Number of predictions (with weights): 1\n",
              "Task: REGRESSION\n",
              "Loss (SQUARED_ERROR): 0.107811\n",
              "\n",
              "RMSE: 0.328346\n",
              "Default RMSE: : 0\n",
              "</pre><div style='display: grid; gap: 0px; grid-auto-columns: min-content;'><div style='grid-row:1 / span 1; grid-column:1 / span 1;'><script src='https://www.gstatic.com/external_hosted/plotly/plotly.min.js'></script>\n",
              "<div id=\"chart_2cdc_59b2_064f_9c3cself_eval_item0\" style=\"display: inline-block;\" ></div>\n",
              "<script>\n",
              "  Plotly.newPlot(\n",
              "    'chart_2cdc_59b2_064f_9c3cself_eval_item0',\n",
              "    [{\n",
              "x: [1,2,3,4,5,6,7,8,9,10,11,12,13,14,15,16,17,18,19,20,21,22,23,24,25,26,27,28,29,30,31,32,33,34,35,36,37,38,39,40,41,42,43,44,45,46,47,48,49,50,51,52,53,54,55,56,57,58,59,60,61,62,63,64,65,66,67,68,69,70,71,72,73,74,75,76,77,78,79,80,81,82,83,84,85,86,87,88,89,90,91,92,93,94,95,96,97,98,99,100],\n",
              "y: [0.331439,0.295691,0.266207,0.241471,0.221044,0.203983,0.191083,0.180185,0.169778,0.160858,0.153731,0.147881,0.142121,0.137515,0.133763,0.130253,0.127196,0.124486,0.122016,0.119516,0.11819,0.116295,0.114678,0.113232,0.111738,0.110432,0.109301,0.108016,0.106852,0.105579,0.104625,0.103654,0.10285,0.102039,0.101414,0.100627,0.0999134,0.098951,0.0980056,0.0970643,0.0964487,0.0958783,0.095589,0.0949053,0.0943039,0.0936429,0.0931657,0.0926367,0.0920641,0.0916397,0.0912369,0.0908803,0.0901775,0.0899077,0.0894282,0.0891202,0.0887276,0.0884318,0.0879545,0.0875522,0.0872105,0.0868401,0.0863991,0.0860048,0.0857207,0.0855161,0.0852426,0.084935,0.0847174,0.0842718,0.0838982,0.0836314,0.0832294,0.0829503,0.0826633,0.0824967,0.082195,0.0821085,0.081791,0.0816152,0.0813069,0.0810605,0.0806594,0.0803624,0.0802413,0.079965,0.079448,0.0792066,0.0791133,0.0789476,0.0788738,0.0785386,0.0782656,0.0778481,0.0775139,0.0773819,0.0770002,0.0766982,0.0764515,0.076308],\n",
              "type: 'scatter',\n",
              "mode: 'lines',\n",
              "line: {\n",
              "  dash: 'solid',\n",
              "  width: 1\n",
              "},\n",
              "name: 'training',\n",
              "},\n",
              "{\n",
              "x: [1,2,3,4,5,6,7,8,9,10,11,12,13,14,15,16,17,18,19,20,21,22,23,24,25,26,27,28,29,30,31,32,33,34,35,36,37,38,39,40,41,42,43,44,45,46,47,48,49,50,51,52,53,54,55,56,57,58,59,60,61,62,63,64,65,66,67,68,69,70,71,72,73,74,75,76,77,78,79,80,81,82,83,84,85,86,87,88,89,90,91,92,93,94,95,96,97,98,99,100],\n",
              "y: [0.355592,0.322405,0.28875,0.26146,0.237482,0.218584,0.205159,0.196162,0.187297,0.178631,0.170477,0.164429,0.157937,0.152283,0.149009,0.146733,0.143691,0.137984,0.137117,0.134805,0.134284,0.131256,0.129223,0.129025,0.127926,0.127419,0.126236,0.126068,0.125125,0.121667,0.121431,0.11974,0.121004,0.120311,0.119475,0.119115,0.118551,0.118417,0.116824,0.116523,0.116904,0.117053,0.117288,0.116699,0.116452,0.115142,0.115024,0.114444,0.114134,0.113917,0.113946,0.114062,0.113735,0.113057,0.112374,0.111898,0.112871,0.11251,0.111695,0.111743,0.11092,0.110777,0.110315,0.110185,0.110077,0.110347,0.109985,0.110468,0.110424,0.110379,0.110555,0.110634,0.110357,0.110892,0.111016,0.11142,0.111694,0.111389,0.11113,0.110455,0.110405,0.110475,0.110303,0.110243,0.110273,0.110689,0.109932,0.109844,0.109667,0.109675,0.109936,0.108388,0.108382,0.109104,0.109052,0.10879,0.108643,0.108719,0.108185,0.107811],\n",
              "type: 'scatter',\n",
              "mode: 'lines',\n",
              "line: {\n",
              "  dash: 'solid',\n",
              "  width: 1\n",
              "},\n",
              "name: 'validation',\n",
              "},\n",
              "],\n",
              "    {\n",
              "      width: 600,\n",
              "      height: 400,\n",
              "      title: '',\n",
              "      showlegend: true,\n",
              "      xaxis: {\n",
              "        ticks: 'outside',\n",
              "        showgrid: true,\n",
              "        zeroline: false,\n",
              "        showline: true,\n",
              "        title: 'iteration',\n",
              "        },\n",
              "      font: {\n",
              "        size: 10,\n",
              "        },\n",
              "      yaxis: {\n",
              "        ticks: 'outside',\n",
              "        showgrid: true,\n",
              "        zeroline: false,\n",
              "        showline: true,\n",
              "        title: 'loss',\n",
              "        },\n",
              "      margin: {\n",
              "        l: 50,\n",
              "        r: 50,\n",
              "        b: 50,\n",
              "        t: 50,\n",
              "      },\n",
              "    },\n",
              "    {\n",
              "      modeBarButtonsToRemove: ['sendDataToCloud'],\n",
              "      displaylogo: false,displayModeBar: false,\n",
              "    }\n",
              "  );\n",
              "</script>\n",
              "</div><div style='grid-row:2 / span 1; grid-column:1 / span 1;'>\n",
              "<div id=\"chart_2cdc_59b2_064f_9c3cself_eval_item1\" style=\"display: inline-block;\" ></div>\n",
              "<script>\n",
              "  Plotly.newPlot(\n",
              "    'chart_2cdc_59b2_064f_9c3cself_eval_item1',\n",
              "    [{\n",
              "x: [1,2,3,4,5,6,7,8,9,10,11,12,13,14,15,16,17,18,19,20,21,22,23,24,25,26,27,28,29,30,31,32,33,34,35,36,37,38,39,40,41,42,43,44,45,46,47,48,49,50,51,52,53,54,55,56,57,58,59,60,61,62,63,64,65,66,67,68,69,70,71,72,73,74,75,76,77,78,79,80,81,82,83,84,85,86,87,88,89,90,91,92,93,94,95,96,97,98,99,100],\n",
              "y: [0.331439,0.295691,0.266207,0.241471,0.221044,0.203983,0.191083,0.180185,0.169778,0.160858,0.153731,0.147881,0.142121,0.137515,0.133763,0.130253,0.127196,0.124486,0.122016,0.119516,0.11819,0.116295,0.114678,0.113232,0.111738,0.110432,0.109301,0.108016,0.106852,0.105579,0.104625,0.103654,0.10285,0.102039,0.101414,0.100627,0.0999134,0.098951,0.0980056,0.0970643,0.0964487,0.0958783,0.095589,0.0949053,0.0943039,0.0936429,0.0931657,0.0926367,0.0920641,0.0916397,0.0912369,0.0908803,0.0901775,0.0899077,0.0894282,0.0891202,0.0887276,0.0884318,0.0879545,0.0875522,0.0872105,0.0868401,0.0863991,0.0860048,0.0857207,0.0855161,0.0852426,0.084935,0.0847174,0.0842718,0.0838982,0.0836314,0.0832294,0.0829503,0.0826633,0.0824967,0.082195,0.0821085,0.081791,0.0816152,0.0813069,0.0810605,0.0806594,0.0803624,0.0802413,0.079965,0.079448,0.0792066,0.0791133,0.0789476,0.0788738,0.0785386,0.0782656,0.0778481,0.0775139,0.0773819,0.0770002,0.0766982,0.0764515,0.076308],\n",
              "type: 'scatter',\n",
              "mode: 'lines',\n",
              "line: {\n",
              "  dash: 'solid',\n",
              "  width: 1\n",
              "},\n",
              "name: 'training',\n",
              "},\n",
              "{\n",
              "x: [1,2,3,4,5,6,7,8,9,10,11,12,13,14,15,16,17,18,19,20,21,22,23,24,25,26,27,28,29,30,31,32,33,34,35,36,37,38,39,40,41,42,43,44,45,46,47,48,49,50,51,52,53,54,55,56,57,58,59,60,61,62,63,64,65,66,67,68,69,70,71,72,73,74,75,76,77,78,79,80,81,82,83,84,85,86,87,88,89,90,91,92,93,94,95,96,97,98,99,100],\n",
              "y: [0.355592,0.322405,0.28875,0.26146,0.237482,0.218584,0.205159,0.196162,0.187297,0.178631,0.170477,0.164429,0.157937,0.152283,0.149009,0.146733,0.143691,0.137984,0.137117,0.134805,0.134284,0.131256,0.129223,0.129025,0.127926,0.127419,0.126236,0.126068,0.125125,0.121667,0.121431,0.11974,0.121004,0.120311,0.119475,0.119115,0.118551,0.118417,0.116824,0.116523,0.116904,0.117053,0.117288,0.116699,0.116452,0.115142,0.115024,0.114444,0.114134,0.113917,0.113946,0.114062,0.113735,0.113057,0.112374,0.111898,0.112871,0.11251,0.111695,0.111743,0.11092,0.110777,0.110315,0.110185,0.110077,0.110347,0.109985,0.110468,0.110424,0.110379,0.110555,0.110634,0.110357,0.110892,0.111016,0.11142,0.111694,0.111389,0.11113,0.110455,0.110405,0.110475,0.110303,0.110243,0.110273,0.110689,0.109932,0.109844,0.109667,0.109675,0.109936,0.108388,0.108382,0.109104,0.109052,0.10879,0.108643,0.108719,0.108185,0.107811],\n",
              "type: 'scatter',\n",
              "mode: 'lines',\n",
              "line: {\n",
              "  dash: 'solid',\n",
              "  width: 1\n",
              "},\n",
              "name: 'validation',\n",
              "},\n",
              "],\n",
              "    {\n",
              "      width: 600,\n",
              "      height: 400,\n",
              "      title: '',\n",
              "      showlegend: true,\n",
              "      xaxis: {\n",
              "        ticks: 'outside',\n",
              "        showgrid: true,\n",
              "        zeroline: false,\n",
              "        showline: true,\n",
              "        title: 'iteration',\n",
              "        },\n",
              "      font: {\n",
              "        size: 10,\n",
              "        },\n",
              "      yaxis: {\n",
              "        ticks: 'outside',\n",
              "        showgrid: true,\n",
              "        zeroline: false,\n",
              "        showline: true,\n",
              "        title: 'rmse',\n",
              "        },\n",
              "      margin: {\n",
              "        l: 50,\n",
              "        r: 50,\n",
              "        b: 50,\n",
              "        t: 50,\n",
              "      },\n",
              "    },\n",
              "    {\n",
              "      modeBarButtonsToRemove: ['sendDataToCloud'],\n",
              "      displaylogo: false,displayModeBar: false,\n",
              "    }\n",
              "  );\n",
              "</script>\n",
              "</div></div></div><div id=\"2cdc-59b2-064f-9c3c_body_variable_importance\" class=\"tab_content\"><p><a target=\"_blank\" href=\"https://ydf.readthedocs.io/en/latest/cli_user_manual#variable-importances\">Variable importances</a> measure the importance of an input feature for a model.</p><div id=\"2cdc-59b2-064f-9c3c_vi\" class=\"variable_importance\"><select onchange=\"ydfShowVariableImportance('2cdc-59b2-064f-9c3c_vi')\"><option value=\"INV_MEAN_MIN_DEPTH\">INV_MEAN_MIN_DEPTH</option><option value=\"NUM_AS_ROOT\">NUM_AS_ROOT</option><option value=\"NUM_NODES\">NUM_NODES</option><option value=\"SUM_SCORE\">SUM_SCORE</option></select><div id=\"2cdc-59b2-064f-9c3c_vi_body_INV_MEAN_MIN_DEPTH\" class=\"content selected\"><pre class=\"ydf_pre\">    1.  &quot;Neighborhood&quot;  0.384862 ################\n",
              "    2.     &quot;GrLivArea&quot;  0.364742 #########\n",
              "    3.   &quot;TotalBsmtSF&quot;  0.352941 #####\n",
              "    4.   &quot;OverallQual&quot;  0.351083 ####\n",
              "    5.     &quot;BsmtUnfSF&quot;  0.350263 ####\n",
              "    6.   &quot;OverallCond&quot;  0.349243 ####\n",
              "    7.       &quot;LotArea&quot;  0.348837 ####\n",
              "    8.    &quot;WoodDeckSF&quot;  0.347625 ###\n",
              "    9. &quot;SaleCondition&quot;  0.346821 ###\n",
              "   10.    &quot;BsmtFinSF1&quot;  0.346220 ###\n",
              "   11.   &quot;Exterior1st&quot;  0.345026 ###\n",
              "   12. &quot;EnclosedPorch&quot;  0.345026 ###\n",
              "   13.   &quot;KitchenQual&quot;  0.344037 ##\n",
              "   14.  &quot;BsmtFinType1&quot;  0.343840 ##\n",
              "   15.   &quot;Exterior2nd&quot;  0.343249 ##\n",
              "   16.    &quot;GarageType&quot;  0.343249 ##\n",
              "   17.     &quot;YearBuilt&quot;  0.340909 #\n",
              "   18.  &quot;YearRemodAdd&quot;  0.340909 #\n",
              "   19.        &quot;YrSold&quot;  0.340909 #\n",
              "   20.     &quot;LotConfig&quot;  0.340329 #\n",
              "   21.   &quot;OpenPorchSF&quot;  0.340329 #\n",
              "   22.        &quot;MoSold&quot;  0.340329 #\n",
              "   23.    &quot;Functional&quot;  0.339943 #\n",
              "   24.    &quot;HouseStyle&quot;  0.339751 #\n",
              "   25.    &quot;Condition1&quot;  0.339175 #\n",
              "   26.  &quot;BsmtExposure&quot;  0.339175 #\n",
              "   27.   &quot;FireplaceQu&quot;  0.339175 #\n",
              "   28.   &quot;GarageYrBlt&quot;  0.338600 \n",
              "   29.    &quot;GarageArea&quot;  0.338600 \n",
              "   30.   &quot;ScreenPorch&quot;  0.338600 \n",
              "   31.    &quot;GarageCond&quot;  0.338219 \n",
              "   32.     &quot;HeatingQC&quot;  0.338028 \n",
              "   33.      &quot;2ndFlrSF&quot;  0.338028 \n",
              "   34.  &quot;GarageFinish&quot;  0.338028 \n",
              "   35.    &quot;GarageCars&quot;  0.338028 \n",
              "   36.     &quot;RoofStyle&quot;  0.338028 \n",
              "   37.      &quot;BsmtCond&quot;  0.338028 \n",
              "   38.      &quot;SaleType&quot;  0.338028 \n",
              "   39.      &quot;MSZoning&quot;  0.337458 \n",
              "   40.  &quot;BsmtFullBath&quot;  0.337458 \n",
              "   41.      &quot;1stFlrSF&quot;  0.337079 \n",
              "   42.     &quot;ExterQual&quot;  0.336889 \n",
              "   43.     &quot;ExterCond&quot;  0.336323 \n",
              "   44.    &quot;CentralAir&quot;  0.336323 \n",
              "   45.  &quot;BedroomAbvGr&quot;  0.336323 \n",
              "   46.   &quot;LotFrontage&quot;  0.335758 \n",
              "   47.      &quot;LotShape&quot;  0.335758 \n",
              "   48.    &quot;MasVnrArea&quot;  0.335758 \n",
              "   49.      &quot;BsmtQual&quot;  0.335758 \n",
              "   50.  &quot;BsmtFinType2&quot;  0.335758 \n",
              "   51.       &quot;Heating&quot;  0.335758 \n",
              "   52.         &quot;Fence&quot;  0.335758 \n",
              "   53.       &quot;MiscVal&quot;  0.335758 \n",
              "</pre></div><div id=\"2cdc-59b2-064f-9c3c_vi_body_NUM_AS_ROOT\" class=\"content\"><pre class=\"ydf_pre\">    1.  &quot;Neighborhood&quot; 10.000000 ################\n",
              "    2.     &quot;GrLivArea&quot;  8.000000 ############\n",
              "    3.     &quot;BsmtUnfSF&quot;  6.000000 ########\n",
              "    4.   &quot;OverallQual&quot;  5.000000 #######\n",
              "    5.   &quot;OverallCond&quot;  5.000000 #######\n",
              "    6.   &quot;TotalBsmtSF&quot;  5.000000 #######\n",
              "    7.       &quot;LotArea&quot;  4.000000 #####\n",
              "    8.    &quot;BsmtFinSF1&quot;  4.000000 #####\n",
              "    9.    &quot;WoodDeckSF&quot;  4.000000 #####\n",
              "   10. &quot;EnclosedPorch&quot;  4.000000 #####\n",
              "   11. &quot;SaleCondition&quot;  4.000000 #####\n",
              "   12.  &quot;BsmtFinType1&quot;  3.000000 ###\n",
              "   13.   &quot;KitchenQual&quot;  3.000000 ###\n",
              "   14.    &quot;GarageType&quot;  3.000000 ###\n",
              "   15.     &quot;LotConfig&quot;  2.000000 #\n",
              "   16.    &quot;HouseStyle&quot;  2.000000 #\n",
              "   17.     &quot;YearBuilt&quot;  2.000000 #\n",
              "   18.  &quot;YearRemodAdd&quot;  2.000000 #\n",
              "   19.   &quot;Exterior1st&quot;  2.000000 #\n",
              "   20.   &quot;Exterior2nd&quot;  2.000000 #\n",
              "   21.        &quot;MoSold&quot;  2.000000 #\n",
              "   22.        &quot;YrSold&quot;  2.000000 #\n",
              "   23.      &quot;MSZoning&quot;  1.000000 \n",
              "   24.    &quot;Condition1&quot;  1.000000 \n",
              "   25.     &quot;RoofStyle&quot;  1.000000 \n",
              "   26.      &quot;BsmtCond&quot;  1.000000 \n",
              "   27.  &quot;BsmtExposure&quot;  1.000000 \n",
              "   28.  &quot;BsmtFullBath&quot;  1.000000 \n",
              "   29.    &quot;Functional&quot;  1.000000 \n",
              "   30.   &quot;FireplaceQu&quot;  1.000000 \n",
              "   31.   &quot;GarageYrBlt&quot;  1.000000 \n",
              "   32.  &quot;GarageFinish&quot;  1.000000 \n",
              "   33.    &quot;GarageCars&quot;  1.000000 \n",
              "   34.    &quot;GarageArea&quot;  1.000000 \n",
              "   35.    &quot;GarageCond&quot;  1.000000 \n",
              "   36.   &quot;OpenPorchSF&quot;  1.000000 \n",
              "   37.   &quot;ScreenPorch&quot;  1.000000 \n",
              "   38.      &quot;SaleType&quot;  1.000000 \n",
              "</pre></div><div id=\"2cdc-59b2-064f-9c3c_vi_body_NUM_NODES\" class=\"content\"><pre class=\"ydf_pre\">    1.  &quot;Neighborhood&quot; 47.000000 ################\n",
              "    2.     &quot;GrLivArea&quot; 24.000000 ########\n",
              "    3.   &quot;TotalBsmtSF&quot; 15.000000 ####\n",
              "    4.       &quot;LotArea&quot; 13.000000 ####\n",
              "    5.   &quot;OverallQual&quot; 13.000000 ####\n",
              "    6.   &quot;Exterior1st&quot; 11.000000 ###\n",
              "    7.   &quot;OverallCond&quot;  9.000000 ##\n",
              "    8.     &quot;BsmtUnfSF&quot;  9.000000 ##\n",
              "    9.    &quot;WoodDeckSF&quot;  9.000000 ##\n",
              "   10.   &quot;Exterior2nd&quot;  8.000000 ##\n",
              "   11.    &quot;BsmtFinSF1&quot;  8.000000 ##\n",
              "   12. &quot;SaleCondition&quot;  8.000000 ##\n",
              "   13.  &quot;BsmtFinType1&quot;  6.000000 #\n",
              "   14.   &quot;KitchenQual&quot;  6.000000 #\n",
              "   15.    &quot;Functional&quot;  6.000000 #\n",
              "   16.   &quot;OpenPorchSF&quot;  6.000000 #\n",
              "   17. &quot;EnclosedPorch&quot;  6.000000 #\n",
              "   18.     &quot;HeatingQC&quot;  5.000000 #\n",
              "   19.      &quot;2ndFlrSF&quot;  5.000000 #\n",
              "   20.    &quot;GarageType&quot;  5.000000 #\n",
              "   21.    &quot;Condition1&quot;  4.000000 #\n",
              "   22.     &quot;YearBuilt&quot;  4.000000 #\n",
              "   23.  &quot;YearRemodAdd&quot;  4.000000 #\n",
              "   24.  &quot;BsmtExposure&quot;  4.000000 #\n",
              "   25.   &quot;FireplaceQu&quot;  4.000000 #\n",
              "   26.        &quot;YrSold&quot;  4.000000 #\n",
              "   27.     &quot;LotConfig&quot;  3.000000 \n",
              "   28.     &quot;ExterQual&quot;  3.000000 \n",
              "   29.      &quot;1stFlrSF&quot;  3.000000 \n",
              "   30.   &quot;GarageYrBlt&quot;  3.000000 \n",
              "   31.    &quot;GarageArea&quot;  3.000000 \n",
              "   32.    &quot;GarageCond&quot;  3.000000 \n",
              "   33.   &quot;ScreenPorch&quot;  3.000000 \n",
              "   34.        &quot;MoSold&quot;  3.000000 \n",
              "   35.    &quot;HouseStyle&quot;  2.000000 \n",
              "   36.     &quot;RoofStyle&quot;  2.000000 \n",
              "   37.     &quot;ExterCond&quot;  2.000000 \n",
              "   38.      &quot;BsmtCond&quot;  2.000000 \n",
              "   39.    &quot;CentralAir&quot;  2.000000 \n",
              "   40.  &quot;BedroomAbvGr&quot;  2.000000 \n",
              "   41.  &quot;GarageFinish&quot;  2.000000 \n",
              "   42.    &quot;GarageCars&quot;  2.000000 \n",
              "   43.      &quot;SaleType&quot;  2.000000 \n",
              "   44.      &quot;MSZoning&quot;  1.000000 \n",
              "   45.   &quot;LotFrontage&quot;  1.000000 \n",
              "   46.      &quot;LotShape&quot;  1.000000 \n",
              "   47.    &quot;MasVnrArea&quot;  1.000000 \n",
              "   48.      &quot;BsmtQual&quot;  1.000000 \n",
              "   49.  &quot;BsmtFinType2&quot;  1.000000 \n",
              "   50.       &quot;Heating&quot;  1.000000 \n",
              "   51.  &quot;BsmtFullBath&quot;  1.000000 \n",
              "   52.         &quot;Fence&quot;  1.000000 \n",
              "   53.       &quot;MiscVal&quot;  1.000000 \n",
              "</pre></div><div id=\"2cdc-59b2-064f-9c3c_vi_body_SUM_SCORE\" class=\"content\"><pre class=\"ydf_pre\">    1.   &quot;OverallQual&quot; 78.811203 ################\n",
              "    2.  &quot;Neighborhood&quot; 44.887615 #########\n",
              "    3.     &quot;GrLivArea&quot; 41.604077 ########\n",
              "    4.   &quot;KitchenQual&quot; 31.339342 ######\n",
              "    5.   &quot;TotalBsmtSF&quot; 28.253663 #####\n",
              "    6.    &quot;GarageCars&quot;  6.623764 #\n",
              "    7.    &quot;GarageArea&quot;  6.324869 #\n",
              "    8.      &quot;2ndFlrSF&quot;  5.994429 #\n",
              "    9.    &quot;BsmtFinSF1&quot;  4.685335 \n",
              "   10.      &quot;BsmtQual&quot;  4.493737 \n",
              "   11.   &quot;FireplaceQu&quot;  3.805190 \n",
              "   12.    &quot;GarageCond&quot;  3.484368 \n",
              "   13.   &quot;OverallCond&quot;  2.998953 \n",
              "   14.  &quot;GarageFinish&quot;  2.766759 \n",
              "   15.    &quot;CentralAir&quot;  2.765526 \n",
              "   16.       &quot;LotArea&quot;  2.691883 \n",
              "   17.  &quot;YearRemodAdd&quot;  2.586554 \n",
              "   18.    &quot;GarageType&quot;  2.035781 \n",
              "   19.  &quot;BsmtFinType1&quot;  1.870324 \n",
              "   20.     &quot;ExterQual&quot;  1.627884 \n",
              "   21. &quot;SaleCondition&quot;  1.620137 \n",
              "   22.    &quot;Functional&quot;  1.262038 \n",
              "   23.  &quot;BsmtExposure&quot;  1.018765 \n",
              "   24.    &quot;WoodDeckSF&quot;  0.977741 \n",
              "   25.     &quot;HeatingQC&quot;  0.961222 \n",
              "   26.   &quot;Exterior1st&quot;  0.662514 \n",
              "   27.   &quot;OpenPorchSF&quot;  0.636452 \n",
              "   28.     &quot;BsmtUnfSF&quot;  0.629912 \n",
              "   29.   &quot;Exterior2nd&quot;  0.573236 \n",
              "   30.   &quot;ScreenPorch&quot;  0.557149 \n",
              "   31.   &quot;GarageYrBlt&quot;  0.505984 \n",
              "   32.      &quot;SaleType&quot;  0.463138 \n",
              "   33.        &quot;YrSold&quot;  0.449399 \n",
              "   34.       &quot;Heating&quot;  0.448745 \n",
              "   35.    &quot;Condition1&quot;  0.402876 \n",
              "   36.     &quot;YearBuilt&quot;  0.373120 \n",
              "   37.  &quot;BsmtFullBath&quot;  0.361972 \n",
              "   38.      &quot;BsmtCond&quot;  0.361255 \n",
              "   39. &quot;EnclosedPorch&quot;  0.344630 \n",
              "   40.     &quot;ExterCond&quot;  0.291140 \n",
              "   41.     &quot;LotConfig&quot;  0.240307 \n",
              "   42.      &quot;1stFlrSF&quot;  0.233749 \n",
              "   43.         &quot;Fence&quot;  0.175390 \n",
              "   44.   &quot;LotFrontage&quot;  0.143148 \n",
              "   45.     &quot;RoofStyle&quot;  0.125352 \n",
              "   46.        &quot;MoSold&quot;  0.122246 \n",
              "   47.  &quot;BedroomAbvGr&quot;  0.088510 \n",
              "   48.    &quot;HouseStyle&quot;  0.087457 \n",
              "   49.    &quot;MasVnrArea&quot;  0.083830 \n",
              "   50.  &quot;BsmtFinType2&quot;  0.077901 \n",
              "   51.       &quot;MiscVal&quot;  0.063889 \n",
              "   52.      &quot;MSZoning&quot;  0.048208 \n",
              "   53.      &quot;LotShape&quot;  0.047596 \n",
              "</pre></div></div><p>Those variable importances are computed during training. More, and possibly more informative, variable importances are available when analyzing a model on a test dataset.</p></div><div id=\"2cdc-59b2-064f-9c3c_body_structure\" class=\"tab_content\"><b>Num trees</b> : 100<br><p>Only printing the first tree.</p><pre class=\"ydf_pre\">Tree #0:\n",
              "    &quot;OverallQual&quot;&gt;=6.5 [s:0.069725 n:726 np:270 miss:0] ; pred:-0.00226437\n",
              "        ├─(pos)─ &quot;OverallQual&quot;&gt;=7.5 [s:0.0264132 n:270 np:112 miss:0] ; pred:0.0663673\n",
              "        |        ├─(pos)─ pred:0.104974\n",
              "        |        └─(neg)─ pred:0.0390007\n",
              "        └─(neg)─ &quot;Neighborhood&quot; is in [BITMAP] {NAmes, CollgCr, Gilbert, Somerst, NridgHt, NWAmes, Sawyer, SawyerW, Crawfor, Mitchel, ...[8 left]} [s:0.0224963 n:456 np:304 miss:0] ; pred:-0.0429016\n",
              "                 ├─(pos)─ pred:-0.0216901\n",
              "                 └─(neg)─ pred:-0.0853245\n",
              "</pre></div></div></div>"
            ]
          },
          "metadata": {},
          "execution_count": 41
        }
      ],
      "source": [
        "model.describe()"
      ]
    },
    {
      "cell_type": "code",
      "execution_count": 42,
      "metadata": {
        "collapsed": true,
        "id": "s4axfxvp8LkJ",
        "colab": {
          "base_uri": "https://localhost:8080/",
          "height": 1000
        },
        "outputId": "e6b2462e-57cb-47d4-e5fe-7e178fcf5422"
      },
      "outputs": [
        {
          "output_type": "execute_result",
          "data": {
            "text/plain": [
              "Evaluation()"
            ],
            "text/html": [
              "<div>\n",
              "  <style>.metric_box {\n",
              "}\n",
              "\n",
              ".metric_box a {\n",
              "  text-decoration:none;\n",
              "  color: darkblue;\n",
              "}\n",
              "\n",
              ".metric_box .title {\n",
              "  font-weight: bold;\n",
              "}\n",
              "\n",
              ".metric_box .section {\n",
              "  margin: 5px 5px 5px 5px;\n",
              "}\n",
              "\n",
              ".metric_box .grid {\n",
              "  display: grid;\n",
              "  grid-template-columns: max-content max-content max-content max-content;\n",
              "  grid-template-rows: auto;\n",
              "  border-bottom: 1px solid lightgray;\n",
              "  padding: 10px;\n",
              "}\n",
              "\n",
              ".metric_box .grid > div {\n",
              "}\n",
              "\n",
              ".metric_box .grid > div:nth-child(odd) {\n",
              "  font-weight: bold;\n",
              "  padding-right: 5px;\n",
              "  text-align: right;\n",
              "}\n",
              "\n",
              ".metric_box .grid > div:nth-child(even) {\n",
              "  padding-right: 20px;\n",
              "}\n",
              "\n",
              ".metric_box .complex {\n",
              "  display: inline-block;\n",
              "  margin: 15px 20px 0px 0px;\n",
              "  vertical-align: top;\n",
              "}\n",
              "\n",
              ".metric_box .complex .key {\n",
              "  font-weight: bold;\n",
              "}\n",
              "\n",
              ".metric_box .complex .value {\n",
              "}\n",
              "\n",
              ".metric_box .confusion_matrix {\n",
              "  border-collapse: collapse;\n",
              "  margin: 15px 15px;\n",
              "  border: 1px solid lightgray;\n",
              "}\n",
              "\n",
              ".metric_box .confusion_matrix th {\n",
              "  background-color: #ededed;\n",
              "  font-weight: bold;\n",
              "  text-align: left;\n",
              "  padding: 5px;\n",
              "  border: 1px solid lightgray;\n",
              "}\n",
              "\n",
              ".metric_box .confusion_matrix td {\n",
              "  text-align: right;\n",
              "  padding: 3px;\n",
              "  border: 1px solid lightgray;\n",
              "}\n",
              "</style>\n",
              "  <div class=\"metric_box\">\n",
              "    <div class=\"grid section\">\n",
              "      <div class=\"key\">RMSE:</div>\n",
              "      <div class=\"value\">0.131265</div>\n",
              "      <div class=\"key\">\n",
              "        <a href=\"https://ydf.readthedocs.io/en/latest//glossary#number-of-examples\" target=\"_blank\">num examples:</a>\n",
              "      </div>\n",
              "      <div class=\"value\">429</div>\n",
              "      <div class=\"key\">\n",
              "        <a href=\"https://ydf.readthedocs.io/en/latest//glossary#weighted-number-of-examples\" target=\"_blank\">num examples (weighted):</a>\n",
              "      </div>\n",
              "      <div class=\"value\">429</div>\n",
              "    </div>\n",
              "    <div class=\"complex\">\n",
              "      <div class=\"key\"/>\n",
              "      <div class=\"value\">\n",
              "<div style='display: grid; gap: 0px; grid-auto-columns: min-content;'><div style='grid-row:1 / span 1; grid-column:1 / span 1;'><script src='https://www.gstatic.com/external_hosted/plotly/plotly.min.js'></script>\n",
              "<div id=\"chart_a66e_5b67_336c_8398\" style=\"display: inline-block;\" ></div>\n",
              "<script>\n",
              "  Plotly.newPlot(\n",
              "    'chart_a66e_5b67_336c_8398',\n",
              "    [{\n",
              "x: [-0.812463,-0.751198,-0.689933,-0.628668,-0.567403,-0.506138,-0.444873,-0.383608,-0.322343,-0.261078,-0.199813,-0.138548,-0.0772825,-0.0160174,0.0452476,0.106513,0.167778,0.229043,0.290308,0.351573,0.412838,0.474103,0.535368,0.596633,0.657898,0.719163,0.780428,0.841693,0.902959,0.964224,1.02549,1.08675,1.14802,1.20928,1.27055,1.33181,1.39308,1.45434,1.51561,1.07687],\n",
              "y: [1,1,0,0,0,1,0,2,4,5,19,24,67,108,96,61,24,5,5,3,2,0,0,1,0,0,0,0,0,0,0,0,0,0,0,0,0,0,0,0],\n",
              "type: 'bar',\n",
              "},\n",
              "],\n",
              "    {\n",
              "      width: 500,\n",
              "      height: 400,\n",
              "      title: 'Residual Histogram',\n",
              "      showlegend: false,\n",
              "      xaxis: {\n",
              "        ticks: 'outside',\n",
              "        showgrid: true,\n",
              "        zeroline: false,\n",
              "        showline: true,\n",
              "        title: 'Residual',\n",
              "        },\n",
              "      font: {\n",
              "        size: 10,\n",
              "        },\n",
              "      yaxis: {\n",
              "        ticks: 'outside',\n",
              "        showgrid: true,\n",
              "        zeroline: false,\n",
              "        showline: true,\n",
              "        title: 'Density',\n",
              "        },\n",
              "      margin: {\n",
              "        l: 50,\n",
              "        r: 50,\n",
              "        b: 50,\n",
              "        t: 50,\n",
              "      },\n",
              "    },\n",
              "    {\n",
              "      modeBarButtonsToRemove: ['sendDataToCloud'],\n",
              "      displaylogo: false,displayModeBar: false,\n",
              "    }\n",
              "  );\n",
              "</script>\n",
              "</div><div style='grid-row:1 / span 1; grid-column:2 / span 1;'>\n",
              "<div id=\"chart_bd3c_4134_cefe_788c\" style=\"display: inline-block;\" ></div>\n",
              "<script>\n",
              "  Plotly.newPlot(\n",
              "    'chart_bd3c_4134_cefe_788c',\n",
              "    [{\n",
              "x: [10.5074,10.6016,10.6958,10.7901,10.8843,10.9785,11.0728,11.167,11.2612,11.3555,11.4497,11.5439,11.6382,11.7324,11.8266,11.9209,12.0151,12.1093,12.2036,12.2978,12.392,12.4863,12.5805,12.6747,12.769,12.8632,12.9574,13.0517,13.1459,13.2401,13.3344,13.4286,13.5228,13.6171,13.7113,13.8055,13.8998,13.994,14.0882,13.6825],\n",
              "y: [1,1,0,0,1,2,0,0,8,7,10,15,26,45,44,54,38,49,23,27,23,18,7,11,5,10,1,2,0,1,0,0,0,0,0,0,0,0,0,0],\n",
              "type: 'bar',\n",
              "},\n",
              "],\n",
              "    {\n",
              "      width: 500,\n",
              "      height: 400,\n",
              "      title: 'Ground Truth Histogram',\n",
              "      showlegend: false,\n",
              "      xaxis: {\n",
              "        ticks: 'outside',\n",
              "        showgrid: true,\n",
              "        zeroline: false,\n",
              "        showline: true,\n",
              "        title: 'Ground truth',\n",
              "        },\n",
              "      font: {\n",
              "        size: 10,\n",
              "        },\n",
              "      yaxis: {\n",
              "        ticks: 'outside',\n",
              "        showgrid: true,\n",
              "        zeroline: false,\n",
              "        showline: true,\n",
              "        title: 'Density',\n",
              "        },\n",
              "      margin: {\n",
              "        l: 50,\n",
              "        r: 50,\n",
              "        b: 50,\n",
              "        t: 50,\n",
              "      },\n",
              "    },\n",
              "    {\n",
              "      modeBarButtonsToRemove: ['sendDataToCloud'],\n",
              "      displaylogo: false,displayModeBar: false,\n",
              "    }\n",
              "  );\n",
              "</script>\n",
              "</div><div style='grid-row:2 / span 1; grid-column:1 / span 1;'>\n",
              "<div id=\"chart_a04d_9664_8b85_5a72\" style=\"display: inline-block;\" ></div>\n",
              "<script>\n",
              "  Plotly.newPlot(\n",
              "    'chart_a04d_9664_8b85_5a72',\n",
              "    [{\n",
              "x: [10.8516,10.9322,11.0128,11.0934,11.174,11.2546,11.3352,11.4158,11.4963,11.5769,11.6575,11.7381,11.8187,11.8993,11.9799,12.0605,12.1411,12.2217,12.3023,12.3829,12.4635,12.5441,12.6247,12.7053,12.7859,12.8665,12.9471,13.0277,13.1082,13.1888,13.2694,13.35,13.4306,13.5112,13.5918,13.6724,13.753,13.8336,13.9142,13.4948],\n",
              "y: [1,0,0,1,1,4,5,9,12,19,17,41,49,39,43,36,36,25,18,17,14,12,6,10,5,5,3,1,0,0,0,0,0,0,0,0,0,0,0,0],\n",
              "type: 'bar',\n",
              "},\n",
              "],\n",
              "    {\n",
              "      width: 500,\n",
              "      height: 400,\n",
              "      title: 'Prediction Histogram',\n",
              "      showlegend: false,\n",
              "      xaxis: {\n",
              "        ticks: 'outside',\n",
              "        showgrid: true,\n",
              "        zeroline: false,\n",
              "        showline: true,\n",
              "        title: 'Prediction',\n",
              "        },\n",
              "      font: {\n",
              "        size: 10,\n",
              "        },\n",
              "      yaxis: {\n",
              "        ticks: 'outside',\n",
              "        showgrid: true,\n",
              "        zeroline: false,\n",
              "        showline: true,\n",
              "        title: 'Density',\n",
              "        },\n",
              "      margin: {\n",
              "        l: 50,\n",
              "        r: 50,\n",
              "        b: 50,\n",
              "        t: 50,\n",
              "      },\n",
              "    },\n",
              "    {\n",
              "      modeBarButtonsToRemove: ['sendDataToCloud'],\n",
              "      displaylogo: false,displayModeBar: false,\n",
              "    }\n",
              "  );\n",
              "</script>\n",
              "</div><div style='grid-row:2 / span 1; grid-column:2 / span 1;'>\n",
              "<div id=\"chart_5380_9cc7_28af_f1d3\" style=\"display: inline-block;\" ></div>\n",
              "<script>\n",
              "  Plotly.newPlot(\n",
              "    'chart_5380_9cc7_28af_f1d3',\n",
              "    [{\n",
              "x: [10.4602,13.2296],\n",
              "y: [10.4602,13.2296],\n",
              "type: 'scatter',\n",
              "mode: 'lines',\n",
              "line: {\n",
              "  dash: 'dot',\n",
              "  width: 1\n",
              "},\n",
              "},\n",
              "{\n",
              "x: [10.4602,10.5295,10.8756,10.9449,11.2218,11.291,11.3603,11.4295,11.4987,11.568,11.6372,11.7064,11.7757,11.8449,11.9141,11.9834,12.0526,12.1218,12.1911,12.2603,12.3295,12.3988,12.468,12.5372,12.6065,12.6757,12.7449,12.8142,12.8834,12.9526,13.0219,13.1603],\n",
              "y: [11.1963,11.4397,11.2849,10.8113,11.3786,11.3694,11.5729,11.4621,11.6442,11.6402,11.6962,11.7716,11.8118,11.8678,11.9323,12.0011,12.0844,12.1383,12.1891,12.2768,12.3048,12.4358,12.4763,12.5439,12.6426,12.7149,12.7414,12.6723,12.8056,12.9284,12.9834,12.8741],\n",
              "type: 'scatter',\n",
              "mode: 'lines',\n",
              "line: {\n",
              "  dash: 'solid',\n",
              "  width: 1\n",
              "},\n",
              "},\n",
              "],\n",
              "    {\n",
              "      width: 500,\n",
              "      height: 400,\n",
              "      title: 'Ground Truth vs Predictions',\n",
              "      showlegend: false,\n",
              "      xaxis: {\n",
              "        ticks: 'outside',\n",
              "        showgrid: true,\n",
              "        zeroline: false,\n",
              "        showline: true,\n",
              "        title: 'Ground truth',\n",
              "        },\n",
              "      font: {\n",
              "        size: 10,\n",
              "        },\n",
              "      yaxis: {\n",
              "        ticks: 'outside',\n",
              "        showgrid: true,\n",
              "        zeroline: false,\n",
              "        showline: true,\n",
              "        title: 'Prediction',\n",
              "        },\n",
              "      margin: {\n",
              "        l: 50,\n",
              "        r: 50,\n",
              "        b: 50,\n",
              "        t: 50,\n",
              "      },\n",
              "    },\n",
              "    {\n",
              "      modeBarButtonsToRemove: ['sendDataToCloud'],\n",
              "      displaylogo: false,displayModeBar: false,\n",
              "    }\n",
              "  );\n",
              "</script>\n",
              "</div><div style='grid-row:3 / span 1; grid-column:1 / span 1;'>\n",
              "<div id=\"chart_6f7b_91d6_ff31_db42\" style=\"display: inline-block;\" ></div>\n",
              "<script>\n",
              "  Plotly.newPlot(\n",
              "    'chart_6f7b_91d6_ff31_db42',\n",
              "    [{\n",
              "x: [10.4602,10.5295,10.8756,10.9449,11.2218,11.291,11.3603,11.4295,11.4987,11.568,11.6372,11.7064,11.7757,11.8449,11.9141,11.9834,12.0526,12.1218,12.1911,12.2603,12.3295,12.3988,12.468,12.5372,12.6065,12.6757,12.7449,12.8142,12.8834,12.9526,13.0219,13.1603],\n",
              "y: [-0.736068,-0.843096,-0.360855,0.190812,-0.103791,-0.0381878,-0.170382,0.00548077,-0.103053,-0.0356634,-0.0149232,-0.0191278,0.00495832,0.0122917,0.0148376,0.018738,0.00270287,0.0125761,0.0402646,0.0234357,0.0578922,-0.0019408,0.032358,0.0140424,0.0077141,-0.000240962,0.0356579,0.180983,0.0808837,0.0633526,0.0679946,0.355498],\n",
              "type: 'scatter',\n",
              "mode: 'lines',\n",
              "line: {\n",
              "  dash: 'solid',\n",
              "  width: 1\n",
              "},\n",
              "},\n",
              "],\n",
              "    {\n",
              "      width: 500,\n",
              "      height: 400,\n",
              "      title: 'Predictions vs Residual',\n",
              "      showlegend: false,\n",
              "      xaxis: {\n",
              "        ticks: 'outside',\n",
              "        showgrid: true,\n",
              "        zeroline: false,\n",
              "        showline: true,\n",
              "        title: 'Prediction',\n",
              "        },\n",
              "      font: {\n",
              "        size: 10,\n",
              "        },\n",
              "      yaxis: {\n",
              "        ticks: 'outside',\n",
              "        showgrid: true,\n",
              "        zeroline: false,\n",
              "        showline: true,\n",
              "        title: 'Residual',\n",
              "        },\n",
              "      margin: {\n",
              "        l: 50,\n",
              "        r: 50,\n",
              "        b: 50,\n",
              "        t: 50,\n",
              "      },\n",
              "    },\n",
              "    {\n",
              "      modeBarButtonsToRemove: ['sendDataToCloud'],\n",
              "      displaylogo: false,displayModeBar: false,\n",
              "    }\n",
              "  );\n",
              "</script>\n",
              "</div><div style='grid-row:3 / span 1; grid-column:2 / span 1;'>\n",
              "<div id=\"chart_c380_4360_e549_9c19\" style=\"display: inline-block;\" ></div>\n",
              "<script>\n",
              "  Plotly.newPlot(\n",
              "    'chart_c380_4360_e549_9c19',\n",
              "    [{\n",
              "x: [10.8113,11.0893,11.1449,11.2005,11.256,11.3116,11.3672,11.4228,11.4784,11.534,11.5896,11.6452,11.7008,11.7564,11.812,11.8676,11.9232,11.9788,12.0344,12.09,12.1456,12.2012,12.2568,12.3124,12.3679,12.4235,12.4791,12.5347,12.5903,12.6459,12.7015,12.7571,12.8127,12.8683,12.9239,12.9795],\n",
              "y: [0.190812,-0.216957,-0.736068,0.0667493,0.0796976,0.0120731,0.0912336,-0.274948,0.0143509,0.028272,-0.0320163,-0.0201607,-0.0101042,0.0207613,0.00790962,-0.0212868,0.0264831,-0.0274,0.0163101,0.0486296,-0.0141527,-0.00398724,0.0457018,0.0491887,-0.0554628,-0.00520267,-0.00940609,0.117129,-0.0802652,0.00124474,-0.0363358,-0.0133394,-0.397542,0.0773931,0.0422049,0.0147038],\n",
              "type: 'scatter',\n",
              "mode: 'lines',\n",
              "line: {\n",
              "  dash: 'solid',\n",
              "  width: 1\n",
              "},\n",
              "},\n",
              "],\n",
              "    {\n",
              "      width: 500,\n",
              "      height: 400,\n",
              "      title: 'Ground Truth vs Residual',\n",
              "      showlegend: false,\n",
              "      xaxis: {\n",
              "        ticks: 'outside',\n",
              "        showgrid: true,\n",
              "        zeroline: false,\n",
              "        showline: true,\n",
              "        title: 'Ground truth',\n",
              "        },\n",
              "      font: {\n",
              "        size: 10,\n",
              "        },\n",
              "      yaxis: {\n",
              "        ticks: 'outside',\n",
              "        showgrid: true,\n",
              "        zeroline: false,\n",
              "        showline: true,\n",
              "        title: 'Residual',\n",
              "        },\n",
              "      margin: {\n",
              "        l: 50,\n",
              "        r: 50,\n",
              "        b: 50,\n",
              "        t: 50,\n",
              "      },\n",
              "    },\n",
              "    {\n",
              "      modeBarButtonsToRemove: ['sendDataToCloud'],\n",
              "      displaylogo: false,displayModeBar: false,\n",
              "    }\n",
              "  );\n",
              "</script>\n",
              "</div></div>      </div>\n",
              "    </div>\n",
              "  </div>\n",
              "</div>\n"
            ]
          },
          "metadata": {},
          "execution_count": 42
        }
      ],
      "source": [
        "model.evaluate(X_test)"
      ]
    },
    {
      "cell_type": "code",
      "source": [
        "# correlation between predicted target values and the real values (X_test)\n",
        "sns.scatterplot(x=X_test['SalePrice_log'], y=model.predict(X_test).flatten())"
      ],
      "metadata": {
        "colab": {
          "base_uri": "https://localhost:8080/",
          "height": 468
        },
        "id": "v74vrW310h8b",
        "outputId": "e3130946-bc05-453a-a371-2766de89dfe3"
      },
      "execution_count": 43,
      "outputs": [
        {
          "output_type": "execute_result",
          "data": {
            "text/plain": [
              "<Axes: xlabel='SalePrice_log'>"
            ]
          },
          "metadata": {},
          "execution_count": 43
        },
        {
          "output_type": "display_data",
          "data": {
            "text/plain": [
              "<Figure size 640x480 with 1 Axes>"
            ],
            "image/png": "[encoded data removed]"
          },
          "metadata": {}
        }
      ]
    },
    {
      "cell_type": "markdown",
      "source": [
        "### Submission"
      ],
      "metadata": {
        "id": "aNt97YXz3dMG"
      }
    },
    {
      "cell_type": "code",
      "execution_count": 44,
      "metadata": {
        "id": "cfzozslujTiP",
        "colab": {
          "base_uri": "https://localhost:8080/"
        },
        "outputId": "769fec9a-c11b-4d0d-8ae8-47a56c1d222f"
      },
      "outputs": [
        {
          "output_type": "execute_result",
          "data": {
            "text/plain": [
              "array([11.735817 , 12.0304365, 12.1947975, ..., 11.993376 , 11.824383 ,\n",
              "       12.155672 ], dtype=float32)"
            ]
          },
          "metadata": {},
          "execution_count": 44
        }
      ],
      "source": [
        "prediction = model.predict(test_df)\n",
        "prediction"
      ]
    },
    {
      "cell_type": "code",
      "source": [
        "submission_df[\"SalePrice\"] = np.exp(prediction)\n",
        "submission_df.head(3)"
      ],
      "metadata": {
        "colab": {
          "base_uri": "https://localhost:8080/",
          "height": 143
        },
        "id": "YV6ayOI_sWUN",
        "outputId": "ccf6e835-1ee1-4beb-87f7-590073cfdd24"
      },
      "execution_count": 45,
      "outputs": [
        {
          "output_type": "execute_result",
          "data": {
            "text/plain": [
              "     Id      SalePrice\n",
              "0  1461  124968.492188\n",
              "1  1462  167784.640625\n",
              "2  1463  197757.640625"
            ],
            "text/html": [
              "\n",
              "  <div id=\"df-2616f260-9491-4a92-98fc-4e7d12efe028\" class=\"colab-df-container\">\n",
              "    <div>\n",
              "<style scoped>\n",
              "    .dataframe tbody tr th:only-of-type {\n",
              "        vertical-align: middle;\n",
              "    }\n",
              "\n",
              "    .dataframe tbody tr th {\n",
              "        vertical-align: top;\n",
              "    }\n",
              "\n",
              "    .dataframe thead th {\n",
              "        text-align: right;\n",
              "    }\n",
              "</style>\n",
              "<table border=\"1\" class=\"dataframe\">\n",
              "  <thead>\n",
              "    <tr style=\"text-align: right;\">\n",
              "      <th></th>\n",
              "      <th>Id</th>\n",
              "      <th>SalePrice</th>\n",
              "    </tr>\n",
              "  </thead>\n",
              "  <tbody>\n",
              "    <tr>\n",
              "      <th>0</th>\n",
              "      <td>1461</td>\n",
              "      <td>124968.492188</td>\n",
              "    </tr>\n",
              "    <tr>\n",
              "      <th>1</th>\n",
              "      <td>1462</td>\n",
              "      <td>167784.640625</td>\n",
              "    </tr>\n",
              "    <tr>\n",
              "      <th>2</th>\n",
              "      <td>1463</td>\n",
              "      <td>197757.640625</td>\n",
              "    </tr>\n",
              "  </tbody>\n",
              "</table>\n",
              "</div>\n",
              "    <div class=\"colab-df-buttons\">\n",
              "\n",
              "  <div class=\"colab-df-container\">\n",
              "    <button class=\"colab-df-convert\" onclick=\"convertToInteractive('df-2616f260-9491-4a92-98fc-4e7d12efe028')\"\n",
              "            title=\"Convert this dataframe to an interactive table.\"\n",
              "            style=\"display:none;\">\n",
              "\n",
              "  <svg xmlns=\"http://www.w3.org/2000/svg\" height=\"24px\" viewBox=\"0 -960 960 960\">\n",
              "    <path d=\"M120-120v-720h720v720H120Zm60-500h600v-160H180v160Zm220 220h160v-160H400v160Zm0 220h160v-160H400v160ZM180-400h160v-160H180v160Zm440 0h160v-160H620v160ZM180-180h160v-160H180v160Zm440 0h160v-160H620v160Z\"/>\n",
              "  </svg>\n",
              "    </button>\n",
              "\n",
              "  <style>\n",
              "    .colab-df-container {\n",
              "      display:flex;\n",
              "      gap: 12px;\n",
              "    }\n",
              "\n",
              "    .colab-df-convert {\n",
              "      background-color: #E8F0FE;\n",
              "      border: none;\n",
              "      border-radius: 50%;\n",
              "      cursor: pointer;\n",
              "      display: none;\n",
              "      fill: #1967D2;\n",
              "      height: 32px;\n",
              "      padding: 0 0 0 0;\n",
              "      width: 32px;\n",
              "    }\n",
              "\n",
              "    .colab-df-convert:hover {\n",
              "      background-color: #E2EBFA;\n",
              "      box-shadow: 0px 1px 2px rgba(60, 64, 67, 0.3), 0px 1px 3px 1px rgba(60, 64, 67, 0.15);\n",
              "      fill: #174EA6;\n",
              "    }\n",
              "\n",
              "    .colab-df-buttons div {\n",
              "      margin-bottom: 4px;\n",
              "    }\n",
              "\n",
              "    [theme=dark] .colab-df-convert {\n",
              "      background-color: #3B4455;\n",
              "      fill: #D2E3FC;\n",
              "    }\n",
              "\n",
              "    [theme=dark] .colab-df-convert:hover {\n",
              "      background-color: #434B5C;\n",
              "      box-shadow: 0px 1px 3px 1px rgba(0, 0, 0, 0.15);\n",
              "      filter: drop-shadow(0px 1px 2px rgba(0, 0, 0, 0.3));\n",
              "      fill: #FFFFFF;\n",
              "    }\n",
              "  </style>\n",
              "\n",
              "    <script>\n",
              "      const buttonEl =\n",
              "        document.querySelector('#df-2616f260-9491-4a92-98fc-4e7d12efe028 button.colab-df-convert');\n",
              "      buttonEl.style.display =\n",
              "        google.colab.kernel.accessAllowed ? 'block' : 'none';\n",
              "\n",
              "      async function convertToInteractive(key) {\n",
              "        const element = document.querySelector('#df-2616f260-9491-4a92-98fc-4e7d12efe028');\n",
              "        const dataTable =\n",
              "          await google.colab.kernel.invokeFunction('convertToInteractive',\n",
              "                                                    [key], {});\n",
              "        if (!dataTable) return;\n",
              "\n",
              "        const docLinkHtml = 'Like what you see? Visit the ' +\n",
              "          '<a target=\"_blank\" href=https://colab.research.google.com/notebooks/data_table.ipynb>data table notebook</a>'\n",
              "          + ' to learn more about interactive tables.';\n",
              "        element.innerHTML = '';\n",
              "        dataTable['output_type'] = 'display_data';\n",
              "        await google.colab.output.renderOutput(dataTable, element);\n",
              "        const docLink = document.createElement('div');\n",
              "        docLink.innerHTML = docLinkHtml;\n",
              "        element.appendChild(docLink);\n",
              "      }\n",
              "    </script>\n",
              "  </div>\n",
              "\n",
              "\n",
              "<div id=\"df-9971b91e-5083-4588-b0e4-a15be5515a18\">\n",
              "  <button class=\"colab-df-quickchart\" onclick=\"quickchart('df-9971b91e-5083-4588-b0e4-a15be5515a18')\"\n",
              "            title=\"Suggest charts\"\n",
              "            style=\"display:none;\">\n",
              "\n",
              "<svg xmlns=\"http://www.w3.org/2000/svg\" height=\"24px\"viewBox=\"0 0 24 24\"\n",
              "     width=\"24px\">\n",
              "    <g>\n",
              "        <path d=\"M19 3H5c-1.1 0-2 .9-2 2v14c0 1.1.9 2 2 2h14c1.1 0 2-.9 2-2V5c0-1.1-.9-2-2-2zM9 17H7v-7h2v7zm4 0h-2V7h2v10zm4 0h-2v-4h2v4z\"/>\n",
              "    </g>\n",
              "</svg>\n",
              "  </button>\n",
              "\n",
              "<style>\n",
              "  .colab-df-quickchart {\n",
              "      --bg-color: #E8F0FE;\n",
              "      --fill-color: #1967D2;\n",
              "      --hover-bg-color: #E2EBFA;\n",
              "      --hover-fill-color: #174EA6;\n",
              "      --disabled-fill-color: #AAA;\n",
              "      --disabled-bg-color: #DDD;\n",
              "  }\n",
              "\n",
              "  [theme=dark] .colab-df-quickchart {\n",
              "      --bg-color: #3B4455;\n",
              "      --fill-color: #D2E3FC;\n",
              "      --hover-bg-color: #434B5C;\n",
              "      --hover-fill-color: #FFFFFF;\n",
              "      --disabled-bg-color: #3B4455;\n",
              "      --disabled-fill-color: #666;\n",
              "  }\n",
              "\n",
              "  .colab-df-quickchart {\n",
              "    background-color: var(--bg-color);\n",
              "    border: none;\n",
              "    border-radius: 50%;\n",
              "    cursor: pointer;\n",
              "    display: none;\n",
              "    fill: var(--fill-color);\n",
              "    height: 32px;\n",
              "    padding: 0;\n",
              "    width: 32px;\n",
              "  }\n",
              "\n",
              "  .colab-df-quickchart:hover {\n",
              "    background-color: var(--hover-bg-color);\n",
              "    box-shadow: 0 1px 2px rgba(60, 64, 67, 0.3), 0 1px 3px 1px rgba(60, 64, 67, 0.15);\n",
              "    fill: var(--button-hover-fill-color);\n",
              "  }\n",
              "\n",
              "  .colab-df-quickchart-complete:disabled,\n",
              "  .colab-df-quickchart-complete:disabled:hover {\n",
              "    background-color: var(--disabled-bg-color);\n",
              "    fill: var(--disabled-fill-color);\n",
              "    box-shadow: none;\n",
              "  }\n",
              "\n",
              "  .colab-df-spinner {\n",
              "    border: 2px solid var(--fill-color);\n",
              "    border-color: transparent;\n",
              "    border-bottom-color: var(--fill-color);\n",
              "    animation:\n",
              "      spin 1s steps(1) infinite;\n",
              "  }\n",
              "\n",
              "  @keyframes spin {\n",
              "    0% {\n",
              "      border-color: transparent;\n",
              "      border-bottom-color: var(--fill-color);\n",
              "      border-left-color: var(--fill-color);\n",
              "    }\n",
              "    20% {\n",
              "      border-color: transparent;\n",
              "      border-left-color: var(--fill-color);\n",
              "      border-top-color: var(--fill-color);\n",
              "    }\n",
              "    30% {\n",
              "      border-color: transparent;\n",
              "      border-left-color: var(--fill-color);\n",
              "      border-top-color: var(--fill-color);\n",
              "      border-right-color: var(--fill-color);\n",
              "    }\n",
              "    40% {\n",
              "      border-color: transparent;\n",
              "      border-right-color: var(--fill-color);\n",
              "      border-top-color: var(--fill-color);\n",
              "    }\n",
              "    60% {\n",
              "      border-color: transparent;\n",
              "      border-right-color: var(--fill-color);\n",
              "    }\n",
              "    80% {\n",
              "      border-color: transparent;\n",
              "      border-right-color: var(--fill-color);\n",
              "      border-bottom-color: var(--fill-color);\n",
              "    }\n",
              "    90% {\n",
              "      border-color: transparent;\n",
              "      border-bottom-color: var(--fill-color);\n",
              "    }\n",
              "  }\n",
              "</style>\n",
              "\n",
              "  <script>\n",
              "    async function quickchart(key) {\n",
              "      const quickchartButtonEl =\n",
              "        document.querySelector('#' + key + ' button');\n",
              "      quickchartButtonEl.disabled = true;  // To prevent multiple clicks.\n",
              "      quickchartButtonEl.classList.add('colab-df-spinner');\n",
              "      try {\n",
              "        const charts = await google.colab.kernel.invokeFunction(\n",
              "            'suggestCharts', [key], {});\n",
              "      } catch (error) {\n",
              "        console.error('Error during call to suggestCharts:', error);\n",
              "      }\n",
              "      quickchartButtonEl.classList.remove('colab-df-spinner');\n",
              "      quickchartButtonEl.classList.add('colab-df-quickchart-complete');\n",
              "    }\n",
              "    (() => {\n",
              "      let quickchartButtonEl =\n",
              "        document.querySelector('#df-9971b91e-5083-4588-b0e4-a15be5515a18 button');\n",
              "      quickchartButtonEl.style.display =\n",
              "        google.colab.kernel.accessAllowed ? 'block' : 'none';\n",
              "    })();\n",
              "  </script>\n",
              "</div>\n",
              "    </div>\n",
              "  </div>\n"
            ],
            "application/vnd.google.colaboratory.intrinsic+json": {
              "type": "dataframe",
              "variable_name": "submission_df",
              "summary": "{\n  \"name\": \"submission_df\",\n  \"rows\": 1459,\n  \"fields\": [\n    {\n      \"column\": \"Id\",\n      \"properties\": {\n        \"dtype\": \"number\",\n        \"std\": 421,\n        \"min\": 1461,\n        \"max\": 2919,\n        \"num_unique_values\": 1459,\n        \"samples\": [\n          2782,\n          2297,\n          1874\n        ],\n        \"semantic_type\": \"\",\n        \"description\": \"\"\n      }\n    },\n    {\n      \"column\": \"SalePrice\",\n      \"properties\": {\n        \"dtype\": \"float32\",\n        \"num_unique_values\": 1453,\n        \"samples\": [\n          180217.046875,\n          135762.9375,\n          146864.1875\n        ],\n        \"semantic_type\": \"\",\n        \"description\": \"\"\n      }\n    }\n  ]\n}"
            }
          },
          "metadata": {},
          "execution_count": 45
        }
      ]
    },
    {
      "cell_type": "code",
      "source": [
        "submission_df.to_csv('submission.csv', index=False)"
      ],
      "metadata": {
        "id": "NKwCL5-I0A2b"
      },
      "execution_count": 46,
      "outputs": []
    },
    {
      "cell_type": "markdown",
      "source": [
        "### Conclusion"
      ],
      "metadata": {
        "id": "U67Whr0pH62P"
      }
    },
    {
      "cell_type": "markdown",
      "source": [
        "To predict target we trained YDF gradient boosted decision trees model with tuned hyper-parameters. Dataset was splitted into train and test subsets in a ratio 70:30. The metric was evaluated on Root-Mean-Squared-Error (RMSE) between the logarithm of the predicted value and the logarithm of the observed sales price. (Taking logs means that errors in predicting expensive houses and cheap houses will affect the result equally.) For test subset RMSE: 0.131265.  \n",
        "The most important features in the model are: OverallQuality, Neigborhood, GrlivingArea.\n",
        "Predicted results were converted from logarithmic back to normal scale.\n"
      ],
      "metadata": {
        "id": "i8df8VjBHmaJ"
      }
    }
  ],
  "metadata": {
    "colab": {
      "provenance": []
    },
    "kernelspec": {
      "display_name": "Python 3",
      "name": "python3"
    },
    "language_info": {
      "name": "python"
    }
  },
  "nbformat": 4,
  "nbformat_minor": 0
}